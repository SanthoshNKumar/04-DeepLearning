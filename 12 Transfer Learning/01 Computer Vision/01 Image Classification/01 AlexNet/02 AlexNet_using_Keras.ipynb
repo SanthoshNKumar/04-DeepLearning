{
 "cells": [
  {
   "cell_type": "code",
   "execution_count": 18,
   "metadata": {
    "id": "5eWGQ35zKU-Q"
   },
   "outputs": [],
   "source": [
    "# Alexnet using Keras"
   ]
  },
  {
   "cell_type": "code",
   "execution_count": 19,
   "metadata": {
    "id": "xiwjmV5jWPLq"
   },
   "outputs": [],
   "source": [
    "from tensorflow.keras.models import Sequential\n",
    "from tensorflow.keras.layers import Dense,Activation,Dropout,Flatten,Conv2D,MaxPool2D,BatchNormalization"
   ]
  },
  {
   "cell_type": "code",
   "execution_count": 20,
   "metadata": {
    "id": "8_qOnRt7K2mT"
   },
   "outputs": [],
   "source": [
    "import numpy as np"
   ]
  },
  {
   "cell_type": "code",
   "execution_count": 21,
   "metadata": {
    "id": "zYFjtBUUK44O"
   },
   "outputs": [],
   "source": [
    "image_shape = (227,227,3)\n",
    "\n",
    "np.random.seed(1000)\n",
    "\n",
    "model = Sequential()"
   ]
  },
  {
   "cell_type": "code",
   "execution_count": 22,
   "metadata": {
    "id": "VBBMRSSZLDxe"
   },
   "outputs": [],
   "source": [
    "# 1st Convolution Layer \n",
    "\n",
    "model.add(Conv2D(filters=96,input_shape = image_shape,kernel_size=(11,11),strides=(4,4),padding='valid'))\n",
    "model.add(Activation('relu'))\n",
    "\n",
    "# Max Pooling \n",
    "model.add(MaxPool2D(pool_size=(3,3),strides=(2,2),padding='valid'))"
   ]
  },
  {
   "cell_type": "code",
   "execution_count": 23,
   "metadata": {
    "id": "UZaRujPQLq5-"
   },
   "outputs": [],
   "source": [
    "# 2nd Convolution Layer \n",
    "\n",
    "model.add(Conv2D(filters=256,kernel_size=(5,5),strides=(1,1),padding='valid'))\n",
    "model.add(Activation('relu'))\n",
    "\n",
    "# Max Pooling\n",
    "model.add(MaxPool2D(pool_size=(3,3),strides=(2,2),padding='valid'))"
   ]
  },
  {
   "cell_type": "code",
   "execution_count": 24,
   "metadata": {
    "id": "BBRVOgH9L0M9"
   },
   "outputs": [],
   "source": [
    "# 3nd Convolution Layer \n",
    "model.add(Conv2D(filters=384,kernel_size=(3,3),strides=(1,1),padding='valid'))\n",
    "model.add(Activation('relu'))\n"
   ]
  },
  {
   "cell_type": "code",
   "execution_count": 25,
   "metadata": {
    "id": "BQfPf6lYL04W"
   },
   "outputs": [],
   "source": [
    "# 4th Convolution Layer \n",
    "\n",
    "model.add(Conv2D(filters=384,kernel_size=(3,3),strides=(1,1),padding='valid'))\n",
    "model.add(Activation('relu'))\n"
   ]
  },
  {
   "cell_type": "code",
   "execution_count": 26,
   "metadata": {
    "id": "qM2yviPjL065"
   },
   "outputs": [],
   "source": [
    "# 5th Convolution Layer \n",
    "model.add(Conv2D(filters=256,kernel_size=(3,3),strides=(1,1),padding='valid'))\n",
    "model.add(Activation('relu'))\n",
    "\n",
    "#Max Pooling\n",
    "model.add(MaxPool2D(pool_size=(3,3),strides=(2,2),padding='valid'))"
   ]
  },
  {
   "cell_type": "code",
   "execution_count": 27,
   "metadata": {
    "id": "vXYErgfoL09Q"
   },
   "outputs": [],
   "source": [
    "# Padding it to fully connected Layer, here we do Flattern\n",
    "model.add(Flatten())\n",
    "\n",
    "#1st Fully Connected Layer Has 4096 Neuron\n",
    "model.add(Dense(4096,input_shape=(227*227*3,)))\n",
    "model.add(Activation('relu'))\n",
    "\n",
    "# Adding Drop layer to prevenet Overfiitting\n",
    "model.add(Dropout(0.4))\n",
    "\n",
    "# output layer\n",
    "model.add(Dense(1000))\n",
    "model.add(Activation('softmax'))\n",
    "\n",
    "# COmpile the mdoel\n",
    "model.compile(loss = 'categorical_crossentropy',optimizer='Adam',metrics=['accuracy|'])"
   ]
  },
  {
   "cell_type": "code",
   "execution_count": 28,
   "metadata": {
    "colab": {
     "base_uri": "https://localhost:8080/"
    },
    "id": "glDmYlJcL0_m",
    "outputId": "b3c5b5ae-7679-43d9-e5b1-7405d5f1dcb3"
   },
   "outputs": [
    {
     "name": "stdout",
     "output_type": "stream",
     "text": [
      "Model: \"sequential_2\"\n",
      "_________________________________________________________________\n",
      "Layer (type)                 Output Shape              Param #   \n",
      "=================================================================\n",
      "conv2d_2 (Conv2D)            (None, 55, 55, 96)        34944     \n",
      "_________________________________________________________________\n",
      "activation_9 (Activation)    (None, 55, 55, 96)        0         \n",
      "_________________________________________________________________\n",
      "max_pooling2d_2 (MaxPooling2 (None, 27, 27, 96)        0         \n",
      "_________________________________________________________________\n",
      "conv2d_3 (Conv2D)            (None, 23, 23, 256)       614656    \n",
      "_________________________________________________________________\n",
      "activation_10 (Activation)   (None, 23, 23, 256)       0         \n",
      "_________________________________________________________________\n",
      "max_pooling2d_3 (MaxPooling2 (None, 11, 11, 256)       0         \n",
      "_________________________________________________________________\n",
      "conv2d_4 (Conv2D)            (None, 9, 9, 384)         885120    \n",
      "_________________________________________________________________\n",
      "activation_11 (Activation)   (None, 9, 9, 384)         0         \n",
      "_________________________________________________________________\n",
      "conv2d_5 (Conv2D)            (None, 7, 7, 384)         1327488   \n",
      "_________________________________________________________________\n",
      "activation_12 (Activation)   (None, 7, 7, 384)         0         \n",
      "_________________________________________________________________\n",
      "conv2d_6 (Conv2D)            (None, 5, 5, 256)         884992    \n",
      "_________________________________________________________________\n",
      "activation_13 (Activation)   (None, 5, 5, 256)         0         \n",
      "_________________________________________________________________\n",
      "max_pooling2d_4 (MaxPooling2 (None, 2, 2, 256)         0         \n",
      "_________________________________________________________________\n",
      "flatten_5 (Flatten)          (None, 1024)              0         \n",
      "_________________________________________________________________\n",
      "dense_8 (Dense)              (None, 4096)              4198400   \n",
      "_________________________________________________________________\n",
      "activation_14 (Activation)   (None, 4096)              0         \n",
      "_________________________________________________________________\n",
      "dropout_4 (Dropout)          (None, 4096)              0         \n",
      "_________________________________________________________________\n",
      "dense_9 (Dense)              (None, 1000)              4097000   \n",
      "_________________________________________________________________\n",
      "activation_15 (Activation)   (None, 1000)              0         \n",
      "=================================================================\n",
      "Total params: 12,042,600\n",
      "Trainable params: 12,042,600\n",
      "Non-trainable params: 0\n",
      "_________________________________________________________________\n"
     ]
    }
   ],
   "source": [
    "model.summary()"
   ]
  },
  {
   "cell_type": "code",
   "execution_count": null,
   "metadata": {
    "id": "9lzzK5B-L1CG"
   },
   "outputs": [],
   "source": []
  }
 ],
 "metadata": {
  "accelerator": "TPU",
  "colab": {
   "collapsed_sections": [],
   "name": "AlexNet using Keras.ipynb",
   "provenance": []
  },
  "kernelspec": {
   "display_name": "Python 3",
   "language": "python",
   "name": "python3"
  },
  "language_info": {
   "codemirror_mode": {
    "name": "ipython",
    "version": 3
   },
   "file_extension": ".py",
   "mimetype": "text/x-python",
   "name": "python",
   "nbconvert_exporter": "python",
   "pygments_lexer": "ipython3",
   "version": "3.7.4"
  }
 },
 "nbformat": 4,
 "nbformat_minor": 1
}
