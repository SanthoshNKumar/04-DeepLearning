{
 "cells": [
  {
   "cell_type": "code",
   "execution_count": 84,
   "metadata": {
    "id": "eFurm5pQSyim"
   },
   "outputs": [],
   "source": [
    "'''\n",
    "Steps :\n",
    "\n",
    "Step 1. Load the VGG16 module\n",
    "Step 2. Get all the layers \n",
    "Step 3. Get the output of the specific layour output \n",
    "Step 4. Build further layers by considering step 3 output as input\n",
    "Step 5. Creating Function API to Link the input and ouput\n",
    "Step 6. Make sure pre-trained bottom layers are not trainable by setting Flag(layer.trainable) to false\n",
    "Step 7. Compile the Module\n",
    "\n",
    "'''"
   ]
  },
  {
   "cell_type": "code",
   "execution_count": null,
   "metadata": {
    "id": "AR4WDQziYiHS"
   },
   "outputs": [],
   "source": [
    "from tensorflow.keras.applications.vgg16 import VGG16\n",
    "\n",
    "model = VGG16(weights='imagenet',include_top=False,input_shape=(160, 160, 3))"
   ]
  },
  {
   "cell_type": "code",
   "execution_count": 85,
   "metadata": {
    "id": "abd_WS5tU3cU"
   },
   "outputs": [],
   "source": [
    "# Creating dictionary that maps layer names to the layers\n",
    "layer_dict = dict([(layer.name, layer) for layer in model.layers])"
   ]
  },
  {
   "cell_type": "code",
   "execution_count": 86,
   "metadata": {
    "colab": {
     "base_uri": "https://localhost:8080/"
    },
    "id": "Sp2PR6MuU3ek",
    "outputId": "bdeef2ee-21b3-4264-c04d-7a8b64b58722"
   },
   "outputs": [
    {
     "data": {
      "text/plain": [
       "{'block1_conv1': <tensorflow.python.keras.layers.convolutional.Conv2D at 0x7f99a08ba9d0>,\n",
       " 'block1_conv2': <tensorflow.python.keras.layers.convolutional.Conv2D at 0x7f99a08427d0>,\n",
       " 'block1_pool': <tensorflow.python.keras.layers.pooling.MaxPooling2D at 0x7f99a0845190>,\n",
       " 'block2_conv1': <tensorflow.python.keras.layers.convolutional.Conv2D at 0x7f99a08fa290>,\n",
       " 'block2_conv2': <tensorflow.python.keras.layers.convolutional.Conv2D at 0x7f99a084cb10>,\n",
       " 'block2_pool': <tensorflow.python.keras.layers.pooling.MaxPooling2D at 0x7f99a08592d0>,\n",
       " 'block3_conv1': <tensorflow.python.keras.layers.convolutional.Conv2D at 0x7f99a0853e90>,\n",
       " 'block3_conv2': <tensorflow.python.keras.layers.convolutional.Conv2D at 0x7f99a085d110>,\n",
       " 'block3_conv3': <tensorflow.python.keras.layers.convolutional.Conv2D at 0x7f99a0865190>,\n",
       " 'block3_pool': <tensorflow.python.keras.layers.pooling.MaxPooling2D at 0x7f99a0869ad0>,\n",
       " 'block4_conv1': <tensorflow.python.keras.layers.convolutional.Conv2D at 0x7f99a085de90>,\n",
       " 'block4_conv2': <tensorflow.python.keras.layers.convolutional.Conv2D at 0x7f99a086e890>,\n",
       " 'block4_conv3': <tensorflow.python.keras.layers.convolutional.Conv2D at 0x7f99a08790d0>,\n",
       " 'block4_pool': <tensorflow.python.keras.layers.pooling.MaxPooling2D at 0x7f99a0871c10>,\n",
       " 'block5_conv1': <tensorflow.python.keras.layers.convolutional.Conv2D at 0x7f99a07feb90>,\n",
       " 'block5_conv2': <tensorflow.python.keras.layers.convolutional.Conv2D at 0x7f99a08081d0>,\n",
       " 'block5_conv3': <tensorflow.python.keras.layers.convolutional.Conv2D at 0x7f99a080ead0>,\n",
       " 'block5_pool': <tensorflow.python.keras.layers.pooling.MaxPooling2D at 0x7f99a07febd0>,\n",
       " 'input_12': <tensorflow.python.keras.engine.input_layer.InputLayer at 0x7f99a08a8f50>}"
      ]
     },
     "execution_count": 86,
     "metadata": {
      "tags": []
     },
     "output_type": "execute_result"
    }
   ],
   "source": [
    "layer_dict"
   ]
  },
  {
   "cell_type": "code",
   "execution_count": 87,
   "metadata": {
    "id": "zVRE2E-7U3gs"
   },
   "outputs": [],
   "source": [
    "# Getting output tensor of the last VGG layer that we want to include\n",
    "# here we are considering 'block2_pool' layer\n",
    "\n",
    "x = layer_dict['block2_pool'].output"
   ]
  },
  {
   "cell_type": "code",
   "execution_count": 88,
   "metadata": {
    "id": "iXZtzMEOU3jG"
   },
   "outputs": [],
   "source": [
    "from tensorflow.keras.layers import Conv2D,MaxPooling2D,Dropout,Dense,Flatten\n",
    "\n",
    "# Stacking a new simple convolutional network on top of it    \n",
    "x = Conv2D(filters=64, kernel_size=(3, 3), activation='relu')(x)\n",
    "x = MaxPooling2D(pool_size=(2, 2))(x)\n",
    "x = Flatten()(x)\n",
    "x = Dense(256, activation='relu')(x)\n",
    "x = Dropout(0.5)(x)\n",
    "x = Dense(10, activation='softmax')(x)"
   ]
  },
  {
   "cell_type": "code",
   "execution_count": 74,
   "metadata": {
    "colab": {
     "base_uri": "https://localhost:8080/"
    },
    "id": "GAVNbbqlV-OM",
    "outputId": "0325387a-bbc2-4e4b-a2b5-de9d77b55162"
   },
   "outputs": [
    {
     "data": {
      "text/plain": [
       "[<KerasTensor: shape=(None, 160, 160, 3) dtype=float32 (created by layer 'input_7')>]"
      ]
     },
     "execution_count": 74,
     "metadata": {
      "tags": []
     },
     "output_type": "execute_result"
    }
   ],
   "source": [
    "model.inputs"
   ]
  },
  {
   "cell_type": "code",
   "execution_count": null,
   "metadata": {
    "id": "i2UQkCcTX3ke"
   },
   "outputs": [],
   "source": [
    "# Creating new model. Please note that this is NOT a Sequential() model.\n",
    "\n",
    "from tensorflow.keras.models import Model\n",
    "\n",
    "custom_model = Model(input=model.input, output=x)"
   ]
  },
  {
   "cell_type": "code",
   "execution_count": null,
   "metadata": {
    "id": "K2qq18F2YZZe"
   },
   "outputs": [],
   "source": [
    "# Make sure that the pre-trained bottom layers are not trainable\n",
    "for layer in custom_model.layers[:7]:\n",
    "    layer.trainable = False"
   ]
  },
  {
   "cell_type": "code",
   "execution_count": null,
   "metadata": {
    "id": "-OIwrVVKYZcJ"
   },
   "outputs": [],
   "source": [
    "# Do not forget to compile it\n",
    "custom_model.compile(loss='categorical_crossentropy',optimizer='rmsprop',metrics=['accuracy'])"
   ]
  }
 ],
 "metadata": {
  "colab": {
   "collapsed_sections": [],
   "name": "VGG_Create a New Network by Removing Bottom layers.ipynb",
   "provenance": []
  },
  "kernelspec": {
   "display_name": "Python 3",
   "name": "python3"
  },
  "language_info": {
   "name": "python"
  }
 },
 "nbformat": 4,
 "nbformat_minor": 0
}
