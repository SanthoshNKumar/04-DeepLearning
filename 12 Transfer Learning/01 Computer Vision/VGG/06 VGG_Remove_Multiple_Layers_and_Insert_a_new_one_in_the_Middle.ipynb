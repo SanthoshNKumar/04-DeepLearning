{
 "cells": [
  {
   "cell_type": "code",
   "execution_count": 98,
   "metadata": {
    "id": "AR4WDQziYiHS"
   },
   "outputs": [],
   "source": [
    "from tensorflow.keras.applications.vgg16 import VGG16\n",
    "\n",
    "model = VGG16(weights='imagenet',include_top=True)"
   ]
  },
  {
   "cell_type": "code",
   "execution_count": 99,
   "metadata": {
    "id": "abd_WS5tU3cU"
   },
   "outputs": [],
   "source": [
    "# Creating dictionary that maps layer names to the layers\n",
    "layers = [l for l in model.layers]"
   ]
  },
  {
   "cell_type": "code",
   "execution_count": 100,
   "metadata": {
    "colab": {
     "base_uri": "https://localhost:8080/"
    },
    "id": "Sp2PR6MuU3ek",
    "outputId": "8d7b0faf-6a98-4cf7-bff8-2f1622129aca"
   },
   "outputs": [
    {
     "data": {
      "text/plain": [
       "[<tensorflow.python.keras.engine.input_layer.InputLayer at 0x7f99a092b090>,\n",
       " <tensorflow.python.keras.layers.convolutional.Conv2D at 0x7f99a08c0b50>,\n",
       " <tensorflow.python.keras.layers.convolutional.Conv2D at 0x7f99a0730610>,\n",
       " <tensorflow.python.keras.layers.pooling.MaxPooling2D at 0x7f99a072c5d0>,\n",
       " <tensorflow.python.keras.layers.convolutional.Conv2D at 0x7f99a09203d0>,\n",
       " <tensorflow.python.keras.layers.convolutional.Conv2D at 0x7f99a0932a90>,\n",
       " <tensorflow.python.keras.layers.pooling.MaxPooling2D at 0x7f99a08b2d50>,\n",
       " <tensorflow.python.keras.layers.convolutional.Conv2D at 0x7f99a08c3090>,\n",
       " <tensorflow.python.keras.layers.convolutional.Conv2D at 0x7f99a08c6d90>,\n",
       " <tensorflow.python.keras.layers.convolutional.Conv2D at 0x7f99a08c3b10>,\n",
       " <tensorflow.python.keras.layers.pooling.MaxPooling2D at 0x7f99a089d510>,\n",
       " <tensorflow.python.keras.layers.convolutional.Conv2D at 0x7f99a08dab10>,\n",
       " <tensorflow.python.keras.layers.convolutional.Conv2D at 0x7f99a08e8c90>,\n",
       " <tensorflow.python.keras.layers.convolutional.Conv2D at 0x7f99a0892450>,\n",
       " <tensorflow.python.keras.layers.pooling.MaxPooling2D at 0x7f99a08eb3d0>,\n",
       " <tensorflow.python.keras.layers.convolutional.Conv2D at 0x7f99a0b5a190>,\n",
       " <tensorflow.python.keras.layers.convolutional.Conv2D at 0x7f99a091c950>,\n",
       " <tensorflow.python.keras.layers.convolutional.Conv2D at 0x7f99a0941a90>,\n",
       " <tensorflow.python.keras.layers.pooling.MaxPooling2D at 0x7f99a0a07690>,\n",
       " <tensorflow.python.keras.layers.core.Flatten at 0x7f99a0acd3d0>,\n",
       " <tensorflow.python.keras.layers.core.Dense at 0x7f99a0941290>,\n",
       " <tensorflow.python.keras.layers.core.Dense at 0x7f99a0ac8150>,\n",
       " <tensorflow.python.keras.layers.core.Dense at 0x7f99a0b139d0>]"
      ]
     },
     "execution_count": 100,
     "metadata": {
      "tags": []
     },
     "output_type": "execute_result"
    }
   ],
   "source": [
    "layers"
   ]
  },
  {
   "cell_type": "code",
   "execution_count": 102,
   "metadata": {
    "id": "zVRE2E-7U3gs"
   },
   "outputs": [],
   "source": [
    "new_conv = Conv2D(filters=64,kernel_size=(5, 5),name='new_conv',padding='same')(layers[0].output)"
   ]
  },
  {
   "cell_type": "code",
   "execution_count": 103,
   "metadata": {
    "id": "Rr_XTFUVavFM"
   },
   "outputs": [],
   "source": [
    "x = new_conv\n",
    "for i in range(3, len(layers)):\n",
    "    layers[i].trainable = False\n",
    "    x = layers[i](x)"
   ]
  },
  {
   "cell_type": "code",
   "execution_count": 105,
   "metadata": {
    "id": "Ak3eJOrMayXL"
   },
   "outputs": [],
   "source": [
    "# Final touch\n",
    "result_model = Model(input=layers[0].input, output=x)"
   ]
  }
 ],
 "metadata": {
  "colab": {
   "collapsed_sections": [],
   "name": "VGG_Remove Multiple Layers and Insert a new one in the Middle.ipynb",
   "provenance": []
  },
  "kernelspec": {
   "display_name": "Python 3",
   "name": "python3"
  },
  "language_info": {
   "name": "python"
  }
 },
 "nbformat": 4,
 "nbformat_minor": 0
}
