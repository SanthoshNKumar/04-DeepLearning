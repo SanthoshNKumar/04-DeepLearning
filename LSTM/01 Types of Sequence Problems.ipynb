{
 "cells": [
  {
   "cell_type": "code",
   "execution_count": 2,
   "metadata": {},
   "outputs": [],
   "source": [
    "# Sequence Porblem brodly Categories into the following categories\n",
    "\n",
    "# 1. One-to-One : Where there is a one input and one output. \n",
    "# Example : where you have a image and you want to predict a single label for the image\n",
    "\n",
    "# 2. Many-to-One : We have sequence of data as input and we have to predict a single output.\n",
    "# Example : Text classification is a primary example of many to one sequence example \n",
    "\n",
    "#3. One-to-Many : We have Single input and many a sequence of outputs.\n",
    "# Example : image and its corresponding description\n",
    "\n",
    "#4. Many-to-Many : It involves sequecne of input and a sequence of output.\n",
    "#Example : Stock price of 7 days as input and stock price of next 7 days as output\n",
    "# Charbot is also an exmple for Many to Many sequence problem where a text sequecne is an input and another text sequence is \n",
    "# the output"
   ]
  },
  {
   "cell_type": "code",
   "execution_count": 3,
   "metadata": {},
   "outputs": [
    {
     "name": "stdout",
     "output_type": "stream",
     "text": [
      "[[[1]]\n",
      "\n",
      " [[2]]\n",
      "\n",
      " [[3]]]\n"
     ]
    }
   ],
   "source": [
    "# One-to-one Sequence : One Time-step and One Output\n",
    "# X = [1,2,3,4,5,6,7,8,9]\n",
    "# Y = (X *15)\n",
    "# Y = [15, 30, 45, 60, 75, 90, 105, 120, 135]\n",
    "\n",
    "import numpy as np\n",
    "\n",
    "X = np.array([[1, 2, 3, 4, 5, 6, 7, 8, 9, 10, 11, 12, 13, 14, 15, 16, 17, 18, 19, 20]])\n",
    "Y = np.array([[15, 30, 45, 60, 75, 90, 105, 120, 135, 150, 165, 180, 195, 210, 225, 240, 255, 270, 285, 300]])\n",
    "\n",
    "X = X.reshape(20,1,1) # 20 Samples; 1 Time step; 1 Feature\n",
    "\n",
    "print(X[:3])"
   ]
  },
  {
   "cell_type": "code",
   "execution_count": 4,
   "metadata": {},
   "outputs": [
    {
     "name": "stdout",
     "output_type": "stream",
     "text": [
      "[[[ 1  2]]\n",
      "\n",
      " [[ 3  4]]\n",
      "\n",
      " [[ 5  6]]\n",
      "\n",
      " [[ 7  8]]\n",
      "\n",
      " [[ 9 10]]\n",
      "\n",
      " [[11 12]]\n",
      "\n",
      " [[13 14]]\n",
      "\n",
      " [[15 16]]\n",
      "\n",
      " [[17 18]]\n",
      "\n",
      " [[19 20]]]\n"
     ]
    }
   ],
   "source": [
    "# One-To-One Sequence using Multiple Feature\n",
    "\n",
    "X = np.array([[1, 2, 3, 4, 5, 6, 7, 8, 9, 10, 11, 12, 13, 14, 15, 16, 17, 18, 19, 20]])\n",
    "Y = np.array([[3,7,11,15,19,23,27,31,35,39]])\n",
    "\n",
    "X = X.reshape(10,1,2) # 10 Sample; Time Step =1 and Feature =2 \n",
    "\n",
    "print(X)"
   ]
  },
  {
   "cell_type": "code",
   "execution_count": 26,
   "metadata": {},
   "outputs": [],
   "source": [
    "# One-to-many Sequence\n",
    "\n",
    "# Use case : Predict the previous Index numbers\n",
    "# Ex [0 = -2,-1,0], [1 = -1,0,1], [2 = 0,1,2],  [3 = 1,2,3] [4 = 2,3,4] [5 = 3,4,5]\n",
    "\n",
    "X : np.array([[0, 1, 2, 3, 4, 5, 6, 7, 8, 9]])\n",
    "Y = np.array([[-2,-1,0],[-1,0,1],[0,1,2],[1,2,3],[2,3,4],[3,4,5],[5,6,7],[6,7,8],[6,7,8],[7,8,9]])"
   ]
  },
  {
   "cell_type": "code",
   "execution_count": 45,
   "metadata": {},
   "outputs": [
    {
     "data": {
      "text/plain": [
       "array([[[1],\n",
       "        [2],\n",
       "        [3]],\n",
       "\n",
       "       [[4],\n",
       "        [5],\n",
       "        [6]],\n",
       "\n",
       "       [[7],\n",
       "        [8],\n",
       "        [9]]])"
      ]
     },
     "execution_count": 45,
     "metadata": {},
     "output_type": "execute_result"
    }
   ],
   "source": [
    "# Many-to-One Sequence : time-step =2 or Many and Output =1\n",
    "# X = [1+2+3];[4+5+6];[7+8+9]\n",
    "# Y = 6;     15;    24\n",
    "\n",
    "X = np.array([[1,2,3,4,5,6,7,8,9,10,11,12,13,14,15,16,17,18,19,20,21,22,23,24,25,26,27,28,29,30,31,32,33,\n",
    "               34,35,36,37,38,39,40,41,42,43,44,45]])\n",
    "\n",
    "Y = np.array([6,15,24,33,42,51,60,69,78,87,96,105,114,123,132])\n",
    "\n",
    "X = X.reshape(15,3,1) # 15 Sample; Time Step =3 and Feature =1\n",
    "\n",
    "X[:3]"
   ]
  }
 ],
 "metadata": {
  "kernelspec": {
   "display_name": "Python 3",
   "language": "python",
   "name": "python3"
  },
  "language_info": {
   "codemirror_mode": {
    "name": "ipython",
    "version": 3
   },
   "file_extension": ".py",
   "mimetype": "text/x-python",
   "name": "python",
   "nbconvert_exporter": "python",
   "pygments_lexer": "ipython3",
   "version": "3.7.4"
  }
 },
 "nbformat": 4,
 "nbformat_minor": 2
}
