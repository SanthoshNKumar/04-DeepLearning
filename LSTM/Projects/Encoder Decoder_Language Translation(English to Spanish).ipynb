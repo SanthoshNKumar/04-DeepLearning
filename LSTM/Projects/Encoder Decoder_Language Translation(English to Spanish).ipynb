{
 "cells": [
  {
   "cell_type": "code",
   "execution_count": 141,
   "metadata": {},
   "outputs": [],
   "source": [
    "import numpy as np\n",
    "import pandas as pd"
   ]
  },
  {
   "cell_type": "code",
   "execution_count": 142,
   "metadata": {},
   "outputs": [],
   "source": [
    "num_samples = 10000\n",
    "latent_dim = 256\n",
    "batch_size = 64  \n",
    "input_texts = []\n",
    "target_texts = []\n",
    "epochs = 100  \n",
    "input_characters = set()\n",
    "target_characters = set()"
   ]
  },
  {
   "cell_type": "code",
   "execution_count": 143,
   "metadata": {},
   "outputs": [],
   "source": [
    "with open(\"C:\\MyWork\\MyLearning\\Career Growth\\ML\\Files\\DataSet\\spa.txt\", \"r\", encoding=\"utf-8\") as f:\n",
    "    lines = f.read().split(\"\\n\")"
   ]
  },
  {
   "cell_type": "code",
   "execution_count": 144,
   "metadata": {},
   "outputs": [
    {
     "name": "stdout",
     "output_type": "stream",
     "text": [
      "{'9', 'x', 'V', 'L', 'I', '0', '4', 'e', ':', 'l', 'p', 'g', 'E', 'i', 'O', 'H', 'v', '3', 'U', 'F', 'y', '7', 'u', 'm', 'K', 'C', 'P', 'j', 's', 'N', 'k', 'o', 'r', 'd', 'G', '1', 'D', 'J', '5', 'Q', '2', 'a', 'c', 'B', 'M', 't', 'S', '-', 'w', '6', 'T', ' ', ',', '8', 'q', '$', 'n', 'b', 'W', \"'\", 'Y', '!', '.', 'A', 'f', '?', 'z', 'R', 'h'}\n",
      "\n",
      "\n",
      "{'x', '¿', 'I', '0', 'p', 'O', 'ñ', 'y', 'c', 't', '-', 'í', '6', ',', 'W', 'Y', '!', '.', 'A', 'h', '4', 'e', 'E', '«', 'Ú', 'U', '»', 'u', 'j', 'N', 'k', '\\t', '1', 'D', 'J', 'a', 'M', \"'\", 'á', '?', 'z', 'é', 'V', 'L', '\"', 'ü', ':', 'l', 'g', '7', 'F', 's', 'o', 'd', 'ó', 'Á', '¡', 'q', 'f', 'Ó', 'n', 'i', 'H', 'v', '3', 'm', 'C', 'P', 'r', 'G', '5', 'Q', '2', 'B', 'S', 'w', 'T', ' ', '8', '\\n', 'ú', 'b', 'É', 'R'}\n"
     ]
    }
   ],
   "source": [
    "for line in lines[: min(num_samples, len(lines) - 1)]:\n",
    "    input_text, target_text, _ = line.split(\"\\t\")\n",
    "    \n",
    "    ############### A ###############\n",
    "    target_text = \"\\t\" + target_text + \"\\n\"\n",
    "    input_texts.append(input_text)\n",
    "    target_texts.append(target_text)\n",
    "    ############### B ###############\n",
    "    \n",
    "    for char in input_text:\n",
    "        if char not in input_characters:\n",
    "            input_characters.add(char)\n",
    "    for char in target_text:\n",
    "        if char not in target_characters:\n",
    "            target_characters.add(char)\n",
    "            \n",
    "print(input_characters)\n",
    "\n",
    "print(\"\\n\")\n",
    "\n",
    "print(target_characters)"
   ]
  },
  {
   "cell_type": "code",
   "execution_count": 145,
   "metadata": {},
   "outputs": [
    {
     "name": "stdout",
     "output_type": "stream",
     "text": [
      "No.of samples: 10000\n",
      "No.of unique input tokens: 69\n",
      "No.of unique output tokens: 84\n",
      "Maximum seq length for inputs: 16\n",
      "Maximum seq length for outputs: 78\n"
     ]
    }
   ],
   "source": [
    "input_characters = sorted(list(input_characters))\n",
    "target_characters = sorted(list(target_characters))\n",
    "num_encoder_tokens = len(input_characters) # 69\n",
    "num_decoder_tokens = len(target_characters) # 84\n",
    "max_encoder_seq_length = max([len(txt) for txt in input_texts]) #16\n",
    "max_decoder_seq_length = max([len(txt) for txt in target_texts]) # 78\n",
    "\n",
    "print(\"No.of samples:\", len(input_texts))\n",
    "print(\"No.of unique input tokens:\", num_encoder_tokens)\n",
    "print(\"No.of unique output tokens:\", num_decoder_tokens)\n",
    "print(\"Maximum seq length for inputs:\", max_encoder_seq_length)\n",
    "print(\"Maximum seq length for outputs:\", max_decoder_seq_length)"
   ]
  },
  {
   "cell_type": "code",
   "execution_count": 146,
   "metadata": {},
   "outputs": [
    {
     "name": "stdout",
     "output_type": "stream",
     "text": [
      "[' ', '!', '$', \"'\", ',', '-', '.', '0', '1', '2', '3', '4', '5', '6', '7', '8', '9', ':', '?', 'A', 'B', 'C', 'D', 'E', 'F', 'G', 'H', 'I', 'J', 'K', 'L', 'M', 'N', 'O', 'P', 'Q', 'R', 'S', 'T', 'U', 'V', 'W', 'Y', 'a', 'b', 'c', 'd', 'e', 'f', 'g', 'h', 'i', 'j', 'k', 'l', 'm', 'n', 'o', 'p', 'q', 'r', 's', 't', 'u', 'v', 'w', 'x', 'y', 'z']\n",
      "\n",
      "\n",
      "['\\t', '\\n', ' ', '!', '\"', \"'\", ',', '-', '.', '0', '1', '2', '3', '4', '5', '6', '7', '8', ':', '?', 'A', 'B', 'C', 'D', 'E', 'F', 'G', 'H', 'I', 'J', 'L', 'M', 'N', 'O', 'P', 'Q', 'R', 'S', 'T', 'U', 'V', 'W', 'Y', 'a', 'b', 'c', 'd', 'e', 'f', 'g', 'h', 'i', 'j', 'k', 'l', 'm', 'n', 'o', 'p', 'q', 'r', 's', 't', 'u', 'v', 'w', 'x', 'y', 'z', '¡', '«', '»', '¿', 'Á', 'É', 'Ó', 'Ú', 'á', 'é', 'í', 'ñ', 'ó', 'ú', 'ü']\n"
     ]
    }
   ],
   "source": [
    "print(input_characters)\n",
    "\n",
    "print(\"\\n\")\n",
    "\n",
    "print(target_characters)"
   ]
  },
  {
   "cell_type": "code",
   "execution_count": 147,
   "metadata": {},
   "outputs": [
    {
     "name": "stdout",
     "output_type": "stream",
     "text": [
      "{' ': 0, '!': 1, '$': 2, \"'\": 3, ',': 4, '-': 5, '.': 6, '0': 7, '1': 8, '2': 9, '3': 10, '4': 11, '5': 12, '6': 13, '7': 14, '8': 15, '9': 16, ':': 17, '?': 18, 'A': 19, 'B': 20, 'C': 21, 'D': 22, 'E': 23, 'F': 24, 'G': 25, 'H': 26, 'I': 27, 'J': 28, 'K': 29, 'L': 30, 'M': 31, 'N': 32, 'O': 33, 'P': 34, 'Q': 35, 'R': 36, 'S': 37, 'T': 38, 'U': 39, 'V': 40, 'W': 41, 'Y': 42, 'a': 43, 'b': 44, 'c': 45, 'd': 46, 'e': 47, 'f': 48, 'g': 49, 'h': 50, 'i': 51, 'j': 52, 'k': 53, 'l': 54, 'm': 55, 'n': 56, 'o': 57, 'p': 58, 'q': 59, 'r': 60, 's': 61, 't': 62, 'u': 63, 'v': 64, 'w': 65, 'x': 66, 'y': 67, 'z': 68}\n",
      "\n",
      "\n",
      "{'\\t': 0, '\\n': 1, ' ': 2, '!': 3, '\"': 4, \"'\": 5, ',': 6, '-': 7, '.': 8, '0': 9, '1': 10, '2': 11, '3': 12, '4': 13, '5': 14, '6': 15, '7': 16, '8': 17, ':': 18, '?': 19, 'A': 20, 'B': 21, 'C': 22, 'D': 23, 'E': 24, 'F': 25, 'G': 26, 'H': 27, 'I': 28, 'J': 29, 'L': 30, 'M': 31, 'N': 32, 'O': 33, 'P': 34, 'Q': 35, 'R': 36, 'S': 37, 'T': 38, 'U': 39, 'V': 40, 'W': 41, 'Y': 42, 'a': 43, 'b': 44, 'c': 45, 'd': 46, 'e': 47, 'f': 48, 'g': 49, 'h': 50, 'i': 51, 'j': 52, 'k': 53, 'l': 54, 'm': 55, 'n': 56, 'o': 57, 'p': 58, 'q': 59, 'r': 60, 's': 61, 't': 62, 'u': 63, 'v': 64, 'w': 65, 'x': 66, 'y': 67, 'z': 68, '¡': 69, '«': 70, '»': 71, '¿': 72, 'Á': 73, 'É': 74, 'Ó': 75, 'Ú': 76, 'á': 77, 'é': 78, 'í': 79, 'ñ': 80, 'ó': 81, 'ú': 82, 'ü': 83}\n"
     ]
    }
   ],
   "source": [
    "input_token_index = dict([(char, i) for i, char in enumerate(input_characters)])\n",
    "target_token_index = dict([(char, i) for i, char in enumerate(target_characters)])\n",
    "\n",
    "print(input_token_index)\n",
    "\n",
    "print(\"\\n\")\n",
    "\n",
    "print(target_token_index)"
   ]
  },
  {
   "cell_type": "code",
   "execution_count": 148,
   "metadata": {},
   "outputs": [],
   "source": [
    "encoder_input_data = np.zeros(\n",
    "  (len(input_texts), max_encoder_seq_length, num_encoder_tokens), dtype=\"float32\"\n",
    ")\n",
    "\n",
    "decoder_input_data = np.zeros(\n",
    "  (len(input_texts), max_decoder_seq_length, num_decoder_tokens), dtype=\"float32\"\n",
    ")\n",
    "\n",
    "decoder_target_data = np.zeros(\n",
    "  (len(input_texts), max_decoder_seq_length, num_decoder_tokens), dtype=\"float32\"\n",
    ")\n"
   ]
  },
  {
   "cell_type": "code",
   "execution_count": 149,
   "metadata": {},
   "outputs": [
    {
     "data": {
      "text/plain": [
       "(10000, 16, 69)"
      ]
     },
     "execution_count": 149,
     "metadata": {},
     "output_type": "execute_result"
    }
   ],
   "source": [
    "encoder_input_data.shape # (Samples(Input_Text),Max_seq_Length_Input_text,Features)"
   ]
  },
  {
   "cell_type": "code",
   "execution_count": 150,
   "metadata": {},
   "outputs": [
    {
     "data": {
      "text/plain": [
       "(10000, 78, 84)"
      ]
     },
     "execution_count": 150,
     "metadata": {},
     "output_type": "execute_result"
    }
   ],
   "source": [
    "decoder_input_data.shape # (Samples(Target_Text),Max_seq_Length_Target_text,Features)"
   ]
  },
  {
   "cell_type": "code",
   "execution_count": 151,
   "metadata": {},
   "outputs": [
    {
     "data": {
      "text/plain": [
       "(10000, 78, 84)"
      ]
     },
     "execution_count": 151,
     "metadata": {},
     "output_type": "execute_result"
    }
   ],
   "source": [
    "decoder_target_data.shape # (Samples(Target_Text),Max_seq_Length_Target_text,Features)"
   ]
  },
  {
   "cell_type": "code",
   "execution_count": 152,
   "metadata": {},
   "outputs": [],
   "source": [
    "for i, (input_text, target_text) in enumerate(zip(input_texts, target_texts)):\n",
    "    for t, char in enumerate(input_text):\n",
    "        encoder_input_data[i, t, input_token_index[char]] = 1.0\n",
    "    encoder_input_data[i, t + 1 :, input_token_index[\" \"]] = 1.0\n",
    "    \n",
    "    for t, char in enumerate(target_text):\n",
    "        decoder_input_data[i, t, target_token_index[char]] = 1.0\n",
    "        if t > 0:\n",
    "            decoder_target_data[i, t - 1, target_token_index[char]] = 1.0\n",
    "    decoder_input_data[i, t + 1 :, target_token_index[\" \"]] = 1.0\n",
    "    \n",
    "    decoder_target_data[i, t:, target_token_index[\" \"]] = 1.0"
   ]
  },
  {
   "cell_type": "code",
   "execution_count": 120,
   "metadata": {},
   "outputs": [],
   "source": [
    "import keras\n",
    "\n",
    "encoder_inputs = keras.Input(shape=(None, num_encoder_tokens))\n",
    "encoder = keras.layers.LSTM(latent_dim, return_state=True)\n",
    "encoder_outputs, state_h, state_c = encoder(encoder_inputs)\n",
    "\n",
    "encoder_states = [state_h, state_c]"
   ]
  },
  {
   "cell_type": "code",
   "execution_count": 121,
   "metadata": {},
   "outputs": [],
   "source": [
    "decoder_inputs = keras.Input(shape=(None, num_decoder_tokens))\n",
    "decoder_lstm = keras.layers.LSTM(latent_dim, return_sequences=True, return_state=True)\n",
    "decoder_outputs, _, _ = decoder_lstm(decoder_inputs, initial_state=encoder_states)\n",
    "decoder_dense = keras.layers.Dense(num_decoder_tokens, activation=\"softmax\")\n",
    "decoder_outputs = decoder_dense(decoder_outputs)"
   ]
  },
  {
   "cell_type": "code",
   "execution_count": 124,
   "metadata": {},
   "outputs": [
    {
     "name": "stdout",
     "output_type": "stream",
     "text": [
      "WARNING:tensorflow:From c:\\users\\insakum46\\appdata\\local\\programs\\python\\python37\\lib\\site-packages\\tensorflow_core\\python\\ops\\math_grad.py:1424: where (from tensorflow.python.ops.array_ops) is deprecated and will be removed in a future version.\n",
      "Instructions for updating:\n",
      "Use tf.where in 2.0, which has the same broadcast rule as np.where\n",
      "WARNING:tensorflow:From c:\\users\\insakum46\\appdata\\local\\programs\\python\\python37\\lib\\site-packages\\keras\\backend\\tensorflow_backend.py:422: The name tf.global_variables is deprecated. Please use tf.compat.v1.global_variables instead.\n",
      "\n",
      "Train on 8000 samples, validate on 2000 samples\n",
      "Epoch 1/100\n",
      "8000/8000 [==============================] - 67s 8ms/step - loss: 0.8149 - accuracy: 0.8112 - val_loss: 0.5507 - val_accuracy: 0.8380\n",
      "Epoch 2/100\n",
      "8000/8000 [==============================] - 65s 8ms/step - loss: 0.4360 - accuracy: 0.8713 - val_loss: 0.4867 - val_accuracy: 0.8550\n",
      "Epoch 3/100\n",
      "8000/8000 [==============================] - 65s 8ms/step - loss: 0.3925 - accuracy: 0.8830 - val_loss: 0.5562 - val_accuracy: 0.8394\n",
      "Epoch 4/100\n",
      "8000/8000 [==============================] - 65s 8ms/step - loss: 0.3898 - accuracy: 0.8837 - val_loss: 0.4415 - val_accuracy: 0.8646\n",
      "Epoch 5/100\n",
      "8000/8000 [==============================] - 65s 8ms/step - loss: 0.3517 - accuracy: 0.8937 - val_loss: 0.4187 - val_accuracy: 0.8728\n",
      "Epoch 6/100\n",
      "8000/8000 [==============================] - 65s 8ms/step - loss: 0.3344 - accuracy: 0.8986 - val_loss: 0.4055 - val_accuracy: 0.8777\n",
      "Epoch 7/100\n",
      "8000/8000 [==============================] - 64s 8ms/step - loss: 0.3197 - accuracy: 0.9028 - val_loss: 0.3941 - val_accuracy: 0.8808\n",
      "Epoch 8/100\n",
      "8000/8000 [==============================] - 65s 8ms/step - loss: 0.3075 - accuracy: 0.9066 - val_loss: 0.3823 - val_accuracy: 0.8847\n",
      "Epoch 9/100\n",
      "8000/8000 [==============================] - 65s 8ms/step - loss: 0.2962 - accuracy: 0.9100 - val_loss: 0.3736 - val_accuracy: 0.8875\n",
      "Epoch 10/100\n",
      "8000/8000 [==============================] - 64s 8ms/step - loss: 0.2865 - accuracy: 0.9132 - val_loss: 0.3669 - val_accuracy: 0.8892\n",
      "Epoch 11/100\n",
      "8000/8000 [==============================] - 58s 7ms/step - loss: 0.2779 - accuracy: 0.9159 - val_loss: 0.3594 - val_accuracy: 0.8919\n",
      "Epoch 12/100\n",
      "8000/8000 [==============================] - 54s 7ms/step - loss: 0.2701 - accuracy: 0.9183 - val_loss: 0.3570 - val_accuracy: 0.8925\n",
      "Epoch 13/100\n",
      "8000/8000 [==============================] - 54s 7ms/step - loss: 0.2624 - accuracy: 0.9207 - val_loss: 0.3509 - val_accuracy: 0.8952\n",
      "Epoch 14/100\n",
      "8000/8000 [==============================] - 55s 7ms/step - loss: 0.2556 - accuracy: 0.9228 - val_loss: 0.3481 - val_accuracy: 0.8959\n",
      "Epoch 15/100\n",
      "8000/8000 [==============================] - 56s 7ms/step - loss: 0.2491 - accuracy: 0.9248 - val_loss: 0.3454 - val_accuracy: 0.8969\n",
      "Epoch 16/100\n",
      "8000/8000 [==============================] - 63s 8ms/step - loss: 0.2432 - accuracy: 0.9265 - val_loss: 0.3410 - val_accuracy: 0.8985\n",
      "Epoch 17/100\n",
      "8000/8000 [==============================] - 63s 8ms/step - loss: 0.2371 - accuracy: 0.9285 - val_loss: 0.3376 - val_accuracy: 0.8995\n",
      "Epoch 18/100\n",
      "8000/8000 [==============================] - 64s 8ms/step - loss: 0.2315 - accuracy: 0.9300 - val_loss: 0.3355 - val_accuracy: 0.9009\n",
      "Epoch 19/100\n",
      "8000/8000 [==============================] - 64s 8ms/step - loss: 0.2263 - accuracy: 0.9318 - val_loss: 0.3312 - val_accuracy: 0.9022\n",
      "Epoch 20/100\n",
      "8000/8000 [==============================] - 63s 8ms/step - loss: 0.2210 - accuracy: 0.9334 - val_loss: 0.3292 - val_accuracy: 0.9027\n",
      "Epoch 21/100\n",
      "8000/8000 [==============================] - 64s 8ms/step - loss: 0.2162 - accuracy: 0.9348 - val_loss: 0.3303 - val_accuracy: 0.9030\n",
      "Epoch 22/100\n",
      "8000/8000 [==============================] - 64s 8ms/step - loss: 0.2116 - accuracy: 0.9362 - val_loss: 0.3291 - val_accuracy: 0.9036\n",
      "Epoch 23/100\n",
      "8000/8000 [==============================] - 65s 8ms/step - loss: 0.2073 - accuracy: 0.9373 - val_loss: 0.3284 - val_accuracy: 0.9042\n",
      "Epoch 24/100\n",
      "8000/8000 [==============================] - 64s 8ms/step - loss: 0.2031 - accuracy: 0.9389 - val_loss: 0.3249 - val_accuracy: 0.9061\n",
      "Epoch 25/100\n",
      "8000/8000 [==============================] - 64s 8ms/step - loss: 0.1989 - accuracy: 0.9399 - val_loss: 0.3236 - val_accuracy: 0.9057\n",
      "Epoch 26/100\n",
      "8000/8000 [==============================] - 64s 8ms/step - loss: 0.1944 - accuracy: 0.9413 - val_loss: 0.3274 - val_accuracy: 0.9057\n",
      "Epoch 27/100\n",
      "8000/8000 [==============================] - 65s 8ms/step - loss: 0.1909 - accuracy: 0.9424 - val_loss: 0.3228 - val_accuracy: 0.9074\n",
      "Epoch 28/100\n",
      "8000/8000 [==============================] - 64s 8ms/step - loss: 0.1871 - accuracy: 0.9434 - val_loss: 0.3251 - val_accuracy: 0.9067\n",
      "Epoch 29/100\n",
      "8000/8000 [==============================] - 62s 8ms/step - loss: 0.1835 - accuracy: 0.9444 - val_loss: 0.3269 - val_accuracy: 0.9068\n",
      "Epoch 30/100\n",
      "8000/8000 [==============================] - 63s 8ms/step - loss: 0.1793 - accuracy: 0.9458 - val_loss: 0.3242 - val_accuracy: 0.9080\n",
      "Epoch 31/100\n",
      "8000/8000 [==============================] - 57s 7ms/step - loss: 0.1762 - accuracy: 0.9466 - val_loss: 0.3240 - val_accuracy: 0.9084\n",
      "Epoch 32/100\n",
      "8000/8000 [==============================] - 54s 7ms/step - loss: 0.1731 - accuracy: 0.9476 - val_loss: 0.3252 - val_accuracy: 0.9080\n",
      "Epoch 33/100\n",
      "8000/8000 [==============================] - 60s 8ms/step - loss: 0.1693 - accuracy: 0.9487 - val_loss: 0.3244 - val_accuracy: 0.9087\n",
      "Epoch 34/100\n",
      "8000/8000 [==============================] - 61s 8ms/step - loss: 0.1661 - accuracy: 0.9497 - val_loss: 0.3257 - val_accuracy: 0.9080\n",
      "Epoch 35/100\n",
      "8000/8000 [==============================] - 63s 8ms/step - loss: 0.1632 - accuracy: 0.9506 - val_loss: 0.3283 - val_accuracy: 0.9087\n",
      "Epoch 36/100\n",
      "8000/8000 [==============================] - 63s 8ms/step - loss: 0.1599 - accuracy: 0.9518 - val_loss: 0.3288 - val_accuracy: 0.9087\n",
      "Epoch 37/100\n",
      "8000/8000 [==============================] - 60s 8ms/step - loss: 0.1569 - accuracy: 0.9525 - val_loss: 0.3309 - val_accuracy: 0.9083\n",
      "Epoch 38/100\n",
      "8000/8000 [==============================] - 64s 8ms/step - loss: 0.1543 - accuracy: 0.9536 - val_loss: 0.3330 - val_accuracy: 0.9081\n",
      "Epoch 39/100\n",
      "8000/8000 [==============================] - 61s 8ms/step - loss: 0.1509 - accuracy: 0.9544 - val_loss: 0.3328 - val_accuracy: 0.9084\n",
      "Epoch 40/100\n",
      "8000/8000 [==============================] - 63s 8ms/step - loss: 0.1483 - accuracy: 0.9553 - val_loss: 0.3361 - val_accuracy: 0.9087\n",
      "Epoch 41/100\n",
      "8000/8000 [==============================] - 62s 8ms/step - loss: 0.1455 - accuracy: 0.9561 - val_loss: 0.3362 - val_accuracy: 0.9085\n",
      "Epoch 42/100\n",
      "8000/8000 [==============================] - 60s 7ms/step - loss: 0.1429 - accuracy: 0.9569 - val_loss: 0.3366 - val_accuracy: 0.9082\n",
      "Epoch 43/100\n",
      "8000/8000 [==============================] - 63s 8ms/step - loss: 0.1399 - accuracy: 0.9580 - val_loss: 0.3383 - val_accuracy: 0.9087\n",
      "Epoch 44/100\n",
      "8000/8000 [==============================] - 65s 8ms/step - loss: 0.1373 - accuracy: 0.9588 - val_loss: 0.3401 - val_accuracy: 0.9089\n",
      "Epoch 45/100\n",
      "8000/8000 [==============================] - 65s 8ms/step - loss: 0.1350 - accuracy: 0.9594 - val_loss: 0.3445 - val_accuracy: 0.9084\n",
      "Epoch 46/100\n",
      "8000/8000 [==============================] - 65s 8ms/step - loss: 0.1326 - accuracy: 0.9599 - val_loss: 0.3457 - val_accuracy: 0.9082\n",
      "Epoch 47/100\n",
      "8000/8000 [==============================] - 65s 8ms/step - loss: 0.1296 - accuracy: 0.9610 - val_loss: 0.3471 - val_accuracy: 0.9089\n",
      "Epoch 48/100\n",
      "8000/8000 [==============================] - 65s 8ms/step - loss: 0.1275 - accuracy: 0.9616 - val_loss: 0.3491 - val_accuracy: 0.9088\n",
      "Epoch 49/100\n",
      "8000/8000 [==============================] - 57s 7ms/step - loss: 0.1249 - accuracy: 0.9625 - val_loss: 0.3517 - val_accuracy: 0.9092\n",
      "Epoch 50/100\n",
      "8000/8000 [==============================] - 63s 8ms/step - loss: 0.1228 - accuracy: 0.9633 - val_loss: 0.3537 - val_accuracy: 0.9089\n",
      "Epoch 51/100\n",
      "8000/8000 [==============================] - 65s 8ms/step - loss: 0.1207 - accuracy: 0.9637 - val_loss: 0.3573 - val_accuracy: 0.9086\n",
      "Epoch 52/100\n",
      "8000/8000 [==============================] - 65s 8ms/step - loss: 0.1181 - accuracy: 0.9647 - val_loss: 0.3557 - val_accuracy: 0.9085\n",
      "Epoch 53/100\n",
      "8000/8000 [==============================] - 65s 8ms/step - loss: 0.1162 - accuracy: 0.9651 - val_loss: 0.3618 - val_accuracy: 0.9087\n",
      "Epoch 54/100\n",
      "8000/8000 [==============================] - 65s 8ms/step - loss: 0.1142 - accuracy: 0.9657 - val_loss: 0.3625 - val_accuracy: 0.9082\n",
      "Epoch 55/100\n",
      "8000/8000 [==============================] - 65s 8ms/step - loss: 0.1122 - accuracy: 0.9664 - val_loss: 0.3658 - val_accuracy: 0.9084\n",
      "Epoch 56/100\n",
      "8000/8000 [==============================] - 65s 8ms/step - loss: 0.1100 - accuracy: 0.9673 - val_loss: 0.3707 - val_accuracy: 0.9075\n",
      "Epoch 57/100\n",
      "8000/8000 [==============================] - 64s 8ms/step - loss: 0.1083 - accuracy: 0.9678 - val_loss: 0.3702 - val_accuracy: 0.9078\n",
      "Epoch 58/100\n",
      "8000/8000 [==============================] - 65s 8ms/step - loss: 0.1064 - accuracy: 0.9682 - val_loss: 0.3708 - val_accuracy: 0.9080\n",
      "Epoch 59/100\n",
      "8000/8000 [==============================] - 66s 8ms/step - loss: 0.1044 - accuracy: 0.9690 - val_loss: 0.3745 - val_accuracy: 0.9085\n",
      "Epoch 60/100\n",
      "8000/8000 [==============================] - 63s 8ms/step - loss: 0.1024 - accuracy: 0.9695 - val_loss: 0.3764 - val_accuracy: 0.9085\n",
      "Epoch 61/100\n",
      "8000/8000 [==============================] - 63s 8ms/step - loss: 0.1009 - accuracy: 0.9700 - val_loss: 0.3773 - val_accuracy: 0.9081\n",
      "Epoch 62/100\n",
      "8000/8000 [==============================] - 63s 8ms/step - loss: 0.0991 - accuracy: 0.9705 - val_loss: 0.3848 - val_accuracy: 0.9074\n",
      "Epoch 63/100\n",
      "8000/8000 [==============================] - 64s 8ms/step - loss: 0.0975 - accuracy: 0.9711 - val_loss: 0.3858 - val_accuracy: 0.9075\n",
      "Epoch 64/100\n",
      "8000/8000 [==============================] - 64s 8ms/step - loss: 0.0957 - accuracy: 0.9716 - val_loss: 0.3877 - val_accuracy: 0.9074\n",
      "Epoch 65/100\n",
      "8000/8000 [==============================] - 64s 8ms/step - loss: 0.0942 - accuracy: 0.9722 - val_loss: 0.3907 - val_accuracy: 0.9078\n",
      "Epoch 66/100\n",
      "8000/8000 [==============================] - 64s 8ms/step - loss: 0.0925 - accuracy: 0.9727 - val_loss: 0.3954 - val_accuracy: 0.9073\n",
      "Epoch 67/100\n",
      "8000/8000 [==============================] - 62s 8ms/step - loss: 0.0911 - accuracy: 0.9730 - val_loss: 0.3994 - val_accuracy: 0.9069\n",
      "Epoch 68/100\n",
      "8000/8000 [==============================] - 64s 8ms/step - loss: 0.0897 - accuracy: 0.9737 - val_loss: 0.3980 - val_accuracy: 0.9072\n",
      "Epoch 69/100\n",
      "8000/8000 [==============================] - 62s 8ms/step - loss: 0.0879 - accuracy: 0.9741 - val_loss: 0.4031 - val_accuracy: 0.9068\n",
      "Epoch 70/100\n",
      "8000/8000 [==============================] - 63s 8ms/step - loss: 0.0865 - accuracy: 0.9747 - val_loss: 0.4032 - val_accuracy: 0.9068\n",
      "Epoch 71/100\n",
      "8000/8000 [==============================] - 60s 7ms/step - loss: 0.0853 - accuracy: 0.9751 - val_loss: 0.4069 - val_accuracy: 0.9068\n",
      "Epoch 72/100\n",
      "8000/8000 [==============================] - 52s 7ms/step - loss: 0.0838 - accuracy: 0.9754 - val_loss: 0.4094 - val_accuracy: 0.9063\n",
      "Epoch 73/100\n",
      "8000/8000 [==============================] - 56s 7ms/step - loss: 0.0828 - accuracy: 0.9756 - val_loss: 0.4153 - val_accuracy: 0.9065\n",
      "Epoch 74/100\n",
      "8000/8000 [==============================] - 60s 8ms/step - loss: 0.0812 - accuracy: 0.9764 - val_loss: 0.4165 - val_accuracy: 0.9063\n",
      "Epoch 75/100\n",
      "8000/8000 [==============================] - 64s 8ms/step - loss: 0.0799 - accuracy: 0.9767 - val_loss: 0.4166 - val_accuracy: 0.9068\n",
      "Epoch 76/100\n",
      "8000/8000 [==============================] - 64s 8ms/step - loss: 0.0789 - accuracy: 0.9769 - val_loss: 0.4211 - val_accuracy: 0.9063\n",
      "Epoch 77/100\n",
      "8000/8000 [==============================] - 64s 8ms/step - loss: 0.0774 - accuracy: 0.9774 - val_loss: 0.4208 - val_accuracy: 0.9066\n",
      "Epoch 78/100\n",
      "8000/8000 [==============================] - 65s 8ms/step - loss: 0.0763 - accuracy: 0.9777 - val_loss: 0.4249 - val_accuracy: 0.9065\n",
      "Epoch 79/100\n",
      "8000/8000 [==============================] - 64s 8ms/step - loss: 0.0752 - accuracy: 0.9781 - val_loss: 0.4287 - val_accuracy: 0.9058\n",
      "Epoch 80/100\n",
      "8000/8000 [==============================] - 65s 8ms/step - loss: 0.0743 - accuracy: 0.9783 - val_loss: 0.4322 - val_accuracy: 0.9061\n",
      "Epoch 81/100\n",
      "8000/8000 [==============================] - 64s 8ms/step - loss: 0.0728 - accuracy: 0.9788 - val_loss: 0.4329 - val_accuracy: 0.9061\n",
      "Epoch 82/100\n",
      "8000/8000 [==============================] - 65s 8ms/step - loss: 0.0720 - accuracy: 0.9791 - val_loss: 0.4337 - val_accuracy: 0.9061\n",
      "Epoch 83/100\n",
      "8000/8000 [==============================] - 65s 8ms/step - loss: 0.0708 - accuracy: 0.9794 - val_loss: 0.4406 - val_accuracy: 0.9056\n",
      "Epoch 84/100\n",
      "8000/8000 [==============================] - 53s 7ms/step - loss: 0.0700 - accuracy: 0.9797 - val_loss: 0.4423 - val_accuracy: 0.9052\n",
      "Epoch 85/100\n",
      "8000/8000 [==============================] - 38s 5ms/step - loss: 0.0688 - accuracy: 0.9802 - val_loss: 0.4443 - val_accuracy: 0.9054\n",
      "Epoch 86/100\n",
      "8000/8000 [==============================] - 39s 5ms/step - loss: 0.0681 - accuracy: 0.9803 - val_loss: 0.4463 - val_accuracy: 0.9052\n",
      "Epoch 87/100\n",
      "8000/8000 [==============================] - 40s 5ms/step - loss: 0.0670 - accuracy: 0.9806 - val_loss: 0.4471 - val_accuracy: 0.9058\n",
      "Epoch 88/100\n",
      "8000/8000 [==============================] - 41s 5ms/step - loss: 0.0659 - accuracy: 0.9809 - val_loss: 0.4526 - val_accuracy: 0.9048\n",
      "Epoch 89/100\n",
      "8000/8000 [==============================] - 41s 5ms/step - loss: 0.0649 - accuracy: 0.9812 - val_loss: 0.4557 - val_accuracy: 0.9055\n",
      "Epoch 90/100\n",
      "8000/8000 [==============================] - 42s 5ms/step - loss: 0.0641 - accuracy: 0.9816 - val_loss: 0.4591 - val_accuracy: 0.9051\n",
      "Epoch 91/100\n",
      "8000/8000 [==============================] - 42s 5ms/step - loss: 0.0632 - accuracy: 0.9818 - val_loss: 0.4605 - val_accuracy: 0.9053\n",
      "Epoch 92/100\n",
      "8000/8000 [==============================] - 42s 5ms/step - loss: 0.0623 - accuracy: 0.9821 - val_loss: 0.4638 - val_accuracy: 0.9048\n",
      "Epoch 93/100\n",
      "8000/8000 [==============================] - 42s 5ms/step - loss: 0.0617 - accuracy: 0.9822 - val_loss: 0.4640 - val_accuracy: 0.9051\n",
      "Epoch 94/100\n",
      "8000/8000 [==============================] - 42s 5ms/step - loss: 0.0608 - accuracy: 0.9824 - val_loss: 0.4659 - val_accuracy: 0.9052\n",
      "Epoch 95/100\n",
      "8000/8000 [==============================] - 42s 5ms/step - loss: 0.0599 - accuracy: 0.9827 - val_loss: 0.4725 - val_accuracy: 0.9046\n",
      "Epoch 96/100\n",
      "8000/8000 [==============================] - 42s 5ms/step - loss: 0.0590 - accuracy: 0.9830 - val_loss: 0.4717 - val_accuracy: 0.9046\n",
      "Epoch 97/100\n",
      "8000/8000 [==============================] - 43s 5ms/step - loss: 0.0584 - accuracy: 0.9832 - val_loss: 0.4760 - val_accuracy: 0.9048\n",
      "Epoch 98/100\n",
      "8000/8000 [==============================] - 104s 13ms/step - loss: 0.0576 - accuracy: 0.9833 - val_loss: 0.4774 - val_accuracy: 0.9044\n",
      "Epoch 99/100\n",
      "8000/8000 [==============================] - 39s 5ms/step - loss: 0.0568 - accuracy: 0.9836 - val_loss: 0.4778 - val_accuracy: 0.9044\n",
      "Epoch 100/100\n",
      "8000/8000 [==============================] - 44s 6ms/step - loss: 0.0562 - accuracy: 0.9838 - val_loss: 0.4831 - val_accuracy: 0.9047\n"
     ]
    },
    {
     "data": {
      "text/plain": [
       "<keras.callbacks.callbacks.History at 0x25a380e0808>"
      ]
     },
     "execution_count": 124,
     "metadata": {},
     "output_type": "execute_result"
    }
   ],
   "source": [
    "from keras.optimizers import Adam\n",
    "\n",
    "model = keras.Model([encoder_inputs, decoder_inputs], decoder_outputs)\n",
    "\n",
    "model.compile(optimizer=Adam(lr=0.01, beta_1=0.9, beta_2=0.999, decay=0.001), loss='categorical_crossentropy', metrics=[\"accuracy\"])\n",
    "\n",
    "model.fit([encoder_input_data,\n",
    "           decoder_input_data],\n",
    "           decoder_target_data,\n",
    "           batch_size=batch_size,\n",
    "           epochs=epochs,validation_split=0.2,)"
   ]
  },
  {
   "cell_type": "code",
   "execution_count": 125,
   "metadata": {},
   "outputs": [],
   "source": [
    "model.save(\"E2S\")"
   ]
  },
  {
   "cell_type": "code",
   "execution_count": 128,
   "metadata": {},
   "outputs": [],
   "source": [
    "from keras.utils import plot_model\n",
    "#plot_model(model, to_file='modelsummary.png', show_shapes=True, show_layer_names=True)"
   ]
  },
  {
   "cell_type": "code",
   "execution_count": 129,
   "metadata": {},
   "outputs": [],
   "source": [
    "# Decode the Sentence\n",
    "\n",
    "encoder_inputs = model.input[0]  # input_1\n",
    "encoder_outputs, state_h_enc, state_c_enc = model.layers[2].output  # lstm_1\n",
    "encoder_states = [state_h_enc, state_c_enc] # encoder hidden states\n",
    "encoder_model = keras.Model(encoder_inputs, encoder_states)"
   ]
  },
  {
   "cell_type": "code",
   "execution_count": 131,
   "metadata": {},
   "outputs": [],
   "source": [
    "# Now build the model for the decoder\n",
    "\n",
    "decoder_inputs = model.input[1]  # input_2\n",
    "decoder_state_input_h = keras.Input(shape=(latent_dim,), name=\"input_3\")\n",
    "decoder_state_input_c = keras.Input(shape=(latent_dim,), name=\"input_4\")\n",
    "decoder_states_inputs = [decoder_state_input_h, decoder_state_input_c]\n",
    "\n",
    "decoder_lstm = model.layers[3]\n",
    "decoder_outputs, state_h_dec, state_c_dec = decoder_lstm(decoder_inputs, initial_state=decoder_states_inputs)\n",
    "\n",
    "decoder_states = [state_h_dec, state_c_dec]\n",
    "decoder_dense = model.layers[4]\n",
    "decoder_outputs = decoder_dense(decoder_outputs)\n",
    "decoder_model = keras.Model([decoder_inputs] + decoder_states_inputs, [decoder_outputs] + decoder_states)"
   ]
  },
  {
   "cell_type": "code",
   "execution_count": 133,
   "metadata": {},
   "outputs": [],
   "source": [
    "# Create two reverse-lookup token indexes to decode the sequence to make it readable\n",
    "\n",
    "reverse_input_char_index = dict((i, char) for char, i in input_token_index.items())\n",
    "reverse_target_char_index = dict((i, char) for char, i in target_token_index.items())"
   ]
  },
  {
   "cell_type": "code",
   "execution_count": 134,
   "metadata": {},
   "outputs": [],
   "source": [
    "def decode_sequence(input_seq):\n",
    "    states_value = encoder_model.predict(input_seq)\n",
    "\n",
    "    target_seq = np.zeros((1, 1, num_decoder_tokens))\n",
    "    target_seq[0, 0, target_token_index[\"\\t\"]] = 1.0\n",
    "\n",
    "    stop_condition = False\n",
    "    decoded_sentence = \"\"\n",
    "    while not stop_condition:\n",
    "        output_tokens, h, c = decoder_model.predict([target_seq] + states_value)\n",
    "\n",
    "        sampled_token_index = np.argmax(output_tokens[0, -1, :])\n",
    "        sampled_char = reverse_target_char_index[sampled_token_index]\n",
    "        decoded_sentence += sampled_char\n",
    "\n",
    "        if sampled_char == \"\\n\" or len(decoded_sentence) > max_decoder_seq_length:\n",
    "            stop_condition = True\n",
    "\n",
    "        target_seq = np.zeros((1, 1, num_decoder_tokens))\n",
    "        target_seq[0, 0, sampled_token_index] = 1.0\n",
    "\n",
    "        states_value = [h, c]\n",
    "    return decoded_sentence"
   ]
  },
  {
   "cell_type": "code",
   "execution_count": 153,
   "metadata": {},
   "outputs": [
    {
     "name": "stdout",
     "output_type": "stream",
     "text": [
      "-\n",
      "Input: Who?\n",
      "Translation: ¿Quién?\n",
      "\n"
     ]
    }
   ],
   "source": [
    "#i = np.random.choice(len(input_texts))\n",
    "\n",
    "i = 10\n",
    "input_seq = encoder_input_data[i:i+1]\n",
    "translation = decode_sequence(input_seq)\n",
    "print('-')\n",
    "print('Input:', input_texts[i])\n",
    "print('Translation:', translation)"
   ]
  }
 ],
 "metadata": {
  "kernelspec": {
   "display_name": "Python 3",
   "language": "python",
   "name": "python3"
  },
  "language_info": {
   "codemirror_mode": {
    "name": "ipython",
    "version": 3
   },
   "file_extension": ".py",
   "mimetype": "text/x-python",
   "name": "python",
   "nbconvert_exporter": "python",
   "pygments_lexer": "ipython3",
   "version": "3.7.4"
  }
 },
 "nbformat": 4,
 "nbformat_minor": 2
}
