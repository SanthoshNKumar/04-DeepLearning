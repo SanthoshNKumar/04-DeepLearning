{
 "cells": [
  {
   "cell_type": "code",
   "execution_count": null,
   "metadata": {},
   "outputs": [],
   "source": [
    "# One-to-One (Multiple Features)\n",
    "\n",
    "X = [1, 2, 3, 4, 5, 6, 7, 8, 9, 10, 11, 12, 13, 14, 15, 16, 17, 18, 19, 20]\n",
    "\n",
    "X = array(X).reshape(20, 1, 1)\n",
    "\n",
    "model.add(LSTM(50, activation='relu', input_shape=(1, 1)))  # input_shape=(1 time_step,2 features)"
   ]
  },
  {
   "cell_type": "code",
   "execution_count": null,
   "metadata": {},
   "outputs": [],
   "source": [
    "# One-to-One (Multiple Features)\n",
    "\n",
    "X1 = [2, 4, 6, 8, 10, 12, 14, 16, 18, 20, 22, 24, 26, 28, 30, 32, 34, 36, 38, 40, 42, 44, 46, 48, 50]\n",
    "X2 = [3, 6, 9, 12, 15, 18, 21, 24, 27, 30, 33, 36, 39, 42, 45, 48, 51, 54, 57, 60, 63, 66, 69, 72, 75]\n",
    "\n",
    "X = np.column_stack((X1, X2))\n",
    "\n",
    "X = array(X).reshape(25, 1, 2) # convert the input into 3-dimensional shape\n",
    "\n",
    "model.add(LSTM(80, activation='relu', input_shape=(1, 2))) # input_shape=(1 time_step,2 features)"
   ]
  },
  {
   "cell_type": "code",
   "execution_count": null,
   "metadata": {},
   "outputs": [],
   "source": [
    "# Many-to-One Sequence (Single Feature)\n",
    "\n",
    "X = [1,2,3,4,5,6,7,8,9,10,11,12,13,14,15,16,17,18,19,20,21,22,23,24,25,26,27,28,29,30,31,32,33,34,35,\n",
    "     36,37,38,39,40,41,42,43,44,45]\n",
    "\n",
    "y = [6,15,24,33,42,51,60,69,78,87,96,105,114,123,132]\n",
    "\n",
    "X = X.reshape(15,3,1)\n",
    "\n",
    "model.add(LSTM(50, activation='relu', input_shape=(3, 1))) # input_shape=(3 time_step,1 features)"
   ]
  },
  {
   "cell_type": "code",
   "execution_count": null,
   "metadata": {},
   "outputs": [],
   "source": [
    "# Many-to-One Sequence (Multiple Feature)\n",
    "\n",
    "X1  = [3,6,9,12,15,18,21,24,27,30,33,36,39,42,45,48,51,54,57,60,63,66,69,72,75,78,81,84,87,90,93,\n",
    "       96,99,102,105,108,111,114,117,120,123,126,129,132,135]\n",
    "\n",
    "X2  = [5,10,15,20,25,30,35,40,45,50,55,60,65,70,75,80,85,90,95,100,105,110,115,120,125,130,135,\n",
    "       140,145,150,155,160,165,170,175,180,185,190,195,200,205,210,215,220,225]\n",
    "\n",
    "y = [24,48,72,96,120,144,168,192,216,240,264,288,312,336,360]\n",
    "\n",
    "X = np.column_stack((X1, X2))\n",
    "\n",
    "X = array(X).reshape(15, 3, 2)\n",
    "\n",
    "model.add(LSTM(50, activation='relu', input_shape=(3, 2))) # input_shape=(3 time_step,2 features)"
   ]
  },
  {
   "cell_type": "code",
   "execution_count": 9,
   "metadata": {},
   "outputs": [],
   "source": [
    "from numpy import array\n",
    "\n",
    "data = array([0.1, 0.2, 0.3, 0.4, 0.5, 0.6, 0.7, 0.8, 0.9, 1.0])\n",
    "\n",
    "data = data.reshape((1, 10, 1)) # 1 sample,10 time steps, and 1 features\n",
    "\n",
    "model.add(LSTM(32, input_shape=(10, 1))) # input_shape=(10 time_step, 1 features)"
   ]
  },
  {
   "cell_type": "code",
   "execution_count": 10,
   "metadata": {},
   "outputs": [],
   "source": [
    "\n",
    "from numpy import array\n",
    "X = array([[0.1, 1.0],[0.2, 0.9],[0.3, 0.8],[0.4, 0.7],[0.5, 0.6],[0.6, 0.5],[0.7, 0.4],[0.8, 0.3],[0.9, 0.2],[1.0, 0.1]])\n",
    "\n",
    "# 1 sample with 10 time steps and 2 features.\n",
    "X = X.reshape(1, 10, 2)\n",
    "\n",
    "model.add(LSTM(32, input_shape=(10, 2)) # input_shape=(10 time_step, 2 features)"
   ]
  },
  {
   "cell_type": "code",
   "execution_count": null,
   "metadata": {},
   "outputs": [],
   "source": [
    "# The input of the LSTM is always is a 3D array. (batch_size, time_steps, units)\n",
    "\n",
    "# The output of the LSTM could be a 2D array or 3D array depending upon the return_sequences argument.\n",
    "\n",
    "# If return_sequence is False, the output is a 2D array. (batch_size, units)\n",
    "\n",
    "# If return_sequence is True, the output is a 3D array. (batch_size, time_steps, units)"
   ]
  },
  {
   "cell_type": "code",
   "execution_count": 12,
   "metadata": {},
   "outputs": [],
   "source": [
    "# Example :\n",
    "\n",
    "# Generated sequences as follows\n",
    "\n",
    "# One Sample Input Sequence in raw format:\n",
    "X[0]=[5, 0, 9, 9]\n",
    "\n",
    "# One Hot Encoding\n",
    "\n",
    "5 : [0 0 0 0 0 1 0 0 0 0]\n",
    "0 : [1 0 0 0 0 0 0 0 0 0]\n",
    "9 : [0 0 0 0 0 0 0 0 0 1]\n",
    "9 : [0 0 0 0 0 0 0 0 0 1]\n",
    "\n",
    "# In one_hot_encoded format:  # (1,4,10) (1 Sample ; 4 time steps ; 10 feaures)\n",
    "\n",
    "X[0]=[[0 0 0 0 0 1 0 0 0 0],\n",
    "      [1 0 0 0 0 0 0 0 0 0],\n",
    "      [0 0 0 0 0 0 0 0 0 1],\n",
    "      [0 0 0 0 0 0 0 0 0 1]]\n",
    "\n",
    "# Shape of an input to LSTM (X[0].shape):  (1, 4, 10)"
   ]
  },
  {
   "cell_type": "code",
   "execution_count": 13,
   "metadata": {},
   "outputs": [
    {
     "name": "stdout",
     "output_type": "stream",
     "text": [
      "(4, 10, 32)\n"
     ]
    }
   ],
   "source": [
    "# Example 2:\n",
    "\n",
    "# embedding of the Characters in the string : for LSTM\n",
    "\n",
    "import numpy as np\n",
    "\n",
    "word_vec_length = 10 # maximum length of the name\n",
    "\n",
    "char_to_int = {'a': 0, 'b': 1, 'c': 2, 'd': 3, 'e': 4, 'f': 5, 'g': 6, 'h': 7, \n",
    "               'i': 8, 'j': 9, 'k': 10, 'l': 11, 'm': 12, 'n': 13, 'o': 14, \n",
    "               'p': 15, 'q': 16, 'r': 17, 's': 18, 't': 19, 'u': 20, 'v': 21, \n",
    "               'w': 22, 'x': 23, 'y': 24, 'z': 25, 'ö': 26, 'ä': 27, 'ü': 28,\n",
    "               '-': 29, 'ß': 30, ' ': 31}\n",
    "\n",
    "char_vec_length = len(char_to_int)\n",
    "\n",
    "\n",
    "# Returns a list of n lists with n = word_vec_length\n",
    "def name_encoding(name):\n",
    "\n",
    "    # Encode input data to int, e.g. a->1, z->26\n",
    "    integer_encoded = [char_to_int[char] for i, char in enumerate(name) if i < word_vec_length]\n",
    "    \n",
    "    # Start one-hot-encoding\n",
    "    onehot_encoded = list()\n",
    "    \n",
    "    for value in integer_encoded:\n",
    "        # create a list of n zeros, where n is equal to the number of accepted characters\n",
    "        letter = [0 for _ in range(char_vec_length)]\n",
    "        letter[value] = 1\n",
    "        onehot_encoded.append(letter)\n",
    "        \n",
    "    # Fill up list to the max length. Lists need do have equal length to be able to convert it into an array\n",
    "    for _ in range(word_vec_length - len(name)):\n",
    "        onehot_encoded.append([0 for _ in range(char_vec_length)])\n",
    "        \n",
    "    return onehot_encoded\n",
    "\n",
    "names = ['santhosh','anand','sachin','prashanth']\n",
    "\n",
    "# use asarray to use change the shape of the array which suits for LSTM\n",
    "enc = np.asarray([np.asarray(name_encoding(name)) for name in names])\n",
    "\n",
    "print(enc.shape)\n",
    "\n",
    "# Batch_size(Samples) : 4  : ['santhosh','anand','sachin','prashanth']\n",
    "# time_step : 10 :  max length of the sentence \n",
    "# features : 32 :  Length of the Vocabulary"
   ]
  }
 ],
 "metadata": {
  "kernelspec": {
   "display_name": "Python 3",
   "language": "python",
   "name": "python3"
  },
  "language_info": {
   "codemirror_mode": {
    "name": "ipython",
    "version": 3
   },
   "file_extension": ".py",
   "mimetype": "text/x-python",
   "name": "python",
   "nbconvert_exporter": "python",
   "pygments_lexer": "ipython3",
   "version": "3.7.4"
  }
 },
 "nbformat": 4,
 "nbformat_minor": 2
}
