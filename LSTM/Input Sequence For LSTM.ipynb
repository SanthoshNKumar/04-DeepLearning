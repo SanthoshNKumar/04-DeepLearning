{
 "cells": [
  {
   "cell_type": "code",
   "execution_count": null,
   "metadata": {},
   "outputs": [],
   "source": [
    "# One-to-One (Multiple Features)\n",
    "\n",
    "X = [1, 2, 3, 4, 5, 6, 7, 8, 9, 10, 11, 12, 13, 14, 15, 16, 17, 18, 19, 20]\n",
    "\n",
    "X = array(X).reshape(20, 1, 1)\n",
    "\n",
    "model.add(LSTM(50, activation='relu', input_shape=(1, 1)))  # input_shape=(1 time_step,2 features)"
   ]
  },
  {
   "cell_type": "code",
   "execution_count": null,
   "metadata": {},
   "outputs": [],
   "source": [
    "# One-to-One (Multiple Features)\n",
    "\n",
    "X1 = [2, 4, 6, 8, 10, 12, 14, 16, 18, 20, 22, 24, 26, 28, 30, 32, 34, 36, 38, 40, 42, 44, 46, 48, 50]\n",
    "X2 = [3, 6, 9, 12, 15, 18, 21, 24, 27, 30, 33, 36, 39, 42, 45, 48, 51, 54, 57, 60, 63, 66, 69, 72, 75]\n",
    "\n",
    "X = np.column_stack((X1, X2))\n",
    "\n",
    "X = array(X).reshape(25, 1, 2) # convert the input into 3-dimensional shape\n",
    "\n",
    "model.add(LSTM(80, activation='relu', input_shape=(1, 2))) # input_shape=(1 time_step,2 features)"
   ]
  },
  {
   "cell_type": "code",
   "execution_count": null,
   "metadata": {},
   "outputs": [],
   "source": [
    "# Many-to-One Sequence (Single Feature)\n",
    "\n",
    "X = [1,2,3,4,5,6,7,8,9,10,11,12,13,14,15,16,17,18,19,20,21,22,23,24,25,26,27,28,29,30,31,32,33,34,35,\n",
    "     36,37,38,39,40,41,42,43,44,45]\n",
    "\n",
    "y = [6,15,24,33,42,51,60,69,78,87,96,105,114,123,132]\n",
    "\n",
    "X = X.reshape(15,3,1)\n",
    "\n",
    "model.add(LSTM(50, activation='relu', input_shape=(3, 1))) # input_shape=(3 time_step,1 features)"
   ]
  },
  {
   "cell_type": "code",
   "execution_count": null,
   "metadata": {},
   "outputs": [],
   "source": [
    "# Many-to-One Sequence (Multiple Feature)\n",
    "\n",
    "X1  = [3,6,9,12,15,18,21,24,27,30,33,36,39,42,45,48,51,54,57,60,63,66,69,72,75,78,81,84,87,90,93,\n",
    "       96,99,102,105,108,111,114,117,120,123,126,129,132,135]\n",
    "\n",
    "X2  = [5,10,15,20,25,30,35,40,45,50,55,60,65,70,75,80,85,90,95,100,105,110,115,120,125,130,135,\n",
    "       140,145,150,155,160,165,170,175,180,185,190,195,200,205,210,215,220,225]\n",
    "\n",
    "y = [24,48,72,96,120,144,168,192,216,240,264,288,312,336,360]\n",
    "\n",
    "X = np.column_stack((X1, X2))\n",
    "\n",
    "X = array(X).reshape(15, 3, 2)\n",
    "\n",
    "model.add(LSTM(50, activation='relu', input_shape=(3, 2))) # input_shape=(3 time_step,2 features)"
   ]
  }
 ],
 "metadata": {
  "kernelspec": {
   "display_name": "Python 3",
   "language": "python",
   "name": "python3"
  },
  "language_info": {
   "codemirror_mode": {
    "name": "ipython",
    "version": 3
   },
   "file_extension": ".py",
   "mimetype": "text/x-python",
   "name": "python",
   "nbconvert_exporter": "python",
   "pygments_lexer": "ipython3",
   "version": "3.7.4"
  }
 },
 "nbformat": 4,
 "nbformat_minor": 2
}
