{
 "cells": [
  {
   "cell_type": "code",
   "execution_count": 1,
   "metadata": {},
   "outputs": [],
   "source": [
    "# In a many-to-one sequence problem we have an input where each time-steps consists of multiple features. \n",
    "# The output can be a single value or multiple values, one per feature in the input time step. \n",
    "# We will cover both the cases in this section."
   ]
  },
  {
   "cell_type": "code",
   "execution_count": 2,
   "metadata": {},
   "outputs": [],
   "source": [
    "import numpy as np\n",
    "import tensorflow as tf"
   ]
  },
  {
   "cell_type": "code",
   "execution_count": 3,
   "metadata": {},
   "outputs": [],
   "source": [
    "# Creating the Dataset\n",
    "# Our dataset will contain 15 samples. Each sample will consist of 3 time-steps. Each time-steps will have two features.\n",
    "\n",
    "# Let's create two lists. One will contain multiples of 3 until 135 i.e. 45 elements in total.\n",
    "# The second list will contain multiples of 5, from 1 to 225.\n",
    "# The second list will also contain 45 elements in total. The following script creates these two lists:"
   ]
  },
  {
   "cell_type": "code",
   "execution_count": 4,
   "metadata": {},
   "outputs": [
    {
     "name": "stdout",
     "output_type": "stream",
     "text": [
      "[  3   6   9  12  15  18  21  24  27  30  33  36  39  42  45  48  51  54\n",
      "  57  60  63  66  69  72  75  78  81  84  87  90  93  96  99 102 105 108\n",
      " 111 114 117 120 123 126 129 132 135]\n",
      "[  5  10  15  20  25  30  35  40  45  50  55  60  65  70  75  80  85  90\n",
      "  95 100 105 110 115 120 125 130 135 140 145 150 155 160 165 170 175 180\n",
      " 185 190 195 200 205 210 215 220 225]\n"
     ]
    }
   ],
   "source": [
    "X1 = np.array([x+3 for x in range(0, 135, 3)])\n",
    "print(X1)\n",
    "\n",
    "X2 = np.array([x+5 for x in range(0, 225, 5)])\n",
    "print(X2)"
   ]
  },
  {
   "cell_type": "code",
   "execution_count": 5,
   "metadata": {},
   "outputs": [
    {
     "name": "stdout",
     "output_type": "stream",
     "text": [
      "[[  3   5]\n",
      " [  6  10]\n",
      " [  9  15]\n",
      " [ 12  20]\n",
      " [ 15  25]\n",
      " [ 18  30]\n",
      " [ 21  35]\n",
      " [ 24  40]\n",
      " [ 27  45]\n",
      " [ 30  50]\n",
      " [ 33  55]\n",
      " [ 36  60]\n",
      " [ 39  65]\n",
      " [ 42  70]\n",
      " [ 45  75]\n",
      " [ 48  80]\n",
      " [ 51  85]\n",
      " [ 54  90]\n",
      " [ 57  95]\n",
      " [ 60 100]\n",
      " [ 63 105]\n",
      " [ 66 110]\n",
      " [ 69 115]\n",
      " [ 72 120]\n",
      " [ 75 125]\n",
      " [ 78 130]\n",
      " [ 81 135]\n",
      " [ 84 140]\n",
      " [ 87 145]\n",
      " [ 90 150]\n",
      " [ 93 155]\n",
      " [ 96 160]\n",
      " [ 99 165]\n",
      " [102 170]\n",
      " [105 175]\n",
      " [108 180]\n",
      " [111 185]\n",
      " [114 190]\n",
      " [117 195]\n",
      " [120 200]\n",
      " [123 205]\n",
      " [126 210]\n",
      " [129 215]\n",
      " [132 220]\n",
      " [135 225]]\n"
     ]
    }
   ],
   "source": [
    "X = np.column_stack((X1, X2))\n",
    "print(X)"
   ]
  },
  {
   "cell_type": "code",
   "execution_count": 6,
   "metadata": {},
   "outputs": [
    {
     "name": "stdout",
     "output_type": "stream",
     "text": [
      "[[[  3   5]\n",
      "  [  6  10]\n",
      "  [  9  15]]\n",
      "\n",
      " [[ 12  20]\n",
      "  [ 15  25]\n",
      "  [ 18  30]]\n",
      "\n",
      " [[ 21  35]\n",
      "  [ 24  40]\n",
      "  [ 27  45]]\n",
      "\n",
      " [[ 30  50]\n",
      "  [ 33  55]\n",
      "  [ 36  60]]\n",
      "\n",
      " [[ 39  65]\n",
      "  [ 42  70]\n",
      "  [ 45  75]]\n",
      "\n",
      " [[ 48  80]\n",
      "  [ 51  85]\n",
      "  [ 54  90]]\n",
      "\n",
      " [[ 57  95]\n",
      "  [ 60 100]\n",
      "  [ 63 105]]\n",
      "\n",
      " [[ 66 110]\n",
      "  [ 69 115]\n",
      "  [ 72 120]]\n",
      "\n",
      " [[ 75 125]\n",
      "  [ 78 130]\n",
      "  [ 81 135]]\n",
      "\n",
      " [[ 84 140]\n",
      "  [ 87 145]\n",
      "  [ 90 150]]\n",
      "\n",
      " [[ 93 155]\n",
      "  [ 96 160]\n",
      "  [ 99 165]]\n",
      "\n",
      " [[102 170]\n",
      "  [105 175]\n",
      "  [108 180]]\n",
      "\n",
      " [[111 185]\n",
      "  [114 190]\n",
      "  [117 195]]\n",
      "\n",
      " [[120 200]\n",
      "  [123 205]\n",
      "  [126 210]]\n",
      "\n",
      " [[129 215]\n",
      "  [132 220]\n",
      "  [135 225]]]\n"
     ]
    }
   ],
   "source": [
    "X = np.array(X).reshape(15, 3, 2)\n",
    "print(X)\n",
    "\n",
    "# We have 45 rows in total and two columns in our dataset. \n",
    "# We will reshape our dataset into 15 samples, 3 time-steps, and two features."
   ]
  },
  {
   "cell_type": "code",
   "execution_count": 7,
   "metadata": {},
   "outputs": [],
   "source": [
    "# The output will also have 15 values corresponding to 15 input samples. \n",
    "# Each value in the output will be the sum of the two feature values in the third time-step of each input sample\n",
    "# the third time-step of the first sample have features 9 and 15, hence the output will be 24.\n",
    "# the two feature values in the third time-step of the 2nd sample are 18 and 30\n"
   ]
  },
  {
   "cell_type": "code",
   "execution_count": 9,
   "metadata": {},
   "outputs": [],
   "source": [
    "Y = np.array([ 24,48 ,72 ,96,120,144,168,192,216,240,264,288,312,336,360])"
   ]
  },
  {
   "cell_type": "code",
   "execution_count": 10,
   "metadata": {},
   "outputs": [
    {
     "name": "stdout",
     "output_type": "stream",
     "text": [
      "WARNING:tensorflow:From c:\\users\\insakum46\\appdata\\local\\programs\\python\\python37\\lib\\site-packages\\tensorflow_core\\python\\ops\\math_grad.py:1424: where (from tensorflow.python.ops.array_ops) is deprecated and will be removed in a future version.\n",
      "Instructions for updating:\n",
      "Use tf.where in 2.0, which has the same broadcast rule as np.where\n"
     ]
    }
   ],
   "source": [
    "# Solution via Simple LSTM\n",
    "from tensorflow.keras.models import Sequential\n",
    "from tensorflow.keras.layers import LSTM\n",
    "from tensorflow.keras.layers import Dense\n",
    "\n",
    "model = Sequential()\n",
    "model.add(LSTM(50, activation='relu', input_shape=(3, 2)))\n",
    "model.add(Dense(1))\n",
    "model.compile(optimizer='adam', loss='mse')\n",
    "\n",
    "history = model.fit(X, Y, epochs=1000, validation_split=0.2, verbose=0)"
   ]
  },
  {
   "cell_type": "code",
   "execution_count": 11,
   "metadata": {},
   "outputs": [
    {
     "name": "stdout",
     "output_type": "stream",
     "text": [
      "[[73.26133]]\n"
     ]
    }
   ],
   "source": [
    "test_input = np.array([[8, 51],\n",
    "                       [11,56],\n",
    "                       [14,61]])\n",
    "\n",
    "test_input = test_input.reshape((1, 3, 2))\n",
    "\n",
    "test_output = model.predict(test_input, verbose=0)\n",
    "print(test_output)\n",
    "\n",
    "# The sum of two features of the third time-step of the input is 14 + 61 = 75. \n",
    "# Our model with one LSTM layer predicted 91.33, which is pretty close."
   ]
  },
  {
   "cell_type": "code",
   "execution_count": 12,
   "metadata": {},
   "outputs": [],
   "source": [
    "# Solution via Stacked LSTM\n",
    "model = Sequential()\n",
    "model.add(LSTM(200, activation='relu', return_sequences=True, input_shape=(3, 2)))\n",
    "model.add(LSTM(100, activation='relu', return_sequences=True))\n",
    "model.add(LSTM(50, activation='relu', return_sequences=True))\n",
    "model.add(LSTM(25, activation='relu'))\n",
    "model.add(Dense(20, activation='relu'))\n",
    "model.add(Dense(10, activation='relu'))\n",
    "model.add(Dense(1))\n",
    "model.compile(optimizer='adam', loss='mse')\n",
    "\n",
    "history = model.fit(X, Y, epochs=1000, validation_split=0.2, verbose=0)"
   ]
  },
  {
   "cell_type": "code",
   "execution_count": 13,
   "metadata": {},
   "outputs": [
    {
     "name": "stdout",
     "output_type": "stream",
     "text": [
      "[[76.81729]]\n"
     ]
    }
   ],
   "source": [
    "\n",
    "test_output = model.predict(test_input, verbose=0)\n",
    "print(test_output)\n",
    "\n",
    "# The output I received is 69.98, which is worse than the simple LSTM. Seems like our stacked LSTM is overfitting."
   ]
  },
  {
   "cell_type": "code",
   "execution_count": 14,
   "metadata": {},
   "outputs": [
    {
     "name": "stdout",
     "output_type": "stream",
     "text": [
      "WARNING:tensorflow:From c:\\users\\insakum46\\appdata\\local\\programs\\python\\python37\\lib\\site-packages\\tensorflow_core\\python\\ops\\init_ops.py:97: calling GlorotUniform.__init__ (from tensorflow.python.ops.init_ops) with dtype is deprecated and will be removed in a future version.\n",
      "Instructions for updating:\n",
      "Call initializer instance with the dtype argument instead of passing it to the constructor\n",
      "WARNING:tensorflow:From c:\\users\\insakum46\\appdata\\local\\programs\\python\\python37\\lib\\site-packages\\tensorflow_core\\python\\ops\\init_ops.py:97: calling Orthogonal.__init__ (from tensorflow.python.ops.init_ops) with dtype is deprecated and will be removed in a future version.\n",
      "Instructions for updating:\n",
      "Call initializer instance with the dtype argument instead of passing it to the constructor\n",
      "WARNING:tensorflow:From c:\\users\\insakum46\\appdata\\local\\programs\\python\\python37\\lib\\site-packages\\tensorflow_core\\python\\ops\\init_ops.py:97: calling Zeros.__init__ (from tensorflow.python.ops.init_ops) with dtype is deprecated and will be removed in a future version.\n",
      "Instructions for updating:\n",
      "Call initializer instance with the dtype argument instead of passing it to the constructor\n"
     ]
    }
   ],
   "source": [
    "# Solution via Bidirectional LSTM\n",
    "from tensorflow.keras.layers import Bidirectional\n",
    "\n",
    "model = Sequential()\n",
    "model.add(Bidirectional(LSTM(50, activation='relu'), input_shape=(3, 2)))\n",
    "model.add(Dense(1))\n",
    "model.compile(optimizer='adam', loss='mse')\n",
    "\n",
    "history = model.fit(X, Y, epochs=1000, validation_split=0.2, verbose=0)"
   ]
  },
  {
   "cell_type": "code",
   "execution_count": 15,
   "metadata": {},
   "outputs": [
    {
     "name": "stdout",
     "output_type": "stream",
     "text": [
      "[[54.61706]]\n"
     ]
    }
   ],
   "source": [
    "test_output = model.predict(test_input, verbose=0)\n",
    "print(test_output)"
   ]
  }
 ],
 "metadata": {
  "kernelspec": {
   "display_name": "Python 3",
   "language": "python",
   "name": "python3"
  },
  "language_info": {
   "codemirror_mode": {
    "name": "ipython",
    "version": 3
   },
   "file_extension": ".py",
   "mimetype": "text/x-python",
   "name": "python",
   "nbconvert_exporter": "python",
   "pygments_lexer": "ipython3",
   "version": "3.7.4"
  }
 },
 "nbformat": 4,
 "nbformat_minor": 2
}
