{
 "cells": [
  {
   "cell_type": "code",
   "execution_count": null,
   "metadata": {},
   "outputs": [],
   "source": [
    "'''\n",
    "Gradient Scaling\n",
    "    - Gradient scaling involves normalizing the error gradient vector such that vector norm (magnitude) \n",
    "      equals a defined value, such as 1.0.\n",
    "    - Example : we could specify a norm of 1.0, meaning that if the vector norm for a gradient exceeds 1.0\n",
    "                then the values in the vector will be rescaled so that the norm of the vector equals 1.0\n",
    "    - Parameter : clipnorm=1.0\n",
    "'''\n",
    "\n",
    "'''\n",
    "Gradient clipping\n",
    "    - Gradient clipping involves forcing the gradient values (element-wise) to a specific minimum or maximum \n",
    "      value if the gradient exceeded an expected range\n",
    "      \n",
    "    - Example : we could specify a norm of 0.5.meaning that if a gradient value was less than -0.5, \n",
    "                it is set to -0.5 and if it is more than 0.5, then it will be set to 0.5.\n",
    "    - Parameter : clipvalue=0.5\n",
    "'''\n",
    "\n",
    "'''\n",
    "Clip by Norm : If the l2 norm of the gradient tensor is more than a speciic value,\n",
    "we normalize the the gradient tensor with below the equation:\n",
    "\n",
    "gradient = (gradient * clipnorm) / ||gradient||          (L2 Vector Norm)\n",
    "\n",
    "Clip by value : if the value at any index in the gradient tensor is greater than a specific value or less than the negative \n",
    "of the same value, we normalize the the gradient tensor with below the equation\n",
    "\n",
    "gradient = clip(gradient, -clipvalue, clipvalue)\n",
    "\n",
    "'''"
   ]
  },
  {
   "cell_type": "code",
   "execution_count": null,
   "metadata": {},
   "outputs": [],
   "source": [
    "'''\n",
    "How to find Have Exploding Gradients?\n",
    "    - The model is unable to get traction on your training data (e.g. poor loss).\n",
    "    - The model is unstable, resulting in large changes in loss from update to update.\n",
    "    - The model loss goes to NaN during training.\n",
    "    \n",
    "'''"
   ]
  },
  {
   "cell_type": "code",
   "execution_count": 18,
   "metadata": {},
   "outputs": [],
   "source": [
    "# mlp with unscaled data for the regression problem\n",
    "from sklearn.datasets import make_regression\n",
    "from keras.layers import Dense\n",
    "from keras.models import Sequential\n",
    "from keras.optimizers import SGD\n",
    "from matplotlib import pyplot\n",
    "\n",
    "# generate regression dataset\n",
    "X, y = make_regression(n_samples=1000, n_features=20, noise=0.1, random_state=1)\n",
    "# split into train and test\n",
    "n_train = 500\n",
    "trainX, testX = X[:n_train, :], X[n_train:, :]\n",
    "trainy, testy = y[:n_train], y[n_train:]\n",
    "\n",
    "# define model\n",
    "model = Sequential()\n",
    "model.add(Dense(25, input_dim=20, activation='relu', kernel_initializer='he_uniform'))\n",
    "model.add(Dense(1, activation='linear'))\n"
   ]
  },
  {
   "cell_type": "code",
   "execution_count": 19,
   "metadata": {},
   "outputs": [
    {
     "data": {
      "text/plain": [
       "array([ 0.39217752,  0.30523056,  0.18376356, -0.3822906 ,  0.384376  ,\n",
       "       -0.14543983,  0.06046438,  0.4527706 , -0.13544285, -0.03536642,\n",
       "       -0.30004168,  0.15666527,  0.46810246,  0.14033633, -0.3811873 ,\n",
       "       -0.2786217 , -0.3643281 ,  0.18663383, -0.39621645,  0.06340688,\n",
       "       -0.11934251, -0.20165947, -0.15366933,  0.4846282 , -0.5345963 ],\n",
       "      dtype=float32)"
      ]
     },
     "execution_count": 19,
     "metadata": {},
     "output_type": "execute_result"
    }
   ],
   "source": [
    "model.get_weights()[0][0] # weights are generated"
   ]
  },
  {
   "cell_type": "code",
   "execution_count": 20,
   "metadata": {},
   "outputs": [
    {
     "name": "stdout",
     "output_type": "stream",
     "text": [
      "Train: nan, Test: nan\n"
     ]
    },
    {
     "data": {
      "image/png": "[encoded data removed]",
      "text/plain": [
       "<Figure size 432x288 with 1 Axes>"
      ]
     },
     "metadata": {
      "needs_background": "light"
     },
     "output_type": "display_data"
    }
   ],
   "source": [
    "# compile model\n",
    "model.compile(loss='mean_squared_error', optimizer=SGD(lr=0.01, momentum=0.9))\n",
    "\n",
    "# fit model\n",
    "history = model.fit(trainX, trainy, validation_data=(testX, testy), epochs=100, verbose=0)\n",
    "\n",
    "# evaluate the model\n",
    "train_mse = model.evaluate(trainX, trainy, verbose=0)\n",
    "test_mse = model.evaluate(testX, testy, verbose=0)\n",
    "\n",
    "print('Train: %.3f, Test: %.3f' % (train_mse, test_mse))\n",
    "# plot loss during training\n",
    "pyplot.title('Mean Squared Error')\n",
    "pyplot.plot(history.history['loss'], label='train')\n",
    "pyplot.plot(history.history['val_loss'], label='test')\n",
    "pyplot.legend()\n",
    "pyplot.show()"
   ]
  },
  {
   "cell_type": "code",
   "execution_count": 21,
   "metadata": {},
   "outputs": [
    {
     "data": {
      "text/plain": [
       "array([nan, nan, nan, nan, nan, nan, nan, nan, nan, nan, nan, nan, nan,\n",
       "       nan, nan, nan, nan, nan, nan, nan, nan, nan, nan, nan, nan],\n",
       "      dtype=float32)"
      ]
     },
     "execution_count": 21,
     "metadata": {},
     "output_type": "execute_result"
    }
   ],
   "source": [
    "model.get_weights()[0][0] # weights are generated"
   ]
  },
  {
   "cell_type": "code",
   "execution_count": null,
   "metadata": {},
   "outputs": [],
   "source": [
    "'''\n",
    "Understanding the issue :\n",
    "    - Because of exploding gradient descent You could see the weighta values represented as nan\n",
    "    - In this case, the model is unable to learn the problem, resulting in predictions of NaN values\n",
    "    - The model weights exploded during training given the very large errors and in turn error gradients \n",
    "      calculated for weight updates.\n",
    "    - A traditional solution would be to rescale the target variable using either standardization or normalization, \n",
    "      and this approach is recommended for MLPs.\n",
    "    - An alternative that we will investigate in this case will be the use of gradient clipping\n",
    "''' "
   ]
  },
  {
   "cell_type": "code",
   "execution_count": 23,
   "metadata": {},
   "outputs": [
    {
     "name": "stdout",
     "output_type": "stream",
     "text": [
      "Train: 7.102, Test: 36.021\n"
     ]
    },
    {
     "data": {
      "image/png": "[encoded data removed]",
      "text/plain": [
       "<Figure size 432x288 with 1 Axes>"
      ]
     },
     "metadata": {
      "needs_background": "light"
     },
     "output_type": "display_data"
    }
   ],
   "source": [
    "# compile model\n",
    "model = Sequential()\n",
    "model.add(Dense(25, input_dim=20, activation='relu', kernel_initializer='he_uniform'))\n",
    "model.add(Dense(1, activation='linear'))\n",
    "\n",
    "# compile model  : With Graidient Norm Scaling\n",
    "opt = SGD(lr=0.01, momentum=0.9, clipnorm=1.0)\n",
    "model.compile(loss='mean_squared_error', optimizer=opt)\n",
    "\n",
    "# fit model\n",
    "history = model.fit(trainX, trainy, validation_data=(testX, testy), epochs=100, verbose=0)\n",
    "# evaluate the model\n",
    "train_mse = model.evaluate(trainX, trainy, verbose=0)\n",
    "test_mse = model.evaluate(testX, testy, verbose=0)\n",
    "print('Train: %.3f, Test: %.3f' % (train_mse, test_mse))\n",
    "# plot loss during training\n",
    "pyplot.title('Mean Squared Error')\n",
    "pyplot.plot(history.history['loss'], label='train')\n",
    "pyplot.plot(history.history['val_loss'], label='test')\n",
    "pyplot.legend()\n",
    "pyplot.show()"
   ]
  },
  {
   "cell_type": "code",
   "execution_count": 24,
   "metadata": {},
   "outputs": [
    {
     "data": {
      "text/plain": [
       "array([ 1.1907189 ,  3.1404262 ,  1.2932719 , -1.290873  , -1.7524271 ,\n",
       "        1.9272594 ,  1.3164591 , -0.89580655,  0.10410634, -1.0345112 ,\n",
       "       -4.247067  ,  0.90907556,  1.365432  ,  0.98138845,  0.06210076,\n",
       "        0.8381824 , -2.5176797 ,  0.04678609,  0.1855214 ,  1.2159152 ,\n",
       "        0.26852077,  1.4789218 ,  2.8440793 ,  0.03849617,  0.9160048 ],\n",
       "      dtype=float32)"
      ]
     },
     "execution_count": 24,
     "metadata": {},
     "output_type": "execute_result"
    }
   ],
   "source": [
    "model.get_weights()[0][0]"
   ]
  },
  {
   "cell_type": "code",
   "execution_count": 25,
   "metadata": {},
   "outputs": [
    {
     "name": "stdout",
     "output_type": "stream",
     "text": [
      "Train: 64.288, Test: 67.713\n"
     ]
    },
    {
     "data": {
      "image/png": "[encoded data removed]",
      "text/plain": [
       "<Figure size 432x288 with 1 Axes>"
      ]
     },
     "metadata": {
      "needs_background": "light"
     },
     "output_type": "display_data"
    }
   ],
   "source": [
    "# compile model\n",
    "model = Sequential()\n",
    "model.add(Dense(25, input_dim=20, activation='relu', kernel_initializer='he_uniform'))\n",
    "model.add(Dense(1, activation='linear'))\n",
    "\n",
    "# compile model  : With Graidient Value Clipping\n",
    "opt = SGD(lr=0.01, momentum=0.9, clipvalue=5)\n",
    "model.compile(loss='mean_squared_error', optimizer=opt)\n",
    "\n",
    "# fit model\n",
    "history = model.fit(trainX, trainy, validation_data=(testX, testy), epochs=100, verbose=0)\n",
    "# evaluate the model\n",
    "train_mse = model.evaluate(trainX, trainy, verbose=0)\n",
    "test_mse = model.evaluate(testX, testy, verbose=0)\n",
    "print('Train: %.3f, Test: %.3f' % (train_mse, test_mse))\n",
    "# plot loss during training\n",
    "pyplot.title('Mean Squared Error')\n",
    "pyplot.plot(history.history['loss'], label='train')\n",
    "pyplot.plot(history.history['val_loss'], label='test')\n",
    "pyplot.legend()\n",
    "pyplot.show()"
   ]
  },
  {
   "cell_type": "code",
   "execution_count": 26,
   "metadata": {},
   "outputs": [
    {
     "data": {
      "text/plain": [
       "array([-5.7856601e-01, -2.0004204e+01, -7.5515884e-01,  2.4738031e+01,\n",
       "       -5.8262014e-01,  1.7847790e+00, -6.6428369e-01,  2.6810962e-01,\n",
       "        1.5759970e+00,  4.3688947e-01, -1.4619683e+00,  2.3541918e+00,\n",
       "       -3.9918790e+00,  1.1516600e+01, -1.7941495e+00, -3.0955476e-01,\n",
       "        1.4295799e+01, -2.8961655e-01, -2.0255311e+00, -4.4966051e-03,\n",
       "        5.5334264e-01,  4.9965152e-01, -1.2950209e+00,  4.2734823e-01,\n",
       "       -1.7228868e+00], dtype=float32)"
      ]
     },
     "execution_count": 26,
     "metadata": {},
     "output_type": "execute_result"
    }
   ],
   "source": [
    "model.get_weights()[0][0]"
   ]
  }
 ],
 "metadata": {
  "kernelspec": {
   "display_name": "Python 3",
   "language": "python",
   "name": "python3"
  },
  "language_info": {
   "codemirror_mode": {
    "name": "ipython",
    "version": 3
   },
   "file_extension": ".py",
   "mimetype": "text/x-python",
   "name": "python",
   "nbconvert_exporter": "python",
   "pygments_lexer": "ipython3",
   "version": "3.7.4"
  }
 },
 "nbformat": 4,
 "nbformat_minor": 2
}
