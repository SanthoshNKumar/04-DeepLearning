{
 "cells": [
  {
   "cell_type": "code",
   "execution_count": null,
   "metadata": {},
   "outputs": [],
   "source": [
    "'''\n",
    "Merge Layer\n",
    "\n",
    "    - Add\n",
    "    - Subtract\n",
    "    - Multiply\n",
    "    - Average\n",
    "    - Maximum\n",
    "    - Minimum\n",
    "    - Concatenate\n",
    "    - dot\n",
    "    \n",
    "'''"
   ]
  },
  {
   "cell_type": "code",
   "execution_count": null,
   "metadata": {},
   "outputs": [],
   "source": [
    "import tensorflow as tf\n",
    "tf.enable_eager_execution()"
   ]
  },
  {
   "cell_type": "code",
   "execution_count": 19,
   "metadata": {},
   "outputs": [
    {
     "name": "stderr",
     "output_type": "stream",
     "text": [
      "Using TensorFlow backend.\n"
     ]
    },
    {
     "name": "stdout",
     "output_type": "stream",
     "text": [
      "Model: \"model_1\"\n",
      "__________________________________________________________________________________________________\n",
      "Layer (type)                    Output Shape         Param #     Connected to                     \n",
      "==================================================================================================\n",
      "input_19 (InputLayer)           (None, 16)           0                                            \n",
      "__________________________________________________________________________________________________\n",
      "input_20 (InputLayer)           (None, 32)           0                                            \n",
      "__________________________________________________________________________________________________\n",
      "dense_1 (Dense)                 (None, 8)            136         input_19[0][0]                   \n",
      "__________________________________________________________________________________________________\n",
      "dense_2 (Dense)                 (None, 8)            264         input_20[0][0]                   \n",
      "__________________________________________________________________________________________________\n",
      "add_1 (Add)                     (None, 8)            0           dense_1[0][0]                    \n",
      "                                                                 dense_2[0][0]                    \n",
      "__________________________________________________________________________________________________\n",
      "dense_3 (Dense)                 (None, 4)            36          add_1[0][0]                      \n",
      "==================================================================================================\n",
      "Total params: 436\n",
      "Trainable params: 436\n",
      "Non-trainable params: 0\n",
      "__________________________________________________________________________________________________\n"
     ]
    }
   ],
   "source": [
    "'''\n",
    "'Add'\n",
    "\n",
    " This layer adds a list of inputs by taking a similar shape of the tensors list as an input and returns a single tensor \n",
    " of the same shape\n",
    "\n",
    "'''\n",
    "\n",
    "import keras  \n",
    "  \n",
    "input1 = keras.layers.Input(shape=(16,))  \n",
    "x1 = keras.layers.Dense(8, activation='relu')(input1)  \n",
    "\n",
    "input2 = keras.layers.Input(shape=(32,))  \n",
    "x2 = keras.layers.Dense(8, activation='relu')(input2)  \n",
    "\n",
    "#Equivalent to added = keras.layers.add([x1, x2])  \n",
    "added = keras.layers.Add()([x1, x2])  \n",
    "  \n",
    "out = keras.layers.Dense(4)(added)  \n",
    "model = keras.models.Model(inputs=[input1, input2], outputs=out)  \n",
    "\n",
    "model.summary()\n"
   ]
  },
  {
   "cell_type": "code",
   "execution_count": 20,
   "metadata": {},
   "outputs": [
    {
     "name": "stdout",
     "output_type": "stream",
     "text": [
      "Model: \"model_2\"\n",
      "__________________________________________________________________________________________________\n",
      "Layer (type)                    Output Shape         Param #     Connected to                     \n",
      "==================================================================================================\n",
      "input_21 (InputLayer)           (None, 16)           0                                            \n",
      "__________________________________________________________________________________________________\n",
      "input_22 (InputLayer)           (None, 32)           0                                            \n",
      "__________________________________________________________________________________________________\n",
      "dense_4 (Dense)                 (None, 8)            136         input_21[0][0]                   \n",
      "__________________________________________________________________________________________________\n",
      "dense_5 (Dense)                 (None, 8)            264         input_22[0][0]                   \n",
      "__________________________________________________________________________________________________\n",
      "subtract_1 (Subtract)           (None, 8)            0           dense_4[0][0]                    \n",
      "                                                                 dense_5[0][0]                    \n",
      "__________________________________________________________________________________________________\n",
      "dense_6 (Dense)                 (None, 4)            36          subtract_1[0][0]                 \n",
      "==================================================================================================\n",
      "Total params: 436\n",
      "Trainable params: 436\n",
      "Non-trainable params: 0\n",
      "__________________________________________________________________________________________________\n"
     ]
    }
   ],
   "source": [
    "'''\n",
    "Subtract \n",
    "\n",
    "This layer is used for subtracting two inputs by taking tensors list of size 2 as an input while mandating their\n",
    "\n",
    "shape to be similar and outputs a single tensor (inputs[0] - inputs[1]), that too of same shape\n",
    "\n",
    "'''\n",
    "\n",
    "\n",
    "input1 = keras.layers.Input(shape=(16,))  \n",
    "x1 = keras.layers.Dense(8, activation='relu')(input1)  \n",
    "\n",
    "input2 = keras.layers.Input(shape=(32,))  \n",
    "x2 = keras.layers.Dense(8, activation='relu')(input2)  \n",
    "\n",
    "# Equivalent to subtracted = keras.layers.subtract([x1, x2])  \n",
    "subtracted = keras.layers.Subtract()([x1, x2])  \n",
    "  \n",
    "out = keras.layers.Dense(4)(subtracted)  \n",
    "model = keras.models.Model(inputs=[input1, input2], outputs=out)  \n",
    "\n",
    "model.summary()"
   ]
  },
  {
   "cell_type": "code",
   "execution_count": 22,
   "metadata": {},
   "outputs": [
    {
     "name": "stdout",
     "output_type": "stream",
     "text": [
      "Model: \"model_4\"\n",
      "__________________________________________________________________________________________________\n",
      "Layer (type)                    Output Shape         Param #     Connected to                     \n",
      "==================================================================================================\n",
      "input_25 (InputLayer)           (None, 16)           0                                            \n",
      "__________________________________________________________________________________________________\n",
      "input_26 (InputLayer)           (None, 32)           0                                            \n",
      "__________________________________________________________________________________________________\n",
      "dense_10 (Dense)                (None, 8)            136         input_25[0][0]                   \n",
      "__________________________________________________________________________________________________\n",
      "dense_11 (Dense)                (None, 8)            264         input_26[0][0]                   \n",
      "__________________________________________________________________________________________________\n",
      "multiply_2 (Multiply)           (None, 8)            0           dense_10[0][0]                   \n",
      "                                                                 dense_11[0][0]                   \n",
      "__________________________________________________________________________________________________\n",
      "dense_12 (Dense)                (None, 4)            36          multiply_2[0][0]                 \n",
      "==================================================================================================\n",
      "Total params: 436\n",
      "Trainable params: 436\n",
      "Non-trainable params: 0\n",
      "__________________________________________________________________________________________________\n"
     ]
    }
   ],
   "source": [
    "'''\n",
    "Multiply :\n",
    "\n",
    "It is the layer that performs element-wise multiplication operation on a list of inputs by taking the similar shape \n",
    "of the tensors list as an input and returns an individual tensor of the same shape\n",
    "\n",
    "'''\n",
    "\n",
    "input1 = keras.layers.Input(shape=(16,))  \n",
    "x1 = keras.layers.Dense(8, activation='relu')(input1)  \n",
    "\n",
    "input2 = keras.layers.Input(shape=(32,))  \n",
    "x2 = keras.layers.Dense(8, activation='relu')(input2)  \n",
    "\n",
    "# Equivalent to multiply = keras.layers.Multiply([x1, x2])  \n",
    "multiply = keras.layers.Multiply()([x1, x2])  \n",
    "  \n",
    "out = keras.layers.Dense(4)(multiply)  \n",
    "model = keras.models.Model(inputs=[input1, input2], outputs=out)  \n",
    "\n",
    "model.summary()"
   ]
  },
  {
   "cell_type": "code",
   "execution_count": 24,
   "metadata": {},
   "outputs": [
    {
     "name": "stdout",
     "output_type": "stream",
     "text": [
      "Model: \"model_6\"\n",
      "__________________________________________________________________________________________________\n",
      "Layer (type)                    Output Shape         Param #     Connected to                     \n",
      "==================================================================================================\n",
      "input_29 (InputLayer)           (None, 16)           0                                            \n",
      "__________________________________________________________________________________________________\n",
      "input_30 (InputLayer)           (None, 32)           0                                            \n",
      "__________________________________________________________________________________________________\n",
      "dense_16 (Dense)                (None, 8)            136         input_29[0][0]                   \n",
      "__________________________________________________________________________________________________\n",
      "dense_17 (Dense)                (None, 8)            264         input_30[0][0]                   \n",
      "__________________________________________________________________________________________________\n",
      "average_2 (Average)             (None, 8)            0           dense_16[0][0]                   \n",
      "                                                                 dense_17[0][0]                   \n",
      "__________________________________________________________________________________________________\n",
      "dense_18 (Dense)                (None, 4)            36          average_2[0][0]                  \n",
      "==================================================================================================\n",
      "Total params: 436\n",
      "Trainable params: 436\n",
      "Non-trainable params: 0\n",
      "__________________________________________________________________________________________________\n"
     ]
    }
   ],
   "source": [
    "'''\n",
    "Average :\n",
    "\n",
    "This layer computes the average of a list of inputs by taking the similar shape of the tensors list and returns \n",
    "\n",
    "the same shape of the single tensor\n",
    "\n",
    "'''\n",
    "\n",
    "\n",
    "input1 = keras.layers.Input(shape=(16,))  \n",
    "x1 = keras.layers.Dense(8, activation='relu')(input1)  \n",
    "\n",
    "input2 = keras.layers.Input(shape=(32,))  \n",
    "x2 = keras.layers.Dense(8, activation='relu')(input2)  \n",
    "\n",
    "# Equivalent to average  keras.layers.Average([x1, x2])  \n",
    "average = keras.layers.Average()([x1, x2])  \n",
    "  \n",
    "out = keras.layers.Dense(4)(average)  \n",
    "model = keras.models.Model(inputs=[input1, input2], outputs=out)  \n",
    "\n",
    "model.summary()"
   ]
  },
  {
   "cell_type": "code",
   "execution_count": 44,
   "metadata": {},
   "outputs": [
    {
     "name": "stdout",
     "output_type": "stream",
     "text": [
      "Model: \"model_8\"\n",
      "__________________________________________________________________________________________________\n",
      "Layer (type)                    Output Shape         Param #     Connected to                     \n",
      "==================================================================================================\n",
      "input_52 (InputLayer)           (None, 16)           0                                            \n",
      "__________________________________________________________________________________________________\n",
      "input_53 (InputLayer)           (None, 32)           0                                            \n",
      "__________________________________________________________________________________________________\n",
      "dense_38 (Dense)                (None, 8)            136         input_52[0][0]                   \n",
      "__________________________________________________________________________________________________\n",
      "dense_39 (Dense)                (None, 8)            264         input_53[0][0]                   \n",
      "__________________________________________________________________________________________________\n",
      "maximum_2 (Maximum)             (None, 8)            0           dense_38[0][0]                   \n",
      "                                                                 dense_39[0][0]                   \n",
      "__________________________________________________________________________________________________\n",
      "dense_40 (Dense)                (None, 4)            36          maximum_2[0][0]                  \n",
      "==================================================================================================\n",
      "Total params: 436\n",
      "Trainable params: 436\n",
      "Non-trainable params: 0\n",
      "__________________________________________________________________________________________________\n"
     ]
    }
   ],
   "source": [
    "'''\n",
    "Maximum :\n",
    "\n",
    "'''\n",
    "\n",
    "input1 = keras.layers.Input(shape=(16,))  \n",
    "x1 = keras.layers.Dense(8, activation='relu')(input1)  \n",
    "\n",
    "input2 = keras.layers.Input(shape=(32,))  \n",
    "x2 = keras.layers.Dense(8, activation='relu')(input2)  \n",
    "\n",
    "# Equivalent to average  keras.layers.Average([x1, x2])  \n",
    "maximum = keras.layers.Maximum()([x1, x2])  \n",
    "  \n",
    "out = keras.layers.Dense(4)(maximum)  \n",
    "model = keras.models.Model(inputs=[input1, input2], outputs=out)  \n",
    "\n",
    "model.summary()\n"
   ]
  },
  {
   "cell_type": "code",
   "execution_count": 45,
   "metadata": {},
   "outputs": [
    {
     "data": {
      "text/plain": [
       "<tf.Tensor: id=2020, shape=(5, 1), dtype=int32, numpy=\n",
       "array([[5],\n",
       "       [6],\n",
       "       [7],\n",
       "       [8],\n",
       "       [9]])>"
      ]
     },
     "execution_count": 45,
     "metadata": {},
     "output_type": "execute_result"
    }
   ],
   "source": [
    "'''\n",
    "Minimum : Layer that computes the maximum (element-wise) a list of inputs.\n",
    "\n",
    "'''\n",
    "\n",
    "tf.keras.layers.Maximum()([np.arange(5).reshape(5, 1),np.arange(5, 10).reshape(5, 1)])"
   ]
  },
  {
   "cell_type": "code",
   "execution_count": 46,
   "metadata": {},
   "outputs": [
    {
     "name": "stdout",
     "output_type": "stream",
     "text": [
      "Model: \"model_9\"\n",
      "__________________________________________________________________________________________________\n",
      "Layer (type)                    Output Shape         Param #     Connected to                     \n",
      "==================================================================================================\n",
      "input_54 (InputLayer)           (None, 16)           0                                            \n",
      "__________________________________________________________________________________________________\n",
      "input_55 (InputLayer)           (None, 32)           0                                            \n",
      "__________________________________________________________________________________________________\n",
      "dense_41 (Dense)                (None, 8)            136         input_54[0][0]                   \n",
      "__________________________________________________________________________________________________\n",
      "dense_42 (Dense)                (None, 8)            264         input_55[0][0]                   \n",
      "__________________________________________________________________________________________________\n",
      "minimum_1 (Minimum)             (None, 8)            0           dense_41[0][0]                   \n",
      "                                                                 dense_42[0][0]                   \n",
      "__________________________________________________________________________________________________\n",
      "dense_43 (Dense)                (None, 4)            36          minimum_1[0][0]                  \n",
      "==================================================================================================\n",
      "Total params: 436\n",
      "Trainable params: 436\n",
      "Non-trainable params: 0\n",
      "__________________________________________________________________________________________________\n"
     ]
    }
   ],
   "source": [
    "'''\n",
    "Maximum :\n",
    "\n",
    "'''\n",
    "\n",
    "input1 = keras.layers.Input(shape=(16,))  \n",
    "x1 = keras.layers.Dense(8, activation='relu')(input1)  \n",
    "\n",
    "input2 = keras.layers.Input(shape=(32,))  \n",
    "x2 = keras.layers.Dense(8, activation='relu')(input2)  \n",
    "\n",
    "# Equivalent to average  keras.layers.Average([x1, x2])  \n",
    "minimum = keras.layers.Minimum()([x1, x2])  \n",
    "  \n",
    "out = keras.layers.Dense(4)(minimum)  \n",
    "model = keras.models.Model(inputs=[input1, input2], outputs=out)  \n",
    "\n",
    "model.summary()\n"
   ]
  },
  {
   "cell_type": "code",
   "execution_count": 16,
   "metadata": {},
   "outputs": [
    {
     "name": "stdout",
     "output_type": "stream",
     "text": [
      "Model: \"model_3\"\n",
      "__________________________________________________________________________________________________\n",
      "Layer (type)                    Output Shape         Param #     Connected to                     \n",
      "==================================================================================================\n",
      "input_13 (InputLayer)           [(None, 10, 32)]     0                                            \n",
      "__________________________________________________________________________________________________\n",
      "input_14 (InputLayer)           [(None, 10, 32)]     0                                            \n",
      "__________________________________________________________________________________________________\n",
      "concatenate_4 (Concatenate)     (None, 10, 32)       0           input_13[0][0]                   \n",
      "                                                                 input_14[0][0]                   \n",
      "__________________________________________________________________________________________________\n",
      "dense_5 (Dense)                 (None, 10, 30)       990         concatenate_4[0][0]              \n",
      "==================================================================================================\n",
      "Total params: 990\n",
      "Trainable params: 990\n",
      "Non-trainable params: 0\n",
      "__________________________________________________________________________________________________\n"
     ]
    }
   ],
   "source": [
    "'''\n",
    "concatenate\n",
    "\n",
    "'''\n",
    "\n",
    "from tensorflow.keras.models import Model\n",
    "from tensorflow.keras.layers import Input\n",
    "from tensorflow.keras.layers import ,Dense,concatenate\n",
    "\n",
    "# Merge data must same row column\n",
    "\n",
    "from tensorflow.keras.layers import concatenate\n",
    "\n",
    "inp1 = Input(shape=(10,32))\n",
    "inp2 = Input(shape=(10,32))\n",
    "\n",
    "cc1 = concatenate([inp1, inp2],axis=0) \n",
    "\n",
    "output = Dense(30, activation='relu')(cc1)\n",
    "\n",
    "model = Model(inputs=[inp1, inp2], outputs=output)\n",
    "model.summary()"
   ]
  },
  {
   "cell_type": "code",
   "execution_count": 17,
   "metadata": {},
   "outputs": [
    {
     "name": "stdout",
     "output_type": "stream",
     "text": [
      "Model: \"model_4\"\n",
      "__________________________________________________________________________________________________\n",
      "Layer (type)                    Output Shape         Param #     Connected to                     \n",
      "==================================================================================================\n",
      "input_15 (InputLayer)           [(None, 20, 10)]     0                                            \n",
      "__________________________________________________________________________________________________\n",
      "input_16 (InputLayer)           [(None, 32, 10)]     0                                            \n",
      "__________________________________________________________________________________________________\n",
      "concatenate_5 (Concatenate)     (None, 52, 10)       0           input_15[0][0]                   \n",
      "                                                                 input_16[0][0]                   \n",
      "__________________________________________________________________________________________________\n",
      "dense_6 (Dense)                 (None, 52, 30)       330         concatenate_5[0][0]              \n",
      "==================================================================================================\n",
      "Total params: 330\n",
      "Trainable params: 330\n",
      "Non-trainable params: 0\n",
      "__________________________________________________________________________________________________\n"
     ]
    }
   ],
   "source": [
    "# Merge row, same column\n",
    "\n",
    "inp1 = Input(shape=(20,10))\n",
    "inp2 = Input(shape=(32,10))\n",
    "cc1 = concatenate([inp1, inp2],axis=1) \n",
    "output = Dense(30, activation='relu')(cc1)\n",
    "model = Model(inputs=[inp1, inp2], outputs=output)\n",
    "model.summary()"
   ]
  },
  {
   "cell_type": "code",
   "execution_count": 18,
   "metadata": {},
   "outputs": [
    {
     "name": "stdout",
     "output_type": "stream",
     "text": [
      "Model: \"model_5\"\n",
      "__________________________________________________________________________________________________\n",
      "Layer (type)                    Output Shape         Param #     Connected to                     \n",
      "==================================================================================================\n",
      "input_17 (InputLayer)           [(None, 10, 10)]     0                                            \n",
      "__________________________________________________________________________________________________\n",
      "input_18 (InputLayer)           [(None, 10, 10)]     0                                            \n",
      "__________________________________________________________________________________________________\n",
      "concatenate_6 (Concatenate)     (None, 10, 10)       0           input_17[0][0]                   \n",
      "                                                                 input_18[0][0]                   \n",
      "__________________________________________________________________________________________________\n",
      "dense_7 (Dense)                 (None, 10, 30)       330         concatenate_6[0][0]              \n",
      "==================================================================================================\n",
      "Total params: 330\n",
      "Trainable params: 330\n",
      "Non-trainable params: 0\n",
      "__________________________________________________________________________________________________\n"
     ]
    }
   ],
   "source": [
    "# Merge data must same row column\n",
    "\n",
    "inp1 = Input(shape=(10,10))\n",
    "inp2 = Input(shape=(10,10))\n",
    "cc1 = concatenate([inp1, inp2],axis=0) \n",
    "output = Dense(30, activation='relu')(cc1)\n",
    "model = Model(inputs=[inp1, inp2], outputs=output)\n",
    "model.summary()"
   ]
  },
  {
   "cell_type": "code",
   "execution_count": 13,
   "metadata": {},
   "outputs": [
    {
     "data": {
      "text/plain": [
       "<tf.Tensor: id=190, shape=(2, 3, 5), dtype=int32, numpy=\n",
       "array([[[ 0,  1,  2,  3,  4],\n",
       "        [ 5,  6,  7,  8,  9],\n",
       "        [20, 21, 22, 23, 24]],\n",
       "\n",
       "       [[10, 11, 12, 13, 14],\n",
       "        [15, 16, 17, 18, 19],\n",
       "        [25, 26, 27, 28, 29]]])>"
      ]
     },
     "execution_count": 13,
     "metadata": {},
     "output_type": "execute_result"
    }
   ],
   "source": [
    "import numpy as np\n",
    "from tensorflow.keras.layers import Concatenate\n",
    "\n",
    "x = np.arange(20).reshape(2, 2, 5)\n",
    "\n",
    "y = np.arange(20, 30).reshape(2, 1, 5)\n",
    "\n",
    "tf.keras.layers.Concatenate(axis=1)([x, y])"
   ]
  },
  {
   "cell_type": "code",
   "execution_count": null,
   "metadata": {},
   "outputs": [],
   "source": [
    "x1 = tf.keras.layers.Dense(8)(np.arange(10).reshape(5, 2))\n",
    "x2 = tf.keras.layers.Dense(8)(np.arange(10, 20).reshape(5, 2))\n",
    "\n",
    "concatted = tf.keras.layers.Concatenate()([x1, x2])"
   ]
  },
  {
   "cell_type": "code",
   "execution_count": 31,
   "metadata": {},
   "outputs": [
    {
     "data": {
      "text/plain": [
       "<tf.Tensor: id=1111, shape=(1, 2, 2), dtype=int32, numpy=\n",
       "array([[[260, 360],\n",
       "        [320, 445]]])>"
      ]
     },
     "execution_count": 31,
     "metadata": {},
     "output_type": "execute_result"
    }
   ],
   "source": [
    "'''\n",
    "Dot\n",
    "    - Layer that computes a dot product between samples in two tensors.\n",
    "\n",
    "'''\n",
    "\n",
    "x = np.arange(10).reshape(1, 5, 2)\n",
    "y = np.arange(10, 20).reshape(1, 2, 5)\n",
    "\n",
    "tf.keras.layers.Dot(axes=(1, 2))([x, y])"
   ]
  },
  {
   "cell_type": "code",
   "execution_count": 43,
   "metadata": {},
   "outputs": [
    {
     "name": "stdout",
     "output_type": "stream",
     "text": [
      "Model: \"model_7\"\n",
      "__________________________________________________________________________________________________\n",
      "Layer (type)                    Output Shape         Param #     Connected to                     \n",
      "==================================================================================================\n",
      "input_51 (InputLayer)           [(None, 10)]         0                                            \n",
      "__________________________________________________________________________________________________\n",
      "dense_17 (Dense)                (None, 6)            66          input_51[0][0]                   \n",
      "__________________________________________________________________________________________________\n",
      "dense_18 (Dense)                (None, 6)            42          dense_17[0][0]                   \n",
      "__________________________________________________________________________________________________\n",
      "dense_19 (Dense)                (None, 6)            42          dense_17[0][0]                   \n",
      "__________________________________________________________________________________________________\n",
      "dot_2 (Dot)                     (None, 1)            0           dense_18[0][0]                   \n",
      "                                                                 dense_19[0][0]                   \n",
      "__________________________________________________________________________________________________\n",
      "dense_20 (Dense)                (None, 6)            12          dot_2[0][0]                      \n",
      "==================================================================================================\n",
      "Total params: 162\n",
      "Trainable params: 162\n",
      "Non-trainable params: 0\n",
      "__________________________________________________________________________________________________\n"
     ]
    }
   ],
   "source": [
    "# Define a model\n",
    "input_tensor = Input(shape=(10,))\n",
    "x1 = tf.keras.layers.Dense(6)(input_tensor)\n",
    "x2 = tf.keras.layers.Dense(6)(x1)\n",
    "x3 = tf.keras.layers.Dense(6)(x1)\n",
    "x4 = tf.keras.layers.dot([x2, x3], axes=-1, normalize=True)\n",
    "x5 = tf.keras.layers.Dense(6)(x4)\n",
    "\n",
    "model = Model(inputs=[input_tensor], outputs=[x5])\n",
    "\n",
    "model.summary()"
   ]
  }
 ],
 "metadata": {
  "kernelspec": {
   "display_name": "Python 3",
   "language": "python",
   "name": "python3"
  },
  "language_info": {
   "codemirror_mode": {
    "name": "ipython",
    "version": 3
   },
   "file_extension": ".py",
   "mimetype": "text/x-python",
   "name": "python",
   "nbconvert_exporter": "python",
   "pygments_lexer": "ipython3",
   "version": "3.7.4"
  }
 },
 "nbformat": 4,
 "nbformat_minor": 2
}
