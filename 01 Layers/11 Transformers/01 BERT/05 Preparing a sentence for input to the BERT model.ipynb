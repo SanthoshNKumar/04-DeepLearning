{
 "cells": [
  {
   "cell_type": "code",
   "execution_count": null,
   "metadata": {},
   "outputs": [],
   "source": [
    "# Prepare the input for encoding \n",
    "\n",
    "1. Tokenization: breaking down of the sentence into tokens\n",
    "2. Adding the [CLS] token at the beginning of the sentence\n",
    "3. Adding the [SEP] token at the end of the sentence\n",
    "4. Padding the sentence with [PAD] tokens so that the total length equals to the maximum length\n",
    "5. Converting each token into their corresponding IDs in the model\n"
   ]
  },
  {
   "cell_type": "code",
   "execution_count": null,
   "metadata": {},
   "outputs": [],
   "source": [
    "# Original Sentence\n",
    "Let's learn deep learning!\n",
    "\n",
    "# Tokenized Sentence\n",
    "['Let', \"'\", 's', 'learn', 'deep', 'learning', '!']\n",
    "\n",
    "# Adding [CLS] and [SEP] Tokens\n",
    "['[CLS]', 'Let', \"'\", 's', 'learn', 'deep', 'learning', '!', '[SEP]']\n",
    "\n",
    "# Padding\n",
    "['[CLS]', 'Let', \"'\", 's', 'learn', 'deep', 'learning', '!', '[SEP]', '[PAD]']\n",
    "\n",
    "# Converting to IDs\n",
    "[101, 2421, 112, 188, 3858, 1996, 3776, 106, 102, 0]"
   ]
  }
 ],
 "metadata": {
  "kernelspec": {
   "display_name": "Python 3",
   "language": "python",
   "name": "python3"
  },
  "language_info": {
   "codemirror_mode": {
    "name": "ipython",
    "version": 3
   },
   "file_extension": ".py",
   "mimetype": "text/x-python",
   "name": "python",
   "nbconvert_exporter": "python",
   "pygments_lexer": "ipython3",
   "version": "3.7.4"
  }
 },
 "nbformat": 4,
 "nbformat_minor": 2
}
