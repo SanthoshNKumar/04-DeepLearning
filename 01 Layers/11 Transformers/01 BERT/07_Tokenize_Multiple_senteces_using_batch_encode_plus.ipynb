{
  "nbformat": 4,
  "nbformat_minor": 0,
  "metadata": {
    "colab": {
      "name": "07 Tokenize Multiple senteces using batch_encode_plus.ipynb",
      "provenance": [],
      "collapsed_sections": []
    },
    "kernelspec": {
      "name": "python3",
      "display_name": "Python 3"
    },
    "language_info": {
      "name": "python"
    }
  },
  "cells": [
    {
      "cell_type": "code",
      "metadata": {
        "id": "evzBd9rDX6Qu"
      },
      "source": [
        "from transformers import BertModel, BertTokenizer\n",
        "import torch"
      ],
      "execution_count": 44,
      "outputs": []
    },
    {
      "cell_type": "code",
      "metadata": {
        "colab": {
          "base_uri": "https://localhost:8080/"
        },
        "id": "xbgzgDd3YGnB",
        "outputId": "e06bb0bd-9864-4b4d-82ac-167a0b71e5d6"
      },
      "source": [
        "# load the model\n",
        "model = BertModel.from_pretrained('bert-base-uncased')\n",
        "tokenizer = BertTokenizer.from_pretrained('bert-base-uncased')"
      ],
      "execution_count": 45,
      "outputs": [
        {
          "output_type": "stream",
          "text": [
            "Some weights of the model checkpoint at bert-base-uncased were not used when initializing BertModel: ['cls.predictions.transform.LayerNorm.bias', 'cls.seq_relationship.bias', 'cls.predictions.transform.LayerNorm.weight', 'cls.predictions.transform.dense.bias', 'cls.seq_relationship.weight', 'cls.predictions.decoder.weight', 'cls.predictions.bias', 'cls.predictions.transform.dense.weight']\n",
            "- This IS expected if you are initializing BertModel from the checkpoint of a model trained on another task or with another architecture (e.g. initializing a BertForSequenceClassification model from a BertForPreTraining model).\n",
            "- This IS NOT expected if you are initializing BertModel from the checkpoint of a model that you expect to be exactly identical (initializing a BertForSequenceClassification model from a BertForSequenceClassification model).\n"
          ],
          "name": "stderr"
        }
      ]
    },
    {
      "cell_type": "code",
      "metadata": {
        "id": "98iK8-YUrbur"
      },
      "source": [
        "texts = [\"bank\",\n",
        "         \"The river bank was flooded.\",\n",
        "         \"The bank vault was robust.\",\n",
        "         \"He had to bank on her for support.\",\n",
        "         \"The bank was out of money.\",\n",
        "         \"The bank teller was a man.\"]"
      ],
      "execution_count": 74,
      "outputs": []
    },
    {
      "cell_type": "code",
      "metadata": {
        "colab": {
          "base_uri": "https://localhost:8080/"
        },
        "id": "cLbiU_ZCsAt0",
        "outputId": "8e407f01-2e01-4657-a591-11a0adefb42f"
      },
      "source": [
        "len(texts)"
      ],
      "execution_count": 79,
      "outputs": [
        {
          "output_type": "execute_result",
          "data": {
            "text/plain": [
              "6"
            ]
          },
          "metadata": {
            "tags": []
          },
          "execution_count": 79
        }
      ]
    },
    {
      "cell_type": "code",
      "metadata": {
        "id": "I4Z8Ta8Vr2UO"
      },
      "source": [
        "encoded = tokenizer.batch_encode_plus(texts)"
      ],
      "execution_count": 78,
      "outputs": []
    },
    {
      "cell_type": "code",
      "metadata": {
        "colab": {
          "base_uri": "https://localhost:8080/"
        },
        "id": "YaS4WUktsY5E",
        "outputId": "03e87478-6dfb-4159-ed1f-21c731df1f2c"
      },
      "source": [
        "len(encoded)"
      ],
      "execution_count": 88,
      "outputs": [
        {
          "output_type": "execute_result",
          "data": {
            "text/plain": [
              "3"
            ]
          },
          "metadata": {
            "tags": []
          },
          "execution_count": 88
        }
      ]
    },
    {
      "cell_type": "code",
      "metadata": {
        "colab": {
          "base_uri": "https://localhost:8080/"
        },
        "id": "l0eYTCTHsAN8",
        "outputId": "5ed52ae7-01d3-4291-c572-69c891ff71e4"
      },
      "source": [
        "encoded['input_ids']"
      ],
      "execution_count": 82,
      "outputs": [
        {
          "output_type": "execute_result",
          "data": {
            "text/plain": [
              "[[101, 2924, 102],\n",
              " [101, 1996, 2314, 2924, 2001, 10361, 1012, 102],\n",
              " [101, 1996, 2924, 11632, 2001, 15873, 1012, 102],\n",
              " [101, 2002, 2018, 2000, 2924, 2006, 2014, 2005, 2490, 1012, 102],\n",
              " [101, 1996, 2924, 2001, 2041, 1997, 2769, 1012, 102],\n",
              " [101, 1996, 2924, 21322, 2001, 1037, 2158, 1012, 102]]"
            ]
          },
          "metadata": {
            "tags": []
          },
          "execution_count": 82
        }
      ]
    },
    {
      "cell_type": "code",
      "metadata": {
        "colab": {
          "base_uri": "https://localhost:8080/"
        },
        "id": "Y8Hx0-tQsIaU",
        "outputId": "d118e679-c5ac-4349-8156-8ce40638a019"
      },
      "source": [
        "encoded['token_type_ids']"
      ],
      "execution_count": 84,
      "outputs": [
        {
          "output_type": "execute_result",
          "data": {
            "text/plain": [
              "[[0, 0, 0],\n",
              " [0, 0, 0, 0, 0, 0, 0, 0],\n",
              " [0, 0, 0, 0, 0, 0, 0, 0],\n",
              " [0, 0, 0, 0, 0, 0, 0, 0, 0, 0, 0],\n",
              " [0, 0, 0, 0, 0, 0, 0, 0, 0],\n",
              " [0, 0, 0, 0, 0, 0, 0, 0, 0]]"
            ]
          },
          "metadata": {
            "tags": []
          },
          "execution_count": 84
        }
      ]
    },
    {
      "cell_type": "code",
      "metadata": {
        "colab": {
          "base_uri": "https://localhost:8080/"
        },
        "id": "lEdBSYJosIc0",
        "outputId": "ae4d5703-4b55-441d-da20-6b653190be76"
      },
      "source": [
        "encoded['attention_mask']"
      ],
      "execution_count": 86,
      "outputs": [
        {
          "output_type": "execute_result",
          "data": {
            "text/plain": [
              "[[1, 1, 1],\n",
              " [1, 1, 1, 1, 1, 1, 1, 1],\n",
              " [1, 1, 1, 1, 1, 1, 1, 1],\n",
              " [1, 1, 1, 1, 1, 1, 1, 1, 1, 1, 1],\n",
              " [1, 1, 1, 1, 1, 1, 1, 1, 1],\n",
              " [1, 1, 1, 1, 1, 1, 1, 1, 1]]"
            ]
          },
          "metadata": {
            "tags": []
          },
          "execution_count": 86
        }
      ]
    },
    {
      "cell_type": "code",
      "metadata": {
        "colab": {
          "base_uri": "https://localhost:8080/"
        },
        "id": "0siVvyqasIfD",
        "outputId": "b5e46451-ed28-4a7f-b54a-28e0274ef7a0"
      },
      "source": [
        "# Convert back to tokens\n",
        "[tokenizer.convert_ids_to_tokens(x) for x in encoded['input_ids']]"
      ],
      "execution_count": 94,
      "outputs": [
        {
          "output_type": "execute_result",
          "data": {
            "text/plain": [
              "[['[CLS]', 'bank', '[SEP]'],\n",
              " ['[CLS]', 'the', 'river', 'bank', 'was', 'flooded', '.', '[SEP]'],\n",
              " ['[CLS]', 'the', 'bank', 'vault', 'was', 'robust', '.', '[SEP]'],\n",
              " ['[CLS]',\n",
              "  'he',\n",
              "  'had',\n",
              "  'to',\n",
              "  'bank',\n",
              "  'on',\n",
              "  'her',\n",
              "  'for',\n",
              "  'support',\n",
              "  '.',\n",
              "  '[SEP]'],\n",
              " ['[CLS]', 'the', 'bank', 'was', 'out', 'of', 'money', '.', '[SEP]'],\n",
              " ['[CLS]', 'the', 'bank', 'teller', 'was', 'a', 'man', '.', '[SEP]']]"
            ]
          },
          "metadata": {
            "tags": []
          },
          "execution_count": 94
        }
      ]
    }
  ]
}