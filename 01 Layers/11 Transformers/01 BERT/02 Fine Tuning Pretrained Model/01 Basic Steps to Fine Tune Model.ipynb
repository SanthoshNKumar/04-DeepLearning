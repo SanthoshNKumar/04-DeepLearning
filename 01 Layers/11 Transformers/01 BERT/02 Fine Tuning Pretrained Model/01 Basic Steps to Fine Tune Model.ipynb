{
 "cells": [
  {
   "cell_type": "code",
   "execution_count": null,
   "metadata": {},
   "outputs": [],
   "source": [
    "'''\n",
    "Finetuning BERT Pretrained Model\n",
    "\n",
    "'''\n",
    "#Step 1: Deifine Training Arguments for Training\n",
    "\n",
    "   from transformers import TrainingArguments\n",
    "     \n",
    "   training_args = TrainingArguments(output_dir='./results',\n",
    "                                     num_train_epochs=epochs,                 # Epoch\n",
    "                                     per_device_train_batch_size=batch_size,  # Training Batch Size\n",
    "                                     per_device_eval_batch_size=batch_size,   # validation Batch Size\n",
    "                                     warmup_steps=warmup_steps,               # Warmup Steps\n",
    "                                     weight_decay=weight_decay,               # Weight_Decay for Lr\n",
    "                                     evaluate_during_training=True,           # Evaluate Falg\n",
    "                                     logging_dir='./logs',\n",
    "                                    )\n",
    "\n",
    "#Step 2: Define the Tranier and pass Model;training Arguments;train_dataset;eval_dataset\n",
    "\n",
    "   from transformers import Trainer\n",
    "   trainer  = Trainer(model,                       # Pre loaded Model \n",
    "                      args=training_args,          # Training Arguments\n",
    "                      train_dataset=train_set,     # Train Dataset\n",
    "                      eval_dataset=test_set)       # validation dataset\n",
    "   \n",
    "#Step 3: Start Training:\n",
    "    trainer.train()                    # Start Trainig"
   ]
  }
 ],
 "metadata": {
  "kernelspec": {
   "display_name": "Python 3",
   "language": "python",
   "name": "python3"
  },
  "language_info": {
   "codemirror_mode": {
    "name": "ipython",
    "version": 3
   },
   "file_extension": ".py",
   "mimetype": "text/x-python",
   "name": "python",
   "nbconvert_exporter": "python",
   "pygments_lexer": "ipython3",
   "version": "3.7.4"
  }
 },
 "nbformat": 4,
 "nbformat_minor": 2
}
