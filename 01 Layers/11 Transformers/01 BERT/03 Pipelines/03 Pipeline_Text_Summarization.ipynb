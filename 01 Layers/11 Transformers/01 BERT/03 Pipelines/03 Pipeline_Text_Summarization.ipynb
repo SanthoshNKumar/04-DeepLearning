{
 "cells": [
  {
   "cell_type": "code",
   "execution_count": 29,
   "metadata": {
    "id": "pZZ7XqTlPncm"
   },
   "outputs": [],
   "source": [
    "import numpy as np\n",
    "import matplotlib.pyplot as plt\n",
    "from transformers import pipeline"
   ]
  },
  {
   "cell_type": "code",
   "execution_count": 30,
   "metadata": {
    "colab": {
     "base_uri": "https://localhost:8080/",
     "height": 36
    },
    "id": "_BVUlN12_Trl",
    "outputId": "f7fb8110-5228-4f4e-853b-da8694fee7f3"
   },
   "outputs": [
    {
     "data": {
      "application/vnd.google.colaboratory.intrinsic+json": {
       "type": "string"
      },
      "text/plain": [
       "'\\nText Summarization\\n'"
      ]
     },
     "execution_count": 30,
     "metadata": {
      "tags": []
     },
     "output_type": "execute_result"
    }
   ],
   "source": [
    "'''\n",
    "Text - Summarization\n",
    "\n",
    "\n",
    "Step 1: get the Corpus or Domain Spectic data or Senetnces\n",
    "Step 2: Generate Chunks out of the data\n",
    "Step 3: Call model and pass above the chunk along with Min and max length for the summarization\n",
    "\n",
    "'''"
   ]
  },
  {
   "cell_type": "code",
   "execution_count": 62,
   "metadata": {
    "colab": {
     "base_uri": "https://localhost:8080/",
     "height": 163
    },
    "id": "Ktrt6Ju7JqbF",
    "outputId": "a3671e8f-c7f9-4a3f-87e2-6e36c444af25"
   },
   "outputs": [
    {
     "data": {
      "application/vnd.google.colaboratory.intrinsic+json": {
       "type": "string"
      },
      "text/plain": [
       "'One of the big AI research conferences has been NuerIPS each December, which has been doubling attendance every year. But Nvidia’s GPU Technology Conference (GTC) is also another conference that drawn big crowds. Because the conference has been turned virtual, as have all conferences during the pandemic, it’s now easier to gather AI researcher from all over the world in one event. And Nvidia has gathered the top names in AI for this year’s GTC. Those top names in AI research include Geoffrey Hinton an Emeritus Professor from the University of Toronto, VP and Engineering Fellow at Google, and Chief Scientific Adviser to the Vector Institute. He is known for his pioneering work on Artificial Neural Networks (ANNs). His research on the backpropagation algorithm brought about drastic improvements in the performance of deep learning models. Hinton won the 2018 Turing Award for his groundbreaking work around deep neural networks, which he shares with Yann LeCun and Yoshua Bengio – both of which are also speakers at GTC 2021. Yann LeCun is VP and Chief AI Scientist at Facebook and Silver Professor from New York University and considered the founding father of Convolutional Neural Networks (CNNs). He has won the 2014 IEEE Neural Network Pioneer Award and the 2015 PAMI Distinguished Researcher Award, as well as the aforementioned Turing Award. Yoshua Bengio is a Full Professor, and the Founder and Scientific Director at the University of Montreal and the Mila - Quebec Artificial Intelligence Institute. He received the prestigious award of Canada Research Chair in Statistical Learning Algorithms. Yoshua is known for his work on artificial neural networks and deep learning in the 1980s and 1990s. He co-created the prestigious International Conference on Learning Representations (ICLR) conference with Yann LeCun. These are three of the top AI researchers, but there are 23 other world-class researchers that will also be presenting at GTC and potentially thousands more in attendance. Some of the leading companies presenting at GTC include: Adobe, Arm, Audi, Autodesk, Epic Games, Facebook, Google, IBM, Industrial Light and Magic, Morgan Stanley, Pixar, Red Hat, Siemens, St. Jude Children’s Hospital, Verizon, VMWare, Walmart. Covering a very broad range of AI applications and implementations. Nvidia was the first to invest heavily in High-Performance Computing (HPC) on GPUs, originally called GPGPU. Nvidia led using CUDA platform to facilitate HPC on GPUs. That lead to researchers using GPU to accelerate digital neural networks, which lead to breakthrough performance and modern AI. This pioneering work led to Nvidia’s GPUs becoming the main research and development platform for deep learning neural nets. With Nvidia GPUs in data centers, advanced driver assistance systems (ADAS), drones, robots, workstations, and PCs, Nvidia has the most pervasive and scalable AI platform. Since then, other GPU and accelerator and software vendors have been chasing Nvidia. Being the first and widest platform means most researchers have experience using Nvidia GPUs, making GTC a conference with broad appeal in the AI, Automotive, HPC, and gaming industries. It also has strong appeal for a wide range of researchers in academia, atmospheric, biomedical, and geological to name a few. Nvidia’s GTC really is one of the conferences I look forward to every year where I learn about new uses for AI technology. The conference will begin with a keynote by Nvidia’s CEO Jensen Huang to reveal the latest Nvidia technology and designs on April 12. And did I mention it’s free? There are also instructor-led, hands-on training and workshops as part of the conference for $249 per person, but the main conference and talks you can attend for free.\\n'"
      ]
     },
     "execution_count": 62,
     "metadata": {
      "tags": []
     },
     "output_type": "execute_result"
    }
   ],
   "source": [
    "f = open(\"/content/drive/MyDrive/dataset/text.txt\", \"r\")\n",
    "\n",
    "text = f.read()\n",
    "\n",
    "text"
   ]
  },
  {
   "cell_type": "code",
   "execution_count": 62,
   "metadata": {
    "id": "YSGiP-KmJ2fM"
   },
   "outputs": [],
   "source": []
  },
  {
   "cell_type": "code",
   "execution_count": 63,
   "metadata": {
    "id": "sufFvM_ZJqd0"
   },
   "outputs": [],
   "source": [
    "max_chunk = 500\n",
    "text = text.replace('.', '.<eos>')\n",
    "text = text.replace('?', '?<eos>')\n",
    "text = text.replace('!', '!<eos>')"
   ]
  },
  {
   "cell_type": "code",
   "execution_count": 64,
   "metadata": {
    "colab": {
     "base_uri": "https://localhost:8080/",
     "height": 163
    },
    "id": "77fwQKAjJqgP",
    "outputId": "b2e4bdc0-fa3f-4ee9-f608-d75ea8b305cf"
   },
   "outputs": [
    {
     "data": {
      "application/vnd.google.colaboratory.intrinsic+json": {
       "type": "string"
      },
      "text/plain": [
       "'One of the big AI research conferences has been NuerIPS each December, which has been doubling attendance every year.<eos> But Nvidia’s GPU Technology Conference (GTC) is also another conference that drawn big crowds.<eos> Because the conference has been turned virtual, as have all conferences during the pandemic, it’s now easier to gather AI researcher from all over the world in one event.<eos> And Nvidia has gathered the top names in AI for this year’s GTC.<eos> Those top names in AI research include Geoffrey Hinton an Emeritus Professor from the University of Toronto, VP and Engineering Fellow at Google, and Chief Scientific Adviser to the Vector Institute.<eos> He is known for his pioneering work on Artificial Neural Networks (ANNs).<eos> His research on the backpropagation algorithm brought about drastic improvements in the performance of deep learning models.<eos> Hinton won the 2018 Turing Award for his groundbreaking work around deep neural networks, which he shares with Yann LeCun and Yoshua Bengio – both of which are also speakers at GTC 2021.<eos> Yann LeCun is VP and Chief AI Scientist at Facebook and Silver Professor from New York University and considered the founding father of Convolutional Neural Networks (CNNs).<eos> He has won the 2014 IEEE Neural Network Pioneer Award and the 2015 PAMI Distinguished Researcher Award, as well as the aforementioned Turing Award.<eos> Yoshua Bengio is a Full Professor, and the Founder and Scientific Director at the University of Montreal and the Mila - Quebec Artificial Intelligence Institute.<eos> He received the prestigious award of Canada Research Chair in Statistical Learning Algorithms.<eos> Yoshua is known for his work on artificial neural networks and deep learning in the 1980s and 1990s.<eos> He co-created the prestigious International Conference on Learning Representations (ICLR) conference with Yann LeCun.<eos> These are three of the top AI researchers, but there are 23 other world-class researchers that will also be presenting at GTC and potentially thousands more in attendance.<eos> Some of the leading companies presenting at GTC include: Adobe, Arm, Audi, Autodesk, Epic Games, Facebook, Google, IBM, Industrial Light and Magic, Morgan Stanley, Pixar, Red Hat, Siemens, St.<eos> Jude Children’s Hospital, Verizon, VMWare, Walmart.<eos> Covering a very broad range of AI applications and implementations.<eos> Nvidia was the first to invest heavily in High-Performance Computing (HPC) on GPUs, originally called GPGPU.<eos> Nvidia led using CUDA platform to facilitate HPC on GPUs.<eos> That lead to researchers using GPU to accelerate digital neural networks, which lead to breakthrough performance and modern AI.<eos> This pioneering work led to Nvidia’s GPUs becoming the main research and development platform for deep learning neural nets.<eos> With Nvidia GPUs in data centers, advanced driver assistance systems (ADAS), drones, robots, workstations, and PCs, Nvidia has the most pervasive and scalable AI platform.<eos> Since then, other GPU and accelerator and software vendors have been chasing Nvidia.<eos> Being the first and widest platform means most researchers have experience using Nvidia GPUs, making GTC a conference with broad appeal in the AI, Automotive, HPC, and gaming industries.<eos> It also has strong appeal for a wide range of researchers in academia, atmospheric, biomedical, and geological to name a few.<eos> Nvidia’s GTC really is one of the conferences I look forward to every year where I learn about new uses for AI technology.<eos> The conference will begin with a keynote by Nvidia’s CEO Jensen Huang to reveal the latest Nvidia technology and designs on April 12.<eos> And did I mention it’s free?<eos> There are also instructor-led, hands-on training and workshops as part of the conference for $249 per person, but the main conference and talks you can attend for free.<eos>\\n'"
      ]
     },
     "execution_count": 64,
     "metadata": {
      "tags": []
     },
     "output_type": "execute_result"
    }
   ],
   "source": [
    "text"
   ]
  },
  {
   "cell_type": "code",
   "execution_count": 65,
   "metadata": {
    "id": "mD4Bu7onJ-8l"
   },
   "outputs": [],
   "source": [
    "sentences = text.split('<eos>')\n",
    "current_chunk = 0 \n",
    "chunks = []"
   ]
  },
  {
   "cell_type": "code",
   "execution_count": 67,
   "metadata": {
    "id": "QXujvkDKKByc"
   },
   "outputs": [],
   "source": [
    "for sentence in sentences:\n",
    "  if len(chunks) == current_chunk + 1: \n",
    "    if len(chunks[current_chunk]) + len(sentence.split(' ')) <= max_chunk:\n",
    "      chunks[current_chunk].extend(sentence.split(' '))\n",
    "    else:\n",
    "      current_chunk += 1\n",
    "      chunks.append(sentence.split(' '))\n",
    "  else:\n",
    "      chunks.append(sentence.split(' '))\n",
    "  \n",
    "for chunk_id in range(len(chunks)):\n",
    "  chunks[chunk_id] = ' '.join(chunks[chunk_id])"
   ]
  },
  {
   "cell_type": "code",
   "execution_count": 68,
   "metadata": {
    "colab": {
     "base_uri": "https://localhost:8080/"
    },
    "id": "fhRkggquKHeW",
    "outputId": "6aed6cf5-dd2c-4bcd-921b-6d5901c51136"
   },
   "outputs": [
    {
     "data": {
      "text/plain": [
       "['One of the big AI research conferences has been NuerIPS each December, which has been doubling attendance every year.  But Nvidia’s GPU Technology Conference (GTC) is also another conference that drawn big crowds.  Because the conference has been turned virtual, as have all conferences during the pandemic, it’s now easier to gather AI researcher from all over the world in one event.  And Nvidia has gathered the top names in AI for this year’s GTC.  Those top names in AI research include Geoffrey Hinton an Emeritus Professor from the University of Toronto, VP and Engineering Fellow at Google, and Chief Scientific Adviser to the Vector Institute.  He is known for his pioneering work on Artificial Neural Networks (ANNs).  His research on the backpropagation algorithm brought about drastic improvements in the performance of deep learning models.  Hinton won the 2018 Turing Award for his groundbreaking work around deep neural networks, which he shares with Yann LeCun and Yoshua Bengio – both of which are also speakers at GTC 2021.  Yann LeCun is VP and Chief AI Scientist at Facebook and Silver Professor from New York University and considered the founding father of Convolutional Neural Networks (CNNs).  He has won the 2014 IEEE Neural Network Pioneer Award and the 2015 PAMI Distinguished Researcher Award, as well as the aforementioned Turing Award.  Yoshua Bengio is a Full Professor, and the Founder and Scientific Director at the University of Montreal and the Mila - Quebec Artificial Intelligence Institute.  He received the prestigious award of Canada Research Chair in Statistical Learning Algorithms.  Yoshua is known for his work on artificial neural networks and deep learning in the 1980s and 1990s.  He co-created the prestigious International Conference on Learning Representations (ICLR) conference with Yann LeCun.  These are three of the top AI researchers, but there are 23 other world-class researchers that will also be presenting at GTC and potentially thousands more in attendance.  Some of the leading companies presenting at GTC include: Adobe, Arm, Audi, Autodesk, Epic Games, Facebook, Google, IBM, Industrial Light and Magic, Morgan Stanley, Pixar, Red Hat, Siemens, St.  Jude Children’s Hospital, Verizon, VMWare, Walmart.  Covering a very broad range of AI applications and implementations.  Nvidia was the first to invest heavily in High-Performance Computing (HPC) on GPUs, originally called GPGPU.  Nvidia led using CUDA platform to facilitate HPC on GPUs.  That lead to researchers using GPU to accelerate digital neural networks, which lead to breakthrough performance and modern AI.  This pioneering work led to Nvidia’s GPUs becoming the main research and development platform for deep learning neural nets.  With Nvidia GPUs in data centers, advanced driver assistance systems (ADAS), drones, robots, workstations, and PCs, Nvidia has the most pervasive and scalable AI platform.  Since then, other GPU and accelerator and software vendors have been chasing Nvidia.',\n",
       " ' Being the first and widest platform means most researchers have experience using Nvidia GPUs, making GTC a conference with broad appeal in the AI, Automotive, HPC, and gaming industries.  It also has strong appeal for a wide range of researchers in academia, atmospheric, biomedical, and geological to name a few.  Nvidia’s GTC really is one of the conferences I look forward to every year where I learn about new uses for AI technology.  The conference will begin with a keynote by Nvidia’s CEO Jensen Huang to reveal the latest Nvidia technology and designs on April 12.  And did I mention it’s free?  There are also instructor-led, hands-on training and workshops as part of the conference for $249 per person, but the main conference and talks you can attend for free. \\n']"
      ]
     },
     "execution_count": 68,
     "metadata": {
      "tags": []
     },
     "output_type": "execute_result"
    }
   ],
   "source": [
    "chunks"
   ]
  },
  {
   "cell_type": "code",
   "execution_count": 72,
   "metadata": {
    "id": "pOADflp8Krc2"
   },
   "outputs": [],
   "source": [
    "summarizer = pipeline(\"summarization\")"
   ]
  },
  {
   "cell_type": "code",
   "execution_count": 76,
   "metadata": {
    "id": "5Yfq2ZLiK2sm"
   },
   "outputs": [],
   "source": [
    "res = summarizer(chunks,max_length=150,min_length=50,do_sample=False)"
   ]
  },
  {
   "cell_type": "code",
   "execution_count": 78,
   "metadata": {
    "colab": {
     "base_uri": "https://localhost:8080/",
     "height": 108
    },
    "id": "I6gWWEh0LSxa",
    "outputId": "d26cb9d7-3c41-4b98-c8da-824f314537af"
   },
   "outputs": [
    {
     "data": {
      "application/vnd.google.colaboratory.intrinsic+json": {
       "type": "string"
      },
      "text/plain": [
       "\" Nvidia has gathered the top names in AI for this year’s GTC . The conference has been turned virtual, as have all conferences during the pandemic . This year's speakers include Geoffrey Hinton, Yann LeCun and Yoshua Bengio . The top AI researchers will be presenting at GTC 2021 .  Nvidia's GTC is one of the conferences I look forward to every year where I learn about new uses for AI technology . The conference will begin with a keynote by Nvidia’s CEO Jensen Huang to reveal the latest Nvidia technology and designs . There are also instructor-led, hands-on training and workshops as part of the conference for $249 per person .\""
      ]
     },
     "execution_count": 78,
     "metadata": {
      "tags": []
     },
     "output_type": "execute_result"
    }
   ],
   "source": [
    "text = ' '.join([summ['summary_text'] for summ in res])\n",
    "\n",
    "text"
   ]
  }
 ],
 "metadata": {
  "accelerator": "GPU",
  "colab": {
   "collapsed_sections": [],
   "name": "Pipeline_Text Summarization.ipynb",
   "provenance": [],
   "toc_visible": true
  },
  "kernelspec": {
   "display_name": "Python 3",
   "language": "python",
   "name": "python3"
  },
  "language_info": {
   "codemirror_mode": {
    "name": "ipython",
    "version": 3
   },
   "file_extension": ".py",
   "mimetype": "text/x-python",
   "name": "python",
   "nbconvert_exporter": "python",
   "pygments_lexer": "ipython3",
   "version": "3.7.4"
  }
 },
 "nbformat": 4,
 "nbformat_minor": 1
}
