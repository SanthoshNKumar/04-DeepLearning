{
 "cells": [
  {
   "cell_type": "code",
   "execution_count": 29,
   "metadata": {
    "id": "pZZ7XqTlPncm"
   },
   "outputs": [],
   "source": [
    "import numpy as np\n",
    "import matplotlib.pyplot as plt\n",
    "from transformers import pipeline"
   ]
  },
  {
   "cell_type": "code",
   "execution_count": 30,
   "metadata": {
    "colab": {
     "base_uri": "https://localhost:8080/",
     "height": 36
    },
    "id": "_BVUlN12_Trl",
    "outputId": "f7fb8110-5228-4f4e-853b-da8694fee7f3"
   },
   "outputs": [
    {
     "data": {
      "application/vnd.google.colaboratory.intrinsic+json": {
       "type": "string"
      },
      "text/plain": [
       "'\\nText Summarization\\n'"
      ]
     },
     "execution_count": 30,
     "metadata": {
      "tags": []
     },
     "output_type": "execute_result"
    }
   ],
   "source": [
    "'''\n",
    "question-answering\n",
    "'''"
   ]
  },
  {
   "cell_type": "code",
   "execution_count": 35,
   "metadata": {
    "id": "WRrGOOgZDLiw"
   },
   "outputs": [],
   "source": [
    "f = open(\"/content/drive/MyDrive/dataset/text.txt\", \"r\")\n",
    "\n",
    "text = f.read()"
   ]
  },
  {
   "cell_type": "code",
   "execution_count": 40,
   "metadata": {
    "colab": {
     "base_uri": "https://localhost:8080/"
    },
    "id": "r3rearq8GHfZ",
    "outputId": "e54571a3-5819-4201-c2e1-80056a5b0f65"
   },
   "outputs": [
    {
     "data": {
      "text/plain": [
       "['One of the big AI research conferences has been NuerIPS each December, which has been doubling attendance every year',\n",
       " ' But Nvidia’s GPU Technology Conference (GTC) is also another conference that drawn big crowds',\n",
       " ' Because the conference has been turned virtual, as have all conferences during the pandemic, it’s now easier to gather AI researcher from all over the world in one event',\n",
       " ' And Nvidia has gathered the top names in AI for this year’s GTC',\n",
       " ' Those top names in AI research include Geoffrey Hinton an Emeritus Professor from the University of Toronto, VP and Engineering Fellow at Google, and Chief Scientific Adviser to the Vector Institute',\n",
       " ' He is known for his pioneering work on Artificial Neural Networks (ANNs)',\n",
       " ' His research on the backpropagation algorithm brought about drastic improvements in the performance of deep learning models',\n",
       " ' Hinton won the 2018 Turing Award for his groundbreaking work around deep neural networks, which he shares with Yann LeCun and Yoshua Bengio – both of which are also speakers at GTC 2021',\n",
       " ' Yann LeCun is VP and Chief AI Scientist at Facebook and Silver Professor from New York University and considered the founding father of Convolutional Neural Networks (CNNs)',\n",
       " ' He has won the 2014 IEEE Neural Network Pioneer Award and the 2015 PAMI Distinguished Researcher Award, as well as the aforementioned Turing Award',\n",
       " ' Yoshua Bengio is a Full Professor, and the Founder and Scientific Director at the University of Montreal and the Mila - Quebec Artificial Intelligence Institute',\n",
       " ' He received the prestigious award of Canada Research Chair in Statistical Learning Algorithms',\n",
       " ' Yoshua is known for his work on artificial neural networks and deep learning in the 1980s and 1990s',\n",
       " ' He co-created the prestigious International Conference on Learning Representations (ICLR) conference with Yann LeCun',\n",
       " ' These are three of the top AI researchers, but there are 23 other world-class researchers that will also be presenting at GTC and potentially thousands more in attendance',\n",
       " ' Some of the leading companies presenting at GTC include: Adobe, Arm, Audi, Autodesk, Epic Games, Facebook, Google, IBM, Industrial Light and Magic, Morgan Stanley, Pixar, Red Hat, Siemens, St',\n",
       " ' Jude Children’s Hospital, Verizon, VMWare, Walmart',\n",
       " ' Covering a very broad range of AI applications and implementations',\n",
       " ' Nvidia was the first to invest heavily in High-Performance Computing (HPC) on GPUs, originally called GPGPU',\n",
       " ' Nvidia led using CUDA platform to facilitate HPC on GPUs',\n",
       " ' That lead to researchers using GPU to accelerate digital neural networks, which lead to breakthrough performance and modern AI',\n",
       " ' This pioneering work led to Nvidia’s GPUs becoming the main research and development platform for deep learning neural nets',\n",
       " ' With Nvidia GPUs in data centers, advanced driver assistance systems (ADAS), drones, robots, workstations, and PCs, Nvidia has the most pervasive and scalable AI platform',\n",
       " ' Since then, other GPU and accelerator and software vendors have been chasing Nvidia',\n",
       " ' Being the first and widest platform means most researchers have experience using Nvidia GPUs, making GTC a conference with broad appeal in the AI, Automotive, HPC, and gaming industries',\n",
       " ' It also has strong appeal for a wide range of researchers in academia, atmospheric, biomedical, and geological to name a few',\n",
       " ' Nvidia’s GTC really is one of the conferences I look forward to every year where I learn about new uses for AI technology',\n",
       " ' The conference will begin with a keynote by Nvidia’s CEO Jensen Huang to reveal the latest Nvidia technology and designs on April 12',\n",
       " ' And did I mention it’s free? There are also instructor-led, hands-on training and workshops as part of the conference for $249 per person, but the main conference and talks you can attend for free',\n",
       " '\\n']"
      ]
     },
     "execution_count": 40,
     "metadata": {
      "tags": []
     },
     "output_type": "execute_result"
    }
   ],
   "source": [
    "[x for x in text.split('.')]"
   ]
  },
  {
   "cell_type": "code",
   "execution_count": 43,
   "metadata": {
    "id": "UCbGy0mvHEK-"
   },
   "outputs": [],
   "source": [
    "model = pipeline(\"question-answering\")"
   ]
  },
  {
   "cell_type": "code",
   "execution_count": 45,
   "metadata": {
    "colab": {
     "base_uri": "https://localhost:8080/"
    },
    "id": "g6sjgMMMHEak",
    "outputId": "5aabf3ec-7816-423d-e0ff-4f417d2a5188"
   },
   "outputs": [
    {
     "data": {
      "text/plain": [
       "{'answer': 'Nvidia’s GPU Technology Conference',\n",
       " 'end': 156,\n",
       " 'score': 0.05641228333115578,\n",
       " 'start': 122}"
      ]
     },
     "execution_count": 45,
     "metadata": {
      "tags": []
     },
     "output_type": "execute_result"
    }
   ],
   "source": [
    "question = 'what is GPGPU'\n",
    "\n",
    "model(question=question, context=text)"
   ]
  },
  {
   "cell_type": "code",
   "execution_count": 46,
   "metadata": {
    "colab": {
     "base_uri": "https://localhost:8080/"
    },
    "id": "e0g2_sLqGUgQ",
    "outputId": "9b48433a-e3c5-443d-cac5-b6d1a17f9c74"
   },
   "outputs": [
    {
     "data": {
      "text/plain": [
       "{'answer': 'Artificial Neural Networks',\n",
       " 'end': 714,\n",
       " 'score': 0.8336961269378662,\n",
       " 'start': 688}"
      ]
     },
     "execution_count": 46,
     "metadata": {
      "tags": []
     },
     "output_type": "execute_result"
    }
   ],
   "source": [
    "question = 'what is ANN'\n",
    "\n",
    "model(question=question, context=text)"
   ]
  },
  {
   "cell_type": "code",
   "execution_count": 51,
   "metadata": {
    "colab": {
     "base_uri": "https://localhost:8080/"
    },
    "id": "i_kXDiGdH8Ec",
    "outputId": "860236ee-378e-4096-9ef4-77e882880354"
   },
   "outputs": [
    {
     "data": {
      "text/plain": [
       "{'answer': 'Full Professor',\n",
       " 'end': 1390,\n",
       " 'score': 0.7921782732009888,\n",
       " 'start': 1376}"
      ]
     },
     "execution_count": 51,
     "metadata": {
      "tags": []
     },
     "output_type": "execute_result"
    }
   ],
   "source": [
    "question = 'who is Yoshua Bengio'\n",
    "\n",
    "model(question=question, context=text)"
   ]
  }
 ],
 "metadata": {
  "colab": {
   "collapsed_sections": [],
   "name": "Pipeline_question-answering.ipynb",
   "provenance": [],
   "toc_visible": true
  },
  "kernelspec": {
   "display_name": "Python 3",
   "language": "python",
   "name": "python3"
  },
  "language_info": {
   "codemirror_mode": {
    "name": "ipython",
    "version": 3
   },
   "file_extension": ".py",
   "mimetype": "text/x-python",
   "name": "python",
   "nbconvert_exporter": "python",
   "pygments_lexer": "ipython3",
   "version": "3.7.4"
  }
 },
 "nbformat": 4,
 "nbformat_minor": 1
}
