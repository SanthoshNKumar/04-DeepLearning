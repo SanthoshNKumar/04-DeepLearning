{
 "cells": [
  {
   "cell_type": "code",
   "execution_count": 8,
   "metadata": {},
   "outputs": [],
   "source": [
    "from keras.layers import Embedding\n",
    "\n",
    "vocab_size = 44\n",
    "\n",
    "embedding_layer = Embedding(input_dim = vocab_size,output_dim= 20, input_length=7)\n",
    "\n",
    "# input_dims = size of the vocabulary in the text data\n",
    "\n",
    "# output_dim = Each word in the vocabulary will be representaed as vector of dimenstion n : ex: 20 ;100; 200\n",
    "\n",
    "# input_length = Length of the input sequence"
   ]
  },
  {
   "cell_type": "code",
   "execution_count": null,
   "metadata": {},
   "outputs": [],
   "source": [
    "# Using Seq_converted text\n",
    "model.add(Embedding(input_dim = vocab_size,output_dim= 20, input_length=7)) \n",
    "\n",
    "\n",
    "# Using pretrained model(embedding) \n",
    "model.add(Embedding(input_dim = vocab_size,output_dim = 100,weights = [embedding_matrix],input_length=7,trainable = False))\n",
    "\n",
    "# Embedding_matrix: Emebedding matrix Generated from Pretrained Model\n"
   ]
  },
  {
   "cell_type": "code",
   "execution_count": 9,
   "metadata": {},
   "outputs": [],
   "source": [
    "# Example : In below the example the corpus data having below the details\n",
    "\n",
    "vocab_size = 44 #(it,good,you,should,...etc)\n",
    "\n",
    "output_dim = 20 \n",
    "\n",
    "input_length = 7 # ex: 'Wonderfully directed and executed I like it'"
   ]
  },
  {
   "cell_type": "code",
   "execution_count": null,
   "metadata": {},
   "outputs": [],
   "source": []
  },
  {
   "cell_type": "code",
   "execution_count": 10,
   "metadata": {},
   "outputs": [],
   "source": [
    "import numpy as np"
   ]
  },
  {
   "cell_type": "code",
   "execution_count": 11,
   "metadata": {},
   "outputs": [
    {
     "data": {
      "text/html": [
       "<div>\n",
       "<style scoped>\n",
       "    .dataframe tbody tr th:only-of-type {\n",
       "        vertical-align: middle;\n",
       "    }\n",
       "\n",
       "    .dataframe tbody tr th {\n",
       "        vertical-align: top;\n",
       "    }\n",
       "\n",
       "    .dataframe thead th {\n",
       "        text-align: right;\n",
       "    }\n",
       "</style>\n",
       "<table border=\"1\" class=\"dataframe\">\n",
       "  <thead>\n",
       "    <tr style=\"text-align: right;\">\n",
       "      <th></th>\n",
       "      <th>comment</th>\n",
       "      <th>review</th>\n",
       "    </tr>\n",
       "  </thead>\n",
       "  <tbody>\n",
       "    <tr>\n",
       "      <td>14</td>\n",
       "      <td>I will not recommend</td>\n",
       "      <td>0</td>\n",
       "    </tr>\n",
       "    <tr>\n",
       "      <td>13</td>\n",
       "      <td>The movie was horrible</td>\n",
       "      <td>0</td>\n",
       "    </tr>\n",
       "  </tbody>\n",
       "</table>\n",
       "</div>"
      ],
      "text/plain": [
       "                   comment  review\n",
       "14    I will not recommend       0\n",
       "13  The movie was horrible       0"
      ]
     },
     "execution_count": 11,
     "metadata": {},
     "output_type": "execute_result"
    }
   ],
   "source": [
    "import pandas as pd\n",
    "\n",
    "# Corpus \n",
    "positive = ['This is an excellent movie','The move was fantastic I like it',\n",
    "            'You should watch it is brilliant','Exceptionally good','Wonderfully directed and executed I like it',\n",
    "             'Its a fantastic series','Never watched such a brillent movie','It is a Wonderful movie']\n",
    "\n",
    "negative = [\"horrible acting\",'waste of money','pathetic picture','It was very boring',\n",
    "            'I did not like the movie','The movie was horrible','I will not recommend',\n",
    "            'The acting is pathetic']\n",
    "\n",
    "reviews = [(pr,\"positive\") for pr in positive] + [(nr,\"negative\") for nr in negative]\n",
    "\n",
    "data = pd.DataFrame(reviews,columns=[\"comment\",'review'])\n",
    "\n",
    "# shuffle the DataFrame rows\n",
    "data = data.sample(frac = 1)\n",
    "\n",
    "from sklearn.preprocessing import LabelEncoder\n",
    "lb_make = LabelEncoder()\n",
    "data['review'] = lb_make.fit_transform(data[\"review\"])\n",
    "\n",
    "data.head(2)"
   ]
  },
  {
   "cell_type": "code",
   "execution_count": 12,
   "metadata": {},
   "outputs": [
    {
     "data": {
      "text/plain": [
       "7"
      ]
     },
     "execution_count": 12,
     "metadata": {},
     "output_type": "execute_result"
    }
   ],
   "source": [
    "# lower the text\n",
    "data['comment'] = data['comment'].str.lower()\n",
    "\n",
    "# find max_length sequence\n",
    "\n",
    "max_seq_len = max([len([y for y in x.split()]) for x in data['comment']])\n",
    "max_seq_len"
   ]
  },
  {
   "cell_type": "code",
   "execution_count": 13,
   "metadata": {},
   "outputs": [
    {
     "data": {
      "text/plain": [
       "16"
      ]
     },
     "execution_count": 13,
     "metadata": {},
     "output_type": "execute_result"
    }
   ],
   "source": [
    "# number of samples\n",
    "num_samples = data.shape[0]\n",
    "num_samples"
   ]
  },
  {
   "cell_type": "code",
   "execution_count": 14,
   "metadata": {},
   "outputs": [],
   "source": [
    "from keras.preprocessing import text\n",
    "\n",
    "tokenizer = text.Tokenizer()\n",
    "tokenizer.fit_on_texts(data['comment'])\n",
    "word2id = tokenizer.word_index\n",
    "\n",
    "word2id['PAD'] = 0\n",
    "id2word = {v:k for k, v in word2id.items()}\n",
    "wids = [[word2id[w] for w in text.text_to_word_sequence(doc)] for doc in data['comment']]"
   ]
  },
  {
   "cell_type": "code",
   "execution_count": 15,
   "metadata": {},
   "outputs": [
    {
     "data": {
      "text/plain": [
       "['movie', 'it', 'i', 'the', 'is', 'was', 'like', 'a', 'not', 'horrible']"
      ]
     },
     "execution_count": 15,
     "metadata": {},
     "output_type": "execute_result"
    }
   ],
   "source": [
    "vocabulary = [x for x,_ in word2id.items()]\n",
    "\n",
    "vocabulary[:10]"
   ]
  },
  {
   "cell_type": "code",
   "execution_count": 16,
   "metadata": {},
   "outputs": [
    {
     "data": {
      "text/plain": [
       "44"
      ]
     },
     "execution_count": 16,
     "metadata": {},
     "output_type": "execute_result"
    }
   ],
   "source": [
    "vocab_size = len(vocabulary)\n",
    "\n",
    "vocab_size"
   ]
  },
  {
   "cell_type": "code",
   "execution_count": 17,
   "metadata": {},
   "outputs": [
    {
     "data": {
      "text/plain": [
       "array([[ 3, 14,  9, 15,  0,  0,  0],\n",
       "       [ 4,  1,  6, 10,  0,  0,  0],\n",
       "       [16, 17, 18, 19,  3,  7,  2],\n",
       "       [10, 11,  0,  0,  0,  0,  0],\n",
       "       [ 2,  6, 20, 21,  0,  0,  0],\n",
       "       [22, 23, 24,  0,  0,  0,  0],\n",
       "       [ 3, 25,  9,  7,  4,  1,  0],\n",
       "       [ 4, 11,  5, 12,  0,  0,  0],\n",
       "       [26, 27, 28,  2,  5, 29,  0],\n",
       "       [ 4, 30,  6, 13,  3,  7,  2],\n",
       "       [31,  8, 13, 32,  0,  0,  0],\n",
       "       [33, 34, 35,  8, 36,  1,  0],\n",
       "       [12, 37,  0,  0,  0,  0,  0],\n",
       "       [38, 39,  0,  0,  0,  0,  0],\n",
       "       [ 2,  5,  8, 40,  1,  0,  0],\n",
       "       [41,  5, 42, 43,  1,  0,  0]])"
      ]
     },
     "execution_count": 17,
     "metadata": {},
     "output_type": "execute_result"
    }
   ],
   "source": [
    "from tensorflow.keras.preprocessing.sequence import pad_sequences\n",
    "\n",
    "padded_inputs = pad_sequences(wids,padding='post')\n",
    "\n",
    "padded_inputs"
   ]
  },
  {
   "cell_type": "code",
   "execution_count": 18,
   "metadata": {},
   "outputs": [
    {
     "data": {
      "text/plain": [
       "array([0, 0, 1, 0, 0, 0, 0, 0, 1, 1, 1, 1, 0, 1, 1, 1])"
      ]
     },
     "execution_count": 18,
     "metadata": {},
     "output_type": "execute_result"
    }
   ],
   "source": [
    "\n",
    "y = data['review'].values # output labels\n",
    "\n",
    "y"
   ]
  },
  {
   "cell_type": "code",
   "execution_count": 19,
   "metadata": {},
   "outputs": [
    {
     "name": "stdout",
     "output_type": "stream",
     "text": [
      "WARNING:tensorflow:From c:\\users\\insakum46\\appdata\\local\\programs\\python\\python37\\lib\\site-packages\\tensorflow_core\\python\\ops\\resource_variable_ops.py:1630: calling BaseResourceVariable.__init__ (from tensorflow.python.ops.resource_variable_ops) with constraint is deprecated and will be removed in a future version.\n",
      "Instructions for updating:\n",
      "If using Keras pass *_constraint arguments to layers.\n",
      "Shape of the weights generated at layout0 \n",
      "(44, 20)\n",
      "Shape of the weights generated at layout1 \n",
      "(140, 1)\n",
      "WARNING:tensorflow:From c:\\users\\insakum46\\appdata\\local\\programs\\python\\python37\\lib\\site-packages\\tensorflow_core\\python\\ops\\nn_impl.py:183: where (from tensorflow.python.ops.array_ops) is deprecated and will be removed in a future version.\n",
      "Instructions for updating:\n",
      "Use tf.where in 2.0, which has the same broadcast rule as np.where\n",
      "Output of the Final Layer\n",
      "WARNING:tensorflow:From c:\\users\\insakum46\\appdata\\local\\programs\\python\\python37\\lib\\site-packages\\keras\\backend\\tensorflow_backend.py:422: The name tf.global_variables is deprecated. Please use tf.compat.v1.global_variables instead.\n",
      "\n",
      "(16, 1)\n",
      "[[0.50402147]\n",
      " [0.5070832 ]\n",
      " [0.4839696 ]\n",
      " [0.4902963 ]\n",
      " [0.510469  ]\n",
      " [0.50431097]\n",
      " [0.510008  ]\n",
      " [0.5104144 ]\n",
      " [0.50379044]\n",
      " [0.49965993]\n",
      " [0.51205456]\n",
      " [0.51506025]\n",
      " [0.49921316]\n",
      " [0.504286  ]\n",
      " [0.50896525]\n",
      " [0.49123123]]\n"
     ]
    }
   ],
   "source": [
    "from keras.models import Sequential\n",
    "from keras.layers import Dense,Embedding,Flatten\n",
    "\n",
    "model = Sequential()\n",
    "\n",
    "\n",
    "# Input_dim = Vocabulary size of the corpus data\n",
    "# output_dim = \n",
    "model.add(Embedding(input_dim = vocab_size,output_dim= 20, input_length=7))  # max_sequence_length = 7  vocab_size =44\n",
    "model.add(Flatten())\n",
    "model.add(Dense(1, activation='sigmoid'))\n",
    "\n",
    "print(\"Shape of the weights generated at layout0 \")\n",
    "print(model.get_weights()[0].shape) # 44 : vocabulary(words) and Dimension :20\n",
    "\n",
    "# Each word in the vocabulary will be representaed as vector of dimenstion 20\n",
    "\n",
    "\n",
    "print(\"Shape of the weights generated at layout1 \")\n",
    "print(model.get_weights()[1].shape)\n",
    "\n",
    "model.compile(optimizer='adam', loss='binary_crossentropy', metrics=['accuracy'])\n",
    "\n",
    "# Using Pretrained Embedding using \n",
    "\n",
    "print(\"Output of the Final Layer\")\n",
    "print(model.predict(padded_inputs).shape) # 16 samples) and output of each sample \n",
    "\n",
    "print(model.predict(padded_inputs))"
   ]
  },
  {
   "cell_type": "code",
   "execution_count": 20,
   "metadata": {},
   "outputs": [
    {
     "name": "stdout",
     "output_type": "stream",
     "text": [
      "Output of the Final Layer\n",
      "(16, 7, 20)\n"
     ]
    }
   ],
   "source": [
    "from keras.models import Sequential\n",
    "from keras.layers import Dense,Embedding,Flatten\n",
    "\n",
    "model = Sequential()\n",
    "\n",
    "\n",
    "# Input_dim = Vocabulary size of the corpus data\n",
    "# output_dim = \n",
    "model.add(Embedding(input_dim = vocab_size,output_dim= 20, input_length=7))  # max_sequence_length = 7  vocab_size =44\n",
    "#model.add(Flatten())\n",
    "#model.add(Dense(1, activation='sigmoid'))\n",
    "\n",
    "\n",
    "model.compile(optimizer='adam', loss='binary_crossentropy', metrics=['accuracy'])\n",
    "\n",
    "# Using Pretrained Embedding using \n",
    "\n",
    "print(\"Output of the Final Layer\")\n",
    "print(model.predict(padded_inputs).shape) #16 Samples, Max Sequence Length = 7 ,word Dimension =20 ;\n"
   ]
  },
  {
   "cell_type": "code",
   "execution_count": 21,
   "metadata": {},
   "outputs": [
    {
     "name": "stdout",
     "output_type": "stream",
     "text": [
      "Output of the Final Layer\n",
      "(16, 140)\n"
     ]
    }
   ],
   "source": [
    "from keras.models import Sequential\n",
    "from keras.layers import Dense,Embedding,Flatten\n",
    "\n",
    "model = Sequential()\n",
    "\n",
    "\n",
    "# Input_dim = Vocabulary size of the corpus data\n",
    "# output_dim = \n",
    "model.add(Embedding(input_dim = vocab_size,output_dim= 20, input_length=7))  # max_sequence_length = 7  vocab_size =44\n",
    "model.add(Flatten())\n",
    "#model.add(Dense(1, activation='sigmoid'))\n",
    "\n",
    "\n",
    "model.compile(optimizer='adam', loss='binary_crossentropy', metrics=['accuracy'])\n",
    "\n",
    "# Using Pretrained Embedding using \n",
    "\n",
    "print(\"Output of the Final Layer\")\n",
    "print(model.predict(padded_inputs).shape) #16 and Length of 140 (Generated from previous layout output(20*7 =140))"
   ]
  },
  {
   "cell_type": "code",
   "execution_count": 22,
   "metadata": {},
   "outputs": [
    {
     "name": "stdout",
     "output_type": "stream",
     "text": [
      "Output of the Final Layer\n",
      "(16, 1)\n"
     ]
    }
   ],
   "source": [
    "from keras.models import Sequential\n",
    "from keras.layers import Dense,Embedding,Flatten\n",
    "\n",
    "model = Sequential()\n",
    "\n",
    "\n",
    "# Input_dim = Vocabulary size of the corpus data\n",
    "# output_dim = \n",
    "model.add(Embedding(input_dim = vocab_size,output_dim= 20, input_length=7))  # max_sequence_length = 7  vocab_size =44\n",
    "model.add(Flatten())\n",
    "model.add(Dense(1, activation='sigmoid'))\n",
    "\n",
    "\n",
    "model.compile(optimizer='adam', loss='binary_crossentropy', metrics=['accuracy'])\n",
    "\n",
    "# Using Pretrained Embedding using \n",
    "\n",
    "print(\"Output of the Final Layer\")\n",
    "print(model.predict(padded_inputs).shape) #16 and Length of 140 (Generated from previous layout output(20*7 =140))"
   ]
  },
  {
   "cell_type": "code",
   "execution_count": null,
   "metadata": {},
   "outputs": [],
   "source": []
  },
  {
   "cell_type": "code",
   "execution_count": 23,
   "metadata": {},
   "outputs": [],
   "source": [
    "# Word Emdedding using Alreday trained Model"
   ]
  },
  {
   "cell_type": "code",
   "execution_count": 24,
   "metadata": {},
   "outputs": [],
   "source": [
    "\n",
    "from numpy import array\n",
    "from numpy import asarray\n",
    "from numpy import zeros\n",
    "\n",
    "embeddings_dictionary = dict()\n",
    "\n",
    "glove_file = open(r'C:\\MyWork\\MyLearning\\Career Growth\\ML\\Files\\DataSet\\glove.6B.100d.txt', encoding=\"utf8\")\n",
    "\n",
    "for line in glove_file:\n",
    "    records = line.split()\n",
    "    word = records[0]\n",
    "    vector_dimensions = asarray(records[1:], dtype='float32') \n",
    "    embeddings_dictionary[word] = vector_dimensions\n",
    "glove_file.close()"
   ]
  },
  {
   "cell_type": "code",
   "execution_count": 40,
   "metadata": {},
   "outputs": [
    {
     "data": {
      "text/plain": [
       "45"
      ]
     },
     "execution_count": 40,
     "metadata": {},
     "output_type": "execute_result"
    }
   ],
   "source": [
    "vocab_size = len(vocabulary) + 1\n",
    "\n",
    "vocab_size"
   ]
  },
  {
   "cell_type": "code",
   "execution_count": 26,
   "metadata": {},
   "outputs": [
    {
     "data": {
      "text/plain": [
       "(45, 100)"
      ]
     },
     "execution_count": 26,
     "metadata": {},
     "output_type": "execute_result"
    }
   ],
   "source": [
    "import numpy as np\n",
    "\n",
    "EMBEDDING_SIZE = 100\n",
    "embedding_matrix = np.zeros((num_words, EMBEDDING_SIZE))\n",
    "\n",
    "embedding_matrix.shape"
   ]
  },
  {
   "cell_type": "code",
   "execution_count": 27,
   "metadata": {},
   "outputs": [],
   "source": [
    "for word, index in word2id.items():\n",
    "    embedding_vector = embeddings_dictionary.get(word)\n",
    "    if embedding_vector is not None:\n",
    "        embedding_matrix[index] = embedding_vector"
   ]
  },
  {
   "cell_type": "code",
   "execution_count": 41,
   "metadata": {},
   "outputs": [],
   "source": [
    "from keras.models import Sequential\n",
    "from keras.layers import Embedding\n",
    "\n",
    "model = Sequential()\n",
    "\n",
    "# num_words = vocabulary size\n",
    "# input_length : 7 : Max_seq_length\n",
    "\n",
    "model.add(Embedding(input_dim = vocab_size,output_dim = 100,weights = [embedding_matrix],input_length=7,trainable = False))\n",
    "\n",
    "model.add(Flatten())\n",
    "model.add(Dense(1, activation='sigmoid'))"
   ]
  },
  {
   "cell_type": "code",
   "execution_count": 33,
   "metadata": {},
   "outputs": [
    {
     "data": {
      "text/plain": [
       "(45, 100)"
      ]
     },
     "execution_count": 33,
     "metadata": {},
     "output_type": "execute_result"
    }
   ],
   "source": [
    "model.get_weights()[0].shape  # output from the first layer of 45,100 ; 45 words and each of dimension 100"
   ]
  },
  {
   "cell_type": "code",
   "execution_count": 49,
   "metadata": {},
   "outputs": [
    {
     "data": {
      "text/plain": [
       "array([[0.6169161]], dtype=float32)"
      ]
     },
     "execution_count": 49,
     "metadata": {},
     "output_type": "execute_result"
    }
   ],
   "source": [
    "model.predict(np.array([ 4,  1,  6, 10,  0,  0,  0]).reshape(1,7))"
   ]
  }
 ],
 "metadata": {
  "kernelspec": {
   "display_name": "Python 3",
   "language": "python",
   "name": "python3"
  },
  "language_info": {
   "codemirror_mode": {
    "name": "ipython",
    "version": 3
   },
   "file_extension": ".py",
   "mimetype": "text/x-python",
   "name": "python",
   "nbconvert_exporter": "python",
   "pygments_lexer": "ipython3",
   "version": "3.7.4"
  }
 },
 "nbformat": 4,
 "nbformat_minor": 2
}
