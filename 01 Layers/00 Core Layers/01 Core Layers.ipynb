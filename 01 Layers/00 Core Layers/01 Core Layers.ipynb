{
 "cells": [
  {
   "cell_type": "code",
   "execution_count": null,
   "metadata": {},
   "outputs": [],
   "source": [
    "'''\n",
    "\n",
    "Core Layers\n",
    "    - Dense\n",
    "    - Flattern\n",
    "    - Dropout\n",
    "    - Reshape\n",
    "    - Permute\n",
    "    - RepeatVector\n",
    "    - Lambda\n",
    "    - Pooling\n",
    "    - Locally Connected Layer\n",
    "\n",
    "'''"
   ]
  },
  {
   "cell_type": "code",
   "execution_count": null,
   "metadata": {},
   "outputs": [],
   "source": [
    "'''\n",
    "Dense : ***Check in the Main Node of Latey\n",
    "\n",
    "\n",
    "'''"
   ]
  },
  {
   "cell_type": "code",
   "execution_count": null,
   "metadata": {},
   "outputs": [],
   "source": [
    "'''\n",
    "Flattern :  Return the array collapsed into one dimension.\n",
    "\n",
    "    - Flatten is used to flatten the input.\n",
    "    - If Input shape as (batch_size, 2,2),then the output shape of the layer will be (batch_size, 4)\n",
    "\n",
    "'''"
   ]
  },
  {
   "cell_type": "code",
   "execution_count": 2,
   "metadata": {},
   "outputs": [
    {
     "name": "stdout",
     "output_type": "stream",
     "text": [
      "[[[[ 0  1  2  3]\n",
      "   [ 4  5  6  7]]\n",
      "\n",
      "  [[ 8  9 10 11]\n",
      "   [12 13 14 15]]\n",
      "\n",
      "  [[16 17 18 19]\n",
      "   [20 21 22 23]]]]\n",
      "\n",
      "\n",
      "AFtre Flattern data\n"
     ]
    },
    {
     "data": {
      "text/plain": [
       "array([ 0,  1,  2,  3,  4,  5,  6,  7,  8,  9, 10, 11, 12, 13, 14, 15, 16,\n",
       "       17, 18, 19, 20, 21, 22, 23])"
      ]
     },
     "execution_count": 2,
     "metadata": {},
     "output_type": "execute_result"
    }
   ],
   "source": [
    "import numpy as np\n",
    "import random\n",
    "\n",
    "data = np.arange(0,24).reshape(1,3,2,4)\n",
    "\n",
    "print(data)\n",
    "\n",
    "print(\"\\n\")\n",
    "\n",
    "print(\"AFtre Flattern data\")\n",
    "data.flatten()"
   ]
  },
  {
   "cell_type": "code",
   "execution_count": 3,
   "metadata": {},
   "outputs": [
    {
     "name": "stdout",
     "output_type": "stream",
     "text": [
      "WARNING:tensorflow:From c:\\users\\insakum46\\appdata\\local\\programs\\python\\python37\\lib\\site-packages\\tensorflow_core\\python\\ops\\resource_variable_ops.py:1630: calling BaseResourceVariable.__init__ (from tensorflow.python.ops.resource_variable_ops) with constraint is deprecated and will be removed in a future version.\n",
      "Instructions for updating:\n",
      "If using Keras pass *_constraint arguments to layers.\n",
      "Input shape at Dese Layer: (None, 6, 6)\n",
      "Output shape at Dese Layer: (None, 6, 8)\n",
      "\n",
      "\n",
      "Input shape at Flatten Layer: (None, 6, 8)\n",
      "Output shape at Flatten Layer: (None, 48)\n"
     ]
    }
   ],
   "source": [
    "from tensorflow.keras.models import Sequential \n",
    "from tensorflow.keras.layers import Dense,Flatten\n",
    "\n",
    "model = Sequential() \n",
    "layer_1 = Dense(8,input_shape = (6,6))\n",
    "model.add(layer_1)\n",
    "\n",
    "layer_2 = Flatten() \n",
    "model.add(layer_2)\n",
    "\n",
    "\n",
    "print(\"Input shape at Dese Layer:\",layer_1.input_shape)\n",
    "print(\"Output shape at Dese Layer:\",layer_1.output_shape)\n",
    "\n",
    "print(\"\\n\")\n",
    "\n",
    "print(\"Input shape at Flatten Layer:\",layer_2.input_shape)\n",
    "print(\"Output shape at Flatten Layer:\",layer_2.output_shape)"
   ]
  },
  {
   "cell_type": "code",
   "execution_count": 4,
   "metadata": {},
   "outputs": [
    {
     "name": "stdout",
     "output_type": "stream",
     "text": [
      "Model: \"sequential\"\n",
      "_________________________________________________________________\n",
      "Layer (type)                 Output Shape              Param #   \n",
      "=================================================================\n",
      "dense (Dense)                (None, 6, 8)              56        \n",
      "_________________________________________________________________\n",
      "flatten (Flatten)            (None, 48)                0         \n",
      "=================================================================\n",
      "Total params: 56\n",
      "Trainable params: 56\n",
      "Non-trainable params: 0\n",
      "_________________________________________________________________\n"
     ]
    }
   ],
   "source": [
    "model.summary()"
   ]
  },
  {
   "cell_type": "code",
   "execution_count": 5,
   "metadata": {},
   "outputs": [
    {
     "name": "stdout",
     "output_type": "stream",
     "text": [
      "[[ 0.  1.  2.  3.  4.  5.  6.  7.  8.  9. 10. 11. 12. 13. 14. 15. 16. 17.\n",
      "  18. 19. 20. 21. 22. 23.]]\n",
      "Model: \"model\"\n",
      "_________________________________________________________________\n",
      "Layer (type)                 Output Shape              Param #   \n",
      "=================================================================\n",
      "input_1 (InputLayer)         [(None, 3, 2, 4)]         0         \n",
      "_________________________________________________________________\n",
      "flatten_1 (Flatten)          (None, 24)                0         \n",
      "=================================================================\n",
      "Total params: 0\n",
      "Trainable params: 0\n",
      "Non-trainable params: 0\n",
      "_________________________________________________________________\n"
     ]
    }
   ],
   "source": [
    "import numpy as np\n",
    "from tensorflow.keras.layers import Input,Flatten\n",
    "from tensorflow.keras.models import Model\n",
    "\n",
    "inputs = Input(shape=(3,2,4))\n",
    "\n",
    "prediction = Flatten()(inputs)\n",
    "\n",
    "model = Model(inputs=inputs, outputs=prediction)\n",
    "X = np.arange(0,24).reshape(1,3,2,4)\n",
    "\n",
    "print(model.predict(X))\n",
    "\n",
    "model.summary()"
   ]
  },
  {
   "cell_type": "code",
   "execution_count": 6,
   "metadata": {},
   "outputs": [
    {
     "name": "stdout",
     "output_type": "stream",
     "text": [
      "[[[ 0  1  2]\n",
      "  [ 3  4  5]\n",
      "  [ 6  7  8]\n",
      "  [ 9 10 11]]]\n"
     ]
    },
    {
     "data": {
      "text/plain": [
       "array([[ 0.,  1.,  2.,  3.,  4.,  5.,  6.,  7.,  8.,  9., 10., 11.]],\n",
       "      dtype=float32)"
      ]
     },
     "execution_count": 6,
     "metadata": {},
     "output_type": "execute_result"
    }
   ],
   "source": [
    "# Define the Input\n",
    "inputs = Input(shape=(4,3))\n",
    "\n",
    "# Define output : Flatten \n",
    "output  = Flatten()(inputs)\n",
    "\n",
    "# Defn Model\n",
    "model = Model(inputs=inputs, outputs=output)\n",
    "\n",
    "# Predict the : convert 3 D Array to 1 D\n",
    "\n",
    "X = np.arange(0,12).reshape(1,4,3)\n",
    "print(X)\n",
    "\n",
    "\n",
    "model.predict(X)"
   ]
  },
  {
   "cell_type": "code",
   "execution_count": 8,
   "metadata": {},
   "outputs": [
    {
     "data": {
      "text/plain": [
       "(1, 12)"
      ]
     },
     "execution_count": 8,
     "metadata": {},
     "output_type": "execute_result"
    }
   ],
   "source": [
    "model.predict(X).shape"
   ]
  },
  {
   "cell_type": "code",
   "execution_count": 9,
   "metadata": {},
   "outputs": [
    {
     "name": "stdout",
     "output_type": "stream",
     "text": [
      "Model: \"model_2\"\n",
      "_________________________________________________________________\n",
      "Layer (type)                 Output Shape              Param #   \n",
      "=================================================================\n",
      "input_3 (InputLayer)         [(None, 1, 4, 3)]         0         \n",
      "_________________________________________________________________\n",
      "flatten_3 (Flatten)          (None, 12)                0         \n",
      "=================================================================\n",
      "Total params: 0\n",
      "Trainable params: 0\n",
      "Non-trainable params: 0\n",
      "_________________________________________________________________\n"
     ]
    }
   ],
   "source": [
    "model.summary()"
   ]
  },
  {
   "cell_type": "code",
   "execution_count": null,
   "metadata": {},
   "outputs": [],
   "source": [
    "'''\n",
    "Dropout : ***Check in the Main Node of Latey\n",
    "\n",
    "'''"
   ]
  },
  {
   "cell_type": "code",
   "execution_count": null,
   "metadata": {},
   "outputs": [],
   "source": [
    "'''\n",
    "Reshape:\n",
    "    - Layer that reshapes inputs into the given shape.\n",
    "\n",
    "'''"
   ]
  },
  {
   "cell_type": "code",
   "execution_count": 11,
   "metadata": {},
   "outputs": [
    {
     "name": "stdout",
     "output_type": "stream",
     "text": [
      "Tensor(\"dense_2_input:0\", shape=(?, 4, 3), dtype=float32)\n",
      "Tensor(\"dense_2/BiasAdd:0\", shape=(?, 4, 16), dtype=float32)\n",
      "\n",
      "\n",
      "After Reshape:\n",
      "Tensor(\"dense_2/BiasAdd:0\", shape=(?, 4, 16), dtype=float32)\n",
      "Tensor(\"reshape/Reshape:0\", shape=(?, 8, 8), dtype=float32)\n"
     ]
    }
   ],
   "source": [
    "from tensorflow.keras.layers import Reshape\n",
    "\n",
    "model = Sequential() \n",
    " \n",
    "model.add(Dense(16, input_shape = (4,3)))\n",
    "model.add(Reshape((8,8)))\n",
    "\n",
    "print(model.layers[0].input)\n",
    "print(model.layers[0].output)\n",
    "\n",
    "print(\"\\n\")\n",
    "print(\"After Reshape:\")\n",
    "\n",
    "print(model.layers[1].input)\n",
    "print(model.layers[1].output)\n"
   ]
  },
  {
   "cell_type": "code",
   "execution_count": 12,
   "metadata": {},
   "outputs": [
    {
     "name": "stdout",
     "output_type": "stream",
     "text": [
      "Tensor(\"reshape_1_input:0\", shape=(?, 12), dtype=float32)\n",
      "Tensor(\"reshape_1/Reshape:0\", shape=(?, ?, 2, 2), dtype=float32)\n"
     ]
    }
   ],
   "source": [
    "model = Sequential()\n",
    "model.add(Reshape((-1, 2, 2),input_shape=(12,)))\n",
    "\n",
    "\n",
    "#print(\"Layer that reshapes inputs into the given shape.\")\n",
    "print(model.layers[0].input)\n",
    "print(model.layers[0].output)"
   ]
  },
  {
   "cell_type": "code",
   "execution_count": null,
   "metadata": {},
   "outputs": [],
   "source": [
    "'''\n",
    "Permute :\n",
    "\n",
    " - Output shape: Same as the input shape, but with the dimensions re-ordered according to the specified pattern.\n",
    " - For instance, `(2, 1)` permutes the first and second dimensionsof the input\n",
    "\n",
    "'''"
   ]
  },
  {
   "cell_type": "code",
   "execution_count": 13,
   "metadata": {},
   "outputs": [
    {
     "name": "stdout",
     "output_type": "stream",
     "text": [
      "(None, 4, 3)\n",
      "(None, 4, 16)\n",
      "\n",
      "\n",
      "(None, 4, 16)\n",
      "(None, 16, 4)\n"
     ]
    }
   ],
   "source": [
    "from tensorflow.keras.layers import Permute\n",
    "\n",
    "model = Sequential() \n",
    "model.add(Dense(16, input_shape = (4, 3)))\n",
    "model.add(Permute((2, 1)) )\n",
    "\n",
    "print(model.layers[0].input_shape)\n",
    "print(model.layers[0].output_shape)\n",
    "\n",
    "print(\"\\n\")\n",
    "print(model.layers[1].input_shape)\n",
    "print(model.layers[1].output_shape)"
   ]
  },
  {
   "cell_type": "code",
   "execution_count": null,
   "metadata": {},
   "outputs": [],
   "source": [
    "'''\n",
    "RepeatVector:\n",
    "    - It is used to repeat the input for set number, n of times\n",
    "    - RepeatVector(16) Ex : Input : (batch_size, 32)  Output: (batch_size, 16, 32)\n",
    "\n",
    "'''"
   ]
  },
  {
   "cell_type": "code",
   "execution_count": 14,
   "metadata": {},
   "outputs": [
    {
     "name": "stdout",
     "output_type": "stream",
     "text": [
      "(None, 8)\n",
      "(None, 16)\n",
      "\n",
      "\n",
      "(None, 16)\n",
      "(None, 3, 16)\n"
     ]
    },
    {
     "data": {
      "text/plain": [
       "'\\nNote :\\n\\nInput shape:2D tensor\\nOutput shape:3D tensor\\n\\n'"
      ]
     },
     "execution_count": 14,
     "metadata": {},
     "output_type": "execute_result"
    }
   ],
   "source": [
    "from tensorflow.keras.layers import RepeatVector\n",
    "\n",
    "model = Sequential() \n",
    "model.add(Dense(16, input_shape=(8,)))\n",
    "model.add(RepeatVector(3))\n",
    "\n",
    "\n",
    "print(model.layers[0].input_shape)\n",
    "print(model.layers[0].output_shape)\n",
    "\n",
    "print(\"\\n\")\n",
    "print(model.layers[1].input_shape)\n",
    "print(model.layers[1].output_shape)\n",
    "\n",
    "'''\n",
    "Note :\n",
    "\n",
    "Input shape:2D tensor\n",
    "Output shape:3D tensor\n",
    "\n",
    "'''"
   ]
  },
  {
   "cell_type": "code",
   "execution_count": null,
   "metadata": {},
   "outputs": [],
   "source": [
    "'''\n",
    "Lambda:\n",
    "    - Lambda is used to transform the input data using an expression or function\n",
    "'''"
   ]
  },
  {
   "cell_type": "code",
   "execution_count": null,
   "metadata": {},
   "outputs": [],
   "source": [
    "'''\n",
    "Pooling:\n",
    "\n",
    "'''"
   ]
  },
  {
   "cell_type": "code",
   "execution_count": null,
   "metadata": {},
   "outputs": [],
   "source": [
    "'''\n",
    "Locally Connected Layer\n",
    "\n",
    "'''"
   ]
  }
 ],
 "metadata": {
  "kernelspec": {
   "display_name": "Python 3",
   "language": "python",
   "name": "python3"
  },
  "language_info": {
   "codemirror_mode": {
    "name": "ipython",
    "version": 3
   },
   "file_extension": ".py",
   "mimetype": "text/x-python",
   "name": "python",
   "nbconvert_exporter": "python",
   "pygments_lexer": "ipython3",
   "version": "3.7.4"
  }
 },
 "nbformat": 4,
 "nbformat_minor": 2
}
