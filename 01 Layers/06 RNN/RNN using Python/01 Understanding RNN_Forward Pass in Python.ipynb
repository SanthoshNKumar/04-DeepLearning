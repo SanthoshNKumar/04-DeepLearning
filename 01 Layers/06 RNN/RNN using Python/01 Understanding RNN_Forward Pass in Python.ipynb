{
 "cells": [
  {
   "cell_type": "code",
   "execution_count": 76,
   "metadata": {},
   "outputs": [],
   "source": [
    "import math\n",
    "import numpy as np\n",
    "\n",
    "#sin_wave = np.array([math.sin(x) for x in np.arange(200)])\n",
    "sin_wave = np.arange(0,50)\n",
    "\n",
    "sin_wave\n",
    "\n",
    "X = []\n",
    "Y = []\n",
    "\n",
    "seq_len = 4\n",
    "num_records = len(sin_wave) - seq_len"
   ]
  },
  {
   "cell_type": "code",
   "execution_count": 77,
   "metadata": {},
   "outputs": [
    {
     "data": {
      "text/plain": [
       "array([ 0,  1,  2,  3,  4,  5,  6,  7,  8,  9, 10, 11, 12, 13, 14, 15, 16,\n",
       "       17, 18, 19, 20, 21, 22, 23, 24, 25, 26, 27, 28, 29, 30, 31, 32, 33,\n",
       "       34, 35, 36, 37, 38, 39, 40, 41, 42, 43, 44, 45, 46, 47, 48, 49])"
      ]
     },
     "execution_count": 77,
     "metadata": {},
     "output_type": "execute_result"
    }
   ],
   "source": [
    "sin_wave"
   ]
  },
  {
   "cell_type": "code",
   "execution_count": 78,
   "metadata": {},
   "outputs": [],
   "source": [
    "\n",
    "for i in range(num_records - 2):\n",
    "    X.append(sin_wave[i:i+seq_len])\n",
    "    Y.append(sin_wave[i+seq_len])"
   ]
  },
  {
   "cell_type": "code",
   "execution_count": 79,
   "metadata": {},
   "outputs": [
    {
     "data": {
      "text/plain": [
       "[array([0, 1, 2, 3]),\n",
       " array([1, 2, 3, 4]),\n",
       " array([2, 3, 4, 5]),\n",
       " array([3, 4, 5, 6]),\n",
       " array([4, 5, 6, 7])]"
      ]
     },
     "execution_count": 79,
     "metadata": {},
     "output_type": "execute_result"
    }
   ],
   "source": [
    "X[:5]"
   ]
  },
  {
   "cell_type": "code",
   "execution_count": null,
   "metadata": {},
   "outputs": [],
   "source": [
    "'''\n",
    "We are considering first 4 records as input and Next immediate record as output \n",
    "You can see the same below\n",
    "\n",
    "'''"
   ]
  },
  {
   "cell_type": "code",
   "execution_count": 83,
   "metadata": {},
   "outputs": [
    {
     "data": {
      "text/plain": [
       "[4, 5, 6, 7, 8, 9]"
      ]
     },
     "execution_count": 83,
     "metadata": {},
     "output_type": "execute_result"
    }
   ],
   "source": [
    "Y[:6]"
   ]
  },
  {
   "cell_type": "code",
   "execution_count": 84,
   "metadata": {},
   "outputs": [
    {
     "data": {
      "text/plain": [
       "44"
      ]
     },
     "execution_count": 84,
     "metadata": {},
     "output_type": "execute_result"
    }
   ],
   "source": [
    "len(X)"
   ]
  },
  {
   "cell_type": "code",
   "execution_count": 85,
   "metadata": {},
   "outputs": [],
   "source": [
    "# Convert the input data in teh format of [batchsize,timestep,input feaures]\n",
    "\n",
    "X = np.array(X)\n",
    "X = np.expand_dims(X, axis=2)"
   ]
  },
  {
   "cell_type": "code",
   "execution_count": 89,
   "metadata": {},
   "outputs": [
    {
     "data": {
      "text/plain": [
       "(44, 4, 1)"
      ]
     },
     "execution_count": 89,
     "metadata": {},
     "output_type": "execute_result"
    }
   ],
   "source": [
    "X.shape  # batches = 44; timestep 4; input features = 1\n"
   ]
  },
  {
   "cell_type": "code",
   "execution_count": 90,
   "metadata": {},
   "outputs": [
    {
     "data": {
      "text/plain": [
       "array([[0],\n",
       "       [1],\n",
       "       [2],\n",
       "       [3]])"
      ]
     },
     "execution_count": 90,
     "metadata": {},
     "output_type": "execute_result"
    }
   ],
   "source": [
    "X[0]   # first sample"
   ]
  },
  {
   "cell_type": "code",
   "execution_count": 91,
   "metadata": {},
   "outputs": [],
   "source": [
    "def sigmoid(x):\n",
    "    return 1 / (1 + np.exp(-x))"
   ]
  },
  {
   "cell_type": "code",
   "execution_count": 92,
   "metadata": {},
   "outputs": [],
   "source": [
    "# Define the RNN Archirecture for "
   ]
  },
  {
   "cell_type": "code",
   "execution_count": 93,
   "metadata": {},
   "outputs": [
    {
     "name": "stdout",
     "output_type": "stream",
     "text": [
      "Time_step=2\n",
      "Hidden unit defined= 8\n",
      "\n",
      "Shape of the weights:\n",
      "U:(8, 4) = Input to Hidden \n",
      "V:(1, 8) = Previous to Hidden \n",
      "W:(8, 8) = Hiden to Output\n",
      "prev_s:(8, 1) = previous output\n"
     ]
    }
   ],
   "source": [
    "timestep = 4\n",
    "\n",
    "hidden_dim = 8 # hidden unit\n",
    "output_dim = 1\n",
    "\n",
    "U = np.random.uniform(0, 1, (hidden_dim, timestep))  # weights between input and hidden layers\n",
    "V = np.random.uniform(0, 1, (output_dim, hidden_dim)) # weights between hidden and output layers\n",
    "W = np.random.uniform(0, 1, (hidden_dim, hidden_dim)) # shared weights in the RNN layer (hidden layer)\n",
    "\n",
    "prev_s = np.zeros((hidden_dim, 1))\n",
    "\n",
    "print(\"Time_step=2\")\n",
    "print(\"Hidden unit defined=\",hidden_dim)\n",
    "\n",
    "print(\"\\nShape of the weights:\")\n",
    "print(\"U:{0} = Input to Hidden \\nV:{1} = Previous to Hidden \\nW:{2} = Hiden to Output\".format(U.shape,V.shape,W.shape))\n",
    "print(\"prev_s:{0} = previous output\".format(prev_s.shape))"
   ]
  },
  {
   "cell_type": "code",
   "execution_count": null,
   "metadata": {},
   "outputs": [],
   "source": [
    "'''\n",
    "In the real scenario there will be 3 for loop will be implemented\n",
    "\n",
    "1. Epoch\n",
    "2. Number of samples\n",
    "3. Timestep \n",
    "\n",
    "\n",
    "for epoch in range(epocs):\n",
    "    for i in range(y.shape[0]):\n",
    "        for t in range(timestep)\n",
    "            ....\n",
    "                RNN Implementation\n",
    "            ....\n",
    "            total loss for all time step\n",
    "    ....\n",
    "    Average the loss\n",
    "    ....\n",
    "\n",
    "'''"
   ]
  },
  {
   "cell_type": "code",
   "execution_count": null,
   "metadata": {},
   "outputs": [],
   "source": []
  },
  {
   "cell_type": "code",
   "execution_count": 95,
   "metadata": {},
   "outputs": [
    {
     "name": "stdout",
     "output_type": "stream",
     "text": [
      "Looking at my Input Shape\n",
      "(44, 4, 1)\n",
      "Time_step=2\n",
      "Hidden unit defined= 8\n",
      "\n",
      "\n",
      "Weight shape from input to hidden unit (U): (8, 4)\n",
      "Weight shape from Hidden to output (V): (1, 8)\n",
      "Weight shape from previous output to hidden unit (W): (8, 8)\n",
      "***************************\n",
      "Calculation for the 0 Time step value\n",
      "[[0.]\n",
      " [0.]\n",
      " [0.]\n",
      " [0.]]\n",
      "Shape: (4, 1)\n",
      "Step 1: Dot product of the Input Sequence and U Weights\n",
      "\tWeights from input to hidden shape: (8, 4)\n",
      "\tU:(8, 4) and X_0:(4, 1)\n",
      "\tShape of the output from tStep 1:  (8, 1)\n",
      "Step 2: Dot product of previous or shared weights and Hidden units\n",
      "\tWights from previous or Shared to hidden shape: (1, 8)\n",
      "\tV:(1, 8) and prev_s0:(8, 1)\n",
      "\tShape of the output from Step 2:  (1, 1)\n",
      "Step 3: Add the output from Step1 and Step2\n",
      "\tShape of the output from Step 3:(8, 1)\n",
      "Step 4: Sigmoid Function of Step 3 output\n",
      "\tShape of the output from Step 4:(8, 1)\n",
      "Step5: Dot product of output form step4 and  weights b/w hidden to output layers\n",
      "\n",
      "Note : Use the Output from the Step 4 (sigmoid) to Next timestep calculation\n",
      "***************************\n",
      "Calculation for the 1 Time step value\n",
      "[[0.]\n",
      " [1.]\n",
      " [0.]\n",
      " [0.]]\n",
      "Shape: (4, 1)\n",
      "Step 1: Dot product of the Input Sequence and U Weights\n",
      "\tWeights from input to hidden shape: (8, 4)\n",
      "\tU:(8, 4) and X_1:(4, 1)\n",
      "\tShape of the output from tStep 1:  (8, 1)\n",
      "Step 2: Dot product of previous or shared weights and Hidden units\n",
      "\tWights from previous or Shared to hidden shape: (1, 8)\n",
      "\tV:(1, 8) and prev_s1:(8, 1)\n",
      "\tShape of the output from Step 2:  (1, 1)\n",
      "Step 3: Add the output from Step1 and Step2\n",
      "\tShape of the output from Step 3:(8, 1)\n",
      "Step 4: Sigmoid Function of Step 3 output\n",
      "\tShape of the output from Step 4:(8, 1)\n",
      "Step5: Dot product of output form step4 and  weights b/w hidden to output layers\n",
      "\n",
      "Note : Use the Output from the Step 4 (sigmoid) to Next timestep calculation\n",
      "***************************\n",
      "Calculation for the 2 Time step value\n",
      "[[0.]\n",
      " [0.]\n",
      " [2.]\n",
      " [0.]]\n",
      "Shape: (4, 1)\n",
      "Step 1: Dot product of the Input Sequence and U Weights\n",
      "\tWeights from input to hidden shape: (8, 4)\n",
      "\tU:(8, 4) and X_2:(4, 1)\n",
      "\tShape of the output from tStep 1:  (8, 1)\n",
      "Step 2: Dot product of previous or shared weights and Hidden units\n",
      "\tWights from previous or Shared to hidden shape: (1, 8)\n",
      "\tV:(1, 8) and prev_s2:(8, 1)\n",
      "\tShape of the output from Step 2:  (1, 1)\n",
      "Step 3: Add the output from Step1 and Step2\n",
      "\tShape of the output from Step 3:(8, 1)\n",
      "Step 4: Sigmoid Function of Step 3 output\n",
      "\tShape of the output from Step 4:(8, 1)\n",
      "Step5: Dot product of output form step4 and  weights b/w hidden to output layers\n",
      "\n",
      "Note : Use the Output from the Step 4 (sigmoid) to Next timestep calculation\n",
      "***************************\n",
      "Calculation for the 3 Time step value\n",
      "[[0.]\n",
      " [0.]\n",
      " [0.]\n",
      " [3.]]\n",
      "Shape: (4, 1)\n",
      "Step 1: Dot product of the Input Sequence and U Weights\n",
      "\tWeights from input to hidden shape: (8, 4)\n",
      "\tU:(8, 4) and X_3:(4, 1)\n",
      "\tShape of the output from tStep 1:  (8, 1)\n",
      "Step 2: Dot product of previous or shared weights and Hidden units\n",
      "\tWights from previous or Shared to hidden shape: (1, 8)\n",
      "\tV:(1, 8) and prev_s3:(8, 1)\n",
      "\tShape of the output from Step 2:  (1, 1)\n",
      "Step 3: Add the output from Step1 and Step2\n",
      "\tShape of the output from Step 3:(8, 1)\n",
      "Step 4: Sigmoid Function of Step 3 output\n",
      "\tShape of the output from Step 4:(8, 1)\n",
      "Step5: Dot product of output form step4 and  weights b/w hidden to output layers\n",
      "\n",
      "Note : Use the Output from the Step 4 (sigmoid) to Next timestep calculation\n"
     ]
    }
   ],
   "source": [
    "# lets Understnd how RNN calculating on the timestep for loop\n",
    "\n",
    "print(\"Looking at my Input Shape\")\n",
    "print(X.shape)# Batches 0r samples = 44 and timestep = 4 and input feature =1\n",
    "\n",
    "print(\"Time_step=2\")\n",
    "print(\"Hidden unit defined=\",hidden_dim)\n",
    "\n",
    "print(\"\\n\")\n",
    "\n",
    "print(\"Weight shape from input to hidden unit (U):\",U.shape)  # 5 becase my input sequence length is 5\n",
    "print(\"Weight shape from Hidden to output (V):\",V.shape)\n",
    "print(\"Weight shape from previous output to hidden unit (W):\",W.shape)\n",
    "\n",
    "\n",
    "for t in range(timestep):\n",
    "    print(\"***************************\")\n",
    "    print(\"Calculation for the {} Time step value\".format(t))\n",
    "    x = X[0] # conisder First sample or Batch Data\n",
    "    \n",
    "    new_input = np.zeros(x.shape)\n",
    "    new_input[t] = x[t]\n",
    "    \n",
    "    print(new_input)\n",
    "    print(\"Shape:\",new_input.shape)\n",
    "    \n",
    "    print(\"Step 1: Dot product of the Input Sequence and U Weights\")\n",
    "    print(\"\\tWeights from input to hidden shape:\",U.shape)\n",
    "    print(\"\\tU:{0} and X_{1}:{2}\".format(U.shape,t,new_input.shape))\n",
    "    \n",
    "    mulu = np.dot(U, new_input)\n",
    "    \n",
    "    print(\"\\tShape of the output from tStep 1: \",mulu.shape)\n",
    "    \n",
    "    print(\"Step 2: Dot product of previous or shared weights and Hidden units\")\n",
    "    print(\"\\tWights from previous or Shared to hidden shape:\",V.shape)\n",
    "    print(\"\\tV:{0} and prev_s{1}:{2}\".format(V.shape,t,prev_s.shape))\n",
    "    \n",
    "    mulw = np.dot(V, prev_s)\n",
    "    \n",
    "    print(\"\\tShape of the output from Step 2: \",mulw.shape)\n",
    "    \n",
    "    print(\"Step 3: Add the output from Step1 and Step2\")\n",
    "    \n",
    "    add = mulw + mulu    # add the both\n",
    "    \n",
    "    print(\"\\tShape of the output from Step 3:{0}\".format(add.shape))\n",
    "\n",
    "    print(\"Step 4: Sigmoid Function of Step 3 output\")\n",
    "    \n",
    "    s = sigmoid(add)   # (10,1)\n",
    "    \n",
    "    print(\"\\tShape of the output from Step 4:{0}\".format(s.shape))\n",
    "\n",
    "    print(\"Step5: Dot product of output form step4 and  weights b/w hidden to output layers\")\n",
    "    mulv = np.dot(W, s) \n",
    "    #print(mulv)\n",
    "    \n",
    "    print(\"\\nNote : Use the Output from the Step 4 (sigmoid) to Next timestep calculation\")\n",
    "    prev_s = s"
   ]
  },
  {
   "cell_type": "code",
   "execution_count": null,
   "metadata": {},
   "outputs": [],
   "source": []
  }
 ],
 "metadata": {
  "kernelspec": {
   "display_name": "Python 3",
   "language": "python",
   "name": "python3"
  },
  "language_info": {
   "codemirror_mode": {
    "name": "ipython",
    "version": 3
   },
   "file_extension": ".py",
   "mimetype": "text/x-python",
   "name": "python",
   "nbconvert_exporter": "python",
   "pygments_lexer": "ipython3",
   "version": "3.7.4"
  }
 },
 "nbformat": 4,
 "nbformat_minor": 2
}
