{
 "cells": [
  {
   "cell_type": "code",
   "execution_count": null,
   "metadata": {},
   "outputs": [],
   "source": [
    "def sigmoid(x):\n",
    "    return 1 / (1 + np.exp(-x))"
   ]
  },
  {
   "cell_type": "code",
   "execution_count": null,
   "metadata": {},
   "outputs": [],
   "source": [
    "'''\n",
    "\n",
    "\"thanks for an excellent report\"\n",
    "\n",
    "# Step1 : split the test\n",
    "['thanks','for','an','excellent','report']\n",
    "\n",
    "# Step 2: Interger Concoding\n",
    "# word to Integer encoding\n",
    "{\n",
    "    'thanks' : 38,\n",
    "    'for' : 39,\n",
    "    'an' : 40,\n",
    "    'excellent' : 19\n",
    "    'report' :2\n",
    "}\n",
    "\n",
    "['thanks','for','an','excellent','report'] = [38, 39, 40, 19,  2]\n",
    "\n",
    "# One Hot Encoding for the Same is \n",
    "\n",
    "array([[0., 0., 0., 0., 0., 0., 0., 0., 0., 0., 0., 0., 0., 0., 0., 0.,\n",
    "        0., 0., 0., 0., 0., 0., 0., 0., 0., 0., 0., 0., 0., 0., 0., 0.,\n",
    "        0., 0., 0., 0., 0., 0., 1., 0., 0.],\n",
    "       [0., 0., 0., 0., 0., 0., 0., 0., 0., 0., 0., 0., 0., 0., 0., 0.,\n",
    "        0., 0., 0., 0., 0., 0., 0., 0., 0., 0., 0., 0., 0., 0., 0., 0.,\n",
    "        0., 0., 0., 0., 0., 0., 0., 1., 0.],\n",
    "       [0., 0., 0., 0., 0., 0., 0., 0., 0., 0., 0., 0., 0., 0., 0., 0.,\n",
    "        0., 0., 0., 0., 0., 0., 0., 0., 0., 0., 0., 0., 0., 0., 0., 0.,\n",
    "        0., 0., 0., 0., 0., 0., 0., 0., 1.],\n",
    "       [0., 0., 0., 0., 0., 0., 0., 0., 0., 0., 0., 0., 0., 0., 0., 0.,\n",
    "        0., 0., 0., 1., 0., 0., 0., 0., 0., 0., 0., 0., 0., 0., 0., 0.,\n",
    "        0., 0., 0., 0., 0., 0., 0., 0., 0.],\n",
    "       [0., 0., 1., 0., 0., 0., 0., 0., 0., 0., 0., 0., 0., 0., 0., 0.,\n",
    "        0., 0., 0., 0., 0., 0., 0., 0., 0., 0., 0., 0., 0., 0., 0., 0.,\n",
    "        0., 0., 0., 0., 0., 0., 0., 0., 0.]], dtype=float32)\n",
    "        \n",
    "# Shape : (5,41)\n",
    "\n",
    "'''"
   ]
  },
  {
   "cell_type": "code",
   "execution_count": 225,
   "metadata": {},
   "outputs": [],
   "source": [
    "One_hot_enc = to_categorical([38, 39, 40, 19,  2], num_classes=num_classes)"
   ]
  },
  {
   "cell_type": "code",
   "execution_count": 226,
   "metadata": {},
   "outputs": [
    {
     "data": {
      "text/plain": [
       "(5, 41)"
      ]
     },
     "execution_count": 226,
     "metadata": {},
     "output_type": "execute_result"
    }
   ],
   "source": [
    "One_hot_enc.shape"
   ]
  },
  {
   "cell_type": "code",
   "execution_count": 232,
   "metadata": {},
   "outputs": [],
   "source": [
    "# first Time stamp \n",
    "# (10,41)(41,1)\n",
    "\n",
    "timestep = 41\n",
    "hidden_dim = 10\n",
    "output_dim= 1\n",
    "prev_s = np.zeros((hidden_dim, 1))\n",
    "\n",
    "U = np.random.uniform(0,1,(hidden_dim,timestep))\n",
    "V = np.random.uniform(0, 1, (output_dim, hidden_dim))\n",
    "\n",
    "W = np.random.uniform(0,1,(hidden_dim,hidden_dim))"
   ]
  },
  {
   "cell_type": "code",
   "execution_count": 239,
   "metadata": {},
   "outputs": [
    {
     "name": "stdout",
     "output_type": "stream",
     "text": [
      "Outpu for the Timestep:0\n",
      "[[5.18524759]\n",
      " [5.86084101]\n",
      " [5.80918014]\n",
      " [5.73792418]\n",
      " [6.08850407]\n",
      " [6.23735258]\n",
      " [4.18456115]\n",
      " [3.88560102]\n",
      " [4.96861081]\n",
      " [4.93306849]]\n",
      "Outpu for the Timestep:1\n",
      "[[5.18524759]\n",
      " [5.86084101]\n",
      " [5.80918014]\n",
      " [5.73792418]\n",
      " [6.08850407]\n",
      " [6.23735258]\n",
      " [4.18456115]\n",
      " [3.88560102]\n",
      " [4.96861081]\n",
      " [4.93306849]]\n",
      "Outpu for the Timestep:2\n",
      "[[5.18524759]\n",
      " [5.86084101]\n",
      " [5.80918014]\n",
      " [5.73792418]\n",
      " [6.08850407]\n",
      " [6.23735258]\n",
      " [4.18456115]\n",
      " [3.88560102]\n",
      " [4.96861081]\n",
      " [4.93306849]]\n",
      "Outpu for the Timestep:3\n",
      "[[5.18524759]\n",
      " [5.86084101]\n",
      " [5.80918014]\n",
      " [5.73792418]\n",
      " [6.08850407]\n",
      " [6.23735258]\n",
      " [4.18456115]\n",
      " [3.88560102]\n",
      " [4.96861081]\n",
      " [4.93306849]]\n",
      "Outpu for the Timestep:4\n",
      "[[5.18524759]\n",
      " [5.86084101]\n",
      " [5.80918014]\n",
      " [5.73792418]\n",
      " [6.08850407]\n",
      " [6.23735258]\n",
      " [4.18456115]\n",
      " [3.88560102]\n",
      " [4.96861081]\n",
      " [4.93306849]]\n"
     ]
    }
   ],
   "source": [
    "timestep = 5\n",
    "\n",
    "for t in range(timestep):\n",
    "    input = One_hot_enc[t].reshape(41,1)\n",
    "\n",
    "    g1 = np.dot(U,input)\n",
    "    g2 = np.dot(V,prev_s)\n",
    "    \n",
    "    add = g1 + g2 \n",
    "    \n",
    "    s = sigmoid(add)\n",
    "    \n",
    "    o = np.dot(W,s)\n",
    "    \n",
    "    prev_s = o\n",
    "    \n",
    "    print(\"Outpu for the Timestep:{0}\".format(t))\n",
    "    print(o)"
   ]
  },
  {
   "cell_type": "code",
   "execution_count": null,
   "metadata": {},
   "outputs": [],
   "source": []
  },
  {
   "cell_type": "code",
   "execution_count": null,
   "metadata": {},
   "outputs": [],
   "source": []
  },
  {
   "cell_type": "code",
   "execution_count": null,
   "metadata": {},
   "outputs": [],
   "source": []
  },
  {
   "cell_type": "code",
   "execution_count": null,
   "metadata": {},
   "outputs": [],
   "source": []
  },
  {
   "cell_type": "code",
   "execution_count": null,
   "metadata": {},
   "outputs": [],
   "source": []
  },
  {
   "cell_type": "code",
   "execution_count": null,
   "metadata": {},
   "outputs": [],
   "source": []
  },
  {
   "cell_type": "code",
   "execution_count": null,
   "metadata": {},
   "outputs": [],
   "source": []
  },
  {
   "cell_type": "code",
   "execution_count": null,
   "metadata": {},
   "outputs": [],
   "source": []
  },
  {
   "cell_type": "code",
   "execution_count": null,
   "metadata": {},
   "outputs": [],
   "source": []
  }
 ],
 "metadata": {
  "kernelspec": {
   "display_name": "Python 3",
   "language": "python",
   "name": "python3"
  },
  "language_info": {
   "codemirror_mode": {
    "name": "ipython",
    "version": 3
   },
   "file_extension": ".py",
   "mimetype": "text/x-python",
   "name": "python",
   "nbconvert_exporter": "python",
   "pygments_lexer": "ipython3",
   "version": "3.7.4"
  }
 },
 "nbformat": 4,
 "nbformat_minor": 2
}
