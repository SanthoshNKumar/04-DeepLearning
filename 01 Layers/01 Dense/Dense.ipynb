{
 "cells": [
  {
   "cell_type": "code",
   "execution_count": null,
   "metadata": {},
   "outputs": [],
   "source": [
    "'''\n",
    "Dense layer or Fully Connected Layer\n",
    "\n",
    "\n",
    "y = mX + b\n",
    "\n",
    "'''"
   ]
  },
  {
   "cell_type": "code",
   "execution_count": null,
   "metadata": {},
   "outputs": [],
   "source": [
    "import tensorflow as tf\n",
    "tf.enable_eager_execution()"
   ]
  },
  {
   "cell_type": "code",
   "execution_count": null,
   "metadata": {},
   "outputs": [],
   "source": [
    "import numpy as np\n",
    "\n",
    "from tensorflow.keras.models import Model\n",
    "from tensorflow.keras.layers import Dense,Input"
   ]
  },
  {
   "cell_type": "code",
   "execution_count": 4,
   "metadata": {},
   "outputs": [],
   "source": [
    "# set some Global Varibales \n",
    "\n",
    "input_size = 2\n",
    "batch_size =10\n",
    "dense_unit=5"
   ]
  },
  {
   "cell_type": "code",
   "execution_count": 5,
   "metadata": {},
   "outputs": [
    {
     "data": {
      "text/plain": [
       "array([[68,  9],\n",
       "       [27, 94],\n",
       "       [70, 22],\n",
       "       [30, 68],\n",
       "       [92, 23],\n",
       "       [73, 23],\n",
       "       [31, 20],\n",
       "       [36, 65],\n",
       "       [ 2, 86],\n",
       "       [96,  7]])"
      ]
     },
     "execution_count": 5,
     "metadata": {},
     "output_type": "execute_result"
    }
   ],
   "source": [
    "# define input to Model\n",
    "\n",
    "in_np  = np.random.randint(1,100,size=(batch_size,input_size))\n",
    "\n",
    "in_np"
   ]
  },
  {
   "cell_type": "code",
   "execution_count": 6,
   "metadata": {},
   "outputs": [],
   "source": [
    "# Build model using consisting of single Dense Layer\n",
    "\n",
    "ins = Input(input_size,name='My_input')\n",
    "out = Dense(dense_unit,use_bias='False',name=\"my_output\")(ins)\n",
    "\n",
    "model = Model(inputs=ins,outputs=out)"
   ]
  },
  {
   "cell_type": "code",
   "execution_count": 7,
   "metadata": {},
   "outputs": [],
   "source": [
    "out_np = model.predict(in_np)"
   ]
  },
  {
   "cell_type": "code",
   "execution_count": 8,
   "metadata": {},
   "outputs": [
    {
     "data": {
      "text/plain": [
       "array([[ 23.908571 , -25.157106 , -60.973045 ,  10.42103  ,  11.125078 ],\n",
       "       [ 50.909958 , -27.232204 ,  -9.702179 ,  59.921234 , -56.656384 ],\n",
       "       [ 30.444744 , -28.325504 , -60.723167 ,  18.583847 ,   2.8509178],\n",
       "       [ 39.87445  , -23.308441 , -16.627218 ,  44.096817 , -38.337097 ],\n",
       "       [ 37.304253 , -36.100018 , -80.756454 ,  20.776003 ,   7.7414074],\n",
       "       [ 31.775692 , -29.55035  , -63.316414 ,  19.41555  ,   2.9345055],\n",
       "       [ 18.180618 , -14.500078 , -25.246067 ,  14.557551 ,  -5.665086 ],\n",
       "       [ 40.24626  , -24.804688 , -22.615908 ,  42.67576  , -34.792942 ],\n",
       "       [ 39.971405 , -17.088709 ,  11.961746 ,  53.196022 , -57.578083 ],\n",
       "       [ 31.139887 , -34.427864 , -86.995026 ,  11.192123 ,  19.559725 ]],\n",
       "      dtype=float32)"
      ]
     },
     "execution_count": 8,
     "metadata": {},
     "output_type": "execute_result"
    }
   ],
   "source": [
    "out_np"
   ]
  },
  {
   "cell_type": "code",
   "execution_count": 9,
   "metadata": {},
   "outputs": [
    {
     "data": {
      "text/plain": [
       "(10, 5)"
      ]
     },
     "execution_count": 9,
     "metadata": {},
     "output_type": "execute_result"
    }
   ],
   "source": [
    "out_np.shape   # 10 batches and 5 = Neurons"
   ]
  },
  {
   "cell_type": "code",
   "execution_count": 10,
   "metadata": {},
   "outputs": [],
   "source": [
    "# Get all the layesr in the model"
   ]
  },
  {
   "cell_type": "code",
   "execution_count": 11,
   "metadata": {},
   "outputs": [
    {
     "data": {
      "text/plain": [
       "[<tensorflow.python.keras.engine.input_layer.InputLayer at 0x1cf9cf80288>,\n",
       " <tensorflow.python.keras.layers.core.Dense at 0x1cf9cf74d08>]"
      ]
     },
     "execution_count": 11,
     "metadata": {},
     "output_type": "execute_result"
    }
   ],
   "source": [
    "model.layers"
   ]
  },
  {
   "cell_type": "code",
   "execution_count": 12,
   "metadata": {},
   "outputs": [],
   "source": [
    "dense_layer = model.get_layer('my_output')"
   ]
  },
  {
   "cell_type": "code",
   "execution_count": 13,
   "metadata": {},
   "outputs": [
    {
     "data": {
      "text/plain": [
       "<tf.Tensor 'My_input:0' shape=(?, 2) dtype=float32>"
      ]
     },
     "execution_count": 13,
     "metadata": {},
     "output_type": "execute_result"
    }
   ],
   "source": [
    "dense_layer.input"
   ]
  },
  {
   "cell_type": "code",
   "execution_count": 14,
   "metadata": {},
   "outputs": [
    {
     "data": {
      "text/plain": [
       "(None, 2)"
      ]
     },
     "execution_count": 14,
     "metadata": {},
     "output_type": "execute_result"
    }
   ],
   "source": [
    "dense_layer.input_shape   # None= bathc_size and 2 = Features"
   ]
  },
  {
   "cell_type": "code",
   "execution_count": 15,
   "metadata": {},
   "outputs": [
    {
     "data": {
      "text/plain": [
       "<tf.Tensor 'my_output/Identity:0' shape=(?, 5) dtype=float32>"
      ]
     },
     "execution_count": 15,
     "metadata": {},
     "output_type": "execute_result"
    }
   ],
   "source": [
    "dense_layer.output"
   ]
  },
  {
   "cell_type": "code",
   "execution_count": 32,
   "metadata": {},
   "outputs": [],
   "source": [
    "dense_w = dense_layer.weights[0].numpy()"
   ]
  },
  {
   "cell_type": "code",
   "execution_count": 33,
   "metadata": {},
   "outputs": [
    {
     "data": {
      "text/plain": [
       "(2, 5)"
      ]
     },
     "execution_count": 33,
     "metadata": {},
     "output_type": "execute_result"
    }
   ],
   "source": [
    "dense_w.shape"
   ]
  },
  {
   "cell_type": "code",
   "execution_count": 34,
   "metadata": {},
   "outputs": [
    {
     "data": {
      "text/plain": [
       "array([[ 0.29097676, -0.34471917, -0.9178967 ,  0.07160282,  0.25299478],\n",
       "       [ 0.45801687, -0.1906892 ,  0.16043651,  0.6168932 , -0.6753962 ]],\n",
       "      dtype=float32)"
      ]
     },
     "execution_count": 34,
     "metadata": {},
     "output_type": "execute_result"
    }
   ],
   "source": [
    "dense_w"
   ]
  },
  {
   "cell_type": "code",
   "execution_count": 35,
   "metadata": {},
   "outputs": [
    {
     "data": {
      "text/plain": [
       "array([[ 23.90857172, -25.15710652, -60.97304618,  10.4210304 ,\n",
       "         11.12507892],\n",
       "       [ 50.9099586 , -27.23220301,  -9.70217854,  59.92123437,\n",
       "        -56.65638423],\n",
       "       [ 30.44474459, -28.32550454, -60.72316492,  18.58384728,\n",
       "          2.85091782],\n",
       "       [ 39.87445021, -23.30844116, -16.62721789,  44.09682035,\n",
       "        -38.3370986 ],\n",
       "       [ 37.30425024, -36.10001552, -80.75645554,  20.77600253,\n",
       "          7.74140668],\n",
       "       [ 31.77569175, -29.55035126, -63.31641847,  19.41554892,\n",
       "          2.93450594],\n",
       "       [ 18.18061709, -14.50007844, -25.24606711,  14.55755091,\n",
       "         -5.66508603],\n",
       "       [ 40.24626017, -24.80468857, -22.61590755,  42.67575777,\n",
       "        -34.79294133],\n",
       "       [ 39.97140455, -17.08871007,  11.96174657,  53.19601846,\n",
       "        -57.57808399],\n",
       "       [ 31.13988733, -34.42786491, -86.99502647,  11.19212306,\n",
       "         19.55972505]])"
      ]
     },
     "execution_count": 35,
     "metadata": {},
     "output_type": "execute_result"
    }
   ],
   "source": [
    "np.matmul(in_np,dense_w)"
   ]
  },
  {
   "cell_type": "code",
   "execution_count": null,
   "metadata": {},
   "outputs": [],
   "source": [
    "# output form our model consisting of a single dense layer is simplicity the matrix multiplication of input and weights matrix\n",
    "# as seen below"
   ]
  },
  {
   "cell_type": "code",
   "execution_count": null,
   "metadata": {},
   "outputs": [],
   "source": [
    "# using Bias\n"
   ]
  },
  {
   "cell_type": "code",
   "execution_count": 36,
   "metadata": {},
   "outputs": [],
   "source": [
    "\n",
    "ins = Input(input_size,name='My_input')\n",
    "out = Dense(dense_unit,use_bias='True',name=\"my_output\")(ins)\n",
    "\n",
    "model = Model(inputs=ins,outputs=out)"
   ]
  },
  {
   "cell_type": "code",
   "execution_count": 37,
   "metadata": {},
   "outputs": [],
   "source": [
    "out_np = model.predict(in_np)"
   ]
  },
  {
   "cell_type": "code",
   "execution_count": 38,
   "metadata": {},
   "outputs": [
    {
     "data": {
      "text/plain": [
       "array([[-26.33514   , -38.006035  , -31.740126  ,  21.01604   ,\n",
       "          9.93193   ],\n",
       "       [ 59.530945  , -19.875679  , -95.07985   ,  78.657906  ,\n",
       "         61.227367  ],\n",
       "       [-17.252941  , -39.797764  , -44.289406  ,  31.536797  ,\n",
       "         18.291664  ],\n",
       "       [ 37.938522  , -20.155579  , -72.40363   ,  59.05941   ,\n",
       "         44.9434    ],\n",
       "       [-27.252785  , -51.992672  , -52.814564  ,  36.849564  ,\n",
       "         20.293861  ],\n",
       "       [-17.948128  , -41.50641   , -46.23964   ,  32.932808  ,\n",
       "         19.11179   ],\n",
       "       [  0.29815292, -18.167496  , -28.969324  ,  21.941986  ,\n",
       "         14.598339  ],\n",
       "       [ 32.67829   , -23.30828   , -71.74365   ,  57.963554  ,\n",
       "         43.416233  ],\n",
       "       [ 65.582146  ,  -5.6546335 , -79.131905  ,  67.28368   ,\n",
       "         54.604134  ],\n",
       "       [-41.59521   , -53.35364   , -39.60531   ,  25.232956  ,\n",
       "         10.406958  ]], dtype=float32)"
      ]
     },
     "execution_count": 38,
     "metadata": {},
     "output_type": "execute_result"
    }
   ],
   "source": [
    "out_np"
   ]
  },
  {
   "cell_type": "code",
   "execution_count": 42,
   "metadata": {},
   "outputs": [],
   "source": [
    "dense_w = model.weights[0].numpy()\n",
    "dense_b = model.weights[1].numpy()"
   ]
  },
  {
   "cell_type": "code",
   "execution_count": 43,
   "metadata": {},
   "outputs": [
    {
     "data": {
      "text/plain": [
       "array([[-26.33513892, -38.00603384, -31.74012542,  21.01604009,\n",
       "          9.93192995],\n",
       "       [ 59.53094935, -19.87568045, -95.0798468 ,  78.65790379,\n",
       "         61.22736949],\n",
       "       [-17.25294185, -39.79776514, -44.28940284,  31.53679633,\n",
       "         18.29166281],\n",
       "       [ 37.93852282, -20.15557814, -72.40363252,  59.05940747,\n",
       "         44.94340312],\n",
       "       [-27.25278604, -51.99267107, -52.81456399,  36.84956431,\n",
       "         20.29386008],\n",
       "       [-17.94812667, -41.50640744, -46.23963958,  32.93280613,\n",
       "         19.11179036],\n",
       "       [  0.29815197, -18.16749632, -28.96932381,  21.9419862 ,\n",
       "         14.59833926],\n",
       "       [ 32.67829359, -23.30828041, -71.74365211,  57.96355557,\n",
       "         43.41623342],\n",
       "       [ 65.58214688,  -5.6546334 , -79.13190424,  67.2836802 ,\n",
       "         54.60413492],\n",
       "       [-41.59521234, -53.35364205, -39.60530615,  25.23295617,\n",
       "         10.40695751]])"
      ]
     },
     "execution_count": 43,
     "metadata": {},
     "output_type": "execute_result"
    }
   ],
   "source": [
    "\n",
    "# Manully calculating the same\n",
    "np.matmul(in_np,dense_w) + dense_b"
   ]
  },
  {
   "cell_type": "code",
   "execution_count": 44,
   "metadata": {},
   "outputs": [],
   "source": [
    "# use Bias_initializer\n",
    "\n",
    "ins = Input(input_size,name='My_input')\n",
    "out = Dense(dense_unit,use_bias='True',bias_initializer='ones',name=\"my_output\")(ins)\n",
    "\n",
    "model = Model(inputs=ins,outputs=out)"
   ]
  },
  {
   "cell_type": "code",
   "execution_count": 47,
   "metadata": {},
   "outputs": [
    {
     "data": {
      "text/plain": [
       "array([[  4.4803467, -32.224022 , -53.475082 , -45.290302 ,  -5.8059454],\n",
       "       [-37.375027 ,   2.0455904,  30.50458  , -45.589973 ,  80.65263  ],\n",
       "       [ -1.0164933, -31.196053 , -47.875732 , -50.62476  ,   5.5924206],\n",
       "       [-25.615742 ,  -3.5763435,  13.17425  , -39.3972   ,  56.311516 ],\n",
       "       [  0.9500284, -42.246006 , -66.581085 , -65.00463  ,   1.6493759],\n",
       "       [ -1.1280375, -32.566887 , -49.938095 , -52.85508  ,   5.84128  ],\n",
       "       [ -4.4026766, -11.643284 , -14.844753 , -25.062275 ,  12.375376 ],\n",
       "       [-23.64053  ,  -7.1052513,   6.222126 , -42.298004 ,  52.25554  ],\n",
       "       [-36.59204  ,  13.521688 ,  47.879414 , -27.107992 ,  78.88238  ],\n",
       "       [  8.422081 , -46.802883 , -79.13257  , -62.57097  , -13.804968 ]],\n",
       "      dtype=float32)"
      ]
     },
     "execution_count": 47,
     "metadata": {},
     "output_type": "execute_result"
    }
   ],
   "source": [
    "out_np = model.predict(in_np)\n",
    "\n",
    "out_np"
   ]
  },
  {
   "cell_type": "code",
   "execution_count": 49,
   "metadata": {},
   "outputs": [],
   "source": [
    "# Verify the model output obtaiing following equation\n",
    "\n",
    "dense_w = model.weights[0].numpy()\n",
    "dense_b = model.weights[1].numpy()"
   ]
  },
  {
   "cell_type": "code",
   "execution_count": 52,
   "metadata": {},
   "outputs": [
    {
     "data": {
      "text/plain": [
       "array([[ 0.1093719 , -0.5094273 , -0.8759471 , -0.6394501 , -0.22062653],\n",
       "       [-0.43966028,  0.15744817,  0.56548035, -0.31196618,  0.9107399 ]],\n",
       "      dtype=float32)"
      ]
     },
     "execution_count": 52,
     "metadata": {},
     "output_type": "execute_result"
    }
   ],
   "source": [
    "dense_w"
   ]
  },
  {
   "cell_type": "code",
   "execution_count": 51,
   "metadata": {},
   "outputs": [
    {
     "data": {
      "text/plain": [
       "array([1., 1., 1., 1., 1.], dtype=float32)"
      ]
     },
     "execution_count": 51,
     "metadata": {},
     "output_type": "execute_result"
    }
   ],
   "source": [
    "dense_b"
   ]
  },
  {
   "cell_type": "code",
   "execution_count": 50,
   "metadata": {},
   "outputs": [
    {
     "data": {
      "text/plain": [
       "array([[  4.48034671, -32.22402346, -53.47508085, -45.29030061,\n",
       "         -5.80594516],\n",
       "       [-37.37502509,   2.04559088,  30.50458086, -45.58997297,\n",
       "         80.65263408],\n",
       "       [ -1.01649314, -31.19605184, -47.87573051, -50.6247611 ,\n",
       "          5.59242046],\n",
       "       [-25.61574209,  -3.57634354,  13.17425036, -39.39720249,\n",
       "         56.31151712],\n",
       "       [  0.95002839, -42.24600446, -66.58108675, -65.0046289 ,\n",
       "          1.64937663],\n",
       "       [ -1.12803772, -32.56688559, -49.93809152, -52.85507751,\n",
       "          5.84128076],\n",
       "       [ -4.4026767 , -11.64328313, -14.84475362, -25.06227589,\n",
       "         12.37537545],\n",
       "       [-23.64052984,  -7.10525191,   6.2221266 , -42.29800439,\n",
       "         52.25553823],\n",
       "       [-36.59204036,  13.52168822,  47.87941599, -27.1079917 ,\n",
       "         78.88237822],\n",
       "       [  8.42208049, -46.80288446, -79.13256085, -62.5709703 ,\n",
       "        -13.80496788]])"
      ]
     },
     "execution_count": 50,
     "metadata": {},
     "output_type": "execute_result"
    }
   ],
   "source": [
    "\n",
    "# Manully calculating the same\n",
    "np.matmul(in_np,dense_w) + dense_b"
   ]
  },
  {
   "cell_type": "code",
   "execution_count": 53,
   "metadata": {},
   "outputs": [],
   "source": [
    "# using Activation Function\n",
    "\n",
    "ins = Input(input_size,name='My_input')\n",
    "out = Dense(dense_unit,use_bias='True',bias_initializer='ones',activation='relu',name=\"my_output\")(ins)\n",
    "\n",
    "model = Model(inputs=ins,outputs=out)"
   ]
  },
  {
   "cell_type": "code",
   "execution_count": 54,
   "metadata": {},
   "outputs": [
    {
     "data": {
      "text/plain": [
       "array([[31.759941  ,  0.37922704,  0.        ,  0.        , 29.861065  ],\n",
       "       [ 0.        ,  8.760498  , 51.437714  ,  0.        ,  0.        ],\n",
       "       [27.00502   ,  1.4886395 ,  0.        ,  0.        , 25.59734   ],\n",
       "       [ 0.        ,  6.395734  , 34.54387   ,  0.        ,  0.        ],\n",
       "       [37.806362  ,  1.1185205 ,  0.        ,  0.        , 35.70222   ],\n",
       "       [28.094124  ,  1.514641  ,  0.        ,  0.        , 26.62857   ],\n",
       "       [ 7.9581833 ,  2.1246355 ,  4.6311665 ,  0.        ,  7.775378  ],\n",
       "       [ 0.        ,  6.005002  , 31.00506   ,  0.        ,  0.        ],\n",
       "       [ 0.        ,  8.573334  , 53.527607  ,  0.        ,  0.        ],\n",
       "       [46.96152   ,  0.        ,  0.        ,  0.        , 44.03566   ]],\n",
       "      dtype=float32)"
      ]
     },
     "execution_count": 54,
     "metadata": {},
     "output_type": "execute_result"
    }
   ],
   "source": [
    "out_np = model.predict(in_np)\n",
    "\n",
    "out_np"
   ]
  },
  {
   "cell_type": "code",
   "execution_count": null,
   "metadata": {},
   "outputs": [],
   "source": [
    "# Customizing the weights\n",
    "\n",
    "we can se the ou own weights are bias of the dense layer."
   ]
  },
  {
   "cell_type": "code",
   "execution_count": 56,
   "metadata": {},
   "outputs": [],
   "source": [
    "custom_weights = np.array([[1,2,3,4,5],[6,7,8,9,10]])\n",
    "custom_bias = np.array([0,0,0,0,0])\n",
    "\n",
    "\n",
    "ins = Input(input_size,name='My_input')\n",
    "\n",
    "dense_layer = Dense(dense_unit,use_bias='True',bias_initializer='ones',activation='relu',name=\"my_output\")\n",
    "\n",
    "out = dense_layer(ins)\n",
    "\n",
    "model = Model(inputs=ins,outputs=out)\n",
    "\n",
    "dense_layer.set_weights([custom_weights,custom_bias])"
   ]
  },
  {
   "cell_type": "code",
   "execution_count": 57,
   "metadata": {},
   "outputs": [
    {
     "data": {
      "text/plain": [
       "array([[ 122.,  199.,  276.,  353.,  430.],\n",
       "       [ 591.,  712.,  833.,  954., 1075.],\n",
       "       [ 202.,  294.,  386.,  478.,  570.],\n",
       "       [ 438.,  536.,  634.,  732.,  830.],\n",
       "       [ 230.,  345.,  460.,  575.,  690.],\n",
       "       [ 211.,  307.,  403.,  499.,  595.],\n",
       "       [ 151.,  202.,  253.,  304.,  355.],\n",
       "       [ 426.,  527.,  628.,  729.,  830.],\n",
       "       [ 518.,  606.,  694.,  782.,  870.],\n",
       "       [ 138.,  241.,  344.,  447.,  550.]], dtype=float32)"
      ]
     },
     "execution_count": 57,
     "metadata": {},
     "output_type": "execute_result"
    }
   ],
   "source": [
    "model.predict(in_np)"
   ]
  },
  {
   "cell_type": "code",
   "execution_count": 58,
   "metadata": {},
   "outputs": [
    {
     "data": {
      "text/plain": [
       "[<tf.Variable 'my_output_4/kernel:0' shape=(2, 5) dtype=float32, numpy=\n",
       " array([[ 1.,  2.,  3.,  4.,  5.],\n",
       "        [ 6.,  7.,  8.,  9., 10.]], dtype=float32)>,\n",
       " <tf.Variable 'my_output_4/bias:0' shape=(5,) dtype=float32, numpy=array([0., 0., 0., 0., 0.], dtype=float32)>]"
      ]
     },
     "execution_count": 58,
     "metadata": {},
     "output_type": "execute_result"
    }
   ],
   "source": [
    "model.weights"
   ]
  },
  {
   "cell_type": "code",
   "execution_count": null,
   "metadata": {},
   "outputs": [],
   "source": []
  }
 ],
 "metadata": {
  "kernelspec": {
   "display_name": "Python 3",
   "language": "python",
   "name": "python3"
  },
  "language_info": {
   "codemirror_mode": {
    "name": "ipython",
    "version": 3
   },
   "file_extension": ".py",
   "mimetype": "text/x-python",
   "name": "python",
   "nbconvert_exporter": "python",
   "pygments_lexer": "ipython3",
   "version": "3.7.4"
  }
 },
 "nbformat": 4,
 "nbformat_minor": 2
}
