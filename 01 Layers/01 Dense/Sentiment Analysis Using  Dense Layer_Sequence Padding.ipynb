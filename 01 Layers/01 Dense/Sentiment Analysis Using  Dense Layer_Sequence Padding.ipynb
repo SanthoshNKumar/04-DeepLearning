{
 "cells": [
  {
   "cell_type": "code",
   "execution_count": null,
   "metadata": {},
   "outputs": [],
   "source": [
    "# Here we are using only the Dense Layer\n",
    "\n",
    "# Control the output value using Relu Activation function and Predict the output by sigmoid function\n",
    "# input_dim is the value 0f max lenth of padded sequence\n",
    "\n",
    "# Step 1: Convert the Courpus data into Integer encoding\n",
    "# Step 2: Build the Keras model using only Dense Layer"
   ]
  },
  {
   "cell_type": "code",
   "execution_count": 1,
   "metadata": {},
   "outputs": [],
   "source": [
    "import pandas as pd\n",
    "\n",
    "# Corpus \n",
    "positive = ['This is an excellent movie','The move was fantastic I like it',\n",
    "            'You should watch it is brilliant','Exceptionally good','Wonderfully directed and executed I like it',\n",
    "             'Its a fantastic series','Never watched such a brillent movie','It is a Wonderful movie']\n",
    "\n",
    "negative = [\"horrible acting\",'waste of money','pathetic picture','It was very boring',\n",
    "            'I did not like the movie','The movie was horrible','I will not recommend',\n",
    "            'The acting is pathetic']"
   ]
  },
  {
   "cell_type": "code",
   "execution_count": 2,
   "metadata": {},
   "outputs": [
    {
     "data": {
      "text/html": [
       "<div>\n",
       "<style scoped>\n",
       "    .dataframe tbody tr th:only-of-type {\n",
       "        vertical-align: middle;\n",
       "    }\n",
       "\n",
       "    .dataframe tbody tr th {\n",
       "        vertical-align: top;\n",
       "    }\n",
       "\n",
       "    .dataframe thead th {\n",
       "        text-align: right;\n",
       "    }\n",
       "</style>\n",
       "<table border=\"1\" class=\"dataframe\">\n",
       "  <thead>\n",
       "    <tr style=\"text-align: right;\">\n",
       "      <th></th>\n",
       "      <th>comment</th>\n",
       "      <th>review</th>\n",
       "    </tr>\n",
       "  </thead>\n",
       "  <tbody>\n",
       "    <tr>\n",
       "      <td>1</td>\n",
       "      <td>The move was fantastic I like it</td>\n",
       "      <td>positive</td>\n",
       "    </tr>\n",
       "    <tr>\n",
       "      <td>13</td>\n",
       "      <td>The movie was horrible</td>\n",
       "      <td>negative</td>\n",
       "    </tr>\n",
       "    <tr>\n",
       "      <td>6</td>\n",
       "      <td>Never watched such a brillent movie</td>\n",
       "      <td>positive</td>\n",
       "    </tr>\n",
       "  </tbody>\n",
       "</table>\n",
       "</div>"
      ],
      "text/plain": [
       "                                comment    review\n",
       "1      The move was fantastic I like it  positive\n",
       "13               The movie was horrible  negative\n",
       "6   Never watched such a brillent movie  positive"
      ]
     },
     "execution_count": 2,
     "metadata": {},
     "output_type": "execute_result"
    }
   ],
   "source": [
    "reviews = [(pr,\"positive\") for pr in positive] + [(nr,\"negative\") for nr in negative]\n",
    "\n",
    "data = pd.DataFrame(reviews,columns=[\"comment\",'review'])\n",
    "\n",
    "# shuffle the DataFrame rows\n",
    "data = data.sample(frac = 1)\n",
    "\n",
    "data.head(3)"
   ]
  },
  {
   "cell_type": "code",
   "execution_count": 3,
   "metadata": {},
   "outputs": [
    {
     "data": {
      "text/html": [
       "<div>\n",
       "<style scoped>\n",
       "    .dataframe tbody tr th:only-of-type {\n",
       "        vertical-align: middle;\n",
       "    }\n",
       "\n",
       "    .dataframe tbody tr th {\n",
       "        vertical-align: top;\n",
       "    }\n",
       "\n",
       "    .dataframe thead th {\n",
       "        text-align: right;\n",
       "    }\n",
       "</style>\n",
       "<table border=\"1\" class=\"dataframe\">\n",
       "  <thead>\n",
       "    <tr style=\"text-align: right;\">\n",
       "      <th></th>\n",
       "      <th>comment</th>\n",
       "      <th>review</th>\n",
       "    </tr>\n",
       "  </thead>\n",
       "  <tbody>\n",
       "    <tr>\n",
       "      <td>1</td>\n",
       "      <td>The move was fantastic I like it</td>\n",
       "      <td>1</td>\n",
       "    </tr>\n",
       "    <tr>\n",
       "      <td>13</td>\n",
       "      <td>The movie was horrible</td>\n",
       "      <td>0</td>\n",
       "    </tr>\n",
       "  </tbody>\n",
       "</table>\n",
       "</div>"
      ],
      "text/plain": [
       "                             comment  review\n",
       "1   The move was fantastic I like it       1\n",
       "13            The movie was horrible       0"
      ]
     },
     "execution_count": 3,
     "metadata": {},
     "output_type": "execute_result"
    }
   ],
   "source": [
    "from sklearn.preprocessing import LabelEncoder\n",
    "lb_make = LabelEncoder()\n",
    "data['review'] = lb_make.fit_transform(data[\"review\"])\n",
    "\n",
    "data.head(2)"
   ]
  },
  {
   "cell_type": "code",
   "execution_count": 4,
   "metadata": {},
   "outputs": [
    {
     "data": {
      "text/plain": [
       "7"
      ]
     },
     "execution_count": 4,
     "metadata": {},
     "output_type": "execute_result"
    }
   ],
   "source": [
    "# lower the text\n",
    "data['comment'] = data['comment'].str.lower()\n",
    "\n",
    "# find max_length sequence\n",
    "\n",
    "max_seq_len = max([len([y for y in x.split()]) for x in data['comment']])\n",
    "max_seq_len"
   ]
  },
  {
   "cell_type": "code",
   "execution_count": 5,
   "metadata": {},
   "outputs": [
    {
     "data": {
      "text/plain": [
       "16"
      ]
     },
     "execution_count": 5,
     "metadata": {},
     "output_type": "execute_result"
    }
   ],
   "source": [
    "# number of samples\n",
    "num_samples = data.shape[0]\n",
    "num_samples"
   ]
  },
  {
   "cell_type": "code",
   "execution_count": 6,
   "metadata": {},
   "outputs": [
    {
     "name": "stderr",
     "output_type": "stream",
     "text": [
      "Using TensorFlow backend.\n"
     ]
    }
   ],
   "source": [
    "from keras.preprocessing import text\n",
    "\n",
    "tokenizer = text.Tokenizer()\n",
    "tokenizer.fit_on_texts(data['comment'])\n",
    "word2id = tokenizer.word_index\n",
    "\n",
    "word2id['PAD'] = 0\n",
    "id2word = {v:k for k, v in word2id.items()}\n",
    "wids = [[word2id[w] for w in text.text_to_word_sequence(doc)] for doc in data['comment']]"
   ]
  },
  {
   "cell_type": "code",
   "execution_count": 7,
   "metadata": {},
   "outputs": [
    {
     "data": {
      "text/plain": [
       "44"
      ]
     },
     "execution_count": 7,
     "metadata": {},
     "output_type": "execute_result"
    }
   ],
   "source": [
    "vocab_size = len(id2word)\n",
    "\n",
    "vocab_size"
   ]
  },
  {
   "cell_type": "code",
   "execution_count": 8,
   "metadata": {},
   "outputs": [
    {
     "data": {
      "text/plain": [
       "array([[ 3, 14,  6,  9,  4,  7,  1],\n",
       "       [ 3,  2,  6, 10,  0,  0,  0],\n",
       "       [15, 16, 17,  8, 18,  2,  0],\n",
       "       [19,  8,  9, 20,  0,  0,  0],\n",
       "       [ 1,  5,  8, 21,  2,  0,  0],\n",
       "       [22, 23, 24,  1,  5, 25,  0],\n",
       "       [11, 26,  0,  0,  0,  0,  0],\n",
       "       [ 3, 12,  5, 11,  0,  0,  0],\n",
       "       [ 4, 27, 13,  7,  3,  2,  0],\n",
       "       [ 4, 28, 13, 29,  0,  0,  0],\n",
       "       [10, 12,  0,  0,  0,  0,  0],\n",
       "       [30, 31, 32, 33,  4,  7,  1],\n",
       "       [34,  5, 35, 36,  2,  0,  0],\n",
       "       [37, 38, 39,  0,  0,  0,  0],\n",
       "       [ 1,  6, 40, 41,  0,  0,  0],\n",
       "       [42, 43,  0,  0,  0,  0,  0]])"
      ]
     },
     "execution_count": 8,
     "metadata": {},
     "output_type": "execute_result"
    }
   ],
   "source": [
    "from tensorflow.keras.preprocessing.sequence import pad_sequences\n",
    "\n",
    "padded_inputs = pad_sequences(wids,padding='post')\n",
    "\n",
    "padded_inputs"
   ]
  },
  {
   "cell_type": "code",
   "execution_count": 9,
   "metadata": {},
   "outputs": [
    {
     "data": {
      "text/plain": [
       "array([1, 0, 1, 1, 1, 1, 0, 0, 0, 0, 0, 1, 1, 0, 0, 1])"
      ]
     },
     "execution_count": 9,
     "metadata": {},
     "output_type": "execute_result"
    }
   ],
   "source": [
    "y = data['review'].values # output labels\n",
    "\n",
    "y"
   ]
  },
  {
   "cell_type": "code",
   "execution_count": 10,
   "metadata": {},
   "outputs": [
    {
     "name": "stdout",
     "output_type": "stream",
     "text": [
      "WARNING:tensorflow:From c:\\users\\insakum46\\appdata\\local\\programs\\python\\python37\\lib\\site-packages\\tensorflow_core\\python\\ops\\resource_variable_ops.py:1630: calling BaseResourceVariable.__init__ (from tensorflow.python.ops.resource_variable_ops) with constraint is deprecated and will be removed in a future version.\n",
      "Instructions for updating:\n",
      "If using Keras pass *_constraint arguments to layers.\n",
      "WARNING:tensorflow:From c:\\users\\insakum46\\appdata\\local\\programs\\python\\python37\\lib\\site-packages\\tensorflow_core\\python\\ops\\nn_impl.py:183: where (from tensorflow.python.ops.array_ops) is deprecated and will be removed in a future version.\n",
      "Instructions for updating:\n",
      "Use tf.where in 2.0, which has the same broadcast rule as np.where\n",
      "WARNING:tensorflow:From c:\\users\\insakum46\\appdata\\local\\programs\\python\\python37\\lib\\site-packages\\keras\\backend\\tensorflow_backend.py:422: The name tf.global_variables is deprecated. Please use tf.compat.v1.global_variables instead.\n",
      "\n",
      "Epoch 1/150\n",
      "16/16 [==============================] - 0s 24ms/step - loss: 8.7514 - accuracy: 0.5000\n",
      "Epoch 2/150\n",
      "16/16 [==============================] - 0s 1ms/step - loss: 8.4350 - accuracy: 0.5000\n",
      "Epoch 3/150\n",
      "16/16 [==============================] - 0s 607us/step - loss: 8.1920 - accuracy: 0.5000\n",
      "Epoch 4/150\n",
      "16/16 [==============================] - 0s 919us/step - loss: 7.9032 - accuracy: 0.5000\n",
      "Epoch 5/150\n",
      "16/16 [==============================] - 0s 1ms/step - loss: 7.6241 - accuracy: 0.5000\n",
      "Epoch 6/150\n",
      "16/16 [==============================] - 0s 1ms/step - loss: 7.4019 - accuracy: 0.5000\n",
      "Epoch 7/150\n",
      "16/16 [==============================] - 0s 1ms/step - loss: 7.1198 - accuracy: 0.5000\n",
      "Epoch 8/150\n",
      "16/16 [==============================] - 0s 1ms/step - loss: 6.8642 - accuracy: 0.5000\n",
      "Epoch 9/150\n",
      "16/16 [==============================] - 0s 867us/step - loss: 6.6033 - accuracy: 0.5000\n",
      "Epoch 10/150\n",
      "16/16 [==============================] - 0s 886us/step - loss: 6.3311 - accuracy: 0.5000\n",
      "Epoch 11/150\n",
      "16/16 [==============================] - 0s 803us/step - loss: 6.0721 - accuracy: 0.5000\n",
      "Epoch 12/150\n",
      "16/16 [==============================] - 0s 1ms/step - loss: 5.8204 - accuracy: 0.5000\n",
      "Epoch 13/150\n",
      "16/16 [==============================] - 0s 895us/step - loss: 5.6055 - accuracy: 0.5000\n",
      "Epoch 14/150\n",
      "16/16 [==============================] - 0s 921us/step - loss: 5.3689 - accuracy: 0.5000\n",
      "Epoch 15/150\n",
      "16/16 [==============================] - 0s 880us/step - loss: 5.0936 - accuracy: 0.5000\n",
      "Epoch 16/150\n",
      "16/16 [==============================] - 0s 800us/step - loss: 4.9339 - accuracy: 0.5000\n",
      "Epoch 17/150\n",
      "16/16 [==============================] - 0s 817us/step - loss: 4.7061 - accuracy: 0.5000\n",
      "Epoch 18/150\n",
      "16/16 [==============================] - 0s 882us/step - loss: 4.4990 - accuracy: 0.5000\n",
      "Epoch 19/150\n",
      "16/16 [==============================] - 0s 845us/step - loss: 4.3279 - accuracy: 0.5625\n",
      "Epoch 20/150\n",
      "16/16 [==============================] - 0s 1ms/step - loss: 4.1124 - accuracy: 0.5625\n",
      "Epoch 21/150\n",
      "16/16 [==============================] - 0s 1ms/step - loss: 3.9300 - accuracy: 0.5000\n",
      "Epoch 22/150\n",
      "16/16 [==============================] - 0s 1ms/step - loss: 3.7497 - accuracy: 0.5000\n",
      "Epoch 23/150\n",
      "16/16 [==============================] - 0s 750us/step - loss: 3.6211 - accuracy: 0.5625\n",
      "Epoch 24/150\n",
      "16/16 [==============================] - 0s 516us/step - loss: 3.4527 - accuracy: 0.5625\n",
      "Epoch 25/150\n",
      "16/16 [==============================] - 0s 562us/step - loss: 3.2877 - accuracy: 0.5625\n",
      "Epoch 26/150\n",
      "16/16 [==============================] - 0s 479us/step - loss: 3.1447 - accuracy: 0.5625\n",
      "Epoch 27/150\n",
      "16/16 [==============================] - 0s 506us/step - loss: 3.0044 - accuracy: 0.5625\n",
      "Epoch 28/150\n",
      "16/16 [==============================] - 0s 381us/step - loss: 2.8992 - accuracy: 0.5625\n",
      "Epoch 29/150\n",
      "16/16 [==============================] - 0s 397us/step - loss: 2.7526 - accuracy: 0.5625\n",
      "Epoch 30/150\n",
      "16/16 [==============================] - 0s 472us/step - loss: 2.6335 - accuracy: 0.5625\n",
      "Epoch 31/150\n",
      "16/16 [==============================] - 0s 528us/step - loss: 2.5049 - accuracy: 0.5625\n",
      "Epoch 32/150\n",
      "16/16 [==============================] - 0s 487us/step - loss: 2.3946 - accuracy: 0.5625\n",
      "Epoch 33/150\n",
      "16/16 [==============================] - 0s 360us/step - loss: 2.3081 - accuracy: 0.5625\n",
      "Epoch 34/150\n",
      "16/16 [==============================] - 0s 499us/step - loss: 2.1804 - accuracy: 0.5625\n",
      "Epoch 35/150\n",
      "16/16 [==============================] - 0s 502us/step - loss: 2.1064 - accuracy: 0.5625\n",
      "Epoch 36/150\n",
      "16/16 [==============================] - 0s 157us/step - loss: 2.0301 - accuracy: 0.5625\n",
      "Epoch 37/150\n",
      "16/16 [==============================] - 0s 189us/step - loss: 1.9428 - accuracy: 0.5625\n",
      "Epoch 38/150\n",
      "16/16 [==============================] - 0s 545us/step - loss: 1.9003 - accuracy: 0.5625\n",
      "Epoch 39/150\n",
      "16/16 [==============================] - 0s 320us/step - loss: 1.8134 - accuracy: 0.5625\n",
      "Epoch 40/150\n",
      "16/16 [==============================] - 0s 385us/step - loss: 1.7663 - accuracy: 0.5625\n",
      "Epoch 41/150\n",
      "16/16 [==============================] - 0s 720us/step - loss: 1.6943 - accuracy: 0.5625\n",
      "Epoch 42/150\n",
      "16/16 [==============================] - 0s 369us/step - loss: 1.6538 - accuracy: 0.5625\n",
      "Epoch 43/150\n",
      "16/16 [==============================] - 0s 417us/step - loss: 1.5959 - accuracy: 0.5625\n",
      "Epoch 44/150\n",
      "16/16 [==============================] - 0s 457us/step - loss: 1.5476 - accuracy: 0.5625\n",
      "Epoch 45/150\n",
      "16/16 [==============================] - 0s 602us/step - loss: 1.5130 - accuracy: 0.5000\n",
      "Epoch 46/150\n",
      "16/16 [==============================] - 0s 550us/step - loss: 1.4752 - accuracy: 0.5000\n",
      "Epoch 47/150\n",
      "16/16 [==============================] - 0s 530us/step - loss: 1.4280 - accuracy: 0.6250\n",
      "Epoch 48/150\n",
      "16/16 [==============================] - 0s 620us/step - loss: 1.4057 - accuracy: 0.6250\n",
      "Epoch 49/150\n",
      "16/16 [==============================] - 0s 602us/step - loss: 1.3726 - accuracy: 0.6250\n",
      "Epoch 50/150\n",
      "16/16 [==============================] - 0s 441us/step - loss: 1.3378 - accuracy: 0.6250\n",
      "Epoch 51/150\n",
      "16/16 [==============================] - 0s 476us/step - loss: 1.3154 - accuracy: 0.6250\n",
      "Epoch 52/150\n",
      "16/16 [==============================] - 0s 409us/step - loss: 1.2879 - accuracy: 0.5625\n",
      "Epoch 53/150\n",
      "16/16 [==============================] - 0s 513us/step - loss: 1.2623 - accuracy: 0.5625\n",
      "Epoch 54/150\n",
      "16/16 [==============================] - 0s 465us/step - loss: 1.2439 - accuracy: 0.5625\n",
      "Epoch 55/150\n",
      "16/16 [==============================] - 0s 553us/step - loss: 1.2125 - accuracy: 0.5625\n",
      "Epoch 56/150\n",
      "16/16 [==============================] - 0s 414us/step - loss: 1.1952 - accuracy: 0.6250\n",
      "Epoch 57/150\n",
      "16/16 [==============================] - 0s 528us/step - loss: 1.1716 - accuracy: 0.6250\n",
      "Epoch 58/150\n",
      "16/16 [==============================] - 0s 313us/step - loss: 1.1546 - accuracy: 0.6250\n",
      "Epoch 59/150\n",
      "16/16 [==============================] - 0s 562us/step - loss: 1.1253 - accuracy: 0.6250\n",
      "Epoch 60/150\n",
      "16/16 [==============================] - 0s 412us/step - loss: 1.1144 - accuracy: 0.6250\n",
      "Epoch 61/150\n",
      "16/16 [==============================] - 0s 610us/step - loss: 1.0916 - accuracy: 0.6875\n",
      "Epoch 62/150\n",
      "16/16 [==============================] - 0s 498us/step - loss: 1.0787 - accuracy: 0.6875\n",
      "Epoch 63/150\n",
      "16/16 [==============================] - 0s 536us/step - loss: 1.0545 - accuracy: 0.6875\n",
      "Epoch 64/150\n",
      "16/16 [==============================] - 0s 622us/step - loss: 1.0395 - accuracy: 0.6875\n",
      "Epoch 65/150\n",
      "16/16 [==============================] - 0s 405us/step - loss: 1.0191 - accuracy: 0.6875\n",
      "Epoch 66/150\n",
      "16/16 [==============================] - 0s 511us/step - loss: 1.0015 - accuracy: 0.6875\n",
      "Epoch 67/150\n",
      "16/16 [==============================] - 0s 512us/step - loss: 0.9835 - accuracy: 0.6875\n",
      "Epoch 68/150\n",
      "16/16 [==============================] - 0s 408us/step - loss: 0.9730 - accuracy: 0.6875\n",
      "Epoch 69/150\n",
      "16/16 [==============================] - 0s 441us/step - loss: 0.9522 - accuracy: 0.6875\n",
      "Epoch 70/150\n",
      "16/16 [==============================] - 0s 590us/step - loss: 0.9369 - accuracy: 0.6875\n",
      "Epoch 71/150\n",
      "16/16 [==============================] - 0s 508us/step - loss: 0.9207 - accuracy: 0.6875\n",
      "Epoch 72/150\n",
      "16/16 [==============================] - 0s 518us/step - loss: 0.9069 - accuracy: 0.6875\n",
      "Epoch 73/150\n",
      "16/16 [==============================] - 0s 605us/step - loss: 0.8933 - accuracy: 0.6875\n",
      "Epoch 74/150\n",
      "16/16 [==============================] - 0s 347us/step - loss: 0.8763 - accuracy: 0.6875\n",
      "Epoch 75/150\n",
      "16/16 [==============================] - 0s 472us/step - loss: 0.8635 - accuracy: 0.6875\n",
      "Epoch 76/150\n",
      "16/16 [==============================] - 0s 564us/step - loss: 0.8506 - accuracy: 0.6875\n",
      "Epoch 77/150\n",
      "16/16 [==============================] - 0s 360us/step - loss: 0.8349 - accuracy: 0.6875\n",
      "Epoch 78/150\n",
      "16/16 [==============================] - 0s 505us/step - loss: 0.8270 - accuracy: 0.6875\n",
      "Epoch 79/150\n",
      "16/16 [==============================] - 0s 581us/step - loss: 0.8146 - accuracy: 0.6875\n",
      "Epoch 80/150\n",
      "16/16 [==============================] - 0s 672us/step - loss: 0.8030 - accuracy: 0.6875\n",
      "Epoch 81/150\n",
      "16/16 [==============================] - 0s 375us/step - loss: 0.7895 - accuracy: 0.6875\n",
      "Epoch 82/150\n",
      "16/16 [==============================] - 0s 403us/step - loss: 0.7802 - accuracy: 0.6875\n",
      "Epoch 83/150\n",
      "16/16 [==============================] - 0s 552us/step - loss: 0.7689 - accuracy: 0.6875\n",
      "Epoch 84/150\n",
      "16/16 [==============================] - 0s 742us/step - loss: 0.7576 - accuracy: 0.6875\n",
      "Epoch 85/150\n",
      "16/16 [==============================] - 0s 849us/step - loss: 0.7485 - accuracy: 0.6875\n",
      "Epoch 86/150\n",
      "16/16 [==============================] - 0s 829us/step - loss: 0.7391 - accuracy: 0.6875\n",
      "Epoch 87/150\n",
      "16/16 [==============================] - 0s 555us/step - loss: 0.7247 - accuracy: 0.6875\n",
      "Epoch 88/150\n",
      "16/16 [==============================] - 0s 1ms/step - loss: 0.7126 - accuracy: 0.7500\n",
      "Epoch 89/150\n",
      "16/16 [==============================] - 0s 1ms/step - loss: 0.7028 - accuracy: 0.7500\n",
      "Epoch 90/150\n",
      "16/16 [==============================] - 0s 819us/step - loss: 0.6903 - accuracy: 0.7500\n",
      "Epoch 91/150\n",
      "16/16 [==============================] - 0s 1ms/step - loss: 0.6770 - accuracy: 0.7500\n",
      "Epoch 92/150\n",
      "16/16 [==============================] - 0s 1ms/step - loss: 0.6686 - accuracy: 0.7500\n",
      "Epoch 93/150\n",
      "16/16 [==============================] - 0s 904us/step - loss: 0.6562 - accuracy: 0.7500\n",
      "Epoch 94/150\n",
      "16/16 [==============================] - 0s 996us/step - loss: 0.6508 - accuracy: 0.7500\n",
      "Epoch 95/150\n",
      "16/16 [==============================] - 0s 1ms/step - loss: 0.6392 - accuracy: 0.7500\n",
      "Epoch 96/150\n",
      "16/16 [==============================] - 0s 1ms/step - loss: 0.6291 - accuracy: 0.7500\n",
      "Epoch 97/150\n",
      "16/16 [==============================] - 0s 1ms/step - loss: 0.6194 - accuracy: 0.7500\n",
      "Epoch 98/150\n",
      "16/16 [==============================] - 0s 692us/step - loss: 0.6113 - accuracy: 0.7500\n",
      "Epoch 99/150\n",
      "16/16 [==============================] - 0s 1ms/step - loss: 0.6004 - accuracy: 0.7500\n",
      "Epoch 100/150\n",
      "16/16 [==============================] - ETA: 0s - loss: 0.7122 - accuracy: 0.70 - 0s 1ms/step - loss: 0.5952 - accuracy: 0.7500\n",
      "Epoch 101/150\n",
      "16/16 [==============================] - 0s 830us/step - loss: 0.5851 - accuracy: 0.7500\n",
      "Epoch 102/150\n",
      "16/16 [==============================] - 0s 1ms/step - loss: 0.5771 - accuracy: 0.7500\n",
      "Epoch 103/150\n",
      "16/16 [==============================] - 0s 1ms/step - loss: 0.5697 - accuracy: 0.7500\n",
      "Epoch 104/150\n",
      "16/16 [==============================] - 0s 790us/step - loss: 0.5609 - accuracy: 0.7500\n",
      "Epoch 105/150\n",
      "16/16 [==============================] - 0s 1ms/step - loss: 0.5512 - accuracy: 0.7500\n",
      "Epoch 106/150\n",
      "16/16 [==============================] - 0s 901us/step - loss: 0.5425 - accuracy: 0.7500\n",
      "Epoch 107/150\n",
      "16/16 [==============================] - 0s 999us/step - loss: 0.5371 - accuracy: 0.7500\n",
      "Epoch 108/150\n",
      "16/16 [==============================] - 0s 1ms/step - loss: 0.5309 - accuracy: 0.7500\n",
      "Epoch 109/150\n",
      "16/16 [==============================] - 0s 1ms/step - loss: 0.5222 - accuracy: 0.7500\n",
      "Epoch 110/150\n",
      "16/16 [==============================] - 0s 1ms/step - loss: 0.5138 - accuracy: 0.7500\n",
      "Epoch 111/150\n",
      "16/16 [==============================] - ETA: 0s - loss: 0.3915 - accuracy: 0.90 - 0s 1ms/step - loss: 0.5076 - accuracy: 0.8125\n",
      "Epoch 112/150\n",
      "16/16 [==============================] - 0s 1ms/step - loss: 0.5035 - accuracy: 0.8125\n",
      "Epoch 113/150\n",
      "16/16 [==============================] - 0s 1ms/step - loss: 0.4962 - accuracy: 0.8125\n",
      "Epoch 114/150\n",
      "16/16 [==============================] - 0s 1ms/step - loss: 0.4901 - accuracy: 0.8125\n",
      "Epoch 115/150\n",
      "16/16 [==============================] - 0s 1ms/step - loss: 0.4833 - accuracy: 0.8125\n",
      "Epoch 116/150\n",
      "16/16 [==============================] - 0s 1ms/step - loss: 0.4767 - accuracy: 0.8125\n",
      "Epoch 117/150\n",
      "16/16 [==============================] - 0s 1ms/step - loss: 0.4715 - accuracy: 0.8125\n",
      "Epoch 118/150\n",
      "16/16 [==============================] - 0s 1ms/step - loss: 0.4656 - accuracy: 0.8125\n",
      "Epoch 119/150\n",
      "16/16 [==============================] - 0s 967us/step - loss: 0.4609 - accuracy: 0.8125\n",
      "Epoch 120/150\n",
      "16/16 [==============================] - 0s 954us/step - loss: 0.4552 - accuracy: 0.8125\n",
      "Epoch 121/150\n",
      "16/16 [==============================] - 0s 1ms/step - loss: 0.4494 - accuracy: 0.8125\n",
      "Epoch 122/150\n",
      "16/16 [==============================] - 0s 992us/step - loss: 0.4447 - accuracy: 0.8125\n",
      "Epoch 123/150\n",
      "16/16 [==============================] - 0s 1ms/step - loss: 0.4380 - accuracy: 0.8125\n",
      "Epoch 124/150\n",
      "16/16 [==============================] - 0s 790us/step - loss: 0.4354 - accuracy: 0.8125\n",
      "Epoch 125/150\n",
      "16/16 [==============================] - 0s 1ms/step - loss: 0.4305 - accuracy: 0.8125\n",
      "Epoch 126/150\n",
      "16/16 [==============================] - 0s 1ms/step - loss: 0.4248 - accuracy: 0.8125\n",
      "Epoch 127/150\n",
      "16/16 [==============================] - 0s 1ms/step - loss: 0.4186 - accuracy: 0.8125\n",
      "Epoch 128/150\n",
      "16/16 [==============================] - 0s 886us/step - loss: 0.4155 - accuracy: 0.8125\n",
      "Epoch 129/150\n",
      "16/16 [==============================] - 0s 491us/step - loss: 0.4107 - accuracy: 0.8125\n",
      "Epoch 130/150\n",
      "16/16 [==============================] - 0s 498us/step - loss: 0.4060 - accuracy: 0.8125\n",
      "Epoch 131/150\n",
      "16/16 [==============================] - 0s 495us/step - loss: 0.4019 - accuracy: 0.8125\n",
      "Epoch 132/150\n",
      "16/16 [==============================] - 0s 461us/step - loss: 0.3969 - accuracy: 0.8125\n",
      "Epoch 133/150\n",
      "16/16 [==============================] - 0s 466us/step - loss: 0.3931 - accuracy: 0.8125\n",
      "Epoch 134/150\n",
      "16/16 [==============================] - 0s 607us/step - loss: 0.3875 - accuracy: 0.8125\n",
      "Epoch 135/150\n",
      "16/16 [==============================] - 0s 551us/step - loss: 0.3836 - accuracy: 0.8125\n",
      "Epoch 136/150\n",
      "16/16 [==============================] - 0s 519us/step - loss: 0.3810 - accuracy: 0.8125\n",
      "Epoch 137/150\n",
      "16/16 [==============================] - 0s 356us/step - loss: 0.3758 - accuracy: 0.8125\n",
      "Epoch 138/150\n",
      "16/16 [==============================] - 0s 414us/step - loss: 0.3711 - accuracy: 0.8125\n",
      "Epoch 139/150\n",
      "16/16 [==============================] - 0s 1ms/step - loss: 0.3664 - accuracy: 0.8125\n",
      "Epoch 140/150\n",
      "16/16 [==============================] - 0s 751us/step - loss: 0.3653 - accuracy: 0.8125\n",
      "Epoch 141/150\n",
      "16/16 [==============================] - 0s 975us/step - loss: 0.3597 - accuracy: 0.8125\n",
      "Epoch 142/150\n",
      "16/16 [==============================] - 0s 925us/step - loss: 0.3570 - accuracy: 0.8125\n",
      "Epoch 143/150\n",
      "16/16 [==============================] - ETA: 0s - loss: 0.3873 - accuracy: 0.80 - 0s 828us/step - loss: 0.3515 - accuracy: 0.8125\n",
      "Epoch 144/150\n",
      "16/16 [==============================] - 0s 1ms/step - loss: 0.3472 - accuracy: 0.8125\n",
      "Epoch 145/150\n",
      "16/16 [==============================] - 0s 695us/step - loss: 0.3438 - accuracy: 0.8125\n",
      "Epoch 146/150\n",
      "16/16 [==============================] - 0s 1ms/step - loss: 0.3401 - accuracy: 0.8125\n",
      "Epoch 147/150\n",
      "16/16 [==============================] - 0s 1ms/step - loss: 0.3382 - accuracy: 0.8125\n",
      "Epoch 148/150\n",
      "16/16 [==============================] - 0s 822us/step - loss: 0.3326 - accuracy: 0.8125\n",
      "Epoch 149/150\n",
      "16/16 [==============================] - 0s 664us/step - loss: 0.3290 - accuracy: 0.8125\n",
      "Epoch 150/150\n",
      "16/16 [==============================] - 0s 896us/step - loss: 0.3268 - accuracy: 0.8125\n"
     ]
    },
    {
     "data": {
      "text/plain": [
       "<keras.callbacks.callbacks.History at 0x18879679808>"
      ]
     },
     "execution_count": 10,
     "metadata": {},
     "output_type": "execute_result"
    }
   ],
   "source": [
    "from keras.models import Sequential\n",
    "from keras.layers import Dense\n",
    "\n",
    "model = Sequential()\n",
    "model.add(Dense(12, input_dim=7, activation='relu'))  # max_seq_len = 7 (Features)\n",
    "model.add(Dense(8, activation='relu'))\n",
    "model.add(Dense(1, activation='sigmoid'))\n",
    "# compile the keras model\n",
    "model.compile(loss='binary_crossentropy', optimizer='adam', metrics=['accuracy'])\n",
    "\n",
    "model.fit(padded_inputs, y, epochs=150, batch_size=10)\n",
    "# evaluate the keras model"
   ]
  },
  {
   "cell_type": "code",
   "execution_count": 11,
   "metadata": {},
   "outputs": [],
   "source": [
    "def predict_Sentiment(text):\n",
    "    \n",
    "    # lower the text\n",
    "    text = text.lower()\n",
    "    \n",
    "    # Split the text\n",
    "    token_text = text.split()\n",
    "    \n",
    "    # Convert to word to int\n",
    "    word_2id = [word2id[x] for x in token_text]\n",
    "    \n",
    "    # pad the sequence\n",
    "    \n",
    "    padded_inputs = pad_sequences([word_2id],maxlen=7)\n",
    "    \n",
    "    result = model.predict(padded_inputs)[0][0]\n",
    "    \n",
    "    if result>0.5:\n",
    "        print(\"Review: Positive\")\n",
    "    else:\n",
    "        print(\"Review: Negative\")\n"
   ]
  },
  {
   "cell_type": "code",
   "execution_count": 12,
   "metadata": {},
   "outputs": [
    {
     "name": "stdout",
     "output_type": "stream",
     "text": [
      "Review: Negative\n"
     ]
    }
   ],
   "source": [
    "text = 'good'\n",
    "\n",
    "predict_Sentiment(text)"
   ]
  },
  {
   "cell_type": "code",
   "execution_count": 13,
   "metadata": {},
   "outputs": [
    {
     "ename": "KeyError",
     "evalue": "'bad'",
     "output_type": "error",
     "traceback": [
      "\u001b[1;31m---------------------------------------------------------------------------\u001b[0m",
      "\u001b[1;31mKeyError\u001b[0m                                  Traceback (most recent call last)",
      "\u001b[1;32m<ipython-input-13-473ad70ae913>\u001b[0m in \u001b[0;36m<module>\u001b[1;34m\u001b[0m\n\u001b[0;32m      4\u001b[0m \u001b[0mtext\u001b[0m \u001b[1;33m=\u001b[0m \u001b[1;34m'bad'\u001b[0m\u001b[1;33m\u001b[0m\u001b[1;33m\u001b[0m\u001b[0m\n\u001b[0;32m      5\u001b[0m \u001b[1;33m\u001b[0m\u001b[0m\n\u001b[1;32m----> 6\u001b[1;33m \u001b[0mpredict_Sentiment\u001b[0m\u001b[1;33m(\u001b[0m\u001b[0mtext\u001b[0m\u001b[1;33m)\u001b[0m\u001b[1;33m\u001b[0m\u001b[1;33m\u001b[0m\u001b[0m\n\u001b[0m",
      "\u001b[1;32m<ipython-input-11-a31c9251b65e>\u001b[0m in \u001b[0;36mpredict_Sentiment\u001b[1;34m(text)\u001b[0m\n\u001b[0;32m      8\u001b[0m \u001b[1;33m\u001b[0m\u001b[0m\n\u001b[0;32m      9\u001b[0m     \u001b[1;31m# Convert to word to int\u001b[0m\u001b[1;33m\u001b[0m\u001b[1;33m\u001b[0m\u001b[1;33m\u001b[0m\u001b[0m\n\u001b[1;32m---> 10\u001b[1;33m     \u001b[0mword_2id\u001b[0m \u001b[1;33m=\u001b[0m \u001b[1;33m[\u001b[0m\u001b[0mword2id\u001b[0m\u001b[1;33m[\u001b[0m\u001b[0mx\u001b[0m\u001b[1;33m]\u001b[0m \u001b[1;32mfor\u001b[0m \u001b[0mx\u001b[0m \u001b[1;32min\u001b[0m \u001b[0mtoken_text\u001b[0m\u001b[1;33m]\u001b[0m\u001b[1;33m\u001b[0m\u001b[1;33m\u001b[0m\u001b[0m\n\u001b[0m\u001b[0;32m     11\u001b[0m \u001b[1;33m\u001b[0m\u001b[0m\n\u001b[0;32m     12\u001b[0m     \u001b[1;31m# pad the sequence\u001b[0m\u001b[1;33m\u001b[0m\u001b[1;33m\u001b[0m\u001b[1;33m\u001b[0m\u001b[0m\n",
      "\u001b[1;32m<ipython-input-11-a31c9251b65e>\u001b[0m in \u001b[0;36m<listcomp>\u001b[1;34m(.0)\u001b[0m\n\u001b[0;32m      8\u001b[0m \u001b[1;33m\u001b[0m\u001b[0m\n\u001b[0;32m      9\u001b[0m     \u001b[1;31m# Convert to word to int\u001b[0m\u001b[1;33m\u001b[0m\u001b[1;33m\u001b[0m\u001b[1;33m\u001b[0m\u001b[0m\n\u001b[1;32m---> 10\u001b[1;33m     \u001b[0mword_2id\u001b[0m \u001b[1;33m=\u001b[0m \u001b[1;33m[\u001b[0m\u001b[0mword2id\u001b[0m\u001b[1;33m[\u001b[0m\u001b[0mx\u001b[0m\u001b[1;33m]\u001b[0m \u001b[1;32mfor\u001b[0m \u001b[0mx\u001b[0m \u001b[1;32min\u001b[0m \u001b[0mtoken_text\u001b[0m\u001b[1;33m]\u001b[0m\u001b[1;33m\u001b[0m\u001b[1;33m\u001b[0m\u001b[0m\n\u001b[0m\u001b[0;32m     11\u001b[0m \u001b[1;33m\u001b[0m\u001b[0m\n\u001b[0;32m     12\u001b[0m     \u001b[1;31m# pad the sequence\u001b[0m\u001b[1;33m\u001b[0m\u001b[1;33m\u001b[0m\u001b[1;33m\u001b[0m\u001b[0m\n",
      "\u001b[1;31mKeyError\u001b[0m: 'bad'"
     ]
    }
   ],
   "source": [
    "# Bad its new word \n",
    "# This is will not work for the words which are not part of the actual corpus data\n",
    "\n",
    "text = 'bad'\n",
    "\n",
    "predict_Sentiment(text)"
   ]
  },
  {
   "cell_type": "code",
   "execution_count": null,
   "metadata": {},
   "outputs": [],
   "source": []
  }
 ],
 "metadata": {
  "kernelspec": {
   "display_name": "Python 3",
   "language": "python",
   "name": "python3"
  },
  "language_info": {
   "codemirror_mode": {
    "name": "ipython",
    "version": 3
   },
   "file_extension": ".py",
   "mimetype": "text/x-python",
   "name": "python",
   "nbconvert_exporter": "python",
   "pygments_lexer": "ipython3",
   "version": "3.7.4"
  }
 },
 "nbformat": 4,
 "nbformat_minor": 2
}
