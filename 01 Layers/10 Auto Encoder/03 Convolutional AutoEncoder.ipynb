{
 "cells": [
  {
   "cell_type": "code",
   "execution_count": 1,
   "metadata": {},
   "outputs": [],
   "source": [
    "from tensorflow.keras.models import Model\n",
    "from tensorflow.keras.layers import MaxPooling2D,UpSampling2D,Convolution2D,Input\n",
    "from tensorflow.keras.datasets import mnist\n",
    "import matplotlib.pyplot as plt\n",
    "import numpy as np"
   ]
  },
  {
   "cell_type": "code",
   "execution_count": 2,
   "metadata": {},
   "outputs": [],
   "source": [
    "(X_train,_),(X_test,_) = mnist.load_data()\n",
    "X_train = X_train.reshape(X_train.shape[0],784)\n",
    "X_test = X_test.reshape(X_test.shape[0],784)\n",
    "X_train = X_train/255.0\n",
    "X_test = X_test/255.0\n",
    "\n",
    "X_train = np.reshape(X_train,(len(X_train),28,28,1))\n",
    "X_test = np.reshape(X_test,(len(X_test),28,28,1))"
   ]
  },
  {
   "cell_type": "code",
   "execution_count": 3,
   "metadata": {},
   "outputs": [
    {
     "name": "stdout",
     "output_type": "stream",
     "text": [
      "WARNING:tensorflow:From c:\\users\\insakum46\\appdata\\local\\programs\\python\\python37\\lib\\site-packages\\tensorflow_core\\python\\ops\\resource_variable_ops.py:1630: calling BaseResourceVariable.__init__ (from tensorflow.python.ops.resource_variable_ops) with constraint is deprecated and will be removed in a future version.\n",
      "Instructions for updating:\n",
      "If using Keras pass *_constraint arguments to layers.\n"
     ]
    }
   ],
   "source": [
    "input = Input(shape=(28,28,1),name = 'input')\n",
    "x = Convolution2D(16,kernel_size=(3,3),padding='same',activation='relu',name='conv_1')(input)\n",
    "x = MaxPooling2D(pool_size=(2,2),padding='same')(x)\n",
    "x = Convolution2D(8,kernel_size=(3,3),padding='same',activation='relu',name='conv_2')(x)\n",
    "x = MaxPooling2D(pool_size=(2,2),padding='same')(x)\n",
    "x = Convolution2D(8,kernel_size=(3,3),padding='same',activation='relu',name='conv_3')(x)\n",
    "x = MaxPooling2D(pool_size=(2,2),padding='same')(x)\n",
    "\n",
    "\n",
    "x = Convolution2D(8,kernel_size=(3,3),padding='same',activation='relu',name='conv_4')(x)\n",
    "x = UpSampling2D(size=(2,2))(x)\n",
    "x = Convolution2D(8,kernel_size=(3,3),padding='same',activation='relu',name='conv_5')(x)\n",
    "x = UpSampling2D(size=(2,2))(x)\n",
    "x = Convolution2D(8,kernel_size=(3,3),activation='relu',name='conv_6')(x)\n",
    "x = UpSampling2D(size=(2,2))(x)\n",
    "\n",
    "output = Convolution2D(filters=1,kernel_size=(3,3),padding='same',activation='sigmoid',name='output')(x)\n",
    "\n",
    "model = Model(inputs=input,outputs=output,name='CAE') \n",
    "\n"
   ]
  },
  {
   "cell_type": "code",
   "execution_count": 4,
   "metadata": {},
   "outputs": [
    {
     "name": "stdout",
     "output_type": "stream",
     "text": [
      "WARNING:tensorflow:From c:\\users\\insakum46\\appdata\\local\\programs\\python\\python37\\lib\\site-packages\\tensorflow_core\\python\\ops\\nn_impl.py:183: where (from tensorflow.python.ops.array_ops) is deprecated and will be removed in a future version.\n",
      "Instructions for updating:\n",
      "Use tf.where in 2.0, which has the same broadcast rule as np.where\n",
      "Model: \"CAE\"\n",
      "_________________________________________________________________\n",
      "Layer (type)                 Output Shape              Param #   \n",
      "=================================================================\n",
      "input (InputLayer)           [(None, 28, 28, 1)]       0         \n",
      "_________________________________________________________________\n",
      "conv_1 (Conv2D)              (None, 28, 28, 16)        160       \n",
      "_________________________________________________________________\n",
      "max_pooling2d (MaxPooling2D) (None, 14, 14, 16)        0         \n",
      "_________________________________________________________________\n",
      "conv_2 (Conv2D)              (None, 14, 14, 8)         1160      \n",
      "_________________________________________________________________\n",
      "max_pooling2d_1 (MaxPooling2 (None, 7, 7, 8)           0         \n",
      "_________________________________________________________________\n",
      "conv_3 (Conv2D)              (None, 7, 7, 8)           584       \n",
      "_________________________________________________________________\n",
      "max_pooling2d_2 (MaxPooling2 (None, 4, 4, 8)           0         \n",
      "_________________________________________________________________\n",
      "conv_4 (Conv2D)              (None, 4, 4, 8)           584       \n",
      "_________________________________________________________________\n",
      "up_sampling2d (UpSampling2D) (None, 8, 8, 8)           0         \n",
      "_________________________________________________________________\n",
      "conv_5 (Conv2D)              (None, 8, 8, 8)           584       \n",
      "_________________________________________________________________\n",
      "up_sampling2d_1 (UpSampling2 (None, 16, 16, 8)         0         \n",
      "_________________________________________________________________\n",
      "conv_6 (Conv2D)              (None, 14, 14, 8)         584       \n",
      "_________________________________________________________________\n",
      "up_sampling2d_2 (UpSampling2 (None, 28, 28, 8)         0         \n",
      "_________________________________________________________________\n",
      "output (Conv2D)              (None, 28, 28, 1)         73        \n",
      "=================================================================\n",
      "Total params: 3,729\n",
      "Trainable params: 3,729\n",
      "Non-trainable params: 0\n",
      "_________________________________________________________________\n"
     ]
    }
   ],
   "source": [
    "model.compile(optimizer='Adam',loss='binary_crossentropy')\n",
    "model.summary()"
   ]
  },
  {
   "cell_type": "code",
   "execution_count": 5,
   "metadata": {},
   "outputs": [
    {
     "name": "stdout",
     "output_type": "stream",
     "text": [
      "Train on 60000 samples\n",
      "Epoch 1/10\n",
      "60000/60000 [==============================] - 88s 1ms/sample - loss: 0.2977\n",
      "Epoch 2/10\n",
      "60000/60000 [==============================] - 87s 1ms/sample - loss: 0.1625\n",
      "Epoch 3/10\n",
      "60000/60000 [==============================] - 87s 1ms/sample - loss: 0.1433\n",
      "Epoch 4/10\n",
      "60000/60000 [==============================] - 86s 1ms/sample - loss: 0.1337\n",
      "Epoch 5/10\n",
      "60000/60000 [==============================] - 86s 1ms/sample - loss: 0.1276\n",
      "Epoch 6/10\n",
      "60000/60000 [==============================] - 87s 1ms/sample - loss: 0.1234\n",
      "Epoch 7/10\n",
      "60000/60000 [==============================] - 86s 1ms/sample - loss: 0.1205\n",
      "Epoch 8/10\n",
      "60000/60000 [==============================] - 87s 1ms/sample - loss: 0.1183\n",
      "Epoch 9/10\n",
      "60000/60000 [==============================] - 86s 1ms/sample - loss: 0.1167\n",
      "Epoch 10/10\n",
      "60000/60000 [==============================] - 87s 1ms/sample - loss: 0.1151\n"
     ]
    },
    {
     "data": {
      "text/plain": [
       "<tensorflow.python.keras.callbacks.History at 0x20a5eb38848>"
      ]
     },
     "execution_count": 5,
     "metadata": {},
     "output_type": "execute_result"
    }
   ],
   "source": [
    "model.fit(X_train,X_train,batch_size=256, epochs=10)"
   ]
  },
  {
   "cell_type": "code",
   "execution_count": 7,
   "metadata": {},
   "outputs": [],
   "source": [
    "out_images = model.predict(X_test)"
   ]
  },
  {
   "cell_type": "code",
   "execution_count": 9,
   "metadata": {},
   "outputs": [
    {
     "data": {
      "image/png": "[encoded data removed]",
      "text/plain": [
       "<Figure size 1440x288 with 10 Axes>"
      ]
     },
     "metadata": {
      "needs_background": "light"
     },
     "output_type": "display_data"
    }
   ],
   "source": [
    "import matplotlib.pyplot as plt\n",
    "\n",
    "n = 5\n",
    "\n",
    "plt.figure(figsize=(20,4))\n",
    "for i in range(n):\n",
    "    \n",
    "    ax=plt.subplot(2,n,i+1)\n",
    "    plt.imshow(X_test[i].reshape(28,28))\n",
    "    ax.get_xaxis().set_visible(False)\n",
    "    ax.get_yaxis().set_visible(False)\n",
    "    \n",
    "    \n",
    "    ax=plt.subplot(2,n,i+1+n)\n",
    "    plt.imshow(out_images[i].reshape(28,28))\n",
    "    ax.get_xaxis().set_visible(False)\n",
    "    ax.get_yaxis().set_visible(False)\n",
    "    \n",
    "plt.show()"
   ]
  },
  {
   "cell_type": "code",
   "execution_count": null,
   "metadata": {},
   "outputs": [],
   "source": []
  }
 ],
 "metadata": {
  "kernelspec": {
   "display_name": "Python 3",
   "language": "python",
   "name": "python3"
  },
  "language_info": {
   "codemirror_mode": {
    "name": "ipython",
    "version": 3
   },
   "file_extension": ".py",
   "mimetype": "text/x-python",
   "name": "python",
   "nbconvert_exporter": "python",
   "pygments_lexer": "ipython3",
   "version": "3.7.4"
  }
 },
 "nbformat": 4,
 "nbformat_minor": 2
}
