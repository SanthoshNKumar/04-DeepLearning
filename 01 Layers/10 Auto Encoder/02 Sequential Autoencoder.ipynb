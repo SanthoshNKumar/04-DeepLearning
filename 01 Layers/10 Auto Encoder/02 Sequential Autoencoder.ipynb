{
 "cells": [
  {
   "cell_type": "code",
   "execution_count": 6,
   "metadata": {},
   "outputs": [],
   "source": [
    "from tensorflow.keras.models import Sequential\n",
    "from tensorflow.keras.layers import Input,Dense\n",
    "from tensorflow.keras.datasets import mnist"
   ]
  },
  {
   "cell_type": "code",
   "execution_count": 2,
   "metadata": {},
   "outputs": [],
   "source": [
    "(X_train,_),(X_test,_) = mnist.load_data()"
   ]
  },
  {
   "cell_type": "code",
   "execution_count": 3,
   "metadata": {},
   "outputs": [
    {
     "data": {
      "text/plain": [
       "(60000, 28, 28)"
      ]
     },
     "execution_count": 3,
     "metadata": {},
     "output_type": "execute_result"
    }
   ],
   "source": [
    "X_train.shape"
   ]
  },
  {
   "cell_type": "code",
   "execution_count": 4,
   "metadata": {},
   "outputs": [],
   "source": [
    "X_train = X_train.reshape(X_train.shape[0],784)\n",
    "X_test = X_test.reshape(X_test.shape[0],784)"
   ]
  },
  {
   "cell_type": "code",
   "execution_count": 5,
   "metadata": {},
   "outputs": [],
   "source": [
    "X_train = X_train/255.0\n",
    "X_test = X_test/255.0"
   ]
  },
  {
   "cell_type": "code",
   "execution_count": 9,
   "metadata": {},
   "outputs": [],
   "source": [
    "model = Sequential()\n",
    "\n",
    "model.add(Dense(128,activation='relu',input_dim=784))\n",
    "model.add(Dense(64,activation='relu'))\n",
    "\n",
    "model.add(Dense(128,activation='relu'))\n",
    "model.add(Dense(784,activation='sigmoid'))"
   ]
  },
  {
   "cell_type": "code",
   "execution_count": 10,
   "metadata": {},
   "outputs": [
    {
     "name": "stdout",
     "output_type": "stream",
     "text": [
      "Train on 60000 samples\n",
      "Epoch 1/10\n",
      "60000/60000 [==============================] - 14s 227us/sample - loss: 0.0229 - acc: 0.0118\n",
      "Epoch 2/10\n",
      "60000/60000 [==============================] - 17s 276us/sample - loss: 0.0096 - acc: 0.0123\n",
      "Epoch 3/10\n",
      "60000/60000 [==============================] - 14s 233us/sample - loss: 0.0075 - acc: 0.0132\n",
      "Epoch 4/10\n",
      "60000/60000 [==============================] - 13s 223us/sample - loss: 0.0065 - acc: 0.0130\n",
      "Epoch 5/10\n",
      "60000/60000 [==============================] - 11s 185us/sample - loss: 0.0059 - acc: 0.0133\n",
      "Epoch 6/10\n",
      "60000/60000 [==============================] - 15s 248us/sample - loss: 0.0055 - acc: 0.0139 - loss: 0.0055 - acc: 0.0 - ETA: 0s - loss: 0.0055 - \n",
      "Epoch 7/10\n",
      "60000/60000 [==============================] - 15s 242us/sample - loss: 0.0052 - acc: 0.0139 - loss:\n",
      "Epoch 8/10\n",
      "60000/60000 [==============================] - 15s 247us/sample - loss: 0.0049 - acc: 0.0137\n",
      "Epoch 9/10\n",
      "60000/60000 [==============================] - 13s 209us/sample - loss: 0.0047 - acc: 0.0139\n",
      "Epoch 10/10\n",
      "60000/60000 [==============================] - 15s 244us/sample - loss: 0.0046 - acc: 0.0141\n"
     ]
    },
    {
     "data": {
      "text/plain": [
       "<tensorflow.python.keras.callbacks.History at 0x2362ba76448>"
      ]
     },
     "execution_count": 10,
     "metadata": {},
     "output_type": "execute_result"
    }
   ],
   "source": [
    "model.compile(optimizer=\"adam\",loss='mse',metrics=['acc'])\n",
    "\n",
    "model.fit(X_train,X_train,epochs=10)"
   ]
  },
  {
   "cell_type": "code",
   "execution_count": null,
   "metadata": {},
   "outputs": [],
   "source": []
  },
  {
   "cell_type": "code",
   "execution_count": 11,
   "metadata": {},
   "outputs": [],
   "source": [
    "out_images = model.predict(X_test,batch_size=256)"
   ]
  },
  {
   "cell_type": "code",
   "execution_count": null,
   "metadata": {},
   "outputs": [],
   "source": []
  },
  {
   "cell_type": "code",
   "execution_count": 13,
   "metadata": {},
   "outputs": [
    {
     "data": {
      "image/png": "[encoded data removed]",
      "text/plain": [
       "<Figure size 1440x288 with 10 Axes>"
      ]
     },
     "metadata": {
      "needs_background": "light"
     },
     "output_type": "display_data"
    }
   ],
   "source": [
    "import matplotlib.pyplot as plt\n",
    "\n",
    "n = 5\n",
    "\n",
    "plt.figure(figsize=(20,4))\n",
    "for i in range(n):\n",
    "    \n",
    "    ax=plt.subplot(2,n,i+1)\n",
    "    plt.imshow(X_test[i].reshape(28,28))\n",
    "    plt.gray()\n",
    "    ax.get_xaxis().set_visible(False)\n",
    "    ax.get_yaxis().set_visible(False)\n",
    "    \n",
    "    \n",
    "    ax=plt.subplot(2,n,i+1+n)\n",
    "    plt.imshow(out_images[i].reshape(28,28))\n",
    "    plt.gray()\n",
    "    ax.get_xaxis().set_visible(False)\n",
    "    ax.get_yaxis().set_visible(False)\n",
    "    \n",
    "plt.show()"
   ]
  },
  {
   "cell_type": "code",
   "execution_count": null,
   "metadata": {},
   "outputs": [],
   "source": []
  },
  {
   "cell_type": "code",
   "execution_count": null,
   "metadata": {},
   "outputs": [],
   "source": []
  },
  {
   "cell_type": "code",
   "execution_count": null,
   "metadata": {},
   "outputs": [],
   "source": []
  }
 ],
 "metadata": {
  "kernelspec": {
   "display_name": "Python 3",
   "language": "python",
   "name": "python3"
  },
  "language_info": {
   "codemirror_mode": {
    "name": "ipython",
    "version": 3
   },
   "file_extension": ".py",
   "mimetype": "text/x-python",
   "name": "python",
   "nbconvert_exporter": "python",
   "pygments_lexer": "ipython3",
   "version": "3.7.4"
  }
 },
 "nbformat": 4,
 "nbformat_minor": 2
}
