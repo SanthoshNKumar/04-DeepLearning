{
 "cells": [
  {
   "cell_type": "code",
   "execution_count": 13,
   "metadata": {},
   "outputs": [],
   "source": [
    "from tensorflow.keras.models import Model\n",
    "from tensorflow.keras.layers import Input,Dense\n",
    "from tensorflow.keras.datasets import mnist"
   ]
  },
  {
   "cell_type": "code",
   "execution_count": 14,
   "metadata": {},
   "outputs": [],
   "source": [
    "(X_train,_),(X_test,_) = mnist.load_data()"
   ]
  },
  {
   "cell_type": "code",
   "execution_count": 15,
   "metadata": {},
   "outputs": [
    {
     "data": {
      "text/plain": [
       "(60000, 28, 28)"
      ]
     },
     "execution_count": 15,
     "metadata": {},
     "output_type": "execute_result"
    }
   ],
   "source": [
    "X_train.shape"
   ]
  },
  {
   "cell_type": "code",
   "execution_count": 16,
   "metadata": {},
   "outputs": [],
   "source": [
    "X_train = X_train.reshape(X_train.shape[0],784)\n",
    "X_test = X_test.reshape(X_test.shape[0],784)"
   ]
  },
  {
   "cell_type": "code",
   "execution_count": 17,
   "metadata": {},
   "outputs": [],
   "source": [
    "X_train = X_train/255.0\n",
    "X_test = X_test/255.0"
   ]
  },
  {
   "cell_type": "code",
   "execution_count": null,
   "metadata": {},
   "outputs": [],
   "source": [
    "# 784->128->784"
   ]
  },
  {
   "cell_type": "code",
   "execution_count": 19,
   "metadata": {},
   "outputs": [],
   "source": [
    "encoding_dim = 128"
   ]
  },
  {
   "cell_type": "code",
   "execution_count": 28,
   "metadata": {},
   "outputs": [],
   "source": [
    "# Encoder\n",
    "x = Input(shape=(784,))\n",
    "encoded = Dense(encoding_dim,activation='sigmoid')(x)\n",
    "\n",
    "# Decoder\n",
    "decoded = Dense(784,activation='sigmoid')(encoded)\n",
    "autoencder = Model(x,decoded)"
   ]
  },
  {
   "cell_type": "code",
   "execution_count": 29,
   "metadata": {},
   "outputs": [
    {
     "name": "stdout",
     "output_type": "stream",
     "text": [
      "Train on 60000 samples\n",
      "Epoch 1/10\n",
      "60000/60000 [==============================] - 14s 238us/sample - loss: 0.0368 - acc: 0.0119\n",
      "Epoch 2/10\n",
      "60000/60000 [==============================] - 14s 229us/sample - loss: 0.0139 - acc: 0.0125\n",
      "Epoch 3/10\n",
      "60000/60000 [==============================] - 13s 213us/sample - loss: 0.0087 - acc: 0.0132\n",
      "Epoch 4/10\n",
      "60000/60000 [==============================] - 13s 223us/sample - loss: 0.0064 - acc: 0.0135\n",
      "Epoch 5/10\n",
      "60000/60000 [==============================] - 14s 231us/sample - loss: 0.0051 - acc: 0.0138\n",
      "Epoch 6/10\n",
      "60000/60000 [==============================] - 14s 231us/sample - loss: 0.0042 - acc: 0.0138\n",
      "Epoch 7/10\n",
      "60000/60000 [==============================] - 13s 224us/sample - loss: 0.0036 - acc: 0.0139\n",
      "Epoch 8/10\n",
      "60000/60000 [==============================] - 14s 231us/sample - loss: 0.0031 - acc: 0.0139\n",
      "Epoch 9/10\n",
      "60000/60000 [==============================] - 14s 228us/sample - loss: 0.0028 - acc: 0.0141\n",
      "Epoch 10/10\n",
      "60000/60000 [==============================] - 14s 232us/sample - loss: 0.0026 - acc: 0.0144\n"
     ]
    },
    {
     "data": {
      "text/plain": [
       "<tensorflow.python.keras.callbacks.History at 0x11da5b98d88>"
      ]
     },
     "execution_count": 29,
     "metadata": {},
     "output_type": "execute_result"
    }
   ],
   "source": [
    "autoencder.compile(optimizer=\"adam\",loss='mse',metrics=['acc'])\n",
    "\n",
    "autoencder.fit(X_train,X_train,epochs=10)"
   ]
  },
  {
   "cell_type": "code",
   "execution_count": 30,
   "metadata": {},
   "outputs": [],
   "source": [
    "encoder = Model(x,encoded)\n",
    "encoded_input = Input(shape=(encoding_dim,))\n",
    "decoded_layer = autoencder.layers[-1]\n",
    "\n",
    "decoder = Model(encoded_input,decoded_layer(encoded_input))"
   ]
  },
  {
   "cell_type": "code",
   "execution_count": 32,
   "metadata": {},
   "outputs": [],
   "source": [
    "encoded_img = encoder.predict(X_test)\n",
    "decoded_img = decoder.predict(encoded_img)"
   ]
  },
  {
   "cell_type": "code",
   "execution_count": 37,
   "metadata": {},
   "outputs": [
    {
     "data": {
      "image/png": "[encoded data removed]",
      "text/plain": [
       "<Figure size 1440x288 with 10 Axes>"
      ]
     },
     "metadata": {
      "needs_background": "light"
     },
     "output_type": "display_data"
    }
   ],
   "source": [
    "import matplotlib.pyplot as plt\n",
    "\n",
    "n = 5\n",
    "\n",
    "plt.figure(figsize=(20,4))\n",
    "for i in range(n):\n",
    "    \n",
    "    ax=plt.subplot(2,n,i+1)\n",
    "    plt.imshow(X_test[i].reshape(28,28))\n",
    "    plt.gray()\n",
    "    ax.get_xaxis().set_visible(False)\n",
    "    ax.get_yaxis().set_visible(False)\n",
    "    \n",
    "    \n",
    "    ax=plt.subplot(2,n,i+1+n)\n",
    "    plt.imshow(decoded_img[i].reshape(28,28))\n",
    "    plt.gray()\n",
    "    ax.get_xaxis().set_visible(False)\n",
    "    ax.get_yaxis().set_visible(False)\n",
    "    \n",
    "plt.show()"
   ]
  },
  {
   "cell_type": "code",
   "execution_count": null,
   "metadata": {},
   "outputs": [],
   "source": []
  }
 ],
 "metadata": {
  "kernelspec": {
   "display_name": "Python 3",
   "language": "python",
   "name": "python3"
  },
  "language_info": {
   "codemirror_mode": {
    "name": "ipython",
    "version": 3
   },
   "file_extension": ".py",
   "mimetype": "text/x-python",
   "name": "python",
   "nbconvert_exporter": "python",
   "pygments_lexer": "ipython3",
   "version": "3.7.4"
  }
 },
 "nbformat": 4,
 "nbformat_minor": 2
}
