{
 "cells": [
  {
   "cell_type": "code",
   "execution_count": null,
   "metadata": {},
   "outputs": [],
   "source": [
    "'''\n",
    "Convolution layers\n",
    "    1.Conv1D layer\n",
    "    2.Conv2D layer\n",
    "    3.Conv3D layer\n",
    "    4.SeparableConv1D layer\n",
    "    5.SeparableConv2D layer\n",
    "    6.DepthwiseConv2D layer\n",
    "    7.Conv2DTranspose layer\n",
    "    8.Conv3DTranspose layer\n",
    "'''"
   ]
  },
  {
   "cell_type": "code",
   "execution_count": null,
   "metadata": {},
   "outputs": [],
   "source": [
    "'''\n",
    "Pooling layers\n",
    "    1. MaxPooling1D layer\n",
    "    2. MaxPooling2D layer\n",
    "    3. MaxPooling3D layer\n",
    "    4. AveragePooling1D layer\n",
    "    5. AveragePooling2D layer\n",
    "    6. AveragePooling3D layer\n",
    "    7. GlobalMaxPooling1D layer\n",
    "    8. GlobalMaxPooling2D layer\n",
    "    9. GlobalMaxPooling3D layer\n",
    "    10. GlobalAveragePooling1D layer\n",
    "    11. GlobalAveragePoolingx`2D layer\n",
    "    12. GlobalAveragePooling3D layer\n",
    "'''"
   ]
  },
  {
   "cell_type": "code",
   "execution_count": 1,
   "metadata": {},
   "outputs": [],
   "source": [
    "import tensorflow as tf\n",
    "tf.enable_eager_execution()"
   ]
  },
  {
   "cell_type": "code",
   "execution_count": null,
   "metadata": {},
   "outputs": [],
   "source": [
    "'''\n",
    "Different Types of Convolutional Neural network\n",
    "\n",
    "1. 1D CNN\n",
    "\n",
    "    - kernel(Filter) moves in one direction\n",
    "        - Ex : Used for time series data\n",
    "\n",
    "2. 2D CNN\n",
    "\n",
    "    - kernel(Filter) moves in two direction\n",
    "        - Ex : Used with image labeling and Processing\n",
    "        \n",
    "3. 3D CNN\n",
    "\n",
    "    - kernel(Filter) moves in Three direction\n",
    "        - Ex : Use them on 3D images like CT scans and MRIs\n",
    "\n",
    "'''"
   ]
  },
  {
   "cell_type": "code",
   "execution_count": null,
   "metadata": {},
   "outputs": [],
   "source": [
    "'''\n",
    "Applications that you might see CNNs used for\n",
    "    - Recognize images with little preprocessing\n",
    "    - Recognize different hand-writing\n",
    "    - Computer vision applications\n",
    "    - Used in banking to read digits on checks\n",
    "    - Used in postal services to read zip codes on an envelope\n",
    "'''"
   ]
  },
  {
   "cell_type": "code",
   "execution_count": null,
   "metadata": {},
   "outputs": [],
   "source": [
    "'''\n",
    "\n",
    "There are three important items to mention in the Convolaution Process\n",
    "\n",
    "    - the input image : Input matrix\n",
    "    - feature detector : Filter or Kernel or weights\n",
    "    - feature map : output \n",
    "    \n",
    "    \n",
    "- It is a matrix multipliction of matrix reprssented input image element-wise with filter or kernel to produce a \n",
    "  feature map or output\n",
    "  \n",
    "-The aim of this step is to reduce the size of the image and make processing faster and easier\n",
    "\n",
    "\n",
    "\n",
    "'''"
   ]
  },
  {
   "cell_type": "code",
   "execution_count": 2,
   "metadata": {},
   "outputs": [
    {
     "data": {
      "text/plain": [
       "array([[[27.],\n",
       "        [21.],\n",
       "        [ 6.],\n",
       "        [12.],\n",
       "        [24.],\n",
       "        [21.],\n",
       "        [ 9.],\n",
       "        [ 3.],\n",
       "        [15.],\n",
       "        [27.],\n",
       "        [24.],\n",
       "        [12.]]], dtype=float32)"
      ]
     },
     "execution_count": 2,
     "metadata": {},
     "output_type": "execute_result"
    }
   ],
   "source": [
    "# 01 Conv1D with Filter [3]\n",
    "\n",
    "import numpy as np\n",
    "from tensorflow.keras.models import Sequential\n",
    "from tensorflow.keras.layers import Conv1D\n",
    "\n",
    "\n",
    "#01 Convalution for 1D Array data for 1*1 Filter\n",
    "\n",
    "# Define the input array\n",
    "inpu = np.array([9,7,2,4,8,7,3,1,5,9,8,4])\n",
    "\n",
    "# Reshape it to 3D    # batch_size,time sereis,input features\n",
    "inpu = inpu.reshape(1,12,1)\n",
    "\n",
    "model = Sequential()\n",
    "model.add(Conv1D(1, 1, input_shape=(12, 1)))\n",
    "\n",
    "# Define weights for filters\n",
    "weights = [np.asarray([[[3]]]),np.asarray([0.0])]\n",
    "\n",
    "model.set_weights(weights)\n",
    "\n",
    "model.predict(inpu)"
   ]
  },
  {
   "cell_type": "code",
   "execution_count": null,
   "metadata": {},
   "outputs": [],
   "source": [
    "'''\n",
    "\n",
    "# 01 Conv1D\n",
    "\n",
    "\n",
    "Manualy Calculating the same\n",
    "\n",
    "x = [9,7,2,4,8,7,3,1,5,9,8,4]\n",
    "filter = [3]\n",
    "\n",
    "# slide on each data\n",
    "\n",
    "9*3 = 27 \n",
    "7*3 = 21\n",
    "2*3 = 6\n",
    "4*3 = 12\n",
    "8*3 = 24\n",
    "7*3 = 21\n",
    "3*3 = 9\n",
    "1*3 = 3\n",
    "5*3 = 15\n",
    "9*3 = 27\n",
    "8*3 = 24\n",
    "4*3 = 12\n",
    "\n",
    "'''"
   ]
  },
  {
   "cell_type": "code",
   "execution_count": 3,
   "metadata": {},
   "outputs": [
    {
     "data": {
      "text/plain": [
       "array([[[69.],\n",
       "        [33.],\n",
       "        [30.],\n",
       "        [60.],\n",
       "        [66.],\n",
       "        [39.],\n",
       "        [15.],\n",
       "        [33.],\n",
       "        [69.],\n",
       "        [75.],\n",
       "        [48.]]], dtype=float32)"
      ]
     },
     "execution_count": 3,
     "metadata": {},
     "output_type": "execute_result"
    }
   ],
   "source": [
    "# 02 Conv1D with Filter : [3,6]\n",
    "\n",
    "#01 Convalution for 1D Array data for 2*1 Filter\n",
    "\n",
    "# Define the input array\n",
    "inpu = np.array([9,7,2,4,8,7,3,1,5,9,8,4])\n",
    "\n",
    "# Reshape it to 3D    # batch_size,time sereis,input features\n",
    "inpu = inpu.reshape(1,12,1)\n",
    "\n",
    "model = Sequential()\n",
    "model.add(Conv1D(1, 2, input_shape=(12, 1)))\n",
    "\n",
    "# Define weights for filters\n",
    "weights = [np.asarray([[[3]],[[6]]]),np.asarray([0.0])]\n",
    "\n",
    "model.set_weights(weights)\n",
    "\n",
    "model.predict(inpu)"
   ]
  },
  {
   "cell_type": "code",
   "execution_count": null,
   "metadata": {},
   "outputs": [],
   "source": [
    "'''\n",
    "Manualy Calculating the same\n",
    "\n",
    "x = [9,7,2,4,8,7,3,1,5,9,8,4]\n",
    "filter = [3,6]\n",
    "\n",
    "# slide on each data\n",
    "\n",
    "9*3 + 7*6 =69\n",
    "7*3 + 2*6 =33\n",
    "2*3 + 4*6 =30\n",
    "4*3 + 8*6 =60\n",
    "8*3 + 7*6 =66\n",
    "7*3 + 3*6 =39\n",
    "3*3 + 1*6 =15\n",
    "1*3 + 5*6 =33\n",
    "5*3 + 9*6 =69\n",
    "9*3 + 8*6 =75\n",
    "8*3 + 4*6 =48\n",
    "\n",
    "'''"
   ]
  },
  {
   "cell_type": "code",
   "execution_count": 4,
   "metadata": {},
   "outputs": [
    {
     "data": {
      "text/plain": [
       "array([[[42.],\n",
       "        [37.],\n",
       "        [62.],\n",
       "        [70.],\n",
       "        [47.],\n",
       "        [22.],\n",
       "        [36.],\n",
       "        [70.],\n",
       "        [80.],\n",
       "        [57.]]], dtype=float32)"
      ]
     },
     "execution_count": 4,
     "metadata": {},
     "output_type": "execute_result"
    }
   ],
   "source": [
    "#02 Conv1D with Filter : [1,3,6] (3*1 Filter)\n",
    "\n",
    "# Define the input array\n",
    "inpu = np.array([9,7,2,4,8,7,3,1,5,9,8,4])\n",
    "\n",
    "# Reshape it to 3D    # batch_size,time sereis,input features\n",
    "inpu = inpu.reshape(1,12,1)\n",
    "\n",
    "model = Sequential()\n",
    "model.add(Conv1D(1, 3, input_shape=(12, 1)))\n",
    "\n",
    "# Define weights for filters\n",
    "weights = [np.asarray([[[1]],[[3]],[[6]]]),np.asarray([0.0])]\n",
    "\n",
    "model.set_weights(weights)\n",
    "\n",
    "model.predict(inpu)"
   ]
  },
  {
   "cell_type": "code",
   "execution_count": null,
   "metadata": {},
   "outputs": [],
   "source": [
    "'''\n",
    "Manualy Calculating the same\n",
    "\n",
    "x = [9,7,2,4,8,7,3,1,5,9,8,4]\n",
    "filter = [1,3,6]\n",
    "\n",
    "# slide on each data\n",
    "\n",
    "9*1 + 7*3 + 2*6 = 42\n",
    "7*1 + 2*3 + 4*6 = 37\n",
    "2*1 + 4*3 + 8*6 = 62\n",
    "4*1 + 8*3 + 7*6 = 70\n",
    "8*1 + 7*3 + 3*6= 47\n",
    "7*1 + 3*3 + 1*6 = 22\n",
    "3*1 + 1*3 + 5*6 = 36\n",
    "1*1 + 5*3 + 9*6 = 70\n",
    "5*1 + 9*3 + 8*6 = 80\n",
    "9*1 + 8*3 + 4*6  = 57\n",
    "\n",
    "'''"
   ]
  },
  {
   "cell_type": "code",
   "execution_count": 5,
   "metadata": {},
   "outputs": [
    {
     "data": {
      "text/plain": [
       "array([[[42.],\n",
       "        [70.],\n",
       "        [36.],\n",
       "        [57.]]], dtype=float32)"
      ]
     },
     "execution_count": 5,
     "metadata": {},
     "output_type": "execute_result"
    }
   ],
   "source": [
    "#02 Conv1D with Filter : [1,3,6] (3*1 Filter) with Strides = 3\n",
    "\n",
    "# Define the input array\n",
    "inpu = np.array([9,7,2,4,8,7,3,1,5,9,8,4])\n",
    "\n",
    "# Reshape it to 3D    # batch_size,time sereis,input features\n",
    "inpu = inpu.reshape(1,12,1)\n",
    "\n",
    "model = Sequential()\n",
    "model.add(Conv1D(1, 3,strides =3,input_shape=(12, 1)))\n",
    "\n",
    "# Define weights for filters\n",
    "weights = [np.asarray([[[1]],[[3]],[[6]]]),np.asarray([0.0])]\n",
    "\n",
    "model.set_weights(weights)\n",
    "\n",
    "model.predict(inpu)"
   ]
  },
  {
   "cell_type": "code",
   "execution_count": null,
   "metadata": {},
   "outputs": [],
   "source": [
    "'''\n",
    "Manualy Calculating the same\n",
    "\n",
    "x = [9,7,2,4,8,7,3,1,5,9,8,4]\n",
    "filter = [1,3,6]\n",
    "\n",
    "# slide on each data\n",
    "\n",
    "9*1 + 7*3 + 2*6 = 42\n",
    "\n",
    "4*1 + 8*3 + 7*6 = 70\n",
    "\n",
    "3*1 + 1*3 + 5*6 = 36\n",
    "\n",
    "9*1 + 8*3 + 4*6 = 57\n",
    "\n",
    "'''"
   ]
  },
  {
   "cell_type": "code",
   "execution_count": null,
   "metadata": {},
   "outputs": [],
   "source": [
    "'''\n",
    "Padding : \n",
    "   - Valid padding, a.k.a. no padding\n",
    "   - Same padding, a.k.a. zero padding\n",
    "   - Causal padding\n",
    "   \n",
    "'''"
   ]
  },
  {
   "cell_type": "code",
   "execution_count": 6,
   "metadata": {},
   "outputs": [
    {
     "data": {
      "text/plain": [
       "array([[[69.],\n",
       "        [42.],\n",
       "        [37.],\n",
       "        [62.],\n",
       "        [70.],\n",
       "        [47.],\n",
       "        [22.],\n",
       "        [36.],\n",
       "        [70.],\n",
       "        [80.],\n",
       "        [57.],\n",
       "        [20.]]], dtype=float32)"
      ]
     },
     "execution_count": 6,
     "metadata": {},
     "output_type": "execute_result"
    }
   ],
   "source": [
    "#02 Conv1D data for 3*1 Filter with padding='same'\n",
    "\n",
    "# Define the input array\n",
    "inpu = np.array([9,7,2,4,8,7,3,1,5,9,8,4])\n",
    "\n",
    "# Reshape it to 3D    # batch_size,time sereis,input features\n",
    "inpu = inpu.reshape(1,12,1)\n",
    "\n",
    "model = Sequential()\n",
    "model.add(Conv1D(1, 3,strides =1,padding='same',input_shape=(12, 1)))\n",
    "\n",
    "# Define weights for filters\n",
    "weights = [np.asarray([[[1]],[[3]],[[6]]]),np.asarray([0.0])]\n",
    "\n",
    "model.set_weights(weights)\n",
    "\n",
    "model.predict(inpu)"
   ]
  },
  {
   "cell_type": "code",
   "execution_count": null,
   "metadata": {},
   "outputs": [],
   "source": [
    "'''\n",
    "Manualy Calculating the same with Zero padding or 'same'\n",
    "\n",
    "x = [9,7,2,4,8,7,3,1,5,9,8,4]\n",
    "filter = [1,3,6]\n",
    "\n",
    "# slide on each data\n",
    "\n",
    "0*1 + 9*3 + 7*6 = 69\n",
    "9*1 + 7*3 + 2*6 = 42\n",
    "7*1 + 2*3 + 4*6 = 37\n",
    "2*1 + 4*3 + 8*6 = 62\n",
    "4*1 + 8*3 + 7*6 = 70\n",
    "8*1 + 7*3 + 3*6= 47\n",
    "7*1 + 3*3 + 1*6 = 22\n",
    "3*1 + 1*3 + 5*6 = 36\n",
    "1*1 + 5*3 + 9*6 = 70\n",
    "5*1 + 9*3 + 8*6 = 80\n",
    "9*1 + 8*3 + 4*6  = 57\n",
    "8*1 + 4*3 + 0*6 = 20\n",
    "\n",
    "'''"
   ]
  },
  {
   "cell_type": "code",
   "execution_count": 9,
   "metadata": {},
   "outputs": [
    {
     "name": "stdout",
     "output_type": "stream",
     "text": [
      "(1, 3, 4, 1)\n",
      "\n",
      "\n",
      "[[24. 27. 30. 33.]\n",
      " [42. 45. 48. 51.]\n",
      " [60. 63. 66. 69.]]\n"
     ]
    }
   ],
   "source": [
    "# Conv2D\n",
    "\n",
    "\n",
    "import numpy as np\n",
    "\n",
    "from numpy import asarray\n",
    "from tensorflow.keras.models import Sequential\n",
    "from tensorflow.keras.layers import Conv2D\n",
    "# define input data\n",
    "data = [[1, 2, 3, 4, 5, 6],\n",
    "        [7, 8, 9, 10, 11, 12],\n",
    "        [13, 14, 15, 16, 17, 18],\n",
    "        [19, 20, 21, 22, 23, 24],\n",
    "        [25, 26, 27, 28, 29, 30]]\n",
    "\n",
    "data = asarray(data)\n",
    "data = data.reshape(1, 5, 6, 1)\n",
    "\n",
    "# create model\n",
    "model = Sequential()\n",
    "model.add(Conv2D(1, (3,3), input_shape=(5, 6, 1)))\n",
    "# define a vertical line detector\n",
    "detector = [[[[0]],[[1]],[[0]]],\n",
    "            [[[0]],[[1]],[[0]]],\n",
    "            [[[0]],[[1]],[[0]]]]\n",
    "\n",
    "weights = [np.asarray(detector), np.asarray([0.0])]\n",
    "\n",
    "# store the weights in the model\n",
    "model.set_weights(weights)\n",
    "\n",
    "# confirm they were stored\n",
    "#print(model.get_weights())\n",
    "\n",
    "# apply filter to input data\n",
    "yhat = model.predict(data)\n",
    "\n",
    "print(yhat.shape)\n",
    "\n",
    "print(\"\\n\")\n",
    "\n",
    "print(yhat.reshape(3,4))"
   ]
  },
  {
   "cell_type": "code",
   "execution_count": null,
   "metadata": {},
   "outputs": [],
   "source": [
    "# How it has been calculated\n",
    "\n",
    "data = [[1, 2, 3, 4, 5, 6],\n",
    "        [7, 8, 9, 10, 11, 12],\n",
    "        [13, 14, 15, 16, 17, 18],\n",
    "        [19, 20, 21, 22, 23, 24],\n",
    "        [25, 26, 27, 28, 29, 30]]\n",
    "\n",
    "\n",
    "filter = [[0,1,0],\n",
    "          [0,1,0],\n",
    "          [0,1,0]]\n",
    "\n",
    "\n",
    "# Apply filter from Top left Corner\n",
    "\n",
    "# consider 3*3 matrix data from the actual Data\n",
    "# element wise multiplication\n",
    "\n",
    "'''\n",
    "\n",
    "# One more move to the left to the next column and the feature is detected for the first time,\n",
    "1,2,3       0,1,0      0,2,0\n",
    "7,8,9  *    0,1,0    = 0,8,0  = 0+0+0+2+8+14+0+0+0 = 24\n",
    "13,14,15    0,1,0      0,14,0\n",
    "\n",
    "# The filter is moved along one column to the left and the process is repeated.\n",
    "2,3,4      0,1,0      0,3,0\n",
    "8,9,10  *  0,1,0    = 0,9,0  = 0+0+0+3+9+15+0+0+0 = 27\n",
    "14,15,16   0,1,0      0,15,0\n",
    "\n",
    "3,4,5      0,1,0      0,4,0\n",
    "9,10,11  * 0,1,0    = 0,10,0  = 0+0+0+4+10+16+0+0+0 = 30\n",
    "15,16,17   0,1,0      0,16,0\n",
    "\n",
    "4,5,6       0,1,0      0,5,0\n",
    "10,11,12  * 0,1,0    = 0,11,0  = 0+0+0+5+11+17+0+0+0 = 33\n",
    "15,17,18    0,1,0      0,17,0\n",
    "\n",
    "[24,27,30,33]\n",
    "\n",
    "# Lests move to next row and repeat the same\n",
    "7,8,9        0,1,0      0,8,0\n",
    "13,14,15  *  0,1,0    = 0,14,0  = 0+0+0+8+14+20+0+0+0 = 42\n",
    "19,20,21     0,1,0      0,20,0\n",
    "\n",
    "# The filter is moved along one column to the left and the process is repeated.\n",
    "8,9,10     0,1,0      0,9,0\n",
    "14,15,6  * 0,1,0    = 0,15,0  = 0+0+0+9+15+21+0+0+0 = 45\n",
    "20,21,22   0,1,0      0,21,0\n",
    "\n",
    "9,10,11      0,1,0      0,10,0\n",
    "15,16,17  *  0,1,0    = 0,16,0  = 0+0+0+10+16+22+0+0+0 = 48\n",
    "21,22,23     0,1,0      0,22,0\n",
    "\n",
    "10,11,12     0,1,0      0,11,0\n",
    "16,17,18  *  0,1,0    = 0,17,0  = 0+0+0+11+17+23+0+0+0 = 51\n",
    "22,23,24     0,1,0      0,23,0\n",
    "\n",
    "[42,45,48,51]\n",
    "\n",
    "\n",
    "# Lests move to next row and repeat the same\n",
    "13,14,15     0,1,0      0,14,0\n",
    "19,20,21  *  0,1,0    = 0,20,0  = 0+0+0+14+20+26+0+0+0 = 60\n",
    "25,26,27     0,1,0      0,26,0\n",
    "\n",
    "# The filter is moved along one column to the left and the process is repeated.\n",
    "14,15,16     0,1,0      0,15,0\n",
    "20,21,22  *  0,1,0    = 0,21,0  = 0+0+0+15+21+27+0+0+0 = 63\n",
    "26,27,28     0,1,0      0,27,0\n",
    "\n",
    "15,16,17     0,1,0      0,16,0\n",
    "21,22,23  *  0,1,0    = 0,22,0  = 0+0+0+16+22+28+0+0+0 = 66\n",
    "27,28,29     0,1,0      0,28,0\n",
    "\n",
    "16,17,18     0,1,0      0,17,0\n",
    "22,23,24  *  0,1,0    = 0,23,0  = 0+0+0+17+23+29+0+0+0 = 69\n",
    "28,29,30     0,1,0      0,29,0\n",
    "\n",
    "[60,63,66,69]\n",
    "\n",
    "\n",
    "final output array = [[24,27,30,33],[42,45,48,51],[60,63,66,69]]\n",
    "\n",
    "'''"
   ]
  },
  {
   "cell_type": "code",
   "execution_count": 10,
   "metadata": {},
   "outputs": [
    {
     "data": {
      "text/plain": [
       "array([[[42.],\n",
       "        [70.],\n",
       "        [47.],\n",
       "        [70.],\n",
       "        [80.]]], dtype=float32)"
      ]
     },
     "execution_count": 10,
     "metadata": {},
     "output_type": "execute_result"
    }
   ],
   "source": [
    "#01 Convalution for 1D Array data for 3*1 Filter\n",
    "\n",
    "from tensorflow.keras.layers import MaxPool1D\n",
    "\n",
    "# Define the input array\n",
    "inpu = np.array([9,7,2,4,8,7,3,1,5,9,8,4])\n",
    "\n",
    "# Reshape it to 3D    # batch_size,time sereis,input features\n",
    "inpu = inpu.reshape(1,12,1)\n",
    "\n",
    "model = Sequential()\n",
    "model.add(Conv1D(1, 3, input_shape=(12, 1)))\n",
    "model.add(MaxPool1D())\n",
    "\n",
    "# Define weights for filters\n",
    "weights = [np.asarray([[[1]],[[3]],[[6]]]),np.asarray([0.0])]\n",
    "\n",
    "model.set_weights(weights)\n",
    "\n",
    "model.predict(inpu)"
   ]
  },
  {
   "cell_type": "code",
   "execution_count": null,
   "metadata": {},
   "outputs": [],
   "source": [
    "\n",
    "'''\n",
    "\n",
    "In the above the model The output from the first Conv1D is [42,37,62,70,47,22,36,70,80,57]\n",
    "\n",
    "Lets perform Maxpoling with default pooling size = 2 and stride= None\n",
    "\n",
    "Max(42,37) = 42\n",
    "Max(62,70) = 70\n",
    "Max(47,22) = 47\n",
    "Max(36,70) = 70\n",
    "Max(80,57) = 80\n",
    "\n",
    "Final output = [42,70,47,70,80s]\n",
    "\n",
    "'''"
   ]
  },
  {
   "cell_type": "code",
   "execution_count": 11,
   "metadata": {},
   "outputs": [
    {
     "data": {
      "text/plain": [
       "array([[[39.5],\n",
       "        [66. ],\n",
       "        [34.5],\n",
       "        [53. ],\n",
       "        [68.5]]], dtype=float32)"
      ]
     },
     "execution_count": 11,
     "metadata": {},
     "output_type": "execute_result"
    }
   ],
   "source": [
    "#01 Convalution for 1D Array data for 3*1 Filter\n",
    "\n",
    "from tensorflow.keras.layers import AveragePooling1D\n",
    "\n",
    "# Define the input array\n",
    "inpu = np.array([9,7,2,4,8,7,3,1,5,9,8,4])\n",
    "\n",
    "# Reshape it to 3D    # batch_size,time sereis,input features\n",
    "inpu = inpu.reshape(1,12,1)\n",
    "\n",
    "model = Sequential()\n",
    "model.add(Conv1D(1, 3, input_shape=(12, 1)))\n",
    "model.add(AveragePooling1D())\n",
    "\n",
    "# Define weights for filters\n",
    "weights = [np.asarray([[[1]],[[3]],[[6]]]),np.asarray([0.0])]\n",
    "\n",
    "model.set_weights(weights)\n",
    "\n",
    "model.predict(inpu)"
   ]
  },
  {
   "cell_type": "code",
   "execution_count": null,
   "metadata": {},
   "outputs": [],
   "source": [
    "\n",
    "'''\n",
    "\n",
    "In the above the model The output from the first Conv1D is [42,37,62,70,47,22,36,70,80,57]\n",
    "\n",
    "Lets perform Maxpoling with default AVGpooling size = 2 and stride= None\n",
    "\n",
    "AVG(42,37) = 39.5\n",
    "AVG(62,70) = 66\n",
    "AVG(47,22) = 34.5\n",
    "AVG(36,70) = 53\n",
    "AVG(80,57) = 68.5\n",
    "\n",
    "Final output = [39.5,66,34.5,53,68.5]\n",
    "\n",
    "'''"
   ]
  },
  {
   "cell_type": "code",
   "execution_count": 12,
   "metadata": {},
   "outputs": [
    {
     "data": {
      "text/plain": [
       "array([[80.]], dtype=float32)"
      ]
     },
     "execution_count": 12,
     "metadata": {},
     "output_type": "execute_result"
    }
   ],
   "source": [
    "#01 Convalution for 1D Array data for 3*1 Filter\n",
    "\n",
    "from tensorflow.keras.layers import GlobalMaxPooling1D\n",
    "\n",
    "# Define the input array\n",
    "inpu = np.array([9,7,2,4,8,7,3,1,5,9,8,4])\n",
    "\n",
    "# Reshape it to 3D    # batch_size,time sereis,input features\n",
    "inpu = inpu.reshape(1,12,1)\n",
    "\n",
    "model = Sequential()\n",
    "model.add(Conv1D(1, 3, input_shape=(12, 1)))\n",
    "model.add(GlobalMaxPooling1D())\n",
    "\n",
    "# Define weights for filters\n",
    "weights = [np.asarray([[[1]],[[3]],[[6]]]),np.asarray([0.0])]\n",
    "\n",
    "model.set_weights(weights)\n",
    "\n",
    "model.predict(inpu)"
   ]
  },
  {
   "cell_type": "code",
   "execution_count": null,
   "metadata": {},
   "outputs": [],
   "source": [
    "'''\n",
    "In the Above the model the outpput from first layer is \n",
    "\n",
    "X = [42,37,62,70,47,22,36,70,80,57]\n",
    "\n",
    "Max(X) = 80\n",
    "\n",
    "final output = 80\n",
    "\n",
    "\n",
    "'''"
   ]
  },
  {
   "cell_type": "code",
   "execution_count": 13,
   "metadata": {},
   "outputs": [
    {
     "data": {
      "text/plain": [
       "array([[52.3]], dtype=float32)"
      ]
     },
     "execution_count": 13,
     "metadata": {},
     "output_type": "execute_result"
    }
   ],
   "source": [
    "#01 Convalution for 1D Array data for 3*1 Filter\n",
    "\n",
    "from tensorflow.keras.layers import GlobalAveragePooling1D\n",
    "\n",
    "# Define the input array\n",
    "inpu = np.array([9,7,2,4,8,7,3,1,5,9,8,4])\n",
    "\n",
    "# Reshape it to 3D    # batch_size,time sereis,input features\n",
    "inpu = inpu.reshape(1,12,1)\n",
    "\n",
    "model = Sequential()\n",
    "model.add(Conv1D(1, 3, input_shape=(12, 1)))\n",
    "model.add(GlobalAveragePooling1D())\n",
    "\n",
    "# Define weights for filters\n",
    "weights = [np.asarray([[[1]],[[3]],[[6]]]),np.asarray([0.0])]\n",
    "\n",
    "model.set_weights(weights)\n",
    "\n",
    "model.predict(inpu)"
   ]
  },
  {
   "cell_type": "code",
   "execution_count": null,
   "metadata": {},
   "outputs": [],
   "source": [
    "'''\n",
    "In the Above the model the outpput from first layer is \n",
    "\n",
    "X = [42,37,62,70,47,22,36,70,80,57]\n",
    "\n",
    "AVG(X) = 52.3\n",
    "\n",
    "final output = 52.3\n",
    "\n",
    "'''"
   ]
  },
  {
   "cell_type": "code",
   "execution_count": 14,
   "metadata": {},
   "outputs": [
    {
     "name": "stdout",
     "output_type": "stream",
     "text": [
      "[[27. 30. 33.]\n",
      " [45. 48. 51.]\n",
      " [63. 66. 69.]]\n"
     ]
    }
   ],
   "source": [
    "# 2D Convolution : Max Pooling\n",
    "\n",
    "import numpy as np\n",
    "\n",
    "from numpy import asarray\n",
    "from tensorflow.keras.models import Sequential\n",
    "from tensorflow.keras.layers import Conv2D\n",
    "from tensorflow.keras.layers import AveragePooling2D\n",
    "from tensorflow.keras.layers import MaxPooling2D\n",
    "\n",
    "# define input data\n",
    "data = [[1, 2, 3, 4, 5, 6],\n",
    "        [7, 8, 9, 10, 11, 12],\n",
    "        [13, 14, 15, 16, 17, 18],\n",
    "        [19, 20, 21, 22, 23, 24],\n",
    "        [25, 26, 27, 28, 29, 30]]\n",
    "\n",
    "data = asarray(data)\n",
    "data = data.reshape(1, 5, 6, 1)\n",
    "\n",
    "# create model\n",
    "model = Sequential()\n",
    "model.add(Conv2D(1, (3,3), input_shape=(5, 6, 1)))\n",
    "model.add(MaxPooling2D(pool_size=(1,2),strides=1))\n",
    "\n",
    "# define a vertical line detector\n",
    "detector = [[[[0]],[[1]],[[0]]],\n",
    "            [[[0]],[[1]],[[0]]],\n",
    "            [[[0]],[[1]],[[0]]]]\n",
    "\n",
    "weights = [np.asarray(detector), np.asarray([0.0])]\n",
    "\n",
    "# store the weights in the model\n",
    "model.set_weights(weights)\n",
    "\n",
    "# confirm they were stored\n",
    "#print(model.get_weights())\n",
    "\n",
    "# apply filter to input data\n",
    "yhat = model.predict(data)\n",
    "\n",
    "print(yhat.reshape(3,3))"
   ]
  },
  {
   "cell_type": "code",
   "execution_count": null,
   "metadata": {},
   "outputs": [],
   "source": [
    "'''\n",
    "\n",
    "In the above the model First Layer is Conv1D \n",
    "\n",
    "and from 1st layer We got output something like this \n",
    "\n",
    "[[24. 27. 30. 33.]\n",
    " [42. 45. 48. 51.]\n",
    " [60. 63. 66. 69.]]\n",
    "\n",
    "Lets perform MaxPooling2D for above th matrix with pool_size=(1,2) and strides = 1\n",
    "\n",
    "Max(24,27) = 27\n",
    "Max(27,30) = 30\n",
    "Max(30,33) = 33\n",
    "\n",
    "Max(42,45) = 45\n",
    "Max(45,48) = 48\n",
    "Max(48,51) = 51\n",
    "\n",
    "\n",
    "Max(60,63) = 63\n",
    "Max(63,66) = 66\n",
    "Max(66,69) = 69\n",
    "\n",
    "\n",
    "Final Output = [[27,30,33],\n",
    "                [45,48,51],\n",
    "                [63,66,69]]\n",
    "\n",
    "'''"
   ]
  },
  {
   "cell_type": "code",
   "execution_count": 15,
   "metadata": {},
   "outputs": [
    {
     "name": "stdout",
     "output_type": "stream",
     "text": [
      "[[25.5 28.5 31.5]\n",
      " [43.5 46.5 49.5]\n",
      " [61.5 64.5 67.5]]\n"
     ]
    }
   ],
   "source": [
    "# 2D Convolution : AveragePooling2D\n",
    "\n",
    "import numpy as np\n",
    "\n",
    "from numpy import asarray\n",
    "from tensorflow.keras.models import Sequential\n",
    "from tensorflow.keras.layers import Conv2D\n",
    "from tensorflow.keras.layers import AveragePooling2D\n",
    "from tensorflow.keras.layers import MaxPooling2D\n",
    "\n",
    "# define input data\n",
    "data = [[1, 2, 3, 4, 5, 6],\n",
    "        [7, 8, 9, 10, 11, 12],\n",
    "        [13, 14, 15, 16, 17, 18],\n",
    "        [19, 20, 21, 22, 23, 24],\n",
    "        [25, 26, 27, 28, 29, 30]]\n",
    "\n",
    "data = asarray(data)\n",
    "data = data.reshape(1, 5, 6, 1)\n",
    "\n",
    "# create model\n",
    "model = Sequential()\n",
    "model.add(Conv2D(1, (3,3), input_shape=(5, 6, 1)))\n",
    "model.add(AveragePooling2D(pool_size=(1,2),strides=1))\n",
    "\n",
    "# define a vertical line detector\n",
    "detector = [[[[0]],[[1]],[[0]]],\n",
    "            [[[0]],[[1]],[[0]]],\n",
    "            [[[0]],[[1]],[[0]]]]\n",
    "\n",
    "weights = [np.asarray(detector), np.asarray([0.0])]\n",
    "\n",
    "# store the weights in the model\n",
    "model.set_weights(weights)\n",
    "\n",
    "# confirm they were stored\n",
    "#print(model.get_weights())\n",
    "\n",
    "# apply filter to input data\n",
    "yhat = model.predict(data)\n",
    "\n",
    "print(yhat.reshape(3,3))"
   ]
  },
  {
   "cell_type": "code",
   "execution_count": null,
   "metadata": {},
   "outputs": [],
   "source": [
    "'''\n",
    "\n",
    "In the above the model First Layer is Conv1D \n",
    "\n",
    "and from 1st layer We got output something like this \n",
    "\n",
    "[[24. 27. 30. 33.]\n",
    " [42. 45. 48. 51.]\n",
    " [60. 63. 66. 69.]]\n",
    "\n",
    "Lets perform MaxPooling2D for above th matrix with pool_size=(1,2) and strides = 1\n",
    "\n",
    "AVG(24,27) = 25.5\n",
    "AVG(27,30) = 28.5\n",
    "AVG(30,33) = 31.5\n",
    "\n",
    "AVG(42,45) = 43.5\n",
    "AVG(45,48) = 46.5\n",
    "AVG(48,51) = 49.5\n",
    "\n",
    "\n",
    "AVG(60,63) = 61.5\n",
    "AVG(63,66) = 64.5\n",
    "AVG(66,69) = 67.5\n",
    "\n",
    "\n",
    "Final Output = [[25.5,28.5,31.5],\n",
    "                [43.5,46.5,49.5],\n",
    "                [61.5,64.5,67.5]]\n",
    "'''"
   ]
  },
  {
   "cell_type": "code",
   "execution_count": 16,
   "metadata": {},
   "outputs": [
    {
     "data": {
      "text/plain": [
       "array([[69.]], dtype=float32)"
      ]
     },
     "execution_count": 16,
     "metadata": {},
     "output_type": "execute_result"
    }
   ],
   "source": [
    "# 2D Convolution : GlobalMaxPooling2D\n",
    "\n",
    "import numpy as np\n",
    "\n",
    "from numpy import asarray\n",
    "from tensorflow.keras.models import Sequential\n",
    "from tensorflow.keras.layers import Conv2D\n",
    "from tensorflow.keras.layers import GlobalMaxPooling2D\n",
    "from tensorflow.keras.layers import MaxPooling2D\n",
    "\n",
    "# define input data\n",
    "data = [[1, 2, 3, 4, 5, 6],\n",
    "        [7, 8, 9, 10, 11, 12],\n",
    "        [13, 14, 15, 16, 17, 18],\n",
    "        [19, 20, 21, 22, 23, 24],\n",
    "        [25, 26, 27, 28, 29, 30]]\n",
    "\n",
    "data = asarray(data)\n",
    "data = data.reshape(1, 5, 6, 1)\n",
    "\n",
    "# create model\n",
    "model = Sequential()\n",
    "model.add(Conv2D(1, (3,3), input_shape=(5, 6, 1)))\n",
    "model.add(GlobalMaxPooling2D())\n",
    "\n",
    "# define a vertical line detector\n",
    "detector = [[[[0]],[[1]],[[0]]],\n",
    "            [[[0]],[[1]],[[0]]],\n",
    "            [[[0]],[[1]],[[0]]]]\n",
    "\n",
    "weights = [np.asarray(detector), np.asarray([0.0])]\n",
    "\n",
    "# store the weights in the model\n",
    "model.set_weights(weights)\n",
    "\n",
    "# confirm they were stored\n",
    "#print(model.get_weights())\n",
    "\n",
    "# apply filter to input data\n",
    "yhat = model.predict(data)\n",
    "\n",
    "yhat"
   ]
  },
  {
   "cell_type": "code",
   "execution_count": null,
   "metadata": {},
   "outputs": [],
   "source": [
    "'''\n",
    "\n",
    "In the above the model First Layer is Conv1D \n",
    "\n",
    "and from 1st layer We got output something like this \n",
    "\n",
    "[[24. 27. 30. 33.]\n",
    " [42. 45. 48. 51.]\n",
    " [60. 63. 66. 69.]]\n",
    "\n",
    "\n",
    "In the above the matrix we find max value of entire matrix so\n",
    "\n",
    "final output = 69.\n",
    "\n",
    "'''"
   ]
  },
  {
   "cell_type": "code",
   "execution_count": 17,
   "metadata": {},
   "outputs": [
    {
     "data": {
      "text/plain": [
       "array([[46.5]], dtype=float32)"
      ]
     },
     "execution_count": 17,
     "metadata": {},
     "output_type": "execute_result"
    }
   ],
   "source": [
    "# 2D Convolution : GlobalMaxPooling2D\n",
    "\n",
    "import numpy as np\n",
    "\n",
    "from numpy import asarray\n",
    "from tensorflow.keras.models import Sequential\n",
    "from tensorflow.keras.layers import Conv2D\n",
    "from tensorflow.keras.layers import GlobalAveragePooling2D\n",
    "from tensorflow.keras.layers import MaxPooling2D\n",
    "\n",
    "# define input data\n",
    "data = [[1, 2, 3, 4, 5, 6],\n",
    "        [7, 8, 9, 10, 11, 12],\n",
    "        [13, 14, 15, 16, 17, 18],\n",
    "        [19, 20, 21, 22, 23, 24],\n",
    "        [25, 26, 27, 28, 29, 30]]\n",
    "\n",
    "data = asarray(data)\n",
    "data = data.reshape(1, 5, 6, 1)\n",
    "\n",
    "# create model\n",
    "model = Sequential()\n",
    "model.add(Conv2D(1, (3,3), input_shape=(5, 6, 1)))\n",
    "model.add(GlobalAveragePooling2D())\n",
    "\n",
    "# define a vertical line detector\n",
    "detector = [[[[0]],[[1]],[[0]]],\n",
    "            [[[0]],[[1]],[[0]]],\n",
    "            [[[0]],[[1]],[[0]]]]\n",
    "\n",
    "weights = [np.asarray(detector), np.asarray([0.0])]\n",
    "\n",
    "# store the weights in the model\n",
    "model.set_weights(weights)\n",
    "\n",
    "# confirm they were stored\n",
    "#print(model.get_weights())\n",
    "\n",
    "# apply filter to input data\n",
    "yhat = model.predict(data)\n",
    "\n",
    "yhat"
   ]
  },
  {
   "cell_type": "code",
   "execution_count": null,
   "metadata": {},
   "outputs": [],
   "source": [
    "'''\n",
    "\n",
    "In the above the model First Layer is Conv1D \n",
    "\n",
    "and from 1st layer We got output something like this \n",
    "\n",
    "[[24. 27. 30. 33.]\n",
    " [42. 45. 48. 51.]\n",
    " [60. 63. 66. 69.]]\n",
    "\n",
    "Lets perform complete Average for above th matrix and find one value\n",
    "\n",
    "(24+27+30+33+42+45+48+51+60+63+66+69)/ 12 = 46.5\n",
    "\n",
    "'''"
   ]
  },
  {
   "cell_type": "code",
   "execution_count": null,
   "metadata": {},
   "outputs": [],
   "source": []
  },
  {
   "cell_type": "code",
   "execution_count": null,
   "metadata": {},
   "outputs": [],
   "source": []
  },
  {
   "cell_type": "code",
   "execution_count": 21,
   "metadata": {},
   "outputs": [
    {
     "data": {
      "text/plain": [
       "<matplotlib.image.AxesImage at 0x294bfa42ac8>"
      ]
     },
     "execution_count": 21,
     "metadata": {},
     "output_type": "execute_result"
    },
    {
     "data": {
      "image/png": "[encoded data removed]",
      "text/plain": [
       "<Figure size 432x288 with 1 Axes>"
      ]
     },
     "metadata": {
      "needs_background": "light"
     },
     "output_type": "display_data"
    }
   ],
   "source": [
    "import matplotlib.pyplot as plt\n",
    "img1 = np.array([[1,1,1],\n",
    "                 [0,0,0],\n",
    "                 [1,1,1]])\n",
    "\n",
    "plt.imshow(img1)"
   ]
  },
  {
   "cell_type": "code",
   "execution_count": 22,
   "metadata": {},
   "outputs": [
    {
     "data": {
      "text/plain": [
       "<matplotlib.image.AxesImage at 0x294bfaeff88>"
      ]
     },
     "execution_count": 22,
     "metadata": {},
     "output_type": "execute_result"
    },
    {
     "data": {
      "image/png": "[encoded data removed]",
      "text/plain": [
       "<Figure size 432x288 with 1 Axes>"
      ]
     },
     "metadata": {
      "needs_background": "light"
     },
     "output_type": "display_data"
    }
   ],
   "source": [
    "img2 = np.array([[1,0,1],\n",
    "                 [1,0,1],\n",
    "                 [1,0,1]])\n",
    "\n",
    "plt.imshow(img2)"
   ]
  },
  {
   "cell_type": "code",
   "execution_count": 23,
   "metadata": {},
   "outputs": [
    {
     "data": {
      "text/plain": [
       "<matplotlib.image.AxesImage at 0x294bfb5dc08>"
      ]
     },
     "execution_count": 23,
     "metadata": {},
     "output_type": "execute_result"
    },
    {
     "data": {
      "image/png": "[encoded data removed]",
      "text/plain": [
       "<Figure size 432x288 with 1 Axes>"
      ]
     },
     "metadata": {
      "needs_background": "light"
     },
     "output_type": "display_data"
    }
   ],
   "source": [
    "img3 = np.array([[1,0,1],\n",
    "                 [1,0,1],\n",
    "                 [0,0,0]])\n",
    "\n",
    "plt.imshow(img3)"
   ]
  },
  {
   "cell_type": "code",
   "execution_count": 24,
   "metadata": {},
   "outputs": [
    {
     "data": {
      "text/plain": [
       "<matplotlib.image.AxesImage at 0x294c0b907c8>"
      ]
     },
     "execution_count": 24,
     "metadata": {},
     "output_type": "execute_result"
    },
    {
     "data": {
      "image/png": "[encoded data removed]",
      "text/plain": [
       "<Figure size 432x288 with 1 Axes>"
      ]
     },
     "metadata": {
      "needs_background": "light"
     },
     "output_type": "display_data"
    }
   ],
   "source": [
    "img4 = np.array([[0,0,0],\n",
    "                 [1,0,1],\n",
    "                 [1,0,1]])\n",
    "\n",
    "plt.imshow(img4)"
   ]
  },
  {
   "cell_type": "code",
   "execution_count": 25,
   "metadata": {},
   "outputs": [
    {
     "data": {
      "text/plain": [
       "<matplotlib.image.AxesImage at 0x294c0beff08>"
      ]
     },
     "execution_count": 25,
     "metadata": {},
     "output_type": "execute_result"
    },
    {
     "data": {
      "image/png": "[encoded data removed]",
      "text/plain": [
       "<Figure size 432x288 with 1 Axes>"
      ]
     },
     "metadata": {
      "needs_background": "light"
     },
     "output_type": "display_data"
    }
   ],
   "source": [
    "img5 = np.array([[1,0,1],\n",
    "                 [0,0,0],\n",
    "                 [1,0,1]])\n",
    "\n",
    "plt.imshow(img5)"
   ]
  },
  {
   "cell_type": "code",
   "execution_count": null,
   "metadata": {},
   "outputs": [],
   "source": []
  }
 ],
 "metadata": {
  "kernelspec": {
   "display_name": "Python 3",
   "language": "python",
   "name": "python3"
  },
  "language_info": {
   "codemirror_mode": {
    "name": "ipython",
    "version": 3
   },
   "file_extension": ".py",
   "mimetype": "text/x-python",
   "name": "python",
   "nbconvert_exporter": "python",
   "pygments_lexer": "ipython3",
   "version": "3.7.4"
  }
 },
 "nbformat": 4,
 "nbformat_minor": 2
}
