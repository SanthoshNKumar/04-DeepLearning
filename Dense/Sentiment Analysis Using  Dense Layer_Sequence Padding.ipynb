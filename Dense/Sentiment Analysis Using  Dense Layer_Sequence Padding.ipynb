{
 "cells": [
  {
   "cell_type": "code",
   "execution_count": null,
   "metadata": {},
   "outputs": [],
   "source": [
    "# Here we are using only the Dense Layer\n",
    "\n",
    "# Control the output value using Relu Activation function and Predict the output by sigmoid function\n",
    "# input_dim is the value 0f max lenth of padded sequence\n",
    "\n",
    "# Step 1: Convert the Courpus data into Integer encoding\n",
    "# Step 2: Build the Keras model using only Dense Layer"
   ]
  },
  {
   "cell_type": "code",
   "execution_count": 2,
   "metadata": {},
   "outputs": [],
   "source": [
    "import pandas as pd\n",
    "\n",
    "# Corpus \n",
    "positive = ['This is an excellent movie','The move was fantastic I like it',\n",
    "            'You should watch it is brilliant','Exceptionally good','Wonderfully directed and executed I like it',\n",
    "             'Its a fantastic series','Never watched such a brillent movie','It is a Wonderful movie']\n",
    "\n",
    "negative = [\"horrible acting\",'waste of money','pathetic picture','It was very boring',\n",
    "            'I did not like the movie','The movie was horrible','I will not recommend',\n",
    "            'The acting is pathetic']"
   ]
  },
  {
   "cell_type": "code",
   "execution_count": 4,
   "metadata": {},
   "outputs": [
    {
     "data": {
      "text/html": [
       "<div>\n",
       "<style scoped>\n",
       "    .dataframe tbody tr th:only-of-type {\n",
       "        vertical-align: middle;\n",
       "    }\n",
       "\n",
       "    .dataframe tbody tr th {\n",
       "        vertical-align: top;\n",
       "    }\n",
       "\n",
       "    .dataframe thead th {\n",
       "        text-align: right;\n",
       "    }\n",
       "</style>\n",
       "<table border=\"1\" class=\"dataframe\">\n",
       "  <thead>\n",
       "    <tr style=\"text-align: right;\">\n",
       "      <th></th>\n",
       "      <th>comment</th>\n",
       "      <th>review</th>\n",
       "    </tr>\n",
       "  </thead>\n",
       "  <tbody>\n",
       "    <tr>\n",
       "      <td>15</td>\n",
       "      <td>The acting is pathetic</td>\n",
       "      <td>negative</td>\n",
       "    </tr>\n",
       "    <tr>\n",
       "      <td>3</td>\n",
       "      <td>Exceptionally good</td>\n",
       "      <td>positive</td>\n",
       "    </tr>\n",
       "    <tr>\n",
       "      <td>12</td>\n",
       "      <td>I did not like the movie</td>\n",
       "      <td>negative</td>\n",
       "    </tr>\n",
       "  </tbody>\n",
       "</table>\n",
       "</div>"
      ],
      "text/plain": [
       "                     comment    review\n",
       "15    The acting is pathetic  negative\n",
       "3         Exceptionally good  positive\n",
       "12  I did not like the movie  negative"
      ]
     },
     "execution_count": 4,
     "metadata": {},
     "output_type": "execute_result"
    }
   ],
   "source": [
    "reviews = [(pr,\"positive\") for pr in positive] + [(nr,\"negative\") for nr in negative]\n",
    "\n",
    "data = pd.DataFrame(reviews,columns=[\"comment\",'review'])\n",
    "\n",
    "# shuffle the DataFrame rows\n",
    "data = data.sample(frac = 1)\n",
    "\n",
    "data.head(3)"
   ]
  },
  {
   "cell_type": "code",
   "execution_count": 7,
   "metadata": {},
   "outputs": [
    {
     "data": {
      "text/html": [
       "<div>\n",
       "<style scoped>\n",
       "    .dataframe tbody tr th:only-of-type {\n",
       "        vertical-align: middle;\n",
       "    }\n",
       "\n",
       "    .dataframe tbody tr th {\n",
       "        vertical-align: top;\n",
       "    }\n",
       "\n",
       "    .dataframe thead th {\n",
       "        text-align: right;\n",
       "    }\n",
       "</style>\n",
       "<table border=\"1\" class=\"dataframe\">\n",
       "  <thead>\n",
       "    <tr style=\"text-align: right;\">\n",
       "      <th></th>\n",
       "      <th>comment</th>\n",
       "      <th>review</th>\n",
       "    </tr>\n",
       "  </thead>\n",
       "  <tbody>\n",
       "    <tr>\n",
       "      <td>15</td>\n",
       "      <td>The acting is pathetic</td>\n",
       "      <td>0</td>\n",
       "    </tr>\n",
       "    <tr>\n",
       "      <td>3</td>\n",
       "      <td>Exceptionally good</td>\n",
       "      <td>1</td>\n",
       "    </tr>\n",
       "  </tbody>\n",
       "</table>\n",
       "</div>"
      ],
      "text/plain": [
       "                   comment  review\n",
       "15  The acting is pathetic       0\n",
       "3       Exceptionally good       1"
      ]
     },
     "execution_count": 7,
     "metadata": {},
     "output_type": "execute_result"
    }
   ],
   "source": [
    "from sklearn.preprocessing import LabelEncoder\n",
    "lb_make = LabelEncoder()\n",
    "data['review'] = lb_make.fit_transform(data[\"review\"])\n",
    "\n",
    "data.head(2)"
   ]
  },
  {
   "cell_type": "code",
   "execution_count": 8,
   "metadata": {},
   "outputs": [
    {
     "data": {
      "text/plain": [
       "7"
      ]
     },
     "execution_count": 8,
     "metadata": {},
     "output_type": "execute_result"
    }
   ],
   "source": [
    "# lower the text\n",
    "data['comment'] = data['comment'].str.lower()\n",
    "\n",
    "# find max_length sequence\n",
    "\n",
    "max_seq_len = max([len([y for y in x.split()]) for x in data['comment']])\n",
    "max_seq_len"
   ]
  },
  {
   "cell_type": "code",
   "execution_count": 9,
   "metadata": {},
   "outputs": [
    {
     "data": {
      "text/plain": [
       "16"
      ]
     },
     "execution_count": 9,
     "metadata": {},
     "output_type": "execute_result"
    }
   ],
   "source": [
    "# number of samples\n",
    "num_samples = data.shape[0]\n",
    "num_samples"
   ]
  },
  {
   "cell_type": "code",
   "execution_count": 10,
   "metadata": {},
   "outputs": [
    {
     "name": "stderr",
     "output_type": "stream",
     "text": [
      "Using TensorFlow backend.\n"
     ]
    }
   ],
   "source": [
    "from keras.preprocessing import text\n",
    "\n",
    "tokenizer = text.Tokenizer()\n",
    "tokenizer.fit_on_texts(data['comment'])\n",
    "word2id = tokenizer.word_index\n",
    "\n",
    "word2id['PAD'] = 0\n",
    "id2word = {v:k for k, v in word2id.items()}\n",
    "wids = [[word2id[w] for w in text.text_to_word_sequence(doc)] for doc in data['comment']]"
   ]
  },
  {
   "cell_type": "code",
   "execution_count": 11,
   "metadata": {},
   "outputs": [
    {
     "data": {
      "text/plain": [
       "44"
      ]
     },
     "execution_count": 11,
     "metadata": {},
     "output_type": "execute_result"
    }
   ],
   "source": [
    "vocab_size = len(id2word)\n",
    "\n",
    "vocab_size"
   ]
  },
  {
   "cell_type": "code",
   "execution_count": 12,
   "metadata": {},
   "outputs": [
    {
     "data": {
      "text/plain": [
       "array([[ 3,  9,  4, 10,  0,  0,  0],\n",
       "       [14, 15,  0,  0,  0,  0,  0],\n",
       "       [ 5, 16, 11,  6,  3,  1,  0],\n",
       "       [ 2,  4,  7, 17,  1,  0,  0],\n",
       "       [18, 19, 20,  2,  4, 21,  0],\n",
       "       [22,  4, 23, 24,  1,  0,  0],\n",
       "       [25, 26, 27,  0,  0,  0,  0],\n",
       "       [28,  7, 12, 29,  0,  0,  0],\n",
       "       [ 3,  1,  8, 13,  0,  0,  0],\n",
       "       [ 5, 30, 11, 31,  0,  0,  0],\n",
       "       [13,  9,  0,  0,  0,  0,  0],\n",
       "       [32, 33, 34, 35,  5,  6,  2],\n",
       "       [36, 37, 38,  7, 39,  1,  0],\n",
       "       [ 2,  8, 40, 41,  0,  0,  0],\n",
       "       [10, 42,  0,  0,  0,  0,  0],\n",
       "       [ 3, 43,  8, 12,  5,  6,  2]])"
      ]
     },
     "execution_count": 12,
     "metadata": {},
     "output_type": "execute_result"
    }
   ],
   "source": [
    "from tensorflow.keras.preprocessing.sequence import pad_sequences\n",
    "\n",
    "padded_inputs = pad_sequences(wids,padding='post')\n",
    "\n",
    "padded_inputs"
   ]
  },
  {
   "cell_type": "code",
   "execution_count": 13,
   "metadata": {},
   "outputs": [
    {
     "data": {
      "text/plain": [
       "array([0, 1, 0, 1, 1, 1, 0, 1, 0, 0, 0, 1, 1, 0, 0, 1], dtype=int64)"
      ]
     },
     "execution_count": 13,
     "metadata": {},
     "output_type": "execute_result"
    }
   ],
   "source": [
    "y = data['review'].values # output labels\n",
    "\n",
    "y"
   ]
  },
  {
   "cell_type": "code",
   "execution_count": 17,
   "metadata": {},
   "outputs": [
    {
     "name": "stdout",
     "output_type": "stream",
     "text": [
      "WARNING:tensorflow:From c:\\users\\insakum46\\appdata\\local\\programs\\python\\python37\\lib\\site-packages\\keras\\backend\\tensorflow_backend.py:422: The name tf.global_variables is deprecated. Please use tf.compat.v1.global_variables instead.\n",
      "\n",
      "Epoch 1/150\n",
      "16/16 [==============================] - 0s 16ms/step - loss: 3.0034 - accuracy: 0.6250\n",
      "Epoch 2/150\n",
      "16/16 [==============================] - 0s 370us/step - loss: 2.8440 - accuracy: 0.6250\n",
      "Epoch 3/150\n",
      "16/16 [==============================] - 0s 310us/step - loss: 2.6875 - accuracy: 0.6250\n",
      "Epoch 4/150\n",
      "16/16 [==============================] - 0s 450us/step - loss: 2.5344 - accuracy: 0.6250\n",
      "Epoch 5/150\n",
      "16/16 [==============================] - 0s 338us/step - loss: 2.3729 - accuracy: 0.6250\n",
      "Epoch 6/150\n",
      "16/16 [==============================] - 0s 137us/step - loss: 2.2377 - accuracy: 0.6250\n",
      "Epoch 7/150\n",
      "16/16 [==============================] - 0s 0us/step - loss: 2.0880 - accuracy: 0.6250\n",
      "Epoch 8/150\n",
      "16/16 [==============================] - 0s 249us/step - loss: 1.9637 - accuracy: 0.6250\n",
      "Epoch 9/150\n",
      "16/16 [==============================] - 0s 321us/step - loss: 1.8397 - accuracy: 0.6250\n",
      "Epoch 10/150\n",
      "16/16 [==============================] - 0s 62us/step - loss: 1.6907 - accuracy: 0.6250\n",
      "Epoch 11/150\n",
      "16/16 [==============================] - 0s 253us/step - loss: 1.5886 - accuracy: 0.6250\n",
      "Epoch 12/150\n",
      "16/16 [==============================] - 0s 62us/step - loss: 1.4891 - accuracy: 0.6250\n",
      "Epoch 13/150\n",
      "16/16 [==============================] - 0s 382us/step - loss: 1.3533 - accuracy: 0.6250\n",
      "Epoch 14/150\n",
      "16/16 [==============================] - 0s 368us/step - loss: 1.2373 - accuracy: 0.6250\n",
      "Epoch 15/150\n",
      "16/16 [==============================] - 0s 307us/step - loss: 1.1424 - accuracy: 0.6250\n",
      "Epoch 16/150\n",
      "16/16 [==============================] - 0s 270us/step - loss: 1.0565 - accuracy: 0.5625\n",
      "Epoch 17/150\n",
      "16/16 [==============================] - 0s 226us/step - loss: 0.9943 - accuracy: 0.5625\n",
      "Epoch 18/150\n",
      "16/16 [==============================] - 0s 328us/step - loss: 0.9138 - accuracy: 0.6250\n",
      "Epoch 19/150\n",
      "16/16 [==============================] - 0s 132us/step - loss: 0.8661 - accuracy: 0.6875\n",
      "Epoch 20/150\n",
      "16/16 [==============================] - 0s 404us/step - loss: 0.8118 - accuracy: 0.6875\n",
      "Epoch 21/150\n",
      "16/16 [==============================] - 0s 335us/step - loss: 0.7620 - accuracy: 0.6875\n",
      "Epoch 22/150\n",
      "16/16 [==============================] - 0s 310us/step - loss: 0.7438 - accuracy: 0.6875\n",
      "Epoch 23/150\n",
      "16/16 [==============================] - 0s 368us/step - loss: 0.7024 - accuracy: 0.6875\n",
      "Epoch 24/150\n",
      "16/16 [==============================] - 0s 439us/step - loss: 0.6702 - accuracy: 0.6875\n",
      "Epoch 25/150\n",
      "16/16 [==============================] - 0s 344us/step - loss: 0.6511 - accuracy: 0.6875\n",
      "Epoch 26/150\n",
      "16/16 [==============================] - 0s 425us/step - loss: 0.6232 - accuracy: 0.6875\n",
      "Epoch 27/150\n",
      "16/16 [==============================] - 0s 368us/step - loss: 0.5985 - accuracy: 0.6875\n",
      "Epoch 28/150\n",
      "16/16 [==============================] - 0s 345us/step - loss: 0.5835 - accuracy: 0.6875\n",
      "Epoch 29/150\n",
      "16/16 [==============================] - 0s 430us/step - loss: 0.5568 - accuracy: 0.6875\n",
      "Epoch 30/150\n",
      "16/16 [==============================] - 0s 62us/step - loss: 0.5458 - accuracy: 0.6875\n",
      "Epoch 31/150\n",
      "16/16 [==============================] - 0s 124us/step - loss: 0.5243 - accuracy: 0.7500\n",
      "Epoch 32/150\n",
      "16/16 [==============================] - 0s 322us/step - loss: 0.5078 - accuracy: 0.7500\n",
      "Epoch 33/150\n",
      "16/16 [==============================] - 0s 418us/step - loss: 0.4964 - accuracy: 0.7500\n",
      "Epoch 34/150\n",
      "16/16 [==============================] - 0s 337us/step - loss: 0.4782 - accuracy: 0.7500\n",
      "Epoch 35/150\n",
      "16/16 [==============================] - 0s 430us/step - loss: 0.4654 - accuracy: 0.7500\n",
      "Epoch 36/150\n",
      "16/16 [==============================] - 0s 435us/step - loss: 0.4528 - accuracy: 0.7500\n",
      "Epoch 37/150\n",
      "16/16 [==============================] - 0s 275us/step - loss: 0.4395 - accuracy: 0.7500\n",
      "Epoch 38/150\n",
      "16/16 [==============================] - 0s 289us/step - loss: 0.4312 - accuracy: 0.7500\n",
      "Epoch 39/150\n",
      "16/16 [==============================] - 0s 62us/step - loss: 0.4193 - accuracy: 0.7500\n",
      "Epoch 40/150\n",
      "16/16 [==============================] - 0s 335us/step - loss: 0.4103 - accuracy: 0.7500\n",
      "Epoch 41/150\n",
      "16/16 [==============================] - 0s 322us/step - loss: 0.4040 - accuracy: 0.7500\n",
      "Epoch 42/150\n",
      "16/16 [==============================] - 0s 365us/step - loss: 0.3955 - accuracy: 0.7500\n",
      "Epoch 43/150\n",
      "16/16 [==============================] - 0s 326us/step - loss: 0.3866 - accuracy: 0.7500\n",
      "Epoch 44/150\n",
      "16/16 [==============================] - 0s 325us/step - loss: 0.3795 - accuracy: 0.7500\n",
      "Epoch 45/150\n",
      "16/16 [==============================] - 0s 314us/step - loss: 0.3747 - accuracy: 0.7500\n",
      "Epoch 46/150\n",
      "16/16 [==============================] - 0s 284us/step - loss: 0.3664 - accuracy: 0.8125\n",
      "Epoch 47/150\n",
      "16/16 [==============================] - 0s 435us/step - loss: 0.3627 - accuracy: 0.8125\n",
      "Epoch 48/150\n",
      "16/16 [==============================] - 0s 280us/step - loss: 0.3577 - accuracy: 0.8125\n",
      "Epoch 49/150\n",
      "16/16 [==============================] - 0s 276us/step - loss: 0.3542 - accuracy: 0.8125\n",
      "Epoch 50/150\n",
      "16/16 [==============================] - 0s 283us/step - loss: 0.3511 - accuracy: 0.8125\n",
      "Epoch 51/150\n",
      "16/16 [==============================] - 0s 129us/step - loss: 0.3472 - accuracy: 0.8125\n",
      "Epoch 52/150\n",
      "16/16 [==============================] - 0s 359us/step - loss: 0.3443 - accuracy: 0.8125\n",
      "Epoch 53/150\n",
      "16/16 [==============================] - 0s 340us/step - loss: 0.3401 - accuracy: 0.8125\n",
      "Epoch 54/150\n",
      "16/16 [==============================] - 0s 314us/step - loss: 0.3375 - accuracy: 0.8125\n",
      "Epoch 55/150\n",
      "16/16 [==============================] - 0s 371us/step - loss: 0.3346 - accuracy: 0.8125\n",
      "Epoch 56/150\n",
      "16/16 [==============================] - 0s 271us/step - loss: 0.3311 - accuracy: 0.8125\n",
      "Epoch 57/150\n",
      "16/16 [==============================] - 0s 388us/step - loss: 0.3281 - accuracy: 0.8125\n",
      "Epoch 58/150\n",
      "16/16 [==============================] - 0s 292us/step - loss: 0.3260 - accuracy: 0.8125\n",
      "Epoch 59/150\n",
      "16/16 [==============================] - 0s 335us/step - loss: 0.3245 - accuracy: 0.8125\n",
      "Epoch 60/150\n",
      "16/16 [==============================] - 0s 304us/step - loss: 0.3214 - accuracy: 0.8125\n",
      "Epoch 61/150\n",
      "16/16 [==============================] - ETA: 0s - loss: 0.3358 - accuracy: 0.80 - 0s 440us/step - loss: 0.3192 - accuracy: 0.8125\n",
      "Epoch 62/150\n",
      "16/16 [==============================] - 0s 255us/step - loss: 0.3177 - accuracy: 0.8750\n",
      "Epoch 63/150\n",
      "16/16 [==============================] - 0s 313us/step - loss: 0.3151 - accuracy: 0.8750\n",
      "Epoch 64/150\n",
      "16/16 [==============================] - 0s 316us/step - loss: 0.3130 - accuracy: 0.8750\n",
      "Epoch 65/150\n",
      "16/16 [==============================] - 0s 270us/step - loss: 0.3106 - accuracy: 0.8750\n",
      "Epoch 66/150\n",
      "16/16 [==============================] - 0s 280us/step - loss: 0.3089 - accuracy: 0.8750\n",
      "Epoch 67/150\n",
      "16/16 [==============================] - 0s 238us/step - loss: 0.3072 - accuracy: 0.8750\n",
      "Epoch 68/150\n",
      "16/16 [==============================] - 0s 182us/step - loss: 0.3052 - accuracy: 0.8750\n",
      "Epoch 69/150\n",
      "16/16 [==============================] - 0s 187us/step - loss: 0.3032 - accuracy: 0.8750\n",
      "Epoch 70/150\n",
      "16/16 [==============================] - 0s 103us/step - loss: 0.3017 - accuracy: 0.8750\n",
      "Epoch 71/150\n",
      "16/16 [==============================] - 0s 329us/step - loss: 0.3001 - accuracy: 0.8750\n",
      "Epoch 72/150\n",
      "16/16 [==============================] - 0s 255us/step - loss: 0.2981 - accuracy: 0.8750\n",
      "Epoch 73/150\n",
      "16/16 [==============================] - 0s 197us/step - loss: 0.2967 - accuracy: 0.8750\n",
      "Epoch 74/150\n",
      "16/16 [==============================] - 0s 550us/step - loss: 0.2950 - accuracy: 0.8750\n",
      "Epoch 75/150\n",
      "16/16 [==============================] - 0s 299us/step - loss: 0.2935 - accuracy: 0.8750\n",
      "Epoch 76/150\n",
      "16/16 [==============================] - 0s 385us/step - loss: 0.2921 - accuracy: 0.8750\n",
      "Epoch 77/150\n",
      "16/16 [==============================] - 0s 286us/step - loss: 0.2905 - accuracy: 0.8750\n",
      "Epoch 78/150\n",
      "16/16 [==============================] - 0s 152us/step - loss: 0.2894 - accuracy: 0.8750\n",
      "Epoch 79/150\n",
      "16/16 [==============================] - 0s 312us/step - loss: 0.2874 - accuracy: 0.8750\n",
      "Epoch 80/150\n",
      "16/16 [==============================] - 0s 62us/step - loss: 0.2861 - accuracy: 0.8750\n",
      "Epoch 81/150\n",
      "16/16 [==============================] - 0s 276us/step - loss: 0.2856 - accuracy: 0.8750\n",
      "Epoch 82/150\n",
      "16/16 [==============================] - 0s 315us/step - loss: 0.2836 - accuracy: 0.8750\n",
      "Epoch 83/150\n",
      "16/16 [==============================] - 0s 0us/step - loss: 0.2820 - accuracy: 0.8750\n",
      "Epoch 84/150\n",
      "16/16 [==============================] - 0s 416us/step - loss: 0.2810 - accuracy: 0.8750\n",
      "Epoch 85/150\n",
      "16/16 [==============================] - 0s 494us/step - loss: 0.2794 - accuracy: 0.8750\n",
      "Epoch 86/150\n",
      "16/16 [==============================] - 0s 415us/step - loss: 0.2781 - accuracy: 0.8750\n",
      "Epoch 87/150\n",
      "16/16 [==============================] - 0s 461us/step - loss: 0.2771 - accuracy: 0.8750\n",
      "Epoch 88/150\n",
      "16/16 [==============================] - 0s 535us/step - loss: 0.2759 - accuracy: 0.8750\n",
      "Epoch 89/150\n",
      "16/16 [==============================] - 0s 125us/step - loss: 0.2744 - accuracy: 0.8750\n",
      "Epoch 90/150\n",
      "16/16 [==============================] - 0s 515us/step - loss: 0.2736 - accuracy: 0.8750\n",
      "Epoch 91/150\n",
      "16/16 [==============================] - 0s 395us/step - loss: 0.2724 - accuracy: 0.8750\n",
      "Epoch 92/150\n",
      "16/16 [==============================] - 0s 205us/step - loss: 0.2712 - accuracy: 0.8750\n",
      "Epoch 93/150\n",
      "16/16 [==============================] - 0s 472us/step - loss: 0.2698 - accuracy: 0.8750\n",
      "Epoch 94/150\n",
      "16/16 [==============================] - 0s 519us/step - loss: 0.2690 - accuracy: 0.8750\n",
      "Epoch 95/150\n",
      "16/16 [==============================] - 0s 775us/step - loss: 0.2683 - accuracy: 0.8750\n",
      "Epoch 96/150\n",
      "16/16 [==============================] - 0s 388us/step - loss: 0.2672 - accuracy: 0.8750\n",
      "Epoch 97/150\n",
      "16/16 [==============================] - 0s 408us/step - loss: 0.2659 - accuracy: 0.8750\n",
      "Epoch 98/150\n",
      "16/16 [==============================] - 0s 491us/step - loss: 0.2651 - accuracy: 0.8750\n",
      "Epoch 99/150\n",
      "16/16 [==============================] - 0s 294us/step - loss: 0.2641 - accuracy: 0.8750\n",
      "Epoch 100/150\n",
      "16/16 [==============================] - 0s 767us/step - loss: 0.2628 - accuracy: 0.8750\n",
      "Epoch 101/150\n",
      "16/16 [==============================] - 0s 484us/step - loss: 0.2619 - accuracy: 0.8750\n",
      "Epoch 102/150\n",
      "16/16 [==============================] - 0s 412us/step - loss: 0.2611 - accuracy: 0.8750\n",
      "Epoch 103/150\n",
      "16/16 [==============================] - 0s 608us/step - loss: 0.2603 - accuracy: 0.8750\n",
      "Epoch 104/150\n",
      "16/16 [==============================] - 0s 579us/step - loss: 0.2591 - accuracy: 0.8750\n",
      "Epoch 105/150\n",
      "16/16 [==============================] - 0s 435us/step - loss: 0.2579 - accuracy: 0.8750\n",
      "Epoch 106/150\n",
      "16/16 [==============================] - 0s 373us/step - loss: 0.2571 - accuracy: 0.8750\n",
      "Epoch 107/150\n",
      "16/16 [==============================] - 0s 554us/step - loss: 0.2565 - accuracy: 0.8750\n",
      "Epoch 108/150\n",
      "16/16 [==============================] - 0s 411us/step - loss: 0.2560 - accuracy: 0.8750\n",
      "Epoch 109/150\n",
      "16/16 [==============================] - 0s 363us/step - loss: 0.2548 - accuracy: 0.8750\n",
      "Epoch 110/150\n",
      "16/16 [==============================] - 0s 491us/step - loss: 0.2537 - accuracy: 0.8750\n",
      "Epoch 111/150\n",
      "16/16 [==============================] - 0s 622us/step - loss: 0.2531 - accuracy: 0.8750\n",
      "Epoch 112/150\n",
      "16/16 [==============================] - 0s 472us/step - loss: 0.2524 - accuracy: 0.8750\n",
      "Epoch 113/150\n",
      "16/16 [==============================] - 0s 498us/step - loss: 0.2514 - accuracy: 0.8750\n",
      "Epoch 114/150\n",
      "16/16 [==============================] - 0s 491us/step - loss: 0.2509 - accuracy: 0.8750\n",
      "Epoch 115/150\n",
      "16/16 [==============================] - 0s 453us/step - loss: 0.2497 - accuracy: 0.8750\n",
      "Epoch 116/150\n",
      "16/16 [==============================] - 0s 642us/step - loss: 0.2491 - accuracy: 0.8750\n",
      "Epoch 117/150\n",
      "16/16 [==============================] - 0s 751us/step - loss: 0.2481 - accuracy: 0.8750\n",
      "Epoch 118/150\n",
      "16/16 [==============================] - 0s 632us/step - loss: 0.2474 - accuracy: 0.8750\n",
      "Epoch 119/150\n",
      "16/16 [==============================] - 0s 426us/step - loss: 0.2468 - accuracy: 0.8750\n",
      "Epoch 120/150\n",
      "16/16 [==============================] - 0s 278us/step - loss: 0.2461 - accuracy: 0.8750\n",
      "Epoch 121/150\n",
      "16/16 [==============================] - 0s 351us/step - loss: 0.2456 - accuracy: 0.8750\n",
      "Epoch 122/150\n",
      "16/16 [==============================] - 0s 437us/step - loss: 0.2448 - accuracy: 0.8750\n",
      "Epoch 123/150\n",
      "16/16 [==============================] - 0s 597us/step - loss: 0.2442 - accuracy: 0.8750\n",
      "Epoch 124/150\n",
      "16/16 [==============================] - 0s 336us/step - loss: 0.2439 - accuracy: 0.8750\n",
      "Epoch 125/150\n",
      "16/16 [==============================] - 0s 488us/step - loss: 0.2427 - accuracy: 0.8750\n",
      "Epoch 126/150\n",
      "16/16 [==============================] - 0s 515us/step - loss: 0.2422 - accuracy: 0.8750\n",
      "Epoch 127/150\n",
      "16/16 [==============================] - 0s 449us/step - loss: 0.2413 - accuracy: 0.8750\n",
      "Epoch 128/150\n",
      "16/16 [==============================] - 0s 547us/step - loss: 0.2410 - accuracy: 0.8750\n",
      "Epoch 129/150\n",
      "16/16 [==============================] - 0s 283us/step - loss: 0.2403 - accuracy: 0.8750\n",
      "Epoch 130/150\n",
      "16/16 [==============================] - 0s 314us/step - loss: 0.2394 - accuracy: 0.8750\n",
      "Epoch 131/150\n",
      "16/16 [==============================] - 0s 409us/step - loss: 0.2385 - accuracy: 0.8750\n",
      "Epoch 132/150\n",
      "16/16 [==============================] - 0s 445us/step - loss: 0.2377 - accuracy: 0.8750\n",
      "Epoch 133/150\n",
      "16/16 [==============================] - 0s 300us/step - loss: 0.2371 - accuracy: 0.8750\n",
      "Epoch 134/150\n",
      "16/16 [==============================] - 0s 699us/step - loss: 0.2362 - accuracy: 0.8750\n",
      "Epoch 135/150\n",
      "16/16 [==============================] - 0s 394us/step - loss: 0.2355 - accuracy: 0.8750\n",
      "Epoch 136/150\n",
      "16/16 [==============================] - 0s 427us/step - loss: 0.2349 - accuracy: 0.8750\n",
      "Epoch 137/150\n",
      "16/16 [==============================] - 0s 418us/step - loss: 0.2344 - accuracy: 0.8750\n",
      "Epoch 138/150\n",
      "16/16 [==============================] - 0s 457us/step - loss: 0.2336 - accuracy: 0.8750\n",
      "Epoch 139/150\n",
      "16/16 [==============================] - 0s 423us/step - loss: 0.2331 - accuracy: 0.8750\n",
      "Epoch 140/150\n",
      "16/16 [==============================] - 0s 418us/step - loss: 0.2325 - accuracy: 0.8750\n",
      "Epoch 141/150\n",
      "16/16 [==============================] - 0s 383us/step - loss: 0.2317 - accuracy: 0.9375\n",
      "Epoch 142/150\n",
      "16/16 [==============================] - 0s 440us/step - loss: 0.2314 - accuracy: 0.9375\n",
      "Epoch 143/150\n",
      "16/16 [==============================] - 0s 364us/step - loss: 0.2305 - accuracy: 0.9375\n",
      "Epoch 144/150\n",
      "16/16 [==============================] - 0s 455us/step - loss: 0.2298 - accuracy: 0.9375\n",
      "Epoch 145/150\n",
      "16/16 [==============================] - 0s 396us/step - loss: 0.2292 - accuracy: 0.9375\n",
      "Epoch 146/150\n",
      "16/16 [==============================] - 0s 337us/step - loss: 0.2282 - accuracy: 0.9375\n",
      "Epoch 147/150\n",
      "16/16 [==============================] - ETA: 0s - loss: 0.1970 - accuracy: 0.90 - 0s 187us/step - loss: 0.2279 - accuracy: 0.9375\n",
      "Epoch 148/150\n",
      "16/16 [==============================] - 0s 407us/step - loss: 0.2271 - accuracy: 0.9375\n",
      "Epoch 149/150\n",
      "16/16 [==============================] - 0s 453us/step - loss: 0.2266 - accuracy: 0.9375\n",
      "Epoch 150/150\n",
      "16/16 [==============================] - 0s 351us/step - loss: 0.2263 - accuracy: 0.9375\n"
     ]
    },
    {
     "data": {
      "text/plain": [
       "<keras.callbacks.callbacks.History at 0x236b5e1d6c8>"
      ]
     },
     "execution_count": 17,
     "metadata": {},
     "output_type": "execute_result"
    }
   ],
   "source": [
    "from keras.models import Sequential\n",
    "from keras.layers import Dense\n",
    "\n",
    "model = Sequential()\n",
    "model.add(Dense(12, input_dim=7, activation='relu'))  # max_seq_len = 7 (Features)\n",
    "model.add(Dense(8, activation='relu'))\n",
    "model.add(Dense(1, activation='sigmoid'))\n",
    "# compile the keras model\n",
    "model.compile(loss='binary_crossentropy', optimizer='adam', metrics=['accuracy'])\n",
    "\n",
    "model.fit(padded_inputs, y, epochs=150, batch_size=10)\n",
    "# evaluate the keras model"
   ]
  },
  {
   "cell_type": "code",
   "execution_count": 59,
   "metadata": {},
   "outputs": [],
   "source": [
    "def predict_Sentiment(text):\n",
    "    \n",
    "    # lower the text\n",
    "    text = text.lower()\n",
    "    \n",
    "    # Split the text\n",
    "    token_text = text.split()\n",
    "    \n",
    "    # Convert to word to int\n",
    "    word_2id = [word2id[x] for x in token_text]\n",
    "    \n",
    "    # pad the sequence\n",
    "    \n",
    "    padded_inputs = pad_sequences([word_2id],maxlen=7)\n",
    "    \n",
    "    result = model.predict(padded_inputs)[0][0]\n",
    "    \n",
    "    if result>0.5:\n",
    "        print(\"Review: Positive\")\n",
    "    else:\n",
    "        print(\"Review: Negative\")\n"
   ]
  },
  {
   "cell_type": "code",
   "execution_count": 65,
   "metadata": {},
   "outputs": [
    {
     "name": "stdout",
     "output_type": "stream",
     "text": [
      "Review: Positive\n"
     ]
    }
   ],
   "source": [
    "text = 'good'\n",
    "\n",
    "predict_Sentiment(text)"
   ]
  },
  {
   "cell_type": "code",
   "execution_count": 67,
   "metadata": {},
   "outputs": [
    {
     "ename": "KeyError",
     "evalue": "'bad'",
     "output_type": "error",
     "traceback": [
      "\u001b[1;31m---------------------------------------------------------------------------\u001b[0m",
      "\u001b[1;31mKeyError\u001b[0m                                  Traceback (most recent call last)",
      "\u001b[1;32m<ipython-input-67-aeaf2c80bd24>\u001b[0m in \u001b[0;36m<module>\u001b[1;34m\u001b[0m\n\u001b[0;32m      1\u001b[0m \u001b[0mtext\u001b[0m \u001b[1;33m=\u001b[0m \u001b[1;34m'bad'\u001b[0m\u001b[1;33m\u001b[0m\u001b[1;33m\u001b[0m\u001b[0m\n\u001b[1;32m----> 2\u001b[1;33m \u001b[0mpredict_Sentiment\u001b[0m\u001b[1;33m(\u001b[0m\u001b[0mtext\u001b[0m\u001b[1;33m)\u001b[0m\u001b[1;33m\u001b[0m\u001b[1;33m\u001b[0m\u001b[0m\n\u001b[0m",
      "\u001b[1;32m<ipython-input-59-a31c9251b65e>\u001b[0m in \u001b[0;36mpredict_Sentiment\u001b[1;34m(text)\u001b[0m\n\u001b[0;32m      8\u001b[0m \u001b[1;33m\u001b[0m\u001b[0m\n\u001b[0;32m      9\u001b[0m     \u001b[1;31m# Convert to word to int\u001b[0m\u001b[1;33m\u001b[0m\u001b[1;33m\u001b[0m\u001b[1;33m\u001b[0m\u001b[0m\n\u001b[1;32m---> 10\u001b[1;33m     \u001b[0mword_2id\u001b[0m \u001b[1;33m=\u001b[0m \u001b[1;33m[\u001b[0m\u001b[0mword2id\u001b[0m\u001b[1;33m[\u001b[0m\u001b[0mx\u001b[0m\u001b[1;33m]\u001b[0m \u001b[1;32mfor\u001b[0m \u001b[0mx\u001b[0m \u001b[1;32min\u001b[0m \u001b[0mtoken_text\u001b[0m\u001b[1;33m]\u001b[0m\u001b[1;33m\u001b[0m\u001b[1;33m\u001b[0m\u001b[0m\n\u001b[0m\u001b[0;32m     11\u001b[0m \u001b[1;33m\u001b[0m\u001b[0m\n\u001b[0;32m     12\u001b[0m     \u001b[1;31m# pad the sequence\u001b[0m\u001b[1;33m\u001b[0m\u001b[1;33m\u001b[0m\u001b[1;33m\u001b[0m\u001b[0m\n",
      "\u001b[1;32m<ipython-input-59-a31c9251b65e>\u001b[0m in \u001b[0;36m<listcomp>\u001b[1;34m(.0)\u001b[0m\n\u001b[0;32m      8\u001b[0m \u001b[1;33m\u001b[0m\u001b[0m\n\u001b[0;32m      9\u001b[0m     \u001b[1;31m# Convert to word to int\u001b[0m\u001b[1;33m\u001b[0m\u001b[1;33m\u001b[0m\u001b[1;33m\u001b[0m\u001b[0m\n\u001b[1;32m---> 10\u001b[1;33m     \u001b[0mword_2id\u001b[0m \u001b[1;33m=\u001b[0m \u001b[1;33m[\u001b[0m\u001b[0mword2id\u001b[0m\u001b[1;33m[\u001b[0m\u001b[0mx\u001b[0m\u001b[1;33m]\u001b[0m \u001b[1;32mfor\u001b[0m \u001b[0mx\u001b[0m \u001b[1;32min\u001b[0m \u001b[0mtoken_text\u001b[0m\u001b[1;33m]\u001b[0m\u001b[1;33m\u001b[0m\u001b[1;33m\u001b[0m\u001b[0m\n\u001b[0m\u001b[0;32m     11\u001b[0m \u001b[1;33m\u001b[0m\u001b[0m\n\u001b[0;32m     12\u001b[0m     \u001b[1;31m# pad the sequence\u001b[0m\u001b[1;33m\u001b[0m\u001b[1;33m\u001b[0m\u001b[1;33m\u001b[0m\u001b[0m\n",
      "\u001b[1;31mKeyError\u001b[0m: 'bad'"
     ]
    }
   ],
   "source": [
    "# Bad its new word \n",
    "# This is will not work for the words which are not part of the actual corpus data\n",
    "\n",
    "text = 'bad'\n",
    "\n",
    "predict_Sentiment(text)"
   ]
  }
 ],
 "metadata": {
  "kernelspec": {
   "display_name": "Python 3",
   "language": "python",
   "name": "python3"
  },
  "language_info": {
   "codemirror_mode": {
    "name": "ipython",
    "version": 3
   },
   "file_extension": ".py",
   "mimetype": "text/x-python",
   "name": "python",
   "nbconvert_exporter": "python",
   "pygments_lexer": "ipython3",
   "version": "3.7.4"
  }
 },
 "nbformat": 4,
 "nbformat_minor": 2
}
