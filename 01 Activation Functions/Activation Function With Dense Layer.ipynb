{
 "cells": [
  {
   "cell_type": "code",
   "execution_count": null,
   "metadata": {},
   "outputs": [],
   "source": [
    "# Activate Function uage with Dense Layer also calculate the same Manualy"
   ]
  },
  {
   "cell_type": "code",
   "execution_count": null,
   "metadata": {},
   "outputs": [],
   "source": [
    "import tensorflow as tf\n",
    "tf.enable_eager_execution"
   ]
  },
  {
   "cell_type": "code",
   "execution_count": 24,
   "metadata": {},
   "outputs": [],
   "source": [
    "from tensorflow.keras.models import Sequential\n",
    "from tensorflow.keras.layers import Dense,Activation\n",
    "from tensorflow.keras import activations"
   ]
  },
  {
   "cell_type": "code",
   "execution_count": 25,
   "metadata": {},
   "outputs": [
    {
     "name": "stdout",
     "output_type": "stream",
     "text": [
      "define input:\n",
      "[[2 3]\n",
      " [4 5]\n",
      " [6 7]\n",
      " [8 9]]\n",
      "\n",
      "\n",
      "Final predict after sigmoid\n"
     ]
    },
    {
     "data": {
      "text/plain": [
       "array([[0.41714224, 0.2281313 ],\n",
       "       [0.28577688, 0.20785451],\n",
       "       [0.18280584, 0.18893877],\n",
       "       [0.11116257, 0.17137203]], dtype=float32)"
      ]
     },
     "execution_count": 25,
     "metadata": {},
     "output_type": "execute_result"
    }
   ],
   "source": [
    "# Sigmoid\n",
    "\n",
    "model = Sequential()\n",
    "model.add(Dense(2, input_dim =2))\n",
    "model.add(Activation(activations.sigmoid))\n",
    "\n",
    "import numpy as np\n",
    "input = np.arange(2,10).reshape(4,2)\n",
    "\n",
    "print(\"define input:\")\n",
    "print(input)\n",
    "\n",
    "print(\"\\n\")\n",
    "print(\"Final predict after sigmoid\")\n",
    "model.predict(x)"
   ]
  },
  {
   "cell_type": "code",
   "execution_count": 33,
   "metadata": {},
   "outputs": [
    {
     "data": {
      "text/plain": [
       "array([[0.41714224, 0.22813129],\n",
       "       [0.28577688, 0.20785447],\n",
       "       [0.18280584, 0.18893874],\n",
       "       [0.11116261, 0.17137202]])"
      ]
     },
     "execution_count": 33,
     "metadata": {},
     "output_type": "execute_result"
    }
   ],
   "source": [
    "# lets do the same Manully\n",
    "\n",
    "# lets get the  weights\n",
    "w = model.layers[0].get_weights()[0]\n",
    "b = model.layers[0].get_weights()[1]\n",
    "\n",
    "# manully Compute the Z function\n",
    "z = np.dot(x,w) + b\n",
    "\n",
    "# Activation Function mnually calculate\n",
    "1 / (1 + np.exp(-z))"
   ]
  },
  {
   "cell_type": "code",
   "execution_count": 79,
   "metadata": {},
   "outputs": [
    {
     "name": "stdout",
     "output_type": "stream",
     "text": [
      "define input:\n",
      "[[2 3]\n",
      " [4 5]\n",
      " [6 7]\n",
      " [8 9]]\n",
      "\n",
      "\n",
      "Final predict after Relu\n"
     ]
    },
    {
     "data": {
      "text/plain": [
       "array([[ 5.191078,  0.      ],\n",
       "       [ 9.249054,  0.      ],\n",
       "       [13.30703 ,  0.      ],\n",
       "       [17.365005,  0.      ]], dtype=float32)"
      ]
     },
     "execution_count": 79,
     "metadata": {},
     "output_type": "execute_result"
    }
   ],
   "source": [
    "# Relu\n",
    "\n",
    "model = Sequential()\n",
    "model.add(Dense(2, input_dim =2))\n",
    "model.add(Activation(activations.relu))\n",
    "\n",
    "import numpy as np\n",
    "input = np.arange(2,10).reshape(4,2)\n",
    "\n",
    "print(\"define input:\")\n",
    "print(input)\n",
    "\n",
    "print(\"\\n\")\n",
    "print(\"Final predict after Relu\")\n",
    "model.predict(x)"
   ]
  },
  {
   "cell_type": "code",
   "execution_count": 80,
   "metadata": {},
   "outputs": [
    {
     "data": {
      "text/plain": [
       "array([[ 5.19107807,  0.        ],\n",
       "       [ 9.24905431,  0.        ],\n",
       "       [13.30703056,  0.        ],\n",
       "       [17.3650068 ,  0.        ]])"
      ]
     },
     "execution_count": 80,
     "metadata": {},
     "output_type": "execute_result"
    }
   ],
   "source": [
    "# lets do the same Manully\n",
    "\n",
    "# lets get the  weights\n",
    "w = model.layers[0].get_weights()[0]\n",
    "b = model.layers[0].get_weights()[1]\n",
    "\n",
    "# manully Compute the Z function\n",
    "z = np.dot(x,w) + b\n",
    "\n",
    "# Activation Function mnually calculate\n",
    "np.maximum(0,z)"
   ]
  },
  {
   "cell_type": "code",
   "execution_count": null,
   "metadata": {},
   "outputs": [],
   "source": []
  },
  {
   "cell_type": "code",
   "execution_count": 83,
   "metadata": {},
   "outputs": [
    {
     "data": {
      "text/plain": [
       "array([[0.       ],\n",
       "       [0.       ],\n",
       "       [0.       ],\n",
       "       [3.1479888],\n",
       "       [6.2959776],\n",
       "       [9.443967 ]], dtype=float32)"
      ]
     },
     "execution_count": 83,
     "metadata": {},
     "output_type": "execute_result"
    }
   ],
   "source": [
    "# Relu \n",
    "\n",
    "from tensorflow.keras.activations import relu\n",
    "\n",
    "model = Sequential()\n",
    "model.add(Dense(1, input_dim =1))\n",
    "model.add(Activation(activations.relu))\n",
    "\n",
    "foo = np.array([-10, -5, 0.0, 5, 10,15]).reshape(6,1)\n",
    "\n",
    "model.predict(foo)"
   ]
  },
  {
   "cell_type": "code",
   "execution_count": 85,
   "metadata": {},
   "outputs": [
    {
     "data": {
      "text/plain": [
       "array([[0.        ],\n",
       "       [0.        ],\n",
       "       [0.        ],\n",
       "       [3.14798892],\n",
       "       [6.29597783],\n",
       "       [9.44396675]])"
      ]
     },
     "execution_count": 85,
     "metadata": {},
     "output_type": "execute_result"
    }
   ],
   "source": [
    "# Relu  : manualy\n",
    "\n",
    "# lets do the same Manully\n",
    "\n",
    "# lets get the  weights\n",
    "w = model.layers[0].get_weights()[0]\n",
    "b = model.layers[0].get_weights()[1]\n",
    "\n",
    "# manully Compute the Z function\n",
    "z = np.dot(foo,w) + b\n",
    "\n",
    "# Activation Function mnually calculate\n",
    "np.maximum(0,z)\n"
   ]
  },
  {
   "cell_type": "code",
   "execution_count": 91,
   "metadata": {},
   "outputs": [
    {
     "data": {
      "text/plain": [
       "array([[0.],\n",
       "       [0.],\n",
       "       [0.],\n",
       "       [5.],\n",
       "       [5.],\n",
       "       [5.]], dtype=float32)"
      ]
     },
     "execution_count": 91,
     "metadata": {},
     "output_type": "execute_result"
    }
   ],
   "source": [
    "# Rellu with Alpha value = 5\n",
    "\n",
    "model = Sequential()\n",
    "model.add(Dense(1, input_dim =1))\n",
    "model.add(Activation(activation=tf.keras.layers.ReLU(max_value=5)))\n",
    "\n",
    "foo = np.array([-10, -5, 0.0, 5, 10,15]).reshape(6,1)\n",
    "\n",
    "model.predict(foo)"
   ]
  },
  {
   "cell_type": "code",
   "execution_count": 109,
   "metadata": {},
   "outputs": [
    {
     "data": {
      "text/plain": [
       "array([0., 0., 0., 5., 5., 5.])"
      ]
     },
     "execution_count": 109,
     "metadata": {},
     "output_type": "execute_result"
    }
   ],
   "source": [
    "# Relu  : manualy\n",
    "\n",
    "# lets do the same Manully\n",
    "\n",
    "alpha = 5\n",
    "\n",
    "# lets get the  weights\n",
    "w = model.layers[0].get_weights()[0]\n",
    "b = model.layers[0].get_weights()[1]\n",
    "\n",
    "# manully Compute the Z function\n",
    "z = np.dot(foo,w) + b\n",
    "\n",
    "# Activation Function mnually calculate\n",
    "out = np.maximum(0,z)\n",
    "\n",
    "np.array([alpha if i>alpha else i[0] for i in out])"
   ]
  },
  {
   "cell_type": "code",
   "execution_count": 335,
   "metadata": {},
   "outputs": [
    {
     "data": {
      "text/plain": [
       "array([[0.6766114 , 0.3233886 ],\n",
       "       [0.814041  , 0.18595897],\n",
       "       [0.6766114 , 0.3233886 ]], dtype=float32)"
      ]
     },
     "execution_count": 335,
     "metadata": {},
     "output_type": "execute_result"
    }
   ],
   "source": [
    "# Softmax:\n",
    "\n",
    "from tensorflow.keras.layers import Input\n",
    "\n",
    "model = Sequential()\n",
    "#model.add(Input(shape=1))\n",
    "model.add(Dense(2,input_dim =1, activation='softmax'))\n",
    "\n",
    "x = np.asarray([1., 2., 1.])\n",
    "\n",
    "model.predict(x)"
   ]
  },
  {
   "cell_type": "code",
   "execution_count": 336,
   "metadata": {},
   "outputs": [
    {
     "data": {
      "text/plain": [
       "array([[0.13002312, 0.06214497],\n",
       "       [0.50117561, 0.1144882 ],\n",
       "       [0.13002312, 0.06214497]])"
      ]
     },
     "execution_count": 336,
     "metadata": {},
     "output_type": "execute_result"
    }
   ],
   "source": [
    "# manully Calcuate : output from the above the mdoel is not same as manully \n",
    "# caluated need to check the same\n",
    "w = model.layers[0].get_weights()[0]\n",
    "\n",
    "z = np.dot(inp,w)\n",
    "\n",
    "np.exp(z) / np.exp(z).sum()"
   ]
  },
  {
   "cell_type": "code",
   "execution_count": 341,
   "metadata": {},
   "outputs": [
    {
     "name": "stdout",
     "output_type": "stream",
     "text": [
      "define input:\n",
      "[[2 3]\n",
      " [4 5]\n",
      " [6 7]\n",
      " [8 9]]\n",
      "\n",
      "\n",
      "Final predict after Relu\n"
     ]
    },
    {
     "data": {
      "text/plain": [
       "array([[0.72955996, 2.1329372 ],\n",
       "       [0.4466554 , 3.0450504 ],\n",
       "       [0.2586362 , 4.004161  ],\n",
       "       [0.14386064, 4.9821024 ]], dtype=float32)"
      ]
     },
     "execution_count": 341,
     "metadata": {},
     "output_type": "execute_result"
    }
   ],
   "source": [
    "# softplus\n",
    "\n",
    "model = Sequential()\n",
    "model.add(Dense(2, input_dim =2))\n",
    "model.add(Activation(activations.softplus))\n",
    "\n",
    "import numpy as np\n",
    "input = np.arange(2,10).reshape(4,2)\n",
    "\n",
    "print(\"define input:\")\n",
    "print(input)\n",
    "\n",
    "print(\"\\n\")\n",
    "print(\"Final predict after softplus\")\n",
    "model.predict(input)"
   ]
  },
  {
   "cell_type": "code",
   "execution_count": 348,
   "metadata": {},
   "outputs": [
    {
     "data": {
      "text/plain": [
       "array([[0.72956006, 2.13293745],\n",
       "       [0.44665536, 3.04505029],\n",
       "       [0.25863613, 4.00416104],\n",
       "       [0.14386071, 4.98210287]])"
      ]
     },
     "execution_count": 348,
     "metadata": {},
     "output_type": "execute_result"
    }
   ],
   "source": [
    "# manully Calculating the same\n",
    "\n",
    "w = model.layers[0].get_weights()[0]\n",
    "\n",
    "z = np.dot(input,w)\n",
    "\n",
    "np.log(np.exp(z) + 1)"
   ]
  },
  {
   "cell_type": "code",
   "execution_count": 351,
   "metadata": {},
   "outputs": [
    {
     "name": "stdout",
     "output_type": "stream",
     "text": [
      "define input:\n",
      "[[2 3]\n",
      " [4 5]\n",
      " [6 7]\n",
      " [8 9]]\n",
      "\n",
      "\n",
      "Final predict after softplus\n"
     ]
    },
    {
     "data": {
      "text/plain": [
       "array([[ 0.7819857 , -0.737293  ],\n",
       "       [ 0.8703581 , -0.82441723],\n",
       "       [ 0.90775126, -0.86814547],\n",
       "       [ 0.9284024 , -0.8944359 ]], dtype=float32)"
      ]
     },
     "execution_count": 351,
     "metadata": {},
     "output_type": "execute_result"
    }
   ],
   "source": [
    "# softsign\n",
    "\n",
    "model = Sequential()\n",
    "model.add(Dense(2, input_dim =2))\n",
    "model.add(Activation(activations.softsign))\n",
    "\n",
    "import numpy as np\n",
    "input = np.arange(2,10).reshape(4,2)\n",
    "\n",
    "print(\"define input:\")\n",
    "print(input)\n",
    "\n",
    "print(\"\\n\")\n",
    "print(\"Final predict after softsign\")\n",
    "model.predict(input)"
   ]
  },
  {
   "cell_type": "code",
   "execution_count": 352,
   "metadata": {},
   "outputs": [
    {
     "data": {
      "text/plain": [
       "array([[ 0.78198572, -0.73729302],\n",
       "       [ 0.87035812, -0.82441722],\n",
       "       [ 0.90775128, -0.86814548],\n",
       "       [ 0.92840246, -0.89443586]])"
      ]
     },
     "execution_count": 352,
     "metadata": {},
     "output_type": "execute_result"
    }
   ],
   "source": [
    "# manully Calculating the same\n",
    "\n",
    "w = model.layers[0].get_weights()[0]\n",
    "\n",
    "z = np.dot(input,w)\n",
    "\n",
    "z / (abs(z) + 1)"
   ]
  },
  {
   "cell_type": "code",
   "execution_count": 353,
   "metadata": {},
   "outputs": [
    {
     "name": "stdout",
     "output_type": "stream",
     "text": [
      "define input:\n",
      "[[2 3]\n",
      " [4 5]\n",
      " [6 7]\n",
      " [8 9]]\n",
      "\n",
      "\n",
      "Final predict after softsign\n"
     ]
    },
    {
     "data": {
      "text/plain": [
       "array([[-0.997195  ,  0.97446793],\n",
       "       [-0.99998575,  0.9983314 ],\n",
       "       [-1.        ,  0.9998922 ],\n",
       "       [-1.        ,  0.9999931 ]], dtype=float32)"
      ]
     },
     "execution_count": 353,
     "metadata": {},
     "output_type": "execute_result"
    }
   ],
   "source": [
    "# tangent \n",
    "\n",
    "model = Sequential()\n",
    "model.add(Dense(2, input_dim =2))\n",
    "model.add(Activation(activations.tanh))\n",
    "\n",
    "import numpy as np\n",
    "input = np.arange(2,10).reshape(4,2)\n",
    "\n",
    "print(\"define input:\")\n",
    "print(input)\n",
    "\n",
    "print(\"\\n\")\n",
    "print(\"Final predict after softsign\")\n",
    "model.predict(input)"
   ]
  },
  {
   "cell_type": "code",
   "execution_count": 360,
   "metadata": {},
   "outputs": [
    {
     "data": {
      "text/plain": [
       "array([[-0.99719499,  0.97446796],\n",
       "       [-0.99998581,  0.99833143],\n",
       "       [-0.99999993,  0.99989217],\n",
       "       [-1.        ,  0.99999304]])"
      ]
     },
     "execution_count": 360,
     "metadata": {},
     "output_type": "execute_result"
    }
   ],
   "source": [
    "# manully Calculating the same\n",
    "\n",
    "w = model.layers[0].get_weights()[0]\n",
    "\n",
    "z = np.dot(input,w)\n",
    "\n",
    "#01\n",
    "((np.exp(z) - np.exp(-z))/(np.exp(z) + np.exp(-z)))"
   ]
  },
  {
   "cell_type": "code",
   "execution_count": 364,
   "metadata": {},
   "outputs": [
    {
     "data": {
      "text/plain": [
       "array([[-0.99719499,  0.97446796],\n",
       "       [-0.99998581,  0.99833143],\n",
       "       [-0.99999993,  0.99989217],\n",
       "       [-1.        ,  0.99999304]])"
      ]
     },
     "execution_count": 364,
     "metadata": {},
     "output_type": "execute_result"
    }
   ],
   "source": [
    "#02\n",
    "\n",
    "np.sinh(z)/np.cosh(z) "
   ]
  },
  {
   "cell_type": "code",
   "execution_count": 373,
   "metadata": {},
   "outputs": [
    {
     "data": {
      "text/plain": [
       "array([[-0.92775486,  0.79579157],\n",
       "       [-0.99468626,  0.94383099],\n",
       "       [-0.99962135,  0.98542154],\n",
       "       [-0.99997308,  0.99627523]])"
      ]
     },
     "execution_count": 373,
     "metadata": {},
     "output_type": "execute_result"
    }
   ],
   "source": [
    "#03\n",
    "\n",
    "def sigmoid(x):\n",
    "    return 1 / (1 + np.exp(-z))\n",
    "\n",
    "(2 * sigmoid(2*z)) - 1"
   ]
  },
  {
   "cell_type": "code",
   "execution_count": 375,
   "metadata": {},
   "outputs": [
    {
     "name": "stdout",
     "output_type": "stream",
     "text": [
      "define input:\n",
      "[[2 3]\n",
      " [4 5]\n",
      " [6 7]\n",
      " [8 9]]\n",
      "\n",
      "\n",
      "Final predict after softsign\n"
     ]
    },
    {
     "data": {
      "text/plain": [
       "array([[7.8117728e-01, 4.9832337e-02],\n",
       "       [1.0037411e+00, 5.4222047e-03],\n",
       "       [1.2897147e+00, 5.8998505e-04],\n",
       "       [1.6571651e+00, 6.4195658e-05]], dtype=float32)"
      ]
     },
     "execution_count": 375,
     "metadata": {},
     "output_type": "execute_result"
    }
   ],
   "source": [
    "# exponential \n",
    "\n",
    "model = Sequential()\n",
    "model.add(Dense(2, input_dim =2))\n",
    "model.add(Activation(activations.exponential))\n",
    "\n",
    "import numpy as np\n",
    "input = np.arange(2,10).reshape(4,2)\n",
    "\n",
    "print(\"define input:\")\n",
    "print(input)\n",
    "\n",
    "print(\"\\n\")\n",
    "print(\"Final predict after softsign\")\n",
    "model.predict(input)"
   ]
  },
  {
   "cell_type": "code",
   "execution_count": 376,
   "metadata": {},
   "outputs": [
    {
     "data": {
      "text/plain": [
       "array([[7.81177307e-01, 4.98323350e-02],\n",
       "       [1.00374097e+00, 5.42220655e-03],\n",
       "       [1.28971481e+00, 5.89984874e-04],\n",
       "       [1.65716488e+00, 6.41956643e-05]])"
      ]
     },
     "execution_count": 376,
     "metadata": {},
     "output_type": "execute_result"
    }
   ],
   "source": [
    "# manully Calculating the same\n",
    "\n",
    "w = model.layers[0].get_weights()[0]\n",
    "\n",
    "z = np.dot(input,w)\n",
    "\n",
    "#01\n",
    "np.exp(z)"
   ]
  },
  {
   "cell_type": "code",
   "execution_count": 380,
   "metadata": {},
   "outputs": [
    {
     "name": "stdout",
     "output_type": "stream",
     "text": [
      "define input:\n",
      "[[2 3]\n",
      " [4 5]\n",
      " [6 7]\n",
      " [8 9]]\n",
      "\n",
      "\n",
      "Final predict after softsign\n"
     ]
    },
    {
     "data": {
      "text/plain": [
       "array([[-0.92519593, -0.9074605 ],\n",
       "       [-0.98939127, -0.97091126],\n",
       "       [-0.99849546, -0.9908563 ],\n",
       "       [-0.9997866 , -0.9971258 ]], dtype=float32)"
      ]
     },
     "execution_count": 380,
     "metadata": {},
     "output_type": "execute_result"
    }
   ],
   "source": [
    "# elu \n",
    "\n",
    "model = Sequential()\n",
    "model.add(Dense(2, input_dim =2))\n",
    "model.add(Activation(activations.elu)) # default alpha = 1.0\n",
    "\n",
    "import numpy as np\n",
    "input = np.arange(2,10).reshape(4,2)\n",
    "\n",
    "print(\"define input:\")\n",
    "print(input)\n",
    "\n",
    "print(\"\\n\")\n",
    "print(\"Final predict after softsign\")\n",
    "model.predict(input)"
   ]
  },
  {
   "cell_type": "code",
   "execution_count": 439,
   "metadata": {},
   "outputs": [
    {
     "data": {
      "text/plain": [
       "[[-0.9251958993218959, -0.9074605094372521],\n",
       " [-0.9893912661463615, -0.9709112582284117],\n",
       " [-0.99849546705385, -0.9908562831639925],\n",
       " [-0.9997866268098267, -0.9971257760740017]]"
      ]
     },
     "execution_count": 439,
     "metadata": {},
     "output_type": "execute_result"
    }
   ],
   "source": [
    "# manully Calculating the same\n",
    "\n",
    "w = model.layers[0].get_weights()[0]\n",
    "\n",
    "z = np.dot(input,w)\n",
    "\n",
    "# f(x) = x for x >= 0\n",
    "# f(x) =  alpha * (exp(x) - 1.) for x < 0\n",
    "\n",
    "values = []\n",
    "\n",
    "for i in range(len(z)):\n",
    "    values.append([x if x>=0 else (alpha * (np.exp(x) - 1)) for x in z[i]])\n",
    "    \n",
    "values"
   ]
  },
  {
   "cell_type": "code",
   "execution_count": 442,
   "metadata": {},
   "outputs": [
    {
     "name": "stdout",
     "output_type": "stream",
     "text": [
      "define input:\n",
      "[[2 3]\n",
      " [4 5]\n",
      " [6 7]\n",
      " [8 9]]\n",
      "\n",
      "\n",
      "Final predict after softsign\n"
     ]
    },
    {
     "data": {
      "text/plain": [
       "array([[-1.5612097,  1.343575 ],\n",
       "       [-1.7299442,  2.1472173],\n",
       "       [-1.7540733,  2.9508598],\n",
       "       [-1.7575237,  3.7545018]], dtype=float32)"
      ]
     },
     "execution_count": 442,
     "metadata": {},
     "output_type": "execute_result"
    }
   ],
   "source": [
    "# selu \n",
    "\n",
    "model = Sequential()\n",
    "model.add(Dense(2, input_dim =2))\n",
    "model.add(Activation(activations.selu())) # default alpha = 1.67326324 and scale = 1.05070098\n",
    "\n",
    "import numpy as np\n",
    "input = np.arange(2,10).reshape(4,2)\n",
    "\n",
    "print(\"define input:\")\n",
    "print(input)\n",
    "\n",
    "print(\"\\n\")\n",
    "print(\"Final predict after softsign\")\n",
    "model.predict(input)"
   ]
  },
  {
   "cell_type": "code",
   "execution_count": 447,
   "metadata": {},
   "outputs": [
    {
     "data": {
      "text/plain": [
       "[[-1.561209657395137, 1.3435749250678755],\n",
       " [-1.7299442644599141, 2.147217243675835],\n",
       " [-1.75407317528116, 2.950859562283795],\n",
       " [-1.7575235897962815, 3.7545018808917545]]"
      ]
     },
     "execution_count": 447,
     "metadata": {},
     "output_type": "execute_result"
    }
   ],
   "source": [
    "# manully Calculating the same\n",
    "\n",
    "w = model.layers[0].get_weights()[0]\n",
    "\n",
    "z = np.dot(input,w)\n",
    "\n",
    "# if x > 0: return scale * x\n",
    "# if x < 0: return scale * alpha * (exp(x) - 1)\n",
    "# constants (alpha=1.67326324 and scale=1.05070098)\n",
    "\n",
    "alpha = 1.67326324\n",
    "scale = 1.05070098\n",
    "\n",
    "values = []\n",
    "\n",
    "for i in range(len(z)):\n",
    "    values.append([(scale*x) if x>=0 else (scale * alpha * (np.exp(x) - 1)) for x in z[i]])\n",
    "    \n",
    "values"
   ]
  }
 ],
 "metadata": {
  "kernelspec": {
   "display_name": "Python 3",
   "language": "python",
   "name": "python3"
  },
  "language_info": {
   "codemirror_mode": {
    "name": "ipython",
    "version": 3
   },
   "file_extension": ".py",
   "mimetype": "text/x-python",
   "name": "python",
   "nbconvert_exporter": "python",
   "pygments_lexer": "ipython3",
   "version": "3.7.4"
  }
 },
 "nbformat": 4,
 "nbformat_minor": 2
}
