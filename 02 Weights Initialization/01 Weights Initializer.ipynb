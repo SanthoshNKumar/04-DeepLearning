{
 "cells": [
  {
   "cell_type": "code",
   "execution_count": null,
   "metadata": {},
   "outputs": [],
   "source": [
    "'''\n",
    "Weights Initializer\n",
    "    1. kernel_initializer\n",
    "    2. bias_initializer \n",
    "\n",
    "'''"
   ]
  },
  {
   "cell_type": "code",
   "execution_count": null,
   "metadata": {},
   "outputs": [],
   "source": [
    "'''\n",
    "Layer Weight Initilizer\n",
    "    1. RandomNormal class\n",
    "    2. RandomUniform class\n",
    "    3. TruncatedNormal class\n",
    "    4. Zeros class\n",
    "    5. Ones class\n",
    "    6. GlorotNormal class  (Xavier normal initializer.)\n",
    "    7. GlorotUniform class (Xavier uniform initializer.)\n",
    "    8. Identity class\n",
    "    9. Orthogonal class\n",
    "    10.Constant class\n",
    "    11.VarianceScaling class\n",
    "    12.he_normal\n",
    "    13.he_uniform\n",
    "'''"
   ]
  },
  {
   "cell_type": "code",
   "execution_count": null,
   "metadata": {},
   "outputs": [],
   "source": [
    "# Example : Weights Initializer\n",
    "\n",
    "my_init = tf.keras.initializers.RandomNormal(mean=0., stddev=1.)\n",
    "model.add(layers.Dense(512, activation = 'relu', input_shape = (784,), kernel_initializer = my_init))"
   ]
  },
  {
   "cell_type": "code",
   "execution_count": 3,
   "metadata": {},
   "outputs": [],
   "source": [
    "import tensorflow as tf\n",
    "tf.enable_eager_execution()"
   ]
  },
  {
   "cell_type": "code",
   "execution_count": 35,
   "metadata": {},
   "outputs": [
    {
     "data": {
      "text/plain": [
       "<tf.Tensor: id=192, shape=(3, 6), dtype=float32, numpy=\n",
       "array([[ 0.45769536,  0.3226384 ,  0.30815166, -0.02063308, -1.5097687 ,\n",
       "        -0.02333209],\n",
       "       [-0.71875936,  0.24566378, -0.03866665,  0.02482432, -0.3422901 ,\n",
       "        -0.05151278],\n",
       "       [-1.1027677 ,  0.54528934, -1.4281361 ,  0.9145282 ,  1.751935  ,\n",
       "        -0.14157172]], dtype=float32)>"
      ]
     },
     "execution_count": 35,
     "metadata": {},
     "output_type": "execute_result"
    }
   ],
   "source": [
    "#01 : RandomNormal :Initializer that generates tensors with a normal distribution.\n",
    "initializer = tf.keras.initializers.RandomNormal(mean=0., stddev=1.)\n",
    "\n",
    "initializer(shape=(3,6))"
   ]
  },
  {
   "cell_type": "code",
   "execution_count": 36,
   "metadata": {},
   "outputs": [
    {
     "data": {
      "text/plain": [
       "<tf.Tensor: id=199, shape=(3, 6), dtype=float32, numpy=\n",
       "array([[0.54360723, 0.32721877, 0.3939855 , 0.17376685, 0.46735692,\n",
       "        0.46874297],\n",
       "       [0.08792806, 0.38864434, 0.1685766 , 0.3665111 , 0.3353274 ,\n",
       "        0.37644994],\n",
       "       [0.8234452 , 0.8194016 , 0.7868297 , 0.460137  , 0.9019784 ,\n",
       "        0.5157286 ]], dtype=float32)>"
      ]
     },
     "execution_count": 36,
     "metadata": {},
     "output_type": "execute_result"
    }
   ],
   "source": [
    "#02 : RandomUniform\n",
    "# Initializer that generates tensors with a uniform distribution.\n",
    "\n",
    "initializer = tf.keras.initializers.random_uniform(minval=0., maxval=1.)\n",
    "\n",
    "initializer(shape=(3,6))"
   ]
  },
  {
   "cell_type": "code",
   "execution_count": 13,
   "metadata": {},
   "outputs": [
    {
     "data": {
      "text/plain": [
       "<tf.Tensor: id=42, shape=(3, 6), dtype=float32, numpy=\n",
       "array([[-0.00294609, -0.07837787,  0.06532864,  0.06997381, -0.00065333,\n",
       "         0.07352445],\n",
       "       [-0.03458857,  0.08940866, -0.01185725,  0.0460262 ,  0.03462578,\n",
       "         0.03566557],\n",
       "       [-0.03079457, -0.06344331,  0.0226399 , -0.01417905,  0.03032848,\n",
       "        -0.03200275]], dtype=float32)>"
      ]
     },
     "execution_count": 13,
     "metadata": {},
     "output_type": "execute_result"
    }
   ],
   "source": [
    "#03 : TruncatedNormal\n",
    "\n",
    "initializer = tf.keras.initializers.TruncatedNormal()\n",
    "\n",
    "initializer(shape=(3,6))"
   ]
  },
  {
   "cell_type": "code",
   "execution_count": 14,
   "metadata": {},
   "outputs": [
    {
     "data": {
      "text/plain": [
       "<tf.Tensor: id=45, shape=(3, 6), dtype=float32, numpy=\n",
       "array([[0., 0., 0., 0., 0., 0.],\n",
       "       [0., 0., 0., 0., 0., 0.],\n",
       "       [0., 0., 0., 0., 0., 0.]], dtype=float32)>"
      ]
     },
     "execution_count": 14,
     "metadata": {},
     "output_type": "execute_result"
    }
   ],
   "source": [
    "#04 : Zeros\n",
    "\n",
    "initializer = tf.keras.initializers.zeros()\n",
    "\n",
    "initializer(shape=(3,6))"
   ]
  },
  {
   "cell_type": "code",
   "execution_count": 15,
   "metadata": {},
   "outputs": [
    {
     "data": {
      "text/plain": [
       "<tf.Tensor: id=48, shape=(3, 6), dtype=float32, numpy=\n",
       "array([[1., 1., 1., 1., 1., 1.],\n",
       "       [1., 1., 1., 1., 1., 1.],\n",
       "       [1., 1., 1., 1., 1., 1.]], dtype=float32)>"
      ]
     },
     "execution_count": 15,
     "metadata": {},
     "output_type": "execute_result"
    }
   ],
   "source": [
    "#05 : Ones\n",
    "\n",
    "initializer = tf.keras.initializers.ones()\n",
    "\n",
    "initializer(shape=(3,6))"
   ]
  },
  {
   "cell_type": "code",
   "execution_count": 16,
   "metadata": {},
   "outputs": [
    {
     "data": {
      "text/plain": [
       "<tf.Tensor: id=54, shape=(3, 6), dtype=float32, numpy=\n",
       "array([[ 0.12988575,  0.5609692 , -0.59104556, -0.45305666, -0.01318134,\n",
       "        -0.07037202],\n",
       "       [-0.13153234,  0.8052083 , -0.67141926, -0.6084552 ,  0.7041554 ,\n",
       "         0.07888272],\n",
       "       [ 0.21890214, -0.10620726, -0.5551481 ,  0.37186107, -0.10681766,\n",
       "         0.8065071 ]], dtype=float32)>"
      ]
     },
     "execution_count": 16,
     "metadata": {},
     "output_type": "execute_result"
    }
   ],
   "source": [
    "#06 : GlorotNormal\n",
    "\n",
    "initializer = tf.keras.initializers.glorot_normal()\n",
    "\n",
    "initializer(shape=(3,6))"
   ]
  },
  {
   "cell_type": "code",
   "execution_count": 17,
   "metadata": {},
   "outputs": [
    {
     "data": {
      "text/plain": [
       "<tf.Tensor: id=61, shape=(3, 6), dtype=float32, numpy=\n",
       "array([[ 0.68470275, -0.29874313, -0.6977733 ,  0.15067166,  0.04408234,\n",
       "        -0.72826785],\n",
       "       [ 0.47182477,  0.6481731 ,  0.36880314,  0.32524014, -0.01513505,\n",
       "        -0.79241055],\n",
       "       [-0.17880815, -0.50741744,  0.5637584 , -0.36206022, -0.41994533,\n",
       "        -0.24152529]], dtype=float32)>"
      ]
     },
     "execution_count": 17,
     "metadata": {},
     "output_type": "execute_result"
    }
   ],
   "source": [
    "#07 : GlorotUniform\n",
    "\n",
    "initializer = tf.keras.initializers.glorot_uniform()\n",
    "\n",
    "initializer(shape=(3,6))"
   ]
  },
  {
   "cell_type": "code",
   "execution_count": 21,
   "metadata": {},
   "outputs": [
    {
     "data": {
      "text/plain": [
       "<tf.Tensor: id=97, shape=(4, 8), dtype=float32, numpy=\n",
       "array([[1., 0., 0., 0., 0., 0., 0., 0.],\n",
       "       [0., 1., 0., 0., 0., 0., 0., 0.],\n",
       "       [0., 0., 1., 0., 0., 0., 0., 0.],\n",
       "       [0., 0., 0., 1., 0., 0., 0., 0.]], dtype=float32)>"
      ]
     },
     "execution_count": 21,
     "metadata": {},
     "output_type": "execute_result"
    }
   ],
   "source": [
    "#08 : Identity\n",
    "\n",
    "initializer = tf.keras.initializers.identity()\n",
    "\n",
    "initializer(shape=(4,8))"
   ]
  },
  {
   "cell_type": "code",
   "execution_count": 22,
   "metadata": {},
   "outputs": [
    {
     "data": {
      "text/plain": [
       "<tf.Tensor: id=114, shape=(4, 8), dtype=float32, numpy=\n",
       "array([[-0.1406312 , -0.11889784, -0.6014854 , -0.6793988 ,  0.2096084 ,\n",
       "         0.15973537,  0.22404177,  0.15189853],\n",
       "       [-0.12289436,  0.80927896, -0.00971748, -0.2154046 ,  0.28536963,\n",
       "        -0.3421567 , -0.257908  , -0.1358208 ],\n",
       "       [-0.4099531 ,  0.39620286,  0.10732941, -0.09911785, -0.6504451 ,\n",
       "         0.4063301 ,  0.2557471 ,  0.00531573],\n",
       "       [-0.36575285,  0.06120873, -0.2082655 ,  0.38017446,  0.02833523,\n",
       "        -0.2685728 ,  0.03629995,  0.77480274]], dtype=float32)>"
      ]
     },
     "execution_count": 22,
     "metadata": {},
     "output_type": "execute_result"
    }
   ],
   "source": [
    "#08 : Orthogonal\n",
    "\n",
    "initializer = tf.keras.initializers.Orthogonal()\n",
    "\n",
    "initializer(shape=(4,8))"
   ]
  },
  {
   "cell_type": "code",
   "execution_count": 23,
   "metadata": {},
   "outputs": [
    {
     "data": {
      "text/plain": [
       "<tf.Tensor: id=117, shape=(4, 8), dtype=float32, numpy=\n",
       "array([[5., 5., 5., 5., 5., 5., 5., 5.],\n",
       "       [5., 5., 5., 5., 5., 5., 5., 5.],\n",
       "       [5., 5., 5., 5., 5., 5., 5., 5.],\n",
       "       [5., 5., 5., 5., 5., 5., 5., 5.]], dtype=float32)>"
      ]
     },
     "execution_count": 23,
     "metadata": {},
     "output_type": "execute_result"
    }
   ],
   "source": [
    "#09 : Constant\n",
    "initializer = tf.keras.initializers.Constant(5)\n",
    "\n",
    "initializer(shape=(4,8))"
   ]
  },
  {
   "cell_type": "code",
   "execution_count": 24,
   "metadata": {},
   "outputs": [
    {
     "data": {
      "text/plain": [
       "<tf.Tensor: id=123, shape=(4, 8), dtype=float32, numpy=\n",
       "array([[-0.36425558,  0.8839667 , -0.52364445,  0.45558816,  0.05935844,\n",
       "        -0.13296475, -0.07460276,  0.3310182 ],\n",
       "       [-0.27961907, -0.21199642,  0.28236517, -0.7695604 ,  0.7495743 ,\n",
       "        -0.5350424 , -0.9257668 ,  0.43700874],\n",
       "       [-0.08069142,  0.4714061 , -0.40275022,  0.41628817,  0.31731564,\n",
       "        -0.23251854,  0.56976134, -0.22616005],\n",
       "       [ 0.21195285, -0.7425056 , -0.84923583, -0.01063851,  0.6871623 ,\n",
       "        -0.47092855,  0.54310644, -0.5979317 ]], dtype=float32)>"
      ]
     },
     "execution_count": 24,
     "metadata": {},
     "output_type": "execute_result"
    }
   ],
   "source": [
    "#10 : VarianceScaling\n",
    "\n",
    "initializer = tf.keras.initializers.VarianceScaling()\n",
    "\n",
    "initializer(shape=(4,8))"
   ]
  },
  {
   "cell_type": "code",
   "execution_count": 43,
   "metadata": {},
   "outputs": [
    {
     "data": {
      "text/plain": [
       "<tf.Tensor: id=247, shape=(4, 8), dtype=float32, numpy=\n",
       "array([[-0.62017435, -0.6464267 ,  0.20390332, -0.55910665, -0.76771677,\n",
       "        -1.4126614 , -0.07450639, -1.0606805 ],\n",
       "       [-1.160577  ,  0.19423792,  0.7289541 ,  1.2590301 ,  0.34553313,\n",
       "        -0.42852843,  0.89693457, -0.53479505],\n",
       "       [ 0.9408702 , -1.2682828 ,  0.5962005 , -0.5745412 , -0.8128168 ,\n",
       "        -1.4612527 , -0.2723532 , -0.72289973],\n",
       "       [ 1.2563357 , -0.37624794,  1.0645335 ,  1.260132  , -0.31924176,\n",
       "        -0.47812933,  0.19612801,  0.910103  ]], dtype=float32)>"
      ]
     },
     "execution_count": 43,
     "metadata": {},
     "output_type": "execute_result"
    }
   ],
   "source": [
    "#11 : he_normal\n",
    "initializer = tf.keras.initializers.he_normal()\n",
    "\n",
    "initializer(shape=(4,8))"
   ]
  },
  {
   "cell_type": "code",
   "execution_count": 44,
   "metadata": {},
   "outputs": [
    {
     "data": {
      "text/plain": [
       "<tf.Tensor: id=254, shape=(4, 8), dtype=float32, numpy=\n",
       "array([[ 0.17430294,  0.89461505, -0.08226538, -0.64426696,  1.1533817 ,\n",
       "        -0.07840073,  0.02727389,  0.14743292],\n",
       "       [-0.62650186, -0.51521087,  0.4852091 , -0.58418113,  1.021793  ,\n",
       "         1.157307  , -0.00804317, -0.8139849 ],\n",
       "       [ 1.1427163 ,  1.1080276 , -0.40087718,  0.46680748, -0.8157191 ,\n",
       "        -0.8906535 ,  0.9565507 , -0.21769714],\n",
       "       [-0.31816763, -0.22463477, -0.99310243, -0.74503535, -1.15788   ,\n",
       "        -0.5567493 ,  0.9145688 ,  0.29087365]], dtype=float32)>"
      ]
     },
     "execution_count": 44,
     "metadata": {},
     "output_type": "execute_result"
    }
   ],
   "source": [
    "#11 : he_uniform\n",
    "initializer = tf.keras.initializers.he_uniform()\n",
    "\n",
    "initializer(shape=(4,8))"
   ]
  }
 ],
 "metadata": {
  "kernelspec": {
   "display_name": "Python 3",
   "language": "python",
   "name": "python3"
  },
  "language_info": {
   "codemirror_mode": {
    "name": "ipython",
    "version": 3
   },
   "file_extension": ".py",
   "mimetype": "text/x-python",
   "name": "python",
   "nbconvert_exporter": "python",
   "pygments_lexer": "ipython3",
   "version": "3.7.4"
  }
 },
 "nbformat": 4,
 "nbformat_minor": 2
}
