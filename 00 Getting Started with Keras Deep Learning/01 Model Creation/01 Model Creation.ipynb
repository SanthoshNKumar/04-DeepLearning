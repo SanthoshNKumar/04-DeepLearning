{
 "cells": [
  {
   "cell_type": "code",
   "execution_count": null,
   "metadata": {},
   "outputs": [],
   "source": []
  },
  {
   "cell_type": "code",
   "execution_count": null,
   "metadata": {},
   "outputs": [],
   "source": [
    "'''\n",
    "\n",
    "  Types of Keras Models\n",
    "    - Keras Sequential Model\n",
    "            - The Sequential model is a linear stack of layers.\n",
    "    - Keras Functional API\n",
    "    - Model Sub Classing\n",
    "    \n",
    "'''"
   ]
  },
  {
   "cell_type": "code",
   "execution_count": 4,
   "metadata": {},
   "outputs": [],
   "source": [
    "from tensorflow.keras.models import Sequential\n",
    "from tensorflow.keras.layers import Dense, Activation\n"
   ]
  },
  {
   "cell_type": "code",
   "execution_count": null,
   "metadata": {},
   "outputs": [],
   "source": [
    "# Sequential Model  : Linear Stack of layer\n",
    "\n",
    "model = Sequential([Dense(32,input_shape=(784,)),Activation('relu'), Dense(10),Activation('softmax')])\n",
    "\n",
    "or\n",
    "\n",
    "model = Sequential()\n",
    "\n",
    "model.add(Dense(32,input_shape=(784,)))\n",
    "model.add(Activation('relu'))\n",
    "model.add(Dense(10))\n",
    "model.add(Activation('softmax'))"
   ]
  },
  {
   "cell_type": "code",
   "execution_count": 11,
   "metadata": {},
   "outputs": [],
   "source": [
    "\n",
    "import numpy as np\n",
    "from tensorflow.keras.utils import to_categorical\n",
    "from tensorflow.keras.models import Model\n",
    "from tensorflow.keras.layers import Input, Dense\n"
   ]
  },
  {
   "cell_type": "code",
   "execution_count": 13,
   "metadata": {},
   "outputs": [],
   "source": [
    "# Functional API\n",
    "\n",
    "data = np.random.random((1000, 100))\n",
    "labels = np.random.randint(10, size=(1000, 1))\n",
    "\n",
    "# Convert labels to categorical one-hot encoding\n",
    "one_hot_labels = to_categorical(labels, num_classes=10)\n",
    "\n",
    "inputs = Input(shape=(100,))\n",
    "output_1 = Dense(32, activation='relu')(inputs)\n",
    "# output_2 = Dense(10, activation='relu')(output_1)\n",
    "predictions = Dense(10, activation='relu')(output_1)\n",
    "\n",
    "model = Model(inputs=inputs, outputs=predictions)"
   ]
  },
  {
   "cell_type": "code",
   "execution_count": null,
   "metadata": {},
   "outputs": [],
   "source": [
    "'''\n",
    "Life Cycle of Model Creation in Keras\n",
    "\n",
    "Model Creation --> Model Compilation ---> Model Fit--> Model Predict\n",
    "'''"
   ]
  },
  {
   "cell_type": "code",
   "execution_count": 15,
   "metadata": {},
   "outputs": [],
   "source": [
    "# Add Layer\n",
    "\n",
    "# You can also simply add layers via the .add() method\n",
    "\n",
    "model = Sequential()\n",
    "model.add(Dense(32,input_dim=784))\n",
    "model.add(Activation('relu'))\n"
   ]
  },
  {
   "cell_type": "code",
   "execution_count": 16,
   "metadata": {},
   "outputs": [],
   "source": [
    "# Compilation : Before training a model, you need to configure the learning process, which is done via the compile method. \n",
    "# It receives three arguments:\n",
    "\n",
    "# For a multi-class classification problem\n",
    "model.compile(optimizer='rmsprop',loss='categorical_crossentropy',metrics=['accuracy'])"
   ]
  },
  {
   "cell_type": "code",
   "execution_count": 17,
   "metadata": {},
   "outputs": [
    {
     "data": {
      "text/plain": [
       "(784, 32)"
      ]
     },
     "execution_count": 17,
     "metadata": {},
     "output_type": "execute_result"
    }
   ],
   "source": [
    "model.layers[0].get_weights()[0].shape  # weight siz of (784,32) "
   ]
  },
  {
   "cell_type": "code",
   "execution_count": 18,
   "metadata": {},
   "outputs": [
    {
     "name": "stdout",
     "output_type": "stream",
     "text": [
      "Model: \"sequential_2\"\n",
      "_________________________________________________________________\n",
      "Layer (type)                 Output Shape              Param #   \n",
      "=================================================================\n",
      "dense_11 (Dense)             (None, 8)                 88        \n",
      "_________________________________________________________________\n",
      "dense_12 (Dense)             (None, 4)                 36        \n",
      "_________________________________________________________________\n",
      "dense_13 (Dense)             (None, 1)                 5         \n",
      "=================================================================\n",
      "Total params: 129\n",
      "Trainable params: 129\n",
      "Non-trainable params: 0\n",
      "_________________________________________________________________\n"
     ]
    }
   ],
   "source": [
    "# Get Model Summary\n",
    "\n",
    "from tensorflow.keras.models import Sequential\n",
    "from tensorflow.keras.layers import Dense\n",
    "\n",
    "model = Sequential()\n",
    "model.add(Dense(8,input_shape=(10,),activation='relu'))\n",
    "model.add(Dense(4,activation='relu'))\n",
    "model.add(Dense(1,activation='linear'))\n",
    "\n",
    "model.summary()"
   ]
  },
  {
   "cell_type": "code",
   "execution_count": 19,
   "metadata": {},
   "outputs": [
    {
     "data": {
      "text/plain": [
       "(10, 8)"
      ]
     },
     "execution_count": 19,
     "metadata": {},
     "output_type": "execute_result"
    }
   ],
   "source": [
    "# Get the shape of Layer 0\n",
    "\n",
    "model.layers[0].get_weights()[0].shape "
   ]
  },
  {
   "cell_type": "code",
   "execution_count": 20,
   "metadata": {},
   "outputs": [
    {
     "data": {
      "text/plain": [
       "(4, 1)"
      ]
     },
     "execution_count": 20,
     "metadata": {},
     "output_type": "execute_result"
    }
   ],
   "source": [
    "# Get the share of output layer\n",
    "\n",
    "model.layers[2].get_weights()[0].shape "
   ]
  },
  {
   "cell_type": "code",
   "execution_count": 21,
   "metadata": {},
   "outputs": [
    {
     "data": {
      "text/plain": [
       "[array([[ 0.84960663],\n",
       "        [-0.20277429],\n",
       "        [-0.86632174],\n",
       "        [ 0.5413501 ]], dtype=float32), array([0.], dtype=float32)]"
      ]
     },
     "execution_count": 21,
     "metadata": {},
     "output_type": "execute_result"
    }
   ],
   "source": [
    "model.layers[2].get_weights()"
   ]
  },
  {
   "cell_type": "code",
   "execution_count": null,
   "metadata": {},
   "outputs": [],
   "source": [
    "'''\n",
    "Specifying the Input Shape\n",
    "\n",
    "01 using input_shape\n",
    "\n",
    "Example\n",
    "    model = Sequential()\n",
    "    model.add(Dense(32, input_shape=(784,)))\n",
    "\n",
    "\n",
    "02 using input_dim\n",
    "\n",
    "Example\n",
    "    model = Sequential()\n",
    "    model.add(Dense(32, input_dim=784))\n",
    "\n",
    "'''"
   ]
  },
  {
   "cell_type": "code",
   "execution_count": null,
   "metadata": {},
   "outputs": [],
   "source": [
    "'''\n",
    "Model Creation with Activation Function\n",
    "\n",
    "Initialize Model\n",
    "model = Sequential() \n",
    "\n",
    "# 01 Linear\n",
    "model.add(layers.Dense(512,activation='linear',input_shape=(784,)))\n",
    "\n",
    "# 02 elu (Exponential linear unit.)\n",
    "model.add(layers.Dense(512,activation='elu',input_shape=(784,)))\n",
    "\n",
    "# 04 relu(Rectified Linear Unit.)\n",
    "model.add(layers.Dense(512,activation='relu',input_shape=(784,)))\n",
    "\n",
    "# 05 Softmax\n",
    "model.add(layers.Dense(512,activation='softmax',input_shape=(784,)))\n",
    "\n",
    "...etc\n",
    "\n",
    "'''"
   ]
  },
  {
   "cell_type": "code",
   "execution_count": null,
   "metadata": {},
   "outputs": [],
   "source": [
    "'''\n",
    "Model Creatin with Weight Initializer (Kernel Initilizer)\n",
    "\n",
    "model = Sequential()\n",
    "my_init = initializers.Zeros() \n",
    "\n",
    "model.add(layers.Dense(512, activation = 'relu', input_shape = (784,), kernel_initializer = my_init))\n",
    "\n",
    "\n",
    "Other types of Initilzers\n",
    "\n",
    "initializers.Ones() \n",
    "initializers.Constant(value = 5)\n",
    "initializers.RandomNormal(mean=0.0, stddev = 0.05, seed = None) \n",
    "initializers.RandomUniform(minval = -0.05, maxval = 0.05, seed = None)\n",
    "initializers.TruncatedNormal(mean = 0.0, stddev = 0.05, seed = None)\n",
    "initializers.VarianceScaling(scale = 1.0, mode = 'fan_in', distribution = 'normal', seed = None) \n",
    "\n",
    "..etc\n",
    "\n",
    "'''"
   ]
  },
  {
   "cell_type": "code",
   "execution_count": null,
   "metadata": {},
   "outputs": [],
   "source": [
    "'''\n",
    "Model Creation with Regularization\n",
    "\n",
    "Different Types of Regularization\n",
    "    1. L2 and L1 regularization\n",
    "    2. Dropout\n",
    "    3. Data augmentation\n",
    "    4. Early stopping\n",
    "    \n",
    "from tensorflow.keras import regularizers\n",
    "my_regularizer = regularizers.l1(0.)\n",
    "\n",
    "model = Sequential()\n",
    "model.add(layers.Dense(512,activation='relu',input_shape=(784,),kernel_regularizer=my_regularizer))\n",
    "\n",
    "Other Regularizers\n",
    "\n",
    "my_regularizer = regularizers.l2(0.)\n",
    "my_regularizer = regularizers.L1L2(0.0,0.0)\n",
    " \n",
    "\n",
    "'''"
   ]
  },
  {
   "cell_type": "code",
   "execution_count": null,
   "metadata": {},
   "outputs": [],
   "source": [
    "'''\n",
    "Drop outs:\n",
    "\n",
    "Dropout is a regularization technique to prevent overfitting in a neural network model training\n",
    "\n",
    "The method randomly drops out or ignores a certain number of neurons in the network.\n",
    "\n",
    "How to use Dropout layer in Keras model\n",
    "    1. After the input layer\n",
    "    2. Between the hidden layers\n",
    "    3. Before the output layer\n",
    "    \n",
    "    \n",
    "# 1. After the input layer\n",
    "\n",
    "model = Sequential()\n",
    "model.add(Dense(16, input_dim=4, activation=\"relu\")) \n",
    "model.add(Dropout(0.2))\n",
    "\n",
    "\n",
    "# 2. Between the hidden layers\n",
    "\n",
    "model.add(Conv2D())\n",
    "model.add(MaxPooling())\n",
    "model.add(Dropout(0.2)\n",
    "\n",
    "# 3. Before the output layer\n",
    "\n",
    "model.add(Dropout(0.2))\n",
    "model.add(Dense(3, activation=\"softmax\"))\n",
    "\n",
    "'''"
   ]
  },
  {
   "cell_type": "code",
   "execution_count": null,
   "metadata": {},
   "outputs": [],
   "source": [
    "'''\n",
    "Cross Validation in Keras using 'KerasClassifier'\n",
    "\n",
    "\n",
    "# Create Function that constructs a neural network\n",
    "def create_network():\n",
    "    \n",
    "    network = Sequential()\n",
    "    \n",
    "    network.add(Dense(units =16,activation='relu',input_shape = (100,)))\n",
    "    \n",
    "    network.add(Dense(units=16,activation='relu'))\n",
    "    \n",
    "    network.add(Dense(units=1,activation = 'sigmoid'))\n",
    "    \n",
    "    network.compile(loss='binary_crossentropy',optimizer='rmsprop',metrics=['accuracy'])\n",
    "    # rmsprop = Root Mean Square Propagation\n",
    "    \n",
    "    return network\n",
    "    \n",
    "# Wrap Function In KerasClassifier\n",
    "\n",
    "neural_network = KerasClassifier(build_fn=create_network,epochs = 10,batch_size=100,verbose=0)\n",
    "\n",
    "\n",
    "# Conduct k-Fold Cross-Validation Using scikit-learn\n",
    "\n",
    "# Evaluate neural network using three-fold cross-validation\n",
    "cross_val_score(neural_network, features, target, cv=3)\n",
    "\n",
    "output : \n",
    "\n",
    "'''"
   ]
  },
  {
   "cell_type": "code",
   "execution_count": null,
   "metadata": {},
   "outputs": [],
   "source": [
    "'''\n",
    "Model Creation using 'Grid Search CV'\n",
    "\n",
    "from tensorflow.keras.wrappers.scikit_learn import KerasClassifier\n",
    "from sklearn.model_selection import GridSearchCV\n",
    "\n",
    "# Create Function that constructs a neural network and takes optimiser as parameter\n",
    "def build_classifers(optimizer):\n",
    "    model = Sequential()\n",
    "    model.add(Dense(units =6, kernel_initializer = 'uniform',activation='relu',input_dim=12))\n",
    "    model.add(Dense(units =6,kernel_initializer = 'uniform',activation='relu'))\n",
    "    model.add(Dense(units=1,kernel_initializer='uniform',activation='sigmoid'))\n",
    "    model.compile(optimizer=optimizer,loss = 'binary_crossentropy',metrics = ['accuracy'])\n",
    "    return model\n",
    "    \n",
    "# Wrap Function In KerasClassifier\n",
    "classier =KerasClassifier(build_fn=build_classifers)\n",
    "\n",
    "# Hyper parameters \n",
    "parameters = {'batch_size': [25,32],'epochs':[1,2],'optimizer':['adam','rmsprop']}\n",
    "\n",
    "# Define Grid Seach CV\n",
    "grid_search = GridSearchCV(estimator=classier,param_grid=parameters,scoring='accuracy',cv=10)\n",
    "\n",
    "# Fit the Data\n",
    "grid_search = grid_search.fit(X_train,y_train)\n",
    "\n",
    "# Get the Best Parameters\n",
    "best_parameters = grid_search.best_params_\n",
    "best_accuracy = grid_search.best_score_\n",
    "\n",
    "'''"
   ]
  },
  {
   "cell_type": "code",
   "execution_count": null,
   "metadata": {},
   "outputs": [],
   "source": [
    "'''\n",
    "Model Creation using 'Grid Search CV' for finding Activation function\n",
    "\n",
    "# Create Function that constructs a neural network and takes optimiser as parameter\n",
    "def create_model(activation='relu'):\n",
    "    # create model\n",
    "    model = Sequential()\n",
    "    model.add(Dense(12, input_dim=8, kernel_initializer='uniform', activation=activation))\n",
    "    model.add(Dense(1, kernel_initializer='uniform', activation='sigmoid'))\n",
    "    # Compile model\n",
    "    model.compile(loss='binary_crossentropy', optimizer='adam', metrics=['accuracy'])\n",
    "    return model\n",
    "    \n",
    "# Wrap Function In KerasClassifier\n",
    "model = KerasClassifier(build_fn=create_model, epochs=100, batch_size=10, verbose=0)\n",
    "\n",
    "# define the grid search parameters\n",
    "activation = ['softmax', 'softplus', 'softsign', 'relu', 'tanh', 'sigmoid', 'hard_sigmoid', 'linear']\n",
    "param_grid = dict(activation=activation)\n",
    "\n",
    "# Define Grid Seach CV\n",
    "grid = GridSearchCV(estimator=model, param_grid=param_grid, n_jobs=-1)\n",
    "\n",
    "# Fit the Data\n",
    "grid_result = grid.fit(X, Y)   \n",
    "\n",
    "# summarize results\n",
    "print(\"Best: %f using %s\" % (grid_result.best_score_, grid_result.best_params_))\n",
    "means = grid_result.cv_results_['mean_test_score']\n",
    "stds = grid_result.cv_results_['std_test_score']\n",
    "params = grid_result.cv_results_['params']\n",
    "for mean, stdev, param in zip(means, stds, params):\n",
    "    print(\"%f (%f) with: %r\" % (mean, stdev, param))\n",
    "\n",
    "'''"
   ]
  },
  {
   "cell_type": "code",
   "execution_count": null,
   "metadata": {},
   "outputs": [],
   "source": [
    "'''\n",
    "\n",
    "Model Creation Last Layer Activation and Loss Function bases on the use case\n",
    "\n",
    "model = Sequential()\n",
    "\n",
    "#01 Binary classification - Dog VS Cat\n",
    "\n",
    "    model.add(Dense(1,activation = 'sigmoid'))\n",
    "    model.compile(optimizer = optimizers.RMSprop(lr=1e-4), loss='binary_crossentropy',metrics=['acc'])\n",
    "\n",
    "#02 Multi-class single-label classification - MNIST\n",
    "\n",
    "    model.add(layers.Dense(10, activation='softmax'))\n",
    "    model.compile(optimizer='rmsprop',loss='categorical_crossentropy',metrics=['accuracy'])\n",
    "\n",
    "#03 Regression to arbitrary values - Bosten Housing price prediction\n",
    "\n",
    "    model.add(layers.Dense(1))\n",
    "    model.compile(optimizer='rmsprop', loss='mse', metrics=['mae'])\n",
    "\n",
    "#04 Regression to values between 0 and 1\n",
    "\n",
    "    model.add(layers.Dense(1, activation='sigmoid'))\n",
    "    model.compile(optimizer='rmsprop', loss='mse', metrics=['mae'])\n",
    "\n",
    "'''"
   ]
  },
  {
   "cell_type": "code",
   "execution_count": 26,
   "metadata": {},
   "outputs": [
    {
     "name": "stdout",
     "output_type": "stream",
     "text": [
      "       x       y\n",
      "0      0  -17.78\n",
      "1      1  -17.22\n",
      "2      2  -16.67\n",
      "3      3  -16.11\n",
      "4      4  -15.56\n",
      "..   ...     ...\n",
      "995  995  535.00\n",
      "996  996  535.56\n",
      "997  997  536.11\n",
      "998  998  536.67\n",
      "999  999  537.22\n",
      "\n",
      "[1000 rows x 2 columns]\n"
     ]
    },
    {
     "data": {
      "text/plain": [
       "array([[93.52098]], dtype=float32)"
      ]
     },
     "execution_count": 26,
     "metadata": {},
     "output_type": "execute_result"
    }
   ],
   "source": [
    "# Example :\n",
    "\n",
    "import pandas as pd\n",
    "\n",
    "df = pd.read_csv(\"C:\\MyWork\\MyLearning\\Career Growth\\ML\\Files\\DataSet\\Linear-Regression-Data.csv\")\n",
    "\n",
    "x = df.x\n",
    "y = df.y\n",
    "\n",
    "print(df)\n",
    "\n",
    "from tensorflow.keras.models import Sequential\n",
    "from tensorflow.keras.layers import Dense\n",
    "from tensorflow.keras.optimizers import RMSprop\n",
    "\n",
    "# Define Model\n",
    "model = Sequential()\n",
    "\n",
    "# Add Model Layer\n",
    "model.add(Dense(32,activation='relu',input_dim=1))\n",
    "model.add(Dense(32,activation='relu'))\n",
    "model.add(Dense(1,))\n",
    "\n",
    "\n",
    "# Compile Model\n",
    "optimizer = RMSprop(0.0099)\n",
    "\n",
    "model.compile(optimizer=optimizer,loss='mean_squared_error')\n",
    "\n",
    "model.fit(x,y,epochs=500,verbose=0)\n",
    "\n",
    "# Predict\n",
    "model.predict([200])"
   ]
  },
  {
   "cell_type": "code",
   "execution_count": null,
   "metadata": {},
   "outputs": [],
   "source": []
  }
 ],
 "metadata": {
  "kernelspec": {
   "display_name": "Python 3",
   "language": "python",
   "name": "python3"
  },
  "language_info": {
   "codemirror_mode": {
    "name": "ipython",
    "version": 3
   },
   "file_extension": ".py",
   "mimetype": "text/x-python",
   "name": "python",
   "nbconvert_exporter": "python",
   "pygments_lexer": "ipython3",
   "version": "3.7.4"
  }
 },
 "nbformat": 4,
 "nbformat_minor": 2
}
