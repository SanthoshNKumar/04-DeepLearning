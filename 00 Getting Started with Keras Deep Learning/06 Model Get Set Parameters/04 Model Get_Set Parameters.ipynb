{
 "cells": [
  {
   "cell_type": "code",
   "execution_count": 99,
   "metadata": {},
   "outputs": [
    {
     "name": "stdout",
     "output_type": "stream",
     "text": [
      "(60000, 28, 28)\n",
      "(10000, 28, 28)\n",
      "(60000, 784)\n",
      "(10000, 784)\n"
     ]
    }
   ],
   "source": [
    "import tensorflow.keras\n",
    "from keras.datasets import mnist \n",
    "from tensorflow.keras.models import Sequential\n",
    "from tensorflow.keras.layers import Dense,Activation,Dropout \n",
    "from tensorflow.keras.optimizers import RMSprop\n",
    "from keras.utils import to_categorical\n",
    "import numpy as np\n",
    "\n",
    "# Load Dataset\n",
    "(x_train, y_train), (x_test, y_test) = mnist.load_data()\n",
    "\n",
    "print(x_train.shape)\n",
    "print(x_test.shape)\n",
    "\n",
    "# Process the data\n",
    "x_train = x_train.reshape(60000, 784) \n",
    "x_test = x_test.reshape(10000, 784) \n",
    "\n",
    "print(x_train.shape)\n",
    "print(x_test.shape)\n",
    "\n",
    "x_train = x_train.astype('float32') \n",
    "x_test = x_test.astype('float32') \n",
    "x_train /= 255 \n",
    "x_test /= 255 \n",
    "\n",
    "y_train = to_categorical(y_train, 10) \n",
    "y_test = to_categorical(y_test, 10)\n",
    "\n",
    "# Create the model\n",
    "\n",
    "model = Sequential() \n",
    "model.add(Dense(512, activation = 'relu', input_shape = (784,))) \n",
    "model.add(Dropout(0.2)) \n",
    "model.add(Dense(512, activation = 'relu'))\n",
    "model.add(Dropout(0.2)) \n",
    "model.add(Dense(10, activation = 'softmax'))\n",
    "\n",
    "# Compile Model\n",
    "model.compile(loss = 'categorical_crossentropy',optimizer = RMSprop(), metrics = ['accuracy'])"
   ]
  },
  {
   "cell_type": "code",
   "execution_count": 100,
   "metadata": {},
   "outputs": [
    {
     "data": {
      "text/plain": [
       "(60000, 784)"
      ]
     },
     "execution_count": 100,
     "metadata": {},
     "output_type": "execute_result"
    }
   ],
   "source": [
    "# 01 Shape of the X train data\n",
    "\n",
    "x_train.shape  # 60000 Samples and 784 Features"
   ]
  },
  {
   "cell_type": "code",
   "execution_count": 101,
   "metadata": {},
   "outputs": [
    {
     "data": {
      "text/plain": [
       "<tf.Tensor 'dense_29_input:0' shape=(?, 784) dtype=float32>"
      ]
     },
     "execution_count": 101,
     "metadata": {},
     "output_type": "execute_result"
    }
   ],
   "source": [
    "# Input at the layer 1\n",
    "\n",
    "model.layers[0].input"
   ]
  },
  {
   "cell_type": "code",
   "execution_count": 102,
   "metadata": {},
   "outputs": [
    {
     "data": {
      "text/plain": [
       "<tf.Tensor 'dense_29_1/Relu:0' shape=(?, 512) dtype=float32>"
      ]
     },
     "execution_count": 102,
     "metadata": {},
     "output_type": "execute_result"
    }
   ],
   "source": [
    "# output at the layer 1\n",
    "\n",
    "model.layers[0].output"
   ]
  },
  {
   "cell_type": "code",
   "execution_count": 103,
   "metadata": {},
   "outputs": [
    {
     "data": {
      "text/plain": [
       "(784, 512)"
      ]
     },
     "execution_count": 103,
     "metadata": {},
     "output_type": "execute_result"
    }
   ],
   "source": [
    "# 03 shape of the weights generated at 1st layer \n",
    "\n",
    "model.layers[0].get_weights()[0].shape # output from the First layer is : (784,512)"
   ]
  },
  {
   "cell_type": "code",
   "execution_count": 104,
   "metadata": {},
   "outputs": [
    {
     "data": {
      "text/plain": [
       "<tf.Tensor 'dropout/cond/Merge:0' shape=(?, 512) dtype=float32>"
      ]
     },
     "execution_count": 104,
     "metadata": {},
     "output_type": "execute_result"
    }
   ],
   "source": [
    "# Input at the layer 2\n",
    "\n",
    "model.layers[2].input"
   ]
  },
  {
   "cell_type": "code",
   "execution_count": 105,
   "metadata": {},
   "outputs": [
    {
     "data": {
      "text/plain": [
       "<tf.Tensor 'dense_30_1/Relu:0' shape=(?, 512) dtype=float32>"
      ]
     },
     "execution_count": 105,
     "metadata": {},
     "output_type": "execute_result"
    }
   ],
   "source": [
    "# output at the layer 2\n",
    "\n",
    "model.layers[2].output"
   ]
  },
  {
   "cell_type": "code",
   "execution_count": 106,
   "metadata": {},
   "outputs": [
    {
     "data": {
      "text/plain": [
       "(512, 512)"
      ]
     },
     "execution_count": 106,
     "metadata": {},
     "output_type": "execute_result"
    }
   ],
   "source": [
    "#04 Shape of the weights generate at 2nd layer  layer 3( Dense)\n",
    "\n",
    "model.layers[2].get_weights()[0].shape "
   ]
  },
  {
   "cell_type": "code",
   "execution_count": 107,
   "metadata": {},
   "outputs": [
    {
     "data": {
      "text/plain": [
       "<tf.Tensor 'dropout_1_1/cond/Merge:0' shape=(?, 512) dtype=float32>"
      ]
     },
     "execution_count": 107,
     "metadata": {},
     "output_type": "execute_result"
    }
   ],
   "source": [
    "# Input at the layer 4\n",
    "\n",
    "model.layers[4].input"
   ]
  },
  {
   "cell_type": "code",
   "execution_count": 108,
   "metadata": {},
   "outputs": [
    {
     "data": {
      "text/plain": [
       "<tf.Tensor 'dense_31/Softmax:0' shape=(?, 10) dtype=float32>"
      ]
     },
     "execution_count": 108,
     "metadata": {},
     "output_type": "execute_result"
    }
   ],
   "source": [
    "# output at the layer 4\n",
    "\n",
    "model.layers[4].output"
   ]
  },
  {
   "cell_type": "code",
   "execution_count": 109,
   "metadata": {},
   "outputs": [
    {
     "data": {
      "text/plain": [
       "(512, 10)"
      ]
     },
     "execution_count": 109,
     "metadata": {},
     "output_type": "execute_result"
    }
   ],
   "source": [
    "#05 Shape of the weight generated at output from the 3rd layer is : (512,10)\n",
    "\n",
    "model.layers[4].get_weights()[0].shape  # 512 samples and 10 columns"
   ]
  },
  {
   "cell_type": "code",
   "execution_count": 110,
   "metadata": {},
   "outputs": [
    {
     "data": {
      "text/plain": [
       "array([[ 0.04990979, -0.023608  ,  0.10417096, ..., -0.09922554,\n",
       "        -0.06187926, -0.08246348],\n",
       "       [-0.03398526, -0.07702611,  0.05136193, ...,  0.09657528,\n",
       "        -0.00963075,  0.02121323],\n",
       "       [-0.06343055, -0.05632615, -0.05604178, ..., -0.02639417,\n",
       "        -0.03926937,  0.10182125],\n",
       "       ...,\n",
       "       [-0.01042847, -0.05311751,  0.10419276, ...,  0.07393438,\n",
       "        -0.08151276, -0.05401006],\n",
       "       [-0.07270364, -0.01007289, -0.09029531, ...,  0.06060686,\n",
       "         0.01592191, -0.06920667],\n",
       "       [-0.10292626,  0.06119103,  0.09028737, ...,  0.0286219 ,\n",
       "        -0.06618516, -0.05727557]], dtype=float32)"
      ]
     },
     "execution_count": 110,
     "metadata": {},
     "output_type": "execute_result"
    }
   ],
   "source": [
    "# 06 weights generated at output (last layer)\n",
    "\n",
    "model.layers[4].get_weights()[0]"
   ]
  },
  {
   "cell_type": "code",
   "execution_count": 111,
   "metadata": {},
   "outputs": [
    {
     "data": {
      "text/plain": [
       "array([0., 0., 0., 0., 0., 0., 0., 0., 0., 0.], dtype=float32)"
      ]
     },
     "execution_count": 111,
     "metadata": {},
     "output_type": "execute_result"
    }
   ],
   "source": [
    "# 07 Bias generated at output (last layer)\n",
    "\n",
    "model.layers[4].get_weights()[1]"
   ]
  },
  {
   "cell_type": "code",
   "execution_count": 112,
   "metadata": {},
   "outputs": [
    {
     "data": {
      "text/plain": [
       "[<tf.Variable 'dense_29_1/kernel:0' shape=(784, 512) dtype=float32>,\n",
       " <tf.Variable 'dense_29_1/bias:0' shape=(512,) dtype=float32>,\n",
       " <tf.Variable 'dense_30_1/kernel:0' shape=(512, 512) dtype=float32>,\n",
       " <tf.Variable 'dense_30_1/bias:0' shape=(512,) dtype=float32>,\n",
       " <tf.Variable 'dense_31/kernel:0' shape=(512, 10) dtype=float32>,\n",
       " <tf.Variable 'dense_31/bias:0' shape=(10,) dtype=float32>]"
      ]
     },
     "execution_count": 112,
     "metadata": {},
     "output_type": "execute_result"
    }
   ],
   "source": [
    "# Model weights\n",
    "\n",
    "model.weights"
   ]
  },
  {
   "cell_type": "code",
   "execution_count": 113,
   "metadata": {},
   "outputs": [
    {
     "data": {
      "text/plain": [
       "[<tf.Variable 'dense_29_1/kernel:0' shape=(784, 512) dtype=float32>,\n",
       " <tf.Variable 'dense_29_1/bias:0' shape=(512,) dtype=float32>,\n",
       " <tf.Variable 'dense_30_1/kernel:0' shape=(512, 512) dtype=float32>,\n",
       " <tf.Variable 'dense_30_1/bias:0' shape=(512,) dtype=float32>,\n",
       " <tf.Variable 'dense_31/kernel:0' shape=(512, 10) dtype=float32>,\n",
       " <tf.Variable 'dense_31/bias:0' shape=(10,) dtype=float32>]"
      ]
     },
     "execution_count": 113,
     "metadata": {},
     "output_type": "execute_result"
    }
   ],
   "source": [
    "# model Variables\n",
    "\n",
    "model.variables"
   ]
  },
  {
   "cell_type": "code",
   "execution_count": 54,
   "metadata": {},
   "outputs": [
    {
     "name": "stdout",
     "output_type": "stream",
     "text": [
      "Model: \"sequential_2\"\n",
      "_________________________________________________________________\n",
      "Layer (type)                 Output Shape              Param #   \n",
      "=================================================================\n",
      "dense_6 (Dense)              (None, 64)                3264      \n",
      "_________________________________________________________________\n",
      "dense_7 (Dense)              (None, 28)                1820      \n",
      "_________________________________________________________________\n",
      "dense_8 (Dense)              (None, 10)                290       \n",
      "=================================================================\n",
      "Total params: 5,374\n",
      "Trainable params: 5,374\n",
      "Non-trainable params: 0\n",
      "_________________________________________________________________\n"
     ]
    }
   ],
   "source": [
    "# Summarize Model\n",
    "\n",
    "# The summary is textual and includes information about:\n",
    "\n",
    "# The layers and their order in the model.\n",
    "# The output shape of each layer.\n",
    "# The number of parameters (weights) in each layer.\n",
    "# The total number of parameters (weights) in the model.\n",
    "\n",
    "from tensorflow.keras.models import Sequential\n",
    "from tensorflow.keras.layers import Dense,Activation\n",
    "\n",
    "model = Sequential()\n",
    "\n",
    "model.add(Dense(64,activation='relu',input_dim=50))\n",
    "model.add(Dense(28, activation='relu')) #input shape of 50\n",
    "model.add(Dense(10,activation='softmax'))\n",
    "\n",
    "model.summary()\n"
   ]
  },
  {
   "cell_type": "code",
   "execution_count": 55,
   "metadata": {},
   "outputs": [
    {
     "data": {
      "text/plain": [
       "5374"
      ]
     },
     "execution_count": 55,
     "metadata": {},
     "output_type": "execute_result"
    }
   ],
   "source": [
    "# Count the total Parameters\n",
    "\n",
    "model.count_params()"
   ]
  },
  {
   "cell_type": "code",
   "execution_count": null,
   "metadata": {},
   "outputs": [],
   "source": [
    "'''\n",
    "\n",
    "# 08 Finding total parameter \n",
    "\n",
    "# at First Layer\n",
    "input_dim = 50 ; neurons = 64 ; bias = 64\n",
    "\n",
    "weights = (50 * 64) = 3200\n",
    "weights +  bias  = 3264\n",
    "\n",
    "\n",
    "# at Second Layer\n",
    "input_dim = 64; neurons = 28; bias = 28\n",
    "weights = (64 * 28) = 1792\n",
    "weights +  bias  = 1820\n",
    "\n",
    "# at Third Layer\n",
    "input_dim = 28; neurons = 10; bias = 10\n",
    "weights = (28 * 10) = 280\n",
    "\n",
    "weights +  bias  = 290\n",
    "\n",
    "Total parameters = (weights + bias)_layer1 + (weights + bias)_layer2 + (weights + bias)_layer3\n",
    "Total parameters = 3264 + 1820 + 290 = 5374\n",
    "\n",
    "'''"
   ]
  },
  {
   "cell_type": "code",
   "execution_count": 60,
   "metadata": {},
   "outputs": [
    {
     "name": "stdout",
     "output_type": "stream",
     "text": [
      "Tensor(\"dense_13/BiasAdd:0\", shape=(?, 8, 16), dtype=float32)\n",
      "Tensor(\"reshape/Reshape:0\", shape=(?, 16, 8), dtype=float32)\n"
     ]
    }
   ],
   "source": [
    "# Reshape \n",
    "\n",
    "# Reshape is used to change the shape of the input. For example, \n",
    "# if reshape with argument (2,3) is applied to layer having input shape as (batch_size, 3, 2), \n",
    "# then the output shape of the layer will be (batch_size, 2, 3)\n",
    "\n",
    "from tensorflow.keras.models import Sequential\n",
    "from tensorflow.keras import layers\n",
    "\n",
    "model = Sequential()\n",
    "\n",
    "layer_1 = layers.Dense(16,input_shape= (8,8))\n",
    "model.add(layer_1)\n",
    "\n",
    "print(layer_1.output)\n",
    "\n",
    "layer_2 = layers.Reshape((16,8))\n",
    "model.add(layer_2)\n",
    "\n",
    "print(layer_2.output)"
   ]
  },
  {
   "cell_type": "code",
   "execution_count": 66,
   "metadata": {},
   "outputs": [
    {
     "name": "stdout",
     "output_type": "stream",
     "text": [
      "(None, 32)\n",
      "(None, 3, 32)\n"
     ]
    }
   ],
   "source": [
    "# RepeatVector\n",
    "from keras.models import Sequential\n",
    "from keras.layers import Dense,RepeatVector\n",
    "\n",
    "model = Sequential()\n",
    "model.add(Dense(32, input_dim=32))\n",
    "\n",
    "# Shape of the model before Repeat Vector\n",
    "print(model.output_shape)\n",
    "\n",
    "\n",
    "# Shape of the model After Repeat Vector\n",
    "model.add(RepeatVector(3))\n",
    "print(model.output_shape)"
   ]
  },
  {
   "cell_type": "code",
   "execution_count": null,
   "metadata": {},
   "outputs": [],
   "source": []
  },
  {
   "cell_type": "code",
   "execution_count": null,
   "metadata": {},
   "outputs": [],
   "source": []
  },
  {
   "cell_type": "code",
   "execution_count": null,
   "metadata": {},
   "outputs": [],
   "source": []
  }
 ],
 "metadata": {
  "kernelspec": {
   "display_name": "Python 3",
   "language": "python",
   "name": "python3"
  },
  "language_info": {
   "codemirror_mode": {
    "name": "ipython",
    "version": 3
   },
   "file_extension": ".py",
   "mimetype": "text/x-python",
   "name": "python",
   "nbconvert_exporter": "python",
   "pygments_lexer": "ipython3",
   "version": "3.7.4"
  }
 },
 "nbformat": 4,
 "nbformat_minor": 2
}
