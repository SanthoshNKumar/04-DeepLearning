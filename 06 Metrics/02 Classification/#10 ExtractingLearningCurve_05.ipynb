{
 "cells": [
  {
   "cell_type": "code",
   "execution_count": 1,
   "metadata": {},
   "outputs": [],
   "source": [
    "# Learning Curve : Learnign Curve allow us to check whtehr the addition of trainng data leads to benit. \n",
    "\n",
    "import pandas as pd\n",
    "import numpy as np\n",
    "\n",
    "train = pd.read_csv('Titanic.csv')\n",
    "\n",
    "train['Age'] = train['Age'].fillna(train['Age'].mean())\n",
    "train['Embarked'] = train['Embarked'].fillna(train['Embarked'].mode()[0])\n",
    "train = train.drop(['Cabin','Ticket','Last Name','First Name','Unnamed: 0'],axis=1)\n",
    "\n",
    "train['Pclass'] = train['Pclass'].apply(str)\n",
    "\n",
    "\n",
    "# Getting Dummies from all other categorical vars\n",
    "for col in train.dtypes[train.dtypes == 'object'].index:\n",
    " for_dummy = train.pop(col)\n",
    " train = pd.concat([train, pd.get_dummies(for_dummy, prefix=col)], axis=1)\n",
    "    \n",
    "X = train.drop(['Survived'],axis=1)\n",
    "y = train['Survived']\n",
    "\n",
    "from sklearn.model_selection import train_test_split\n",
    "X_train,X_test,y_train,y_test = train_test_split(X,y,test_size = 0.25)"
   ]
  },
  {
   "cell_type": "code",
   "execution_count": 4,
   "metadata": {},
   "outputs": [],
   "source": [
    "from sklearn.model_selection import validation_curve\n",
    "from sklearn.ensemble import RandomForestClassifier\n",
    "\n",
    "classifier = RandomForestClassifier(random_state=7)\n",
    "parameter_grid = np.array([20,40,90,130,150])\n",
    "train_score,valid_scores = validation_curve(classifier,X,y,'n_estimators',parameter_grid,cv=5)"
   ]
  },
  {
   "cell_type": "code",
   "execution_count": 7,
   "metadata": {},
   "outputs": [
    {
     "data": {
      "text/plain": [
       "Text(0, 0.5, 'Accuracy')"
      ]
     },
     "execution_count": 7,
     "metadata": {},
     "output_type": "execute_result"
    },
    {
     "data": {
      "image/png": "[encoded data removed]",
      "text/plain": [
       "<Figure size 432x288 with 1 Axes>"
      ]
     },
     "metadata": {
      "needs_background": "light"
     },
     "output_type": "display_data"
    }
   ],
   "source": [
    "import matplotlib.pyplot as plt\n",
    "\n",
    "plt.plot(parameter_grid,100* np.average(train_score,axis=1))\n",
    "plt.xlabel(\"Number of Training samples\")\n",
    "plt.ylabel(\"Accuracy\")\n"
   ]
  },
  {
   "cell_type": "code",
   "execution_count": null,
   "metadata": {},
   "outputs": [],
   "source": []
  }
 ],
 "metadata": {
  "kernelspec": {
   "display_name": "Python 3",
   "language": "python",
   "name": "python3"
  },
  "language_info": {
   "codemirror_mode": {
    "name": "ipython",
    "version": 3
   },
   "file_extension": ".py",
   "mimetype": "text/x-python",
   "name": "python",
   "nbconvert_exporter": "python",
   "pygments_lexer": "ipython3",
   "version": "3.7.4"
  }
 },
 "nbformat": 4,
 "nbformat_minor": 2
}
