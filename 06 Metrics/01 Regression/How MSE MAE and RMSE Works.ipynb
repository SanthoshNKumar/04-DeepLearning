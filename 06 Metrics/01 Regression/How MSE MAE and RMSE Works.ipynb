{
 "cells": [
  {
   "cell_type": "code",
   "execution_count": null,
   "metadata": {},
   "outputs": [],
   "source": [
    "'''\n",
    "Error (Residuals) : \n",
    "    \n",
    "    - Residuals are a measure of how far from the regression line and data points are.\n",
    "    - Distance or difference between actual and predicted data point\n",
    "    \n",
    "\n",
    "MSE : Mean Square Error \n",
    "    \n",
    "MAE : Mean Absolute Error\n",
    "    - Absolute : do not consider only direction\n",
    "    \n",
    "MAPE : Mean absolute percentage error\n",
    "    - The mean absolute percentage error (MAPE) is the percentage equivalent of MAE. \n",
    "      The equation looks just like that of MAE, but with adjustments to convert everything into percentages.\n",
    "        \n",
    "RMSE : Root Mean Square Error\n",
    "    - It is a standard Deviation of Residuals(prediction Errors)\n",
    "    - RMSE is measure of how spread out these residuals are.\n",
    "    - RMSE is a good estimator for the standard deviation σ of the distribution of our errors or residuals\n",
    "    - It also tells how concentrated the data is around the best fit line\n",
    "    - RMSE is a good representation of error distribution\n",
    "    \n",
    "'''"
   ]
  },
  {
   "cell_type": "code",
   "execution_count": null,
   "metadata": {},
   "outputs": [],
   "source": [
    "'''\n",
    "Effect on Outliers or Large errors\n",
    "\n",
    "    - MSE :\n",
    "        - MSE is influenced by large deviators or outliers.\n",
    "        \n",
    "    - MAE :\n",
    "        - MAE is less sensitive to outliers\n",
    "    \n",
    "    - RMSE :\n",
    "        - RMSE is more sensitive to the examples with the largest difference This is because the\n",
    "          Error is squared before the average is reduced with the square root.(outliers)\n",
    "        - RMSE is more sensitive to ouliers: so the example with the largest error would skew the RMSE. \n",
    "        - In this case the RMSE is a good choice for the loss function.\n",
    "        \n",
    "'''"
   ]
  },
  {
   "cell_type": "code",
   "execution_count": null,
   "metadata": {},
   "outputs": [],
   "source": [
    "'''\n",
    "Issue with MSE  and why need of RMSE?\n",
    "\n",
    "In MSE the order of Loss is more than that of the data.as my data is order 1 and the loss function, MSE has an order of 2.\n",
    "So we cannot directly correlate data with the error.Hence we take the root of the MSE which is called RMSE.\n",
    "\n",
    "MSE unit order is higher than the error unit as the error is squared. \n",
    "To get the same unit order, many times the square root of MSE is taken. It is called the Root Mean Squared Error (RMSE).\n",
    "\n",
    "\n",
    "In MSE values generated Units do not match that of the original output. \n",
    "Researchers will often use RMSE to convert the error metric back into similar units, making interpretation easier.\n",
    "\n",
    "\n",
    "'''"
   ]
  },
  {
   "cell_type": "code",
   "execution_count": null,
   "metadata": {},
   "outputs": [],
   "source": [
    "'''\n",
    "How It Works\n",
    "\n",
    "    MSE :\n",
    "        - In MSE, the errors are squared before they are averaged. \n",
    "        - Error is basically average of the square of the difference between the actual and predicted values of the data\n",
    "        - Due to the squaring operation, very small values ( between 0 and 1) become even smaller, \n",
    "          and larger values become even larger. This means that big error values are magnified, whereas small ones are ignored.\n",
    "    \n",
    "    MAE :\n",
    "        - Error basically is the absolute difference between the actual and the predicted values of the data\n",
    "        - Absolute difference means that if the result has a negative sign, it is ignored.\n",
    "\n",
    "    RMSE :\n",
    "        - Square Root of the Mean Square Error\n",
    "        - RMSE is the standard deviation σ of the distribution of our errors or residuals\n",
    "        - RMSE is that the fact that the errors are squared means that a much larger weight is assigned to larger errors\n",
    "        - RMSE is more sensitive to outliers than the MAE. But when outliers are exponentially rare \n",
    "          (like in a bell-shaped curve),the RMSE performs very well and is generally preferred.\n",
    "'''"
   ]
  },
  {
   "cell_type": "code",
   "execution_count": null,
   "metadata": {},
   "outputs": [],
   "source": [
    "'''\n",
    "\n",
    "When to use Metrics (MAE,MSE and RMSE)\n",
    "\n",
    "\n",
    "When Outliers in our data are while creating model. Do we include the outliers in our model creation or do we ignore them?\n",
    "    - Accepting the outliers as part of model devlopment in this case. I would want to use the MSE to ensure that\n",
    "      my model takes these outliers into account more.\n",
    "    - If I wanted to downplay their significance, I would use the MAE since the outlier residuals won’t contribute \n",
    "      as much to the total error as MSE.\n",
    "      \n",
    "MAE:  \n",
    "    - If there are many outliers then you may consider using Mean Absolute Error. it doesn't punish huge errors.\n",
    "    - If we want to treat all errors equally,  MAE is a better measure.\n",
    "\n",
    "\n",
    "MSE : \n",
    "    - It used when mostly when the dataset contains outliers, or unexpected values (too high or too low values) and we can \n",
    "      address these issue by reducing the MSE.\n",
    "    -  If we want to give more weight-age to large errors, MSE/RMSE is better\n",
    "      \n",
    "      \n",
    "RMSE : \n",
    "       - This basically implies that RMSE assigns a higher weight to larger errors. \n",
    "       \n",
    "       - This indicates that RMSE is much more useful when large errors are present and they drastically affect the \n",
    "         model's performance\n",
    "       - when your observations(Target Value) conditional distribution is asymmetric and you want an unbiased fit.\n",
    "       \n",
    "- If you have outlier in the data and you want to ignore them, MAE is a better option but if you want to account for them \n",
    "  in your loss function, go for MSE/RMSE.\n",
    "\n",
    "'''"
   ]
  },
  {
   "cell_type": "code",
   "execution_count": null,
   "metadata": {},
   "outputs": [],
   "source": [
    "'''\n",
    "\n",
    "Note :\n",
    "\n",
    "    RMSE of test > RMSE of train => OVER FITTING of the data.\n",
    "\n",
    "    RMSE of test < RMSE of train => UNDER FITTING of the data.\n",
    "    \n",
    "    \n",
    "    RSME is always greater than or equal to MAE (RSME >= MAE).\n",
    "    \n",
    "'''"
   ]
  },
  {
   "cell_type": "code",
   "execution_count": null,
   "metadata": {},
   "outputs": [],
   "source": []
  },
  {
   "attachments": {
    "image.png": {
     "image/png": "[encoded data removed]"
    }
   },
   "cell_type": "markdown",
   "metadata": {},
   "source": [
    "![image.png](attachment:image.png)"
   ]
  },
  {
   "cell_type": "code",
   "execution_count": null,
   "metadata": {},
   "outputs": [],
   "source": [
    "'''\n",
    "\n",
    "Case 1 : The first case  every things seem normal and values of MAE and RMSE has been calculated,\n",
    "\n",
    "Case 2 : Here last error is too far from others (that might means the last sample is outlier) \n",
    "         and as illustrated in the given table the value of RMSE(0.95) is much bigger than MAE(0.68).\n",
    "\n",
    "Case 3 : Erros are eqaul together of course the value of RMSE is not greater than MSE\n",
    "\n",
    "So we observed that outliers are sensive to RMSE\n",
    "\n",
    "'''"
   ]
  },
  {
   "cell_type": "code",
   "execution_count": null,
   "metadata": {},
   "outputs": [],
   "source": []
  }
 ],
 "metadata": {
  "kernelspec": {
   "display_name": "Python 3",
   "language": "python",
   "name": "python3"
  },
  "language_info": {
   "codemirror_mode": {
    "name": "ipython",
    "version": 3
   },
   "file_extension": ".py",
   "mimetype": "text/x-python",
   "name": "python",
   "nbconvert_exporter": "python",
   "pygments_lexer": "ipython3",
   "version": "3.7.4"
  }
 },
 "nbformat": 4,
 "nbformat_minor": 2
}
