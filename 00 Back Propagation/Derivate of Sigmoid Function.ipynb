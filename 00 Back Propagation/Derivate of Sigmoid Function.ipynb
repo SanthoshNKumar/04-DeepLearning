{
 "cells": [
  {
   "cell_type": "code",
   "execution_count": 1,
   "metadata": {},
   "outputs": [],
   "source": [
    "def sigmoid(self, x):\n",
    "    # compute and return the sigmoid activation value for a\n",
    "    # given input value\n",
    "    return 1.0 / (1 + np.exp(-x))"
   ]
  },
  {
   "cell_type": "code",
   "execution_count": 2,
   "metadata": {},
   "outputs": [],
   "source": [
    "def sigmoid_deriv(self, x):\n",
    "    # compute the derivative of the sigmoid function ASSUMING\n",
    "    # that x has already been passed through the 'sigmoid'\n",
    "    # function\n",
    "    return x * (1 - x)"
   ]
  },
  {
   "cell_type": "code",
   "execution_count": null,
   "metadata": {},
   "outputs": [],
   "source": [
    "'''\n",
    "So by chain rule, we will calculate the following intermediate steps,\n",
    "\n",
    "Rate of change of error w.r.t output\n",
    "Rate of change of output w.r.t Z2\n",
    "Rate of change of Z2 w.r.t hidden layer activations\n",
    "Rate of change of hidden layer activations w.r.t Z1\n",
    "Rate of change of Z1 w.r.t weights between input and hidden layer\n",
    "\n",
    "# rate of change of error w.r.t. output\n",
    "∂E/∂O = -(y - output)\n",
    "\n",
    "# rate of change of output w.r.t. Z2\n",
    "∂O/∂Z2 =  np.multiply(output, (1 - output))\n",
    "\n",
    "# rate of change of Z2 w.r.t. hidden layer activations\n",
    "∂Z2/∂h1 = weights_hidden_output\n",
    "\n",
    "# rate of change of hidden layer activations w.r.t. Z1\n",
    "∂h1/∂Z1 =  np.multiply(hiddenLayer_activations, (1 - hiddenLayer_activations))\n",
    "\n",
    "# rate of change of Z1 w.r.t. weights between input and hidden layer\n",
    "∂Z1/∂Wih = X\n",
    "\n",
    "'''"
   ]
  }
 ],
 "metadata": {
  "kernelspec": {
   "display_name": "Python 3",
   "language": "python",
   "name": "python3"
  },
  "language_info": {
   "codemirror_mode": {
    "name": "ipython",
    "version": 3
   },
   "file_extension": ".py",
   "mimetype": "text/x-python",
   "name": "python",
   "nbconvert_exporter": "python",
   "pygments_lexer": "ipython3",
   "version": "3.7.4"
  }
 },
 "nbformat": 4,
 "nbformat_minor": 2
}
