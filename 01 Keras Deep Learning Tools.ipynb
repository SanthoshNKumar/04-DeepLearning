{
 "cells": [
  {
   "cell_type": "code",
   "execution_count": null,
   "metadata": {},
   "outputs": [],
   "source": [
    "# Layers API overview\n",
    "\n",
    "'''\n",
    "Activations Functions\n",
    "    1. relu function : Rectified Linear Activation Function \n",
    "    2. Sigmoid \n",
    "    3. Softmax\n",
    "    4. Softplus\n",
    "    5. Softsign\n",
    "    6. Tanh : Hyperbolic tangent activation function\n",
    "    7. selu : Scaled Exponential Linear Unit \n",
    "    8. elu  : Exponential Linear Unit\n",
    "    9. gelu : Gaussian error linear unit (GELU)\n",
    "    10.hard_sigmoid\n",
    "    11.linear\n",
    "    13.Exponential\n",
    "'''"
   ]
  },
  {
   "cell_type": "code",
   "execution_count": null,
   "metadata": {},
   "outputs": [],
   "source": [
    "'''\n",
    "Layer Weight Initilizer\n",
    "    1. RandomNormal class\n",
    "    2. RandomUniform class\n",
    "    3. TruncatedNormal class\n",
    "    4. Zeros class\n",
    "    5. Ones class\n",
    "    6. GlorotNormal class\n",
    "    7. GlorotUniform class\n",
    "    8. Identity class\n",
    "    9. Orthogonal class\n",
    "    10. Constant class\n",
    "    11. VarianceScaling class\n",
    "'''"
   ]
  },
  {
   "cell_type": "code",
   "execution_count": null,
   "metadata": {},
   "outputs": [],
   "source": [
    "'''\n",
    "Layer weight regularizers\n",
    "    1. l1 class\n",
    "    2. l2 class\n",
    "    3. l1_l2 class\n",
    "\n",
    "'''"
   ]
  },
  {
   "cell_type": "code",
   "execution_count": null,
   "metadata": {},
   "outputs": [],
   "source": [
    "'''\n",
    "# Layer weight constraints\n",
    "    1. MaxNorm class\n",
    "    2. MinMaxNorm class\n",
    "    3. NonNeg class\n",
    "    4. UnitNorm class\n",
    "    5. RadialConstraint class\n",
    "    \n",
    "'''\n",
    "# Constraints module allow setting constraints(ex>Non-Negativity) on model parameters during traing"
   ]
  },
  {
   "cell_type": "code",
   "execution_count": null,
   "metadata": {},
   "outputs": [],
   "source": [
    "'''\n",
    "Core layers\n",
    "    1. Input object\n",
    "    2. Dense layer\n",
    "    3. Activation layer\n",
    "    4. Embedding layer\n",
    "    5. Masking layer\n",
    "    6. Lambda layer\n",
    "'''"
   ]
  },
  {
   "cell_type": "code",
   "execution_count": null,
   "metadata": {},
   "outputs": [],
   "source": [
    "'''\n",
    "Convolution layers\n",
    "    1.Conv1D layer\n",
    "    2.Conv2D layer\n",
    "    3.Conv3D layer\n",
    "    4.SeparableConv1D layer\n",
    "    5.SeparableConv2D layer\n",
    "    6.DepthwiseConv2D layer\n",
    "    7.Conv2DTranspose layer\n",
    "    8.Conv3DTranspose layer\n",
    "'''"
   ]
  },
  {
   "cell_type": "code",
   "execution_count": null,
   "metadata": {},
   "outputs": [],
   "source": [
    "'''\n",
    "Pooling layers\n",
    "    1. MaxPooling1D layer\n",
    "    2. MaxPooling2D layer\n",
    "    3. MaxPooling3D layer\n",
    "    4. AveragePooling1D layer\n",
    "    5. AveragePooling2D layer\n",
    "    6. AveragePooling3D layer\n",
    "    7. GlobalMaxPooling1D layer\n",
    "    8. GlobalMaxPooling2D layer\n",
    "    9. GlobalMaxPooling3D layer\n",
    "    10. GlobalAveragePooling1D layer\n",
    "    11. GlobalAveragePooling2D layer\n",
    "    12. GlobalAveragePooling3D layer\n",
    "'''"
   ]
  },
  {
   "cell_type": "code",
   "execution_count": null,
   "metadata": {},
   "outputs": [],
   "source": [
    "'''\n",
    "Recurrent layers\n",
    "\n",
    "    1. LSTM layer\n",
    "    2. GRU layer\n",
    "    3. SimpleRNN layer\n",
    "    4. TimeDistributed layer\n",
    "    5. Bidirectional layer\n",
    "    6. ConvLSTM2D layer\n",
    "    7. Base RNN layer\n",
    "'''"
   ]
  },
  {
   "cell_type": "code",
   "execution_count": null,
   "metadata": {},
   "outputs": [],
   "source": [
    "'''\n",
    "Normalization layers\n",
    "    1. BatchNormalization layer\n",
    "    2. LayerNormalization layer\n",
    "\n",
    "'''"
   ]
  },
  {
   "cell_type": "code",
   "execution_count": null,
   "metadata": {},
   "outputs": [],
   "source": [
    "'''\n",
    "Regularization layers\n",
    "    1. Dropout layer\n",
    "    2. SpatialDropout1D layer\n",
    "    3. SpatialDropout2D layer\n",
    "    4. SpatialDropout3D layer\n",
    "    5. GaussianDropout layer\n",
    "    6. GaussianNoise layer\n",
    "    7. ActivityRegularization layer\n",
    "    8.AlphaDropout layer\n",
    "'''"
   ]
  },
  {
   "cell_type": "code",
   "execution_count": null,
   "metadata": {},
   "outputs": [],
   "source": [
    "'''\n",
    "Attention layers\n",
    "    1.MultiHeadAttention layer\n",
    "    2.Attention layer\n",
    "    3.AdditiveAttention layer\n",
    "\n",
    "'''"
   ]
  },
  {
   "cell_type": "code",
   "execution_count": null,
   "metadata": {},
   "outputs": [],
   "source": [
    "'''\n",
    "Reshaping layers\n",
    "    1. Reshape layer\n",
    "    2. Flatten layer\n",
    "    3. RepeatVector layer\n",
    "    4. Permute layer\n",
    "    5. Cropping1D layer\n",
    "    6. Cropping2D layer\n",
    "    7. Cropping3D layer\n",
    "    8. UpSampling1D layer\n",
    "    9. UpSampling2D layer\n",
    "    10.UpSampling3D layer\n",
    "    11. ZeroPadding1D layer\n",
    "    12. ZeroPadding2D layer\n",
    "    13.ZeroPadding3D layer\n",
    "'''"
   ]
  },
  {
   "cell_type": "code",
   "execution_count": null,
   "metadata": {},
   "outputs": [],
   "source": [
    "'''\n",
    "Merging layers\n",
    "    1. Concatenate layer\n",
    "    2. Average layer\n",
    "    3. Maximum layer\n",
    "    4. Minimum layer\n",
    "    5. Add layer\n",
    "    6. Subtract layer\n",
    "    8. Multiply layer\n",
    "    9. Dot layer\n",
    "\n",
    "'''"
   ]
  },
  {
   "cell_type": "code",
   "execution_count": null,
   "metadata": {},
   "outputs": [],
   "source": [
    "'''\n",
    "Locally-connected layers\n",
    "    1. LocallyConnected1D layer\n",
    "    2. LocallyConnected2D layer\n",
    "'''"
   ]
  },
  {
   "cell_type": "code",
   "execution_count": null,
   "metadata": {},
   "outputs": [],
   "source": [
    "'''\n",
    "Optimizers \n",
    "    1. Adadelta : Extension of Adagrad : Adadelta(adaptive delta)\n",
    "    2. Adagrad  : Adaptive Gradient Algorithm\n",
    "    3. Adam     : Adaptive Moment Estimation\n",
    "    4. Adamax   :\n",
    "    5. Ftrl     : Follow The Regularized Leader\n",
    "    6. Nadam    : Nesterov-accelerated Adaptive Moment Estimation\n",
    "    7. RMSprop  : Root Mean Square Propagation \n",
    "    8. SGD      : Stochastic Gradient Descent\n",
    "'''"
   ]
  },
  {
   "cell_type": "code",
   "execution_count": null,
   "metadata": {},
   "outputs": [],
   "source": [
    "'''\n",
    "Loss Functions\n",
    "    1. mean_squared_error\n",
    "    2. mean_absolute_error\n",
    "    3. mean_absolute_percentage_error\n",
    "    4. mean_squared_logarithmic_error\n",
    "    5. squared_hinge\n",
    "    6. hinge\n",
    "    7. categorical_hinge\n",
    "    8. logcosh\n",
    "    9. huber_loss\n",
    "    10. categorical_crossentropy\n",
    "    11. sparse_categorical_crossentropy\n",
    "    12. binary_crossentropy\n",
    "    13. kullback_leibler_divergence\n",
    "    14. poisson\n",
    "    15. cosine_proximity\n",
    "    16. is_categorical_crossentropy\n",
    "'''"
   ]
  },
  {
   "cell_type": "code",
   "execution_count": null,
   "metadata": {},
   "outputs": [],
   "source": [
    "'''\n",
    "Metrics\n",
    "    1. AUC : Area Under Curve\n",
    "    2. Accuracy\n",
    "    3. Binary Accuracy\n",
    "    4. BinaryCrossEntropy\n",
    "    5. CategoricalAccuracy\n",
    "    6. CategoricalCrossEntropy\n",
    "    7. CategoricalHinge\n",
    "    8. CosineSimilarity\n",
    "    9. FalseNegative\n",
    "    10. FalsePositive\n",
    "    11. Hinge\n",
    "    12. KLDivergence\n",
    "    13. LogCoshError\n",
    "    14. Mean\n",
    "    15. MeanAbolsuteError\n",
    "    16. MeanAbsolutePercentageError\n",
    "    17. MeanIou\n",
    "    18. MeanRelatievError\n",
    "    19. MeanSqaredError\n",
    "    20. MeanSquaredLogarithmicError\n",
    "    21. MeanTensor\n",
    "    22. Poission\n",
    "    23. PrecisionAtRecall\n",
    "    24. Recall\n",
    "    25. RecallAtPrecision\n",
    "    26. RootMeanSquaredError\n",
    "    27. SensitivityAtSpecificity\n",
    "    28. SparseCatgoricalAccuracy\n",
    "    29. SparseTopKCategoricalAccuracy\n",
    "    30. SpecificityAtSensivity\n",
    "    31. SquardHinge\n",
    "    32. Sum\n",
    "    33. TopKCategoricalAccuracy\n",
    "    34. TrueNegative\n",
    "    35  TruePositives\n",
    "'''"
   ]
  },
  {
   "cell_type": "code",
   "execution_count": null,
   "metadata": {},
   "outputs": [],
   "source": [
    "\n",
    "'''\n",
    "Model Functions    \n",
    "\n",
    "    model.add() \n",
    "    model.get_weights()\n",
    "    model.compile()\n",
    "    model.fit()\n",
    "    model.evaluate()\n",
    "    model.predict()\n",
    "    model.summary()\n",
    "    model.save()\n",
    "    model.save_weights()\n",
    "    model.build()\n",
    "    model.get_weights()\n",
    "    model.add_loss()\n",
    "    model.add_metric()\n",
    "    model.to_json()\n",
    "    model.to_yaml()\n",
    "    model.metrics()\n",
    "    model.optimizer()\n",
    "    model.count_params()\n",
    "    \n",
    "\n",
    "    model.input_shape()\n",
    "    model.load_weights()\n",
    "    model.get_output_at(1)\n",
    "    model.get_laye[0].get_weights()\n",
    "    model.layers[0].get_input_at(0)\n",
    "    model.layers[0].get_output_at(0)\n",
    "    model.layers[2].units\n",
    "'''"
   ]
  }
 ],
 "metadata": {
  "kernelspec": {
   "display_name": "Python 3",
   "language": "python",
   "name": "python3"
  },
  "language_info": {
   "codemirror_mode": {
    "name": "ipython",
    "version": 3
   },
   "file_extension": ".py",
   "mimetype": "text/x-python",
   "name": "python",
   "nbconvert_exporter": "python",
   "pygments_lexer": "ipython3",
   "version": "3.7.4"
  }
 },
 "nbformat": 4,
 "nbformat_minor": 2
}
